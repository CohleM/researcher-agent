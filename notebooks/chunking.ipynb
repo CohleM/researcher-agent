{
 "cells": [
  {
   "cell_type": "code",
   "execution_count": null,
   "id": "717b3320",
   "metadata": {},
   "outputs": [],
   "source": [
    "class Chunking:\n",
    "    \n",
    "    def __init__(self, size):\n",
    "        self.size = size\n",
    "    \n",
    "    def run(self):\n",
    "        \n",
    "         "
   ]
  }
 ],
 "metadata": {
  "kernelspec": {
   "display_name": "okprofessor",
   "language": "python",
   "name": "okprofessor"
  },
  "language_info": {
   "codemirror_mode": {
    "name": "ipython",
    "version": 3
   },
   "file_extension": ".py",
   "mimetype": "text/x-python",
   "name": "python",
   "nbconvert_exporter": "python",
   "pygments_lexer": "ipython3",
   "version": "3.9.18"
  }
 },
 "nbformat": 4,
 "nbformat_minor": 5
}
