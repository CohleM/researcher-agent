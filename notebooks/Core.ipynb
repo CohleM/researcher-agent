{
 "cells": [
  {
   "cell_type": "code",
   "execution_count": null,
   "id": "2bd5d888",
   "metadata": {},
   "outputs": [],
   "source": []
  },
  {
   "cell_type": "code",
   "execution_count": 1,
   "id": "e811fdec",
   "metadata": {},
   "outputs": [],
   "source": [
    "import sys\n",
    "sys.path.append('/Users/cohlem/Projects/OkProfessor/')"
   ]
  },
  {
   "cell_type": "code",
   "execution_count": null,
   "id": "4148ffdb",
   "metadata": {},
   "outputs": [],
   "source": []
  },
  {
   "cell_type": "code",
   "execution_count": 58,
   "id": "f45691f9",
   "metadata": {},
   "outputs": [],
   "source": [
    "import asyncio\n",
    "import time\n",
    "\n",
    "from researcher.config import Config\n",
    "from researcher.search.duckduckgo import Duckduckgo\n",
    "from researcher.utils.functions import * \n",
    "from researcher.retriever.langchain_hybrid_retriever import HybridRetriever\n",
    "from researcher.scraping.scrape import Scraper\n",
    "from researcher.context.chunking import Chunking\n",
    "\n",
    "\n",
    "class Researcher:\n",
    "    def __init__(self, query ):\n",
    "        self.query = query\n",
    "        self.cfg = Config()\n",
    "        self.agent = None\n",
    "        self.role = None\n",
    "        self.visited_urls = set()\n",
    "        self.context = []\n",
    "        \n",
    "    async def run(self):\n",
    "        \"\"\"\n",
    "        Run the researcher\n",
    "        \"\"\"\n",
    "        if self.cfg.search_engine == 'Duckduckgo':\n",
    "            retriever = Duckduckgo()\n",
    "            \n",
    "        print(f'📘 Starting research for query: {self.query}')\n",
    "        self.agent, self.role = await choose_agent(self.query, self.cfg.llm )\n",
    "        print(f'Running {self.agent} ...')\n",
    "        \n",
    "        #query modification\n",
    "        sub_queries = await get_sub_queries(self.query, self.role, self.cfg) + [self.query]\n",
    "        \n",
    "#         tasks = [self.process_query(each_query) for each_query in sub_queries]\n",
    "#         context_results = await asyncio.gather(*tasks)\n",
    "        \n",
    "#         for context in context_results:\n",
    "#             self.context.append(context)\n",
    "    \n",
    "        for each_query in sub_queries:\n",
    "            \n",
    "            print(f'🔍 Searching web with query: {each_query}')\n",
    "            content = await self.get_content_using_query(each_query)\n",
    "            context = await self.get_similar_context(each_query, content)\n",
    "            self.context.append(context)\n",
    "            \n",
    "        \n",
    "        return self.context    \n",
    "\n",
    "    \n",
    "    \n",
    "    async def process_query(self, query):\n",
    "        \n",
    "        print(f'🔍 Searching web with query: {query}')\n",
    "        content = await self.get_content_using_query(query)\n",
    "        context = await self.get_similar_context(query, content)\n",
    "        \n",
    "        self.context.append(context)\n",
    "    \n",
    "    \n",
    "    async def get_content_using_query(self,query):\n",
    "\n",
    "        search_engine = Duckduckgo(query = query)\n",
    "        search_urls = search_engine.search(max_results = self.cfg.max_search_results_per_query)\n",
    "\n",
    "        search_urls = [url.get('href') for url in search_urls]\n",
    "\n",
    "        new_search_urls = await self.get_unique_urls(search_urls) #filter out the same urls \n",
    "\n",
    "        content_scraper = Scraper(new_search_urls)\n",
    "        content = content_scraper.run()\n",
    "\n",
    "        return content\n",
    "    \n",
    "    async def get_chunks(self, content):\n",
    "        \n",
    "        chunks = []\n",
    "        chunking = Chunking(self.cfg.chunk_size ,self.cfg.chunk_overlap)\n",
    "\n",
    "        for each_content in content:\n",
    "            chunks += chunking.run(content=each_content['raw_content'], metadatas= {'url': each_content['url'] })\n",
    "            \n",
    "        return chunks\n",
    "    \n",
    "    async def get_unique_urls(self, urls):\n",
    "        \n",
    "        new_urls = []\n",
    "        for url in urls:\n",
    "            if url not in self.visited_urls:\n",
    "                \n",
    "                print(f'✅ Adding url {url} to our research')\n",
    "                \n",
    "                new_urls.append(url)\n",
    "                self.visited_urls.add(url)\n",
    "                \n",
    "        return new_urls\n",
    "                \n",
    "    \n",
    "    async def get_similar_context(self, query, content):\n",
    "        \n",
    "        #chunk where?\n",
    "        chunks = await self.get_chunks(content)\n",
    "        hybrid_retriever = HybridRetriever(chunks ,max_results = self.cfg.max_chunks_per_query)\n",
    "        similar_context = hybrid_retriever.get_context(query)\n",
    "\n",
    "        return similar_context"
   ]
  },
  {
   "cell_type": "code",
   "execution_count": 59,
   "id": "7f4bce71",
   "metadata": {},
   "outputs": [],
   "source": [
    "parallel_r = Researcher('Investment strategies and buying rental properties')"
   ]
  },
  {
   "cell_type": "code",
   "execution_count": 57,
   "id": "4049c329",
   "metadata": {},
   "outputs": [
    {
     "name": "stdout",
     "output_type": "stream",
     "text": [
      "📘 Starting research for query: Investment strategies and buying rental properties\n",
      "Running 💰 Finance Agent ...\n",
      "🔍 Searching web with query: Best investment strategies for rental properties\n",
      "✅ Adding url https://www.forbes.com/advisor/investing/rental-property-real-estate-investing/ to our research\n",
      "✅ Adding url https://smartasset.com/investing/investing-in-rental-property-for-beginners to our research\n",
      "✅ Adding url https://www.investopedia.com/articles/investing/090815/buying-your-first-investment-property-top-10-tips.asp to our research\n",
      "✅ Adding url https://www.mashvisor.com/blog/rental-property-investment-strategy-definitive-guide/ to our research\n",
      "✅ Adding url https://www.moneygeek.com/mortgage/resources/rental-property-investing/ to our research\n",
      "🔍 Searching web with query: Pros and cons of buying rental properties as an investment\n",
      "✅ Adding url https://learn.roofstock.com/blog/pros-and-cons-of-owning-rental-property to our research\n",
      "✅ Adding url https://www.investopedia.com/articles/investing/051515/pros-cons-owning-rental-property.asp to our research\n",
      "✅ Adding url https://listwithclever.com/real-estate-blog/pros-and-cons-of-investing-in-rental-properties/ to our research\n",
      "✅ Adding url https://www.moneycrashers.com/buying-rental-property-investment/ to our research\n",
      "✅ Adding url https://realwealth.com/learn/is-real-estate-a-good-investment/ to our research\n",
      "🔍 Searching web with query: Rental property market trends and analysis\n",
      "✅ Adding url https://www.nerdwallet.com/article/finance/rental-market-trends to our research\n",
      "✅ Adding url https://www.zillow.com/rental-manager/market-trends/ to our research\n",
      "✅ Adding url https://www.forbes.com/sites/forbesbusinesscouncil/2023/09/21/guide-to-rental-property-investing-trends-and-developments/ to our research\n",
      "✅ Adding url https://www.statista.com/topics/4465/rental-market-in-the-us/ to our research\n",
      "✅ Adding url https://www.zillowstatic.com/bedrock/app/uploads/sites/42/2023/11/Zillow-Rentals-Consumer-Housing-Trends-Report-2024.pdf to our research\n",
      "🔍 Searching web with query: Investment strategies and buying rental properties\n",
      "✅ Adding url https://learn.roofstock.com/blog/how-to-buy-rental-property to our research\n",
      "✅ Adding url https://sparkrental.com/buying-rental-property-101/ to our research\n",
      "time taken by the async parallel method is 30.33387064933777\n"
     ]
    }
   ],
   "source": [
    "start_time = time.time()\n",
    "parallel_ans = await parallel_r.run()\n",
    "end_time = time.time()\n",
    "\n",
    "print('time taken by the async parallel method is', end_time - start_time)"
   ]
  },
  {
   "cell_type": "code",
   "execution_count": null,
   "id": "6c207108",
   "metadata": {},
   "outputs": [],
   "source": []
  },
  {
   "cell_type": "code",
   "execution_count": null,
   "id": "30b2b0ec",
   "metadata": {},
   "outputs": [],
   "source": []
  },
  {
   "cell_type": "code",
   "execution_count": null,
   "id": "bfc8a504",
   "metadata": {},
   "outputs": [],
   "source": []
  },
  {
   "cell_type": "code",
   "execution_count": 60,
   "id": "5c5cde24",
   "metadata": {},
   "outputs": [],
   "source": [
    "r = Researcher('Investment strategies and buying rental properties')"
   ]
  },
  {
   "cell_type": "code",
   "execution_count": null,
   "id": "988614e7",
   "metadata": {},
   "outputs": [],
   "source": []
  },
  {
   "cell_type": "code",
   "execution_count": null,
   "id": "cc018bc9",
   "metadata": {},
   "outputs": [],
   "source": []
  },
  {
   "cell_type": "code",
   "execution_count": null,
   "id": "c3f89397",
   "metadata": {},
   "outputs": [],
   "source": []
  },
  {
   "cell_type": "code",
   "execution_count": null,
   "id": "9ef79d28",
   "metadata": {},
   "outputs": [],
   "source": []
  },
  {
   "cell_type": "code",
   "execution_count": null,
   "id": "53e3f26f",
   "metadata": {},
   "outputs": [],
   "source": []
  },
  {
   "cell_type": "code",
   "execution_count": null,
   "id": "d2d4daab",
   "metadata": {},
   "outputs": [],
   "source": []
  },
  {
   "cell_type": "code",
   "execution_count": null,
   "id": "15031ce4",
   "metadata": {},
   "outputs": [],
   "source": []
  },
  {
   "cell_type": "code",
   "execution_count": 61,
   "id": "98cf7454",
   "metadata": {},
   "outputs": [
    {
     "name": "stdout",
     "output_type": "stream",
     "text": [
      "📘 Starting research for query: Investment strategies and buying rental properties\n",
      "Running 💰 Finance Agent ...\n",
      "🔍 Searching web with query: Best investment strategies for rental properties\n",
      "✅ Adding url https://www.forbes.com/advisor/investing/rental-property-real-estate-investing/ to our research\n",
      "✅ Adding url https://smartasset.com/investing/investing-in-rental-property-for-beginners to our research\n",
      "✅ Adding url https://www.investopedia.com/articles/investing/090815/buying-your-first-investment-property-top-10-tips.asp to our research\n",
      "✅ Adding url https://www.mashvisor.com/blog/rental-property-investment-strategy-definitive-guide/ to our research\n",
      "✅ Adding url https://www.moneygeek.com/mortgage/resources/rental-property-investing/ to our research\n",
      "🔍 Searching web with query: Pros and cons of buying rental properties as an investment\n",
      "✅ Adding url https://learn.roofstock.com/blog/pros-and-cons-of-owning-rental-property to our research\n",
      "✅ Adding url https://www.investopedia.com/articles/investing/051515/pros-cons-owning-rental-property.asp to our research\n",
      "✅ Adding url https://listwithclever.com/real-estate-blog/pros-and-cons-of-investing-in-rental-properties/ to our research\n",
      "✅ Adding url https://www.moneycrashers.com/buying-rental-property-investment/ to our research\n",
      "✅ Adding url https://blog.openforhomes.com/investing-rental-properties/ to our research\n",
      "🔍 Searching web with query: Rental property market trends and analysis\n",
      "✅ Adding url https://www.nerdwallet.com/article/finance/rental-market-trends to our research\n",
      "✅ Adding url https://www.zillow.com/rental-manager/market-trends/ to our research\n",
      "✅ Adding url https://www.zillowstatic.com/bedrock/app/uploads/sites/42/2023/11/Zillow-Rentals-Consumer-Housing-Trends-Report-2024.pdf to our research\n",
      "✅ Adding url https://www.forbes.com/sites/forbesbusinesscouncil/2023/09/21/guide-to-rental-property-investing-trends-and-developments/ to our research\n",
      "✅ Adding url https://www.statista.com/topics/4465/rental-market-in-the-us/ to our research\n",
      "🔍 Searching web with query: Investment strategies and buying rental properties\n",
      "✅ Adding url https://www.rocketmortgage.com/learn/buying-rental-house to our research\n",
      "✅ Adding url https://learn.roofstock.com/blog/how-to-buy-rental-property to our research\n"
     ]
    }
   ],
   "source": [
    "x = await r.run()"
   ]
  },
  {
   "cell_type": "code",
   "execution_count": 38,
   "id": "c1f78554",
   "metadata": {},
   "outputs": [
    {
     "data": {
      "text/plain": [
       "[[Document(page_content=\"Rental Properties: Pros and Cons\\nRental Properties: Pros and Cons\\nPete Rathburn is a copy editor and fact-checker with expertise in economics and personal finance and over twenty years of experience in the classroom.\\nOwning a rental property can be financially rewarding. If you're exploring this type of real estate as an investment, be aware of the risks and responsibilities.\\nRental Properties: An Overview\\nThe idea of buying a home or apartment to rent out for profit may sound alluring. But buying a rental property for income and long-term capital appreciation can have its ups and downs. For example, the housing market can fluctuate depending on location, supply and demand, and the economy.\", metadata={'url': 'https://www.investopedia.com/articles/investing/051515/pros-cons-owning-rental-property.asp'}),\n",
       "  Document(page_content='The Pros and Cons of Investing in Rental Properties\\nLike any investment, it’s important that you understand the benefits and limitations of owning a rental property. When you recognize the pros and cons of rental property investment, you can calculate whether this investment option suits your personal circumstances and long-term financial goals.\\nRental Income\\nThe most immediate benefit of rental property investing is the income you derive from renters. Ideally, your rental income should offset the mortgage and/or managing expenses incurred by the rental property. If a rental property sustains positive rental yield, you can use the increased annual cash flow to renovate the property, purchase another property, or diversify your investment portfolio.\\nProperty Value Growth', metadata={'url': 'https://listwithclever.com/real-estate-blog/pros-and-cons-of-investing-in-rental-properties/'}),\n",
       "  Document(page_content='20 must-know pros and cons of owning rental property\\nThe main reasons people purchase rental property – as well as any other asset – is to make money and build wealth over the long term. As with any other market, housing prices and demand for rental property can fluctuate up and down, depending on the real estate market cycle.\\nResidential rental properties come in all shapes and sizes. From single-family rental homes to condos and coops, townhouses and mobile homes, small multifamily properties with 2 to 4 units, fractional ownership shares of a home, crowdfunds and REITs.\\nThat’s one of the best things about real estate. There’s literally something for everyone who wants to invest in rental property.\\nHowever, just because owning a rental property may sound like an attractive investment, investing in real estate may not be the right decision for everyone. Let’s take a look at some of the biggest pros and cons of owning a rental property today.\\nKey takeaways', metadata={'url': 'https://learn.roofstock.com/blog/pros-and-cons-of-owning-rental-property'}),\n",
       "  Document(page_content='Financially speaking, in order for the rental property to be really profitable, the return you reap should be greater than what you could earn in conservative investments, such as bonds and dividend-paying blue-chip stocks, because of the real risks involved. And on the human side, not everyone has the ability to manage property and tenants.\\nKey Takeaways\\nPros\\xa0of Rental Properties\\nThere are several benefits to owning a rental property. They include:\\nTax Benefits\\nThe Internal Revenue Service allows you to deduct many expenses connected with rental property in the categories of:\\nThis means that you can deduct your insurance, interest on your mortgage, maintenance costs, and physical wear-and-tear on your property.', metadata={'url': 'https://www.investopedia.com/articles/investing/051515/pros-cons-owning-rental-property.asp'}),\n",
       "  Document(page_content='Clever’s Concierge Team can help you compare top local agents and negotiate better rates.\\nClever’s Concierge Team can help you compare top local agents and find the best expert for your search.\\n7 Pros and Cons of Investing In Rental Properties\\nSHARE\\nInvesting in a rental property and securing reliable tenants can be an excellent way to secure passive income. If you’re thinking of investing in a rental property, make sure you understand the advantages and disadvantages that come with this investment option.\\nWhen it comes to property investing, it’s easy to feel intimidated by the sheer volume of information available to novice investors. Although investing in property can be a time-consuming and stressful process, making the right property investment is one of the best ways to get on the fast-track to financial independence.\\nWhat is Rental Property Investing?', metadata={'url': 'https://listwithclever.com/real-estate-blog/pros-and-cons-of-investing-in-rental-properties/'}),\n",
       "  Document(page_content='Is rental property a good investment? Weighing pros & cons\\nWhen people have cash to invest, one of the first things they frequently think about is investing in real estate. Rental properties can generate additional income, increase in value, and offer tax benefits.\\nOn the other side of the coin, owning real estate isn’t nearly as easy as it might seem. Keep reading to learn more about why people invest in real estate, and to understand if rental property is really a good investment.\\nKey takeaways\\nRental properties can be a strong alternative to more volatile investments\\nWith inflation on the rise, turbulence in China and the Middle East, and the Federal Reserve’s promise to taper, many investors are looking at rental property as an alternative to common equities like stocks and bonds.', metadata={'url': 'https://learn.roofstock.com/blog/is-rental-property-a-good-investment'}),\n",
       "  Document(page_content='SFRs are uncorrelated to stocks\\nCorrelation is a statistic investors use to measure the degree that two asset classes move in relation to one another. A correlation coefficient of 1.00 means that two assets are perfectly correlated, while a correlation coefficient of 0.00 means they are perfectly uncorrelated.\\nSince 1971, single-family rental prices and stock prices have had a correlation coefficient of just 0.07. That means for the past 50 years, there is effectively no correlation between SFR prices and stock prices.\\nInvestors who add rental property to their investment portfolios can help to reduce their exposure to risk that the volatile swings of stocks and bonds historically bring.\\nPros and cons of investing in rental property\\nIn addition to stable returns and independence from the stock market, there are a variety of other factors that help to make rental property a good investment.', metadata={'url': 'https://learn.roofstock.com/blog/is-rental-property-a-good-investment'})],\n",
       " [Document(page_content='Investing in the Best Long Term and Short Term Rentals Markets in 2023\\nSo, weâ\\x80\\x99ve provided you with the 20 best rental markets in the US for 2023. They offer the highest possible return on investment (in terms of cash on cash return) in addition to relatively affordable prices and strong rental demand for the respective strategy. If youâ\\x80\\x99d like to optimize your investment outcomes, itâ\\x80\\x99s a good idea to focus on these top locations.\\nWhile investing in real estate can be scary for first-time investors, US housing market predictions for 2023 show that this is a great time to buy a long term or short term rental. A lack of previous experience or significant knowledge should not prevent you from making money with real estate.', metadata={'url': 'https://www.mashvisor.com/blog/fastest-growing-rental-markets-us/'}),\n",
       "  Document(page_content='So, investing in a long term rental property in a small market seems to be one of the most profitable strategies, at least at the beginning of 2023. Nevertheless, weâ\\x80\\x99d like to advise investors to keep a close eye on trends as they might start to change mid-year. As much as 90% of employers will require workers to return to the office in 2023, at least partially.\\nThe strengthening of the hybrid work model might force – at least some – employees to return to major US cities, which will affect demand for long term rentals. It might cause a gradual change in the top US cities and towns for investment.\\n3. High Real Estate Prices\\nThirdly, our analysis reveals that the top locations to buy long term rental properties in 2023 share high median property prices. All of these markets have a median home value above the $500,000 benchmark, with a few of them above $800,000. The figure is quite high compared to the US median residential real estate price of $357,319, as reported by Zillow.', metadata={'url': 'https://www.mashvisor.com/blog/fastest-growing-rental-markets-us/'}),\n",
       "  Document(page_content='Step 2: Figure Out the Top Neighborhoods for Your Rental Strategy\\nThe next step in finding a profitable rental property in the best rental markets for 2023 is choosing the top neighborhood for your preferred strategy. Real estate investment is highly local. It means that both the city and the area within the city affect all indicators and, ultimately, your ROI.\\nMashvisor offers two tools that can help you greatly with neighborhood analysis. First, you can use the real estate heatmap to locate the best areas for either long term or short term rentals in any US market. You can find neighborhoods with:\\nSecond, once youâ\\x80\\x99ve got a general idea of a few promising areas, you can use the Mashvisor neighborhood analysis pages to deepen your research. For each neighborhood, you will get access to comprehensive real estate data, as well as long term and short term rental data.\\nSome numbers include:', metadata={'url': 'https://www.mashvisor.com/blog/fastest-growing-rental-markets-us/'}),\n",
       "  Document(page_content='This trend can be largely explained by the impact of the Coronavirus pandemic on the US real estate market and vacation rental industry. In 2021 and 2022, major short term rental listings platforms like Airbnb reported a noticeable shift in preferences among travelers following the pandemic.\\nSpecifically, more and more short term rental guests got interested in smaller, traditionally less popular places in proximity to natural attractions like parks, mountains, lakes, and others. Guests also showed an increased demand for properties with amenities offering opportunities for outdoor activities, including patios, barbeques, playgrounds, etc.\\nSo, if youâ\\x80\\x99re planning to buy a short term rental in 2023, thatâ\\x80\\x99s a trend that you should definitely take into consideration. Investing in one of these top locations will help you boost Airbnb occupancy rate, as well as daily rates, which are the two most important factors affecting ROI for vacation rentals.\\n3. Affordable Real Estate Values', metadata={'url': 'https://www.mashvisor.com/blog/fastest-growing-rental-markets-us/'}),\n",
       "  Document(page_content='How to Find a Profitable Rental Property in the Best Rental Markets\\nIdentifying the top locations for your selected rental strategy is the first step in the process of buying a profitable long term or short term rental property. There are a few more steps that you need to take in order to guarantee a successful real estate investment.\\nBelow, weâ\\x80\\x99ve provided a step-by-step guide to what it takes to find a profitable rental property in the US market in 2023.\\nStep 1: Check Out the Rental Market Regulatory Environment\\nA successful rental business is a business that is not only profitable but also legal. The last thing you want as a landlord or an Airbnb host is to run into problems with the local authorities because of not complying with the rules in the market.', metadata={'url': 'https://www.mashvisor.com/blog/fastest-growing-rental-markets-us/'}),\n",
       "  Document(page_content='So, where are the hottest housing markets for 2023?\\nWithout further ado, here are the 10 top places to buy a long term rental property in 2023, ranked in descending order in terms of cash and cash return. Note that a few Arkansas and Florida markets are present in the list.\\n1. Lantana, Florida\\nStart searching for profitable long term rental properties in Lantana FL.\\n2. Saint Petersburg, Florida\\n3. Williamsburg, Virginia\\n4. Charleston, South Carolina\\n5. Fayetteville, Arkansas\\n6. Granbury, Texas\\n7. Springdale, Arkansas\\n8. Lake Havasu City, Arizona\\n9. Mount Pleasant, South Carolina\\n10. Bentonville, Arkansas\\nTo start searching for the most profitable long term rentals in these top locations or any other US market, click here.\\nThe 10 Best Short Term Rental Markets in 2023', metadata={'url': 'https://www.mashvisor.com/blog/fastest-growing-rental-markets-us/'}),\n",
       "  Document(page_content='Use the Best Real Estate Technology Tools Throughout\\nAs a final piece of advice, weâ\\x80\\x99d like to emphasize the importance of using the best real estate investment tools when looking for top-performing properties in the best rental markets. It is not really a step in the process but rather something that you should ensure throughout.\\nTraditionally, an investor needs to allocate three months to real estate research and analysis in order to find a profitable opportunity. The said duration has been brought down to just 15 minutes by the Mashvisor rental analysis platform.\\nMoreover, the results produced by the Mashvisor technology are much more robust and reliable than those from manual research. It is because they are based on the performance of all real estate comps and rental comps in the area and not just a small number of them.\\nTo find the top long term and short term rental properties for sale in the best rental markets in the US in 2023, sign up for a 7-day free trial of Mashvisor.', metadata={'url': 'https://www.mashvisor.com/blog/fastest-growing-rental-markets-us/'}),\n",
       "  Document(page_content='The 10 Best Long Term Rental Markets in 2023\\nNow that you know what features make for the top locations to buy a long term rental property this year, itâ\\x80\\x99s time to see which US cities and towns made it to the list.\\nOur ranking of the best rental markets for long term rentals in 2023 is based on Mashvisor nationwide real estate market analysis. Our team collected real estate and rental data from the entire US market before applying our AI-based, machine learning algorithms. It allowed us to locate the top places for this investment strategy.\\nIn our ranking, weâ\\x80\\x99ve focused on the cash on cash return. In other words, the best real estate markets are those that offer the highest long term rental cash on cash return in January 2023.\\nAdditionally, weâ\\x80\\x99ve included markets that meet the following criteria:\\nSo, where are the hottest housing markets for 2023?', metadata={'url': 'https://www.mashvisor.com/blog/fastest-growing-rental-markets-us/'}),\n",
       "  Document(page_content='Rental Property Calculator: Calculate Investment Property ROI\\n100 Best Short Term Rental Markets in 2023\\nHow to Buy an Airbnb Investment Property\\nAirbnb Rental Arbitrage: The Complete Guide\\n7 Best Investment Software for Real Estate Investors\\nTop 5 Websites to Analyze Investment Property\\n5 Steps to Finding the Best Rental Investment Property for Sale\\nThe Best Real Estate Competitive Market Analysis Software for 2023\\nWhat Is a Good Cash on Cash Return?: A Complete Guide\\nLooking for anInvestment Property?\\nUse analytics to ï¬\\x81nd lucrative traditional or Airbnb properties in a matter of minutes.\\nCompany\\nProduct\\nSolutions\\nFeatures\\nResources\\nExplore\\nReal Estate Markets\\nÂ© Copyright 2016 - 2023 Mashvisor. All rights reserved', metadata={'url': 'https://www.mashvisor.com/blog/fastest-growing-rental-markets-us/'})],\n",
       " [Document(page_content='Related topics\\nRecommended\\nReport on the topic\\nKey figures\\nThe most important key figures provide you with a compact summary of the topic of \"Rental market in the U.S.\" and take you straight to the corresponding statistics.\\nRenting vs owning\\nHomeownership rate in the U.S. 1990-2022\\nMultifamily property rent as a share of household income in the U.S. 2021, by city\\nMain reasons non-owners don\\'t currently own a home U.S. 2022\\nTenants\\nShare of residents who are renters in the U.S. 2020, by structure type\\nShare of residents who are renters in the U.S. 2020, by age\\nNumber of housing cost burdened households in the U.S. among renters 2003-2021\\nCoronavirus (COVID-19) effect\\nShare of renters with rent arrears in the U.S. 2022, by age group\\nShare of renters with rent arrears in the U.S. 2022, by race\\nFurther reportsGet the best reports to understand your industry\\nGet the best reports to understand your industry\\nContact\\nMon - Fri, 9am - 6pm (EST)\\nMon - Fri, 9am - 5pm (SGT)', metadata={'url': 'https://www.statista.com/topics/4465/rental-market-in-the-us/'}),\n",
       "  Document(page_content='Rental vacancy rates in the U.S. 2000-2023, by region\\nRental vacancy rates in the United States from 2000 to 2023, by region\\nU.S. housing stock: vacant rental units 2012-2022\\nNumber of unoccupied rental housing units in the United States from 2012 to 2nd quarter 2022\\nMarket share of rental property review sites U.S. 2021\\nMarket share of rental property review sites in the United States in 2021\\nRental costs\\nRental costs\\nAsking rent for unfurnished apartments in the U.S. 1980-2023\\nMonthly median asking rent for unfurnished apartments in the United States from 1980 to 2023 (in U.S. dollars)\\nRent for small and medium apartments in different states in the U.S. 2022\\nAverage monthly rent for one and two bedroom apartments in the United States as of September 2022, by state (in U.S. dollars)\\nYear-on-year apartment rent change in the U.S. 2021-2022, by state\\nAnnual change in average monthly apartment rent in the United States as of March 2021 and March 2022, by state', metadata={'url': 'https://www.statista.com/topics/4465/rental-market-in-the-us/'}),\n",
       "  Document(page_content=\"Rental Market Trends in the U.S. — Rents Accelerate Again\\nMany or all of the products featured here are from our partners who compensate us. This influences which products we write about and where and how the product appears on a page. However, this does not influence our evaluations. Our opinions are our own. Here is a list of our partners and here's how we make money.\\nUpdated Nov. 8 with the latest Zillow data for rent.\\nMore than 35% of households in the U.S. rent homes, according to 2017-2021 data from the U.S. Census Bureau[0]U.S. Census Bureau. QuickFacts, United States. Accessed Feb 13, 2023.View all sources. Over the last few years it’s become more expensive than ever to rent. But price growth is continuing to slow down since hitting an annual peak of 16% in Feb. 2022.\", metadata={'url': 'https://www.nerdwallet.com/article/finance/rental-market-trends'}),\n",
       "  Document(page_content='Customized Research & Analysis projects:\\nGet quick analyses with our professional research service\\nThe best of the best: the portal for top lists & rankings:\\nTransforming data into design:\\nStatista Content & Design\\nStrategy and business building for the data-driven economy:\\nU.S. Residential Rental Market - statistics & facts\\nHow much does renting an apartment in different states in the U.S. cost?\\nA profile of the American renter\\nKey insights\\nDetailed statistics\\nAverage monthly apartment rent in the U.S. 2017-2023, by apartment size\\nDetailed statistics\\nApartment rent in the United States in 2020-2022, by state\\nDetailed statistics\\nYear-on-year apartment rent change in the U.S. 2021-2022, by state\\nEditor’s Picks\\nCurrent statistics on this topic\\nCurrent statistics on this topic\\nApartments\\nAverage monthly apartment rent in the U.S. 2017-2023, by apartment size\\nApartments\\nStudio apartment rent in the different states in the U.S. in 2021\\nApartments', metadata={'url': 'https://www.statista.com/topics/4465/rental-market-in-the-us/'}),\n",
       "  Document(page_content='Lack of inventory. There is a shortage of vacant rental properties in general, and of affordable ones in particular.\\nExpired rent freezes and discounts. Landlords are making up for pandemic-era rent freezes and steep discounts in urban areas by hiking prices on new units and lease renewals.\\nA shifting workforce. As the pandemic increased the popularity of remote work, deep-pocketed renters sought larger homes in areas that had been previously relatively low-cost. This migration increased rents in suburban areas more than it lowered them in urban ones, yielding a net increase in rents.\\nMore demand to live alone. Prospective renters are increasingly looking for studio and one-bedroom apartments, driving up demand for available housing, according to a November 2022 report from the real estate website StreetEasy.', metadata={'url': 'https://www.nerdwallet.com/article/finance/rental-market-trends'}),\n",
       "  Document(page_content=\"» MORE: 7 tips for getting an apartment without a credit check\\nWho is most likely to rent?\\nSingle people are more likely to rent than couples, regardless of whether they have children, according to a 2022 rental housing report from Harvard University [0]Joint Center for Housing Studies of Harvard University. America's Rental Housing 2022. Accessed Feb 13, 2023.View all sources . Hispanic, Black and Asian residents are more likely to rent than own homes when compared with white residents. Those with incomes at or below $74,999 are more likely to rent than own compared with those with incomes $75,000 and over.\\n» MORE: \\xa0What does renters insurance cover?\\nDespite soaring rents, it’s still less expensive to rent than to buy. The typical rent for an average three-bedroom place is still more affordable than owning a similar-sized home in 95% of the 222 U.S. counties analyzed by ATTOM, a land and property real estate data curator, in its 2023 Rental Affordability Report.\", metadata={'url': 'https://www.nerdwallet.com/article/finance/rental-market-trends'}),\n",
       "  Document(page_content='Industry Overview\\nDigital & Trend reports\\nOverview and forecasts on trending topics\\nIndustry & Market reports\\nIndustry and market insights and forecasts\\nCompanies & Products reports\\nKey figures and rankings about companies and products\\nConsumer & Brand reports\\nConsumer and brand insights and preferences in various industries\\nPolitics & Society reports\\nDetailed information about political and social topics\\nCountry & Region reports\\nAll key figures about countries and regions\\nMarket forecast and expert KPIs for 1000+ markets in 190+ countries & territories\\nInsights on consumer attitudes and behavior worldwide\\nBusiness information on 100m+ public and private companies\\nExplore Company Insights\\nDetailed information for 39,000+ online stores and marketplaces\\nDirectly accessible data for 170 industries from 150+ countries\\nand over 1\\xa0Mio. facts.\\nCustomized Research & Analysis projects:\\nGet quick analyses with our professional research service', metadata={'url': 'https://www.statista.com/topics/4465/rental-market-in-the-us/'}),\n",
       "  Document(page_content=\"The generation of adults most likely to rent is Gen Z with 74% of the cohort renting their homes, according to a March 29 data analysis by RentCafe, an apartment listing service. That's a pretty recent development since Millennial home buyers only began to outweigh renters in the cohort as of 2022, the data shows. The analysis found 51.5% of millennials now own their own home. The amount of millennial homeowners increased 28% from 2019 to 2022. But baby boomers are still the dominant generation owning their own homes, representing 40% of all homeowners in the U.S.\\nRent vs. income\\nGenerally, households should be spending no more than 30% of their gross income on rent, according to the NYU Furman Center [0]NYU Furman Center. State of Renters and Their Homes. Accessed Feb 13, 2023.View all sources .\", metadata={'url': 'https://www.nerdwallet.com/article/finance/rental-market-trends'})],\n",
       " [Document(page_content='Beginner’s Guide to Rental Property Investing\\nReal estate investments can help diversify your portfolio while creating an additional income stream. There are different ways to invest in real estate, including owning one or more rental properties. Getting started with rental investments means understanding how to find properties, how to purchase them and how to use them to turn a profit. It’s a bit more involved than picking stocks or mutual funds, but there’s solid reward potential if you’re open to learning the ropes. Here’s a beginner’s guide to investing in rental property.\\nA financial advisor can help you diversify your portfolio with real estate and other investments.\\nTypes of Rental Properties for Investment\\nRental properties aren’t all alike in terms of how you can use them to create streams of income. There are three different ways to leverage rental properties in a portfolio:\\nEach of these three types of rental arrangements require getting answers to specific questions.', metadata={'url': 'https://smartasset.com/investing/investing-in-rental-property-for-beginners'}),\n",
       "  Document(page_content='10 Tips For Buying Your First Rental Property\\nKey Takeaways\\nWhy invest in rental properties?\\n10 tips for buying rental properties\\nThe concept of buying first rental property assets is one of the best ways to begin accumulating long-term wealth. A solid rental property can not only provide you with monthly cash flow, but can serve as the backbone of your retirement plan. The key, however, is finding the right property. Not every quality property you look at will make a good rental property. It takes the right mix of demand and location to maximize your return. If you have been interested in owning a rental, but weren’t sure what steps to take, here are some suggestions on buying first rental property assets.\\nWhy Buy A Rental Property?', metadata={'url': 'https://www.fortunebuilders.com/how-to-buy-your-first-rental-property/'}),\n",
       "  Document(page_content=\"How to Invest in Rental Property\\nTips for buying your first rental property\\nThinking about purchasing an investment property? Purchasing rental real estate requires knowledge of leasing, mortgage loans, tenant and landlord relationships, and property management. Buying real estate can be lucrative but, just like any investment, comes with benefits and challenges.\\nKey Takeaways\\nSo You Want to Be a Landlord?\\nBuying investment property and acting as a landlord can be a good way to earn income, but requires a commitment of time and money. After choosing the right property, prepping the unit, and finding reliable tenants, ongoing maintenance is required.\\nMaintenance and upkeep costs can decrease your rental income. There's always the potential for an emergency, such as roof damage. Investors should plan to set aside 1% of their property's value for repairs.\", metadata={'url': 'https://www.investopedia.com/articles/investing/090815/buying-your-first-investment-property-top-10-tips.asp'}),\n",
       "  Document(page_content='Buying your first rental property gives you the flexibility to sell when the time is right. With consistent cash flow, owners aren’t typically forced to sell when they need more liquidity.\\nAppreciation is never guaranteed, but history has taught us that home values increase more often than not. As a result, rental property owners can usually depend on the appreciation of their assets.\\nBuying first rental property assets isn’t the only way to invest. That said, becoming a landlord is a great way to diversify any growing portfolio.\\n1. Do Your Homework', metadata={'url': 'https://www.fortunebuilders.com/how-to-buy-your-first-rental-property/'}),\n",
       "  Document(page_content='Buying a Rental Property\\nLocation, Location, Location\\nA city or locale where the population is growing or a revitalization plan is underway often represents a potential investment opportunity. A neighborhood with a low crime rate, easy access to public transportation, and a growing job market may also mean a larger pool of renters.\\nWhen choosing a profitable rental property, look for a location with low property taxes, a good school district, and a host of\\xa0amenities, such as restaurants, coffee shops, shopping, trails, and parks.\\nOnline real estate property sites like Zillow.com provide information for investors including home rental rates and current investment property values. Airbnb.com provides investors with information on the going rental rates for vacation homes or condos.\\nFinancing Your Rental Property', metadata={'url': 'https://www.investopedia.com/articles/investing/090815/buying-your-first-investment-property-top-10-tips.asp'}),\n",
       "  Document(page_content='Before you buy an investment property, review your options and learn the ins and outs of what it takes to own rental property.\\nYou’re Responsible For Everything\\nWhen you purchase a rental property, you’re in charge of buying a house (often a multifamily home), finding tenants and maintaining the property while collecting monthly rent and paying property taxes. When planned and well executed, buying rental properties can be an investment that eventually becomes a source of real estate income and profit.\\nIt’s important to consider what type of property you want to rent out. Different types of houses carry different types of responsibilities. For example, renting out a house with a lawn can involve more landscaping and lawn care than an apartment building in the city. However, buying a multifamily home or apartment building means finding more tenants and maintaining several rental units.\\nSee What You Qualify For\\nType of Loan\\nHome Description\\nProperty Use\\nYour Credit Profile', metadata={'url': 'https://www.rocketmortgage.com/learn/buying-rental-house'}),\n",
       "  Document(page_content='Condos can be a good option for rental property buyers and they are often located in desirable locations.\\nThe Bottom Line\\nAs with many investments, real estate rental property is often a long-term project. Yet, rental properties can be a lucrative way to invest in real estate and provide a passive, steady income for investors. Investing in rental property requires knowledge about tenant and landlord laws, leasing, mortgages, and property management.\\nLending Tree. \"Down Payment Requirements on Rental Property.\"\\nRenters Warehouse. \"How to Budget Maintenance For Your Rental Property.\"\\nApartments.com. \"How Much Does It Cost to Hire a Property Manager?\"\\nNOLO. \"State Landlord-Tenant Laws.\"\\nAllstate. \"What Does Landlord Insurance Cover?\"\\nAP Mortgage. \"Differences Between a Second Home and an Investment Property.\"\\nConsumer Financial Protection Bureau. \"Having a Problem With a Financial Product or Service?\"\\nU.S. Department of Housing and Urban Development. \"Complaints.\"', metadata={'url': 'https://www.investopedia.com/articles/investing/090815/buying-your-first-investment-property-top-10-tips.asp'}),\n",
       "  Document(page_content='Everything You Need To Know Before Buying Rental Property\\nVictoria Araj9-minute read\\nNovember 14, 2023\\nShare:\\nBuying a rental property is a big decision with big financial implications. You’ll want to find a location that’s easy to rent and a property that fits your budget. Then, you’ll need to figure out how to pay for your new investment property before you make an offer.\\nThough every property is different, the process of making savvy property investment decisions is the same.\\nLet’s look at what you need to know when buying a house to rent out, the different factors you’ll need to consider and what to look for when buying your first rental property.\\nWhat You Need To Know Before Investing In Rental Property\\nBecause the goal is to turn a profit quickly, buying a rental property differs from buying a house as a primary residence. That means you’ll need to treat your investment as a business, choosing affordable properties and finding the right way to finance them.', metadata={'url': 'https://www.rocketmortgage.com/learn/buying-rental-house'})]]"
      ]
     },
     "execution_count": 38,
     "metadata": {},
     "output_type": "execute_result"
    }
   ],
   "source": [
    "x"
   ]
  },
  {
   "cell_type": "code",
   "execution_count": 37,
   "id": "4eabd10a",
   "metadata": {},
   "outputs": [
    {
     "ename": "IndexError",
     "evalue": "list index out of range",
     "output_type": "error",
     "traceback": [
      "\u001b[0;31m---------------------------------------------------------------------------\u001b[0m",
      "\u001b[0;31mIndexError\u001b[0m                                Traceback (most recent call last)",
      "Cell \u001b[0;32mIn[37], line 1\u001b[0m\n\u001b[0;32m----> 1\u001b[0m \u001b[38;5;28mlen\u001b[39m(\u001b[43mx\u001b[49m\u001b[43m[\u001b[49m\u001b[38;5;241;43m4\u001b[39;49m\u001b[43m]\u001b[49m)\n",
      "\u001b[0;31mIndexError\u001b[0m: list index out of range"
     ]
    }
   ],
   "source": [
    "len(x[4])"
   ]
  },
  {
   "cell_type": "code",
   "execution_count": 19,
   "id": "23459f73",
   "metadata": {},
   "outputs": [
    {
     "name": "stdout",
     "output_type": "stream",
     "text": [
      "✅ Adding url https://www.sofi.com/learn/content/the-pros-and-cons-of-owning-rental-property/ to our research\n"
     ]
    }
   ],
   "source": [
    "something = await r.get_content_using_query('Pros and cons of investing in rental properties')"
   ]
  },
  {
   "cell_type": "code",
   "execution_count": 20,
   "id": "cf8f2334",
   "metadata": {},
   "outputs": [
    {
     "data": {
      "text/plain": [
       "[{'url': 'https://www.sofi.com/learn/content/the-pros-and-cons-of-owning-rental-property/',\n",
       "  'raw_content': 'We need to confirm you’re human.\\nThanks for helping us keep the bots away. Check the box and let’s get you where you’re going.\\nChecking your browser before accessing \"www.sofi.com\".\\nRedirecting...\\nPlease turn JavaScript on and reload the page.\\nPlease enable Cookies and reload the page.\\nRequest ID: 8301ed34ab939e82\\nIP: 27.34.65.52\\n© 2022 Social Finance, Inc.'}]"
      ]
     },
     "execution_count": 20,
     "metadata": {},
     "output_type": "execute_result"
    }
   ],
   "source": [
    "something"
   ]
  },
  {
   "cell_type": "code",
   "execution_count": null,
   "id": "109b7b97",
   "metadata": {},
   "outputs": [],
   "source": []
  },
  {
   "cell_type": "code",
   "execution_count": null,
   "id": "0fcc70d2",
   "metadata": {},
   "outputs": [],
   "source": []
  },
  {
   "cell_type": "code",
   "execution_count": 23,
   "id": "b2b92268",
   "metadata": {},
   "outputs": [
    {
     "data": {
      "text/plain": [
       "['Real estate market trends November 2023',\n",
       " 'Property value forecast 2024',\n",
       " 'Rental income potential in [specific location]',\n",
       " 'investment in real estate and buying properties']"
      ]
     },
     "execution_count": 23,
     "metadata": {},
     "output_type": "execute_result"
    }
   ],
   "source": [
    "response"
   ]
  },
  {
   "cell_type": "code",
   "execution_count": 10,
   "id": "c8df4014",
   "metadata": {},
   "outputs": [],
   "source": [
    "from researcher.search.duckduckgo import Duckduckgo"
   ]
  },
  {
   "cell_type": "code",
   "execution_count": 139,
   "id": "7d6c20cb",
   "metadata": {},
   "outputs": [],
   "source": [
    "search_engine = Duckduckgo('investment in real estate and buying properties')\n"
   ]
  },
  {
   "cell_type": "code",
   "execution_count": 140,
   "id": "be0cf78c",
   "metadata": {},
   "outputs": [],
   "source": [
    "search_urls = list(search_engine.search(max_results=r.cfg.max_search_results_per_query))"
   ]
  },
  {
   "cell_type": "code",
   "execution_count": 141,
   "id": "e17cb1c1",
   "metadata": {},
   "outputs": [],
   "source": [
    "search_urls = [url['href'] for url in search_urls]"
   ]
  },
  {
   "cell_type": "code",
   "execution_count": 142,
   "id": "5377a6be",
   "metadata": {},
   "outputs": [
    {
     "data": {
      "text/plain": [
       "['https://www.businessinsider.com/how-to-find-good-deal-property-buy-real-estate-investing-2023-11?op=1',\n",
       " 'https://www.investopedia.com/mortgage/real-estate-investing-guide/',\n",
       " 'https://smartasset.com/investing/how-to-buy-your-first-investment-property',\n",
       " 'https://time.com/personal-finance/article/how-to-invest-in-real-estate/',\n",
       " 'https://money.usnews.com/investing/real-estate-investments/articles/rules-for-buy-and-hold-real-estate-investing']"
      ]
     },
     "execution_count": 142,
     "metadata": {},
     "output_type": "execute_result"
    }
   ],
   "source": [
    "search_urls"
   ]
  },
  {
   "cell_type": "code",
   "execution_count": 27,
   "id": "e904cb6d",
   "metadata": {},
   "outputs": [
    {
     "data": {
      "text/plain": [
       "['Real estate market trends November 2023',\n",
       " 'Property value forecast 2024',\n",
       " 'Rental income potential in [specific location]',\n",
       " 'investment in real estate and buying properties']"
      ]
     },
     "execution_count": 27,
     "metadata": {},
     "output_type": "execute_result"
    }
   ],
   "source": [
    "response"
   ]
  },
  {
   "cell_type": "code",
   "execution_count": null,
   "id": "4a3cba52",
   "metadata": {},
   "outputs": [],
   "source": []
  },
  {
   "cell_type": "code",
   "execution_count": null,
   "id": "e0d2ff8f",
   "metadata": {},
   "outputs": [],
   "source": []
  },
  {
   "cell_type": "code",
   "execution_count": null,
   "id": "49d85b92",
   "metadata": {},
   "outputs": [],
   "source": []
  },
  {
   "cell_type": "code",
   "execution_count": 56,
   "id": "161eeca1",
   "metadata": {},
   "outputs": [],
   "source": [
    "from researcher.scraping.scrape import Scraper"
   ]
  },
  {
   "cell_type": "code",
   "execution_count": null,
   "id": "eccb0338",
   "metadata": {},
   "outputs": [],
   "source": []
  },
  {
   "cell_type": "code",
   "execution_count": null,
   "id": "96dc37b3",
   "metadata": {},
   "outputs": [],
   "source": [
    "def get_unique_urls(urls):\n",
    "    self.visited_urls "
   ]
  },
  {
   "cell_type": "code",
   "execution_count": 150,
   "id": "c431bc54",
   "metadata": {},
   "outputs": [],
   "source": [
    "async def get_content_using_query(query):\n",
    "    \n",
    "    search_engine = Duckduckgo(query = query)\n",
    "    search_urls = search_engine.search(max_results = r.cfg.max_search_results_per_query)\n",
    "    \n",
    "    search_urls = [url.get('href') for url in search_urls]\n",
    "    \n",
    "#     new_search_urls = get_unique_urls(search_urls)\n",
    "#     print(search_urls)\n",
    "    \n",
    "    scraper = Scraper(search_urls)\n",
    "    content = scraper.run()\n",
    "    \n",
    "    \n",
    "    return content\n",
    "    \n",
    "    "
   ]
  },
  {
   "cell_type": "code",
   "execution_count": 206,
   "id": "1dac0cbf",
   "metadata": {},
   "outputs": [],
   "source": [
    "ans = await get_content_using_query('Property value forecast 2024')"
   ]
  },
  {
   "cell_type": "code",
   "execution_count": 208,
   "id": "4848e68c",
   "metadata": {},
   "outputs": [
    {
     "data": {
      "text/plain": [
       "[{'url': 'https://www.realtor.com/research/2024-national-housing-forecast/',\n",
       "  'raw_content': 'Articles\\n2024 Housing Market Forecast and Predictions: Housing Affordability Finally Begins to Turnaround\\nAs we look ahead to 2024, we see a mix of continuity and change in both the housing market and economy. Against a backdrop of modest economic growth, slightly higher unemployment, and easing inflation longer term interest rates including mortgage rates begin a slow retreat. The shift from climbing to falling mortgage rates improves housing affordability, but saps some of the urgency home shoppers had previously sensed. Less frenzied housing demand and plenty of rental home options keep home sales relatively stable at low levels in 2024, helping home prices to adjust slightly lower even as the number of for-sale homes continues to dwindle.\\nRealtor.com® 2024 Forecast for Key Housing Indicators\\nHome Prices Dip, Improving Affordability\\nHome prices grew at a double-digit annual clip for the better part of two years spanning the second half of 2020 through 2022, a notable burst following a growing streak that spanned back to 2012. As mortgage rates climbed, home price growth flatlined, actually declining on an annual basis in early 2023 before an early-year dip in mortgage rates spurred enough buyer demand to reignite competition for still-limited inventory. Home prices began to climb again, and while they did not reach a new monthly peak, on average for the year we expect that the 2023 median home price will slightly exceed the 2022 annual median.\\nNevertheless, even during the brief period when prices eased, using a mortgage to buy a home remained expensive. Since May 2022, purchasing the typical for-sale home listing at the prevailing rate for a 30-year fixed-rate mortgage with a 20% down payment meant forking over a quarter or more of the typical household paycheck. In fact, in October 2023, it required 39% of the typical household income and this share is expected to average 36.7% for the full calendar year in 2023. This figure has typically ranged around 21%, so it is well above historical average. We expect that the return to pricing in line with financing costs will begin in 2024, and home prices, mortgage rates, and income growth will each contribute to the improvement. Home prices are expected to ease slightly, dropping less than 2% for the year on average. Combined with lower mortgage rates and income growth this will improve the home purchase mortgage payment share relative to median income to an average 34.9% in 2024, with the share slipping under 30% by the end of the year.\\nHome Sales Barely Budge Above 2023’s Likely Record Low\\nAfter soaring during the pandemic, existing home sales were weighed down in the latter half of 2022 as mortgage rates took off, climbing from just over 3% at the start of the year to a peak of more than 7% in the fourth quarter. The reprieve in mortgage rates in early 2023, when they dipped to around 6%, brought some life to home sales, but the renewed climb of mortgage rates has again exerted significant pressure on home sales that is exacerbated by the fact that a greater than usual number of households bought homes over the past few years, and despite stories of pandemic purchase regret, for the most part, these homeowners continue to be happy in their homes.\\nThis is consistent with what visitors to Realtor.com report when asked why they are not planning to sell their homes. The number one reason homeowners aren’t trying to sell is that they just don’t need to; concern about losing an existing low-rate mortgage is the top financial concern cited. Our current projection is for 2023 home sales to tally just over 4 million, a dip of 19% over the 2022 5 million total.\\nWith many of the same forces at play heading into 2024, the housing chill will continue, with sales expected to remain essentially unchanged at just over 4 million. Although mortgage rates are expected to ease throughout the course of the year, the continuation of high costs will mean that existing homeowners will have a very high threshold for deciding to move, with many likely choosing to stay in place.\\xa0 Moves of necessity–for job changes, family situation changes, and downsizing to a more affordable market–are likely to drive home sales in 2024.\\nShoppers Find Even Fewer Existing Homes For Sale\\nEven before the pandemic, housing inventory was on a long, slow downward trajectory. Insufficient building meant that the supply of houses did not keep up with household formation and left little slack in the housing market. Both homeowner and rental vacancy remain below historic averages. In contrast with the existing home market, which remains sluggish, builders have been catching up, with construction remaining near pre-pandemic highs for single-family and hitting record levels for multi-family.\\nDespite this, the lack of excess capacity in housing has been painfully obvious in the for-sale home market. The number of existing homes on the market has dwindled. With home sales activity to continue at a relatively low pace, the number of unsold homes on the market is also expected to remain low.\\xa0 Although mortgage rates are expected to begin to ease, they are expected to exceed 6.5% for the calendar year. This means that the lock-in effect, in which the gap between market mortgage rates and the mortgage rates existing homeowners enjoy on their outstanding mortgage, will remain a factor. Roughly two-thirds of outstanding mortgages have a rate under 4% and more than 90% have a rate less than 6%.\\nRental Supply Outpaces Demand to Drive Mild Further Decline in Rents\\nAfter almost a full year of double-digit rent growth between mid-2021 and mid-2022, the rental market has finally cooled down, as evidenced by the year-over-year decline that started in May 2023. In 2024, we expect the rental market will closely resemble the dynamics witnessed in 2023, as the tug of war between supply and demand results in a mild annual decline of -0.2% in the median asking rent.\\nNew multi-family supply will continue to be a key element shaping the 2024 rental market.\\xa0 In the third quarter of 2023, the annual pace of newly completed multi-family homes stood at 385,000 units. Although absorption rates remained elevated in the second quarter, especially at lower price points, the rental vacancy rate ticked up to 6.6% in the third quarter. This uptick in rental vacancy suggests the recent supply has outpaced demand, but context is important. After recent gains, the rental vacancy rate is on par with its level right before the onset of the pandemic in early 2020, still below its 7.2% average from the 2013 to 2019 period.\\xa0 Looking ahead, the strong construction pipeline–which hit a record high for units under construction this summer–is expected to continue fueling rental supply growth in 2024 pushing rental vacancy back toward its long-run average.\\nWhile the surge in new multi-family supply gives renters options, the sheer number of renters will minimize the potential price impact. The median asking rent in 2024 is expected to drop only slightly below its 2023 level. Renting is expected to continue to be a more budget friendly option than buying in the vast majority of markets, even though home prices and mortgage rates are both expected to dip, helping pull the purchase market down slightly from record unaffordability.\\nYoung adult renters who lack the benefit of historically high home equity to tap into for a home purchase will continue to find the housing market challenging. Specifically, as many Millennials age past first-time home buying age and more Gen Z approach these years, the current housing landscape is likely to keep these households in the rental market for a longer period as they work to save up more money for the growing down payment needed to buy a first home. This trend is expected to sustain robust demand for rental properties. Consequently, we anticipate that rental markets favored by young adults, a list which includes a mix of affordable areas and tech-heavy job markets in the South, Midwest, and West, will be rental markets to watch in 2024.\\nKey Wildcards:\\nHousing Perspectives:\\nWhat will the market be like for homebuyers, especially first-time homebuyers?\\nFirst-time homebuyers will continue to face a challenging housing market in 2024, but there are some green shoots. The record-high share of income required to purchase the median priced home is expected to begin to decline as mortgage rates ease, home prices soften, and incomes grow. In 2023 we expect that for the year as a whole, the monthly cost of financing the typical for-sale home will average more than $2,240, a nearly 20% increase over the mortgage payment in 2022, and roughly double the typical payment for buyers in 2020. This amounted to a whopping nearly 37% of the typical household income. In 2024 as modest price declines take hold and mortgage rates dip, the typical purchase cost is expected to slip just under $2,200 which would amount to nearly 35% of income. While far higher than historically average, this is a significant first step in a buyer-friendly direction.\\nHow can homebuyers prepare?\\nHomebuyers can prepare for this year’s housing market by getting financially ready. Buyers can use a home affordability calculator, like this one at Realtor.com to translate their income and savings into a home price range. And shoppers can pressure test the results by using a mortgage calculator to consider different down payment, price, and loan scenarios to see how their monthly costs would be impacted. Working with a lender can help potential buyers explore different loan products such as FHA or VA loans that may offer lower mortgage interest rates or more flexible credit criteria.\\nAlthough prices are anticipated to fall in 2024, housing costs remain high, and a down payment can be a big obstacle for buyers. Recent research shows that the typical down payment on a home reached a record high of $30,000.\\xa0 To make it easier to cobble together a down payment, shoppers can access information about down payment assistance options at Realtor.com/fairhousing and in the monthly payment section of home listing pages. Furthermore, home shoppers can explore loan products geared toward helping families access homeownership by enabling down payments as low as 3.5% in the case of FHA loans and 0% in the case of VA loans.\\nWhat will the market be like for home sellers?\\nHome sellers are likely to face more competition from builders than from other sellers in 2024. Because builders are continuing to maintain supply and increasingly adapting to market conditions, they are increasingly focused on lower-priced homes and willing to make price adjustments when needed. As a result, potential sellers will want to consider the landscape for new construction housing in their markets and any implications for pricing and marketing before listing their home for sale.\\nWhat will the market be like for renters?\\nIn 2024, renting is expected to continue to be a more cost-effective option than buying in the short term even though we anticipate the advantage for renting to diminish as home prices and mortgage rates decline.\\nHowever, for those considering the pursuit of long-term equity through homeownership, it’s essential to not only stay alert about market trends but also to carefully consider the intended duration of residence in their next home. When home prices rise rapidly, like they did during the pandemic, the higher cost of purchasing a home may break even with the cost of renting in as little as 3 years. Generally, it takes longer to reach the breakeven point, typically within a 5 to 7-year timeframe. Importantly, when home prices are falling and rents are also declining, as is expected to be the case in 2024, it can take longer to recoup some of the higher costs of buying a home. Individuals using Realtor.com’s Rent vs. Buy Calculator can thoroughly evaluate the costs and benefits associated with renting versus buying over time and how many years current market trends suggest it will take before buying is the better financial decision. This comprehensive tool can provide insights tailored to a household’s specific rent versus buying decision and empowers consumers to consider not only the optimal choice for the current month but also how the trade-offs evolve over several years.\\nLocal Market Predictions:\\nAll real estate is local and while the national trends are instructive, what matters most is what’s expected in your local market.\\nMetro\\n2024 Sales Growth % y/y\\n2024 Price Growth % y/y\\nSign up for updates\\nJoin our mailing list to receive the latest data and research.'},\n",
       " {'url': 'https://themortgagereports.com/107263/housing-market-predictions',\n",
       "  'raw_content': \"Home-Buying Loan Types\\nHome Buying Help\\nCalculators And Tools\\nRefinance Loan Types\\nRefinance Strategy\\nMortgage Rate Updates\\nHome Equity Resources\\nStep By Step Guides\\nMortgage Lender Reviews\\nHousing Market Predictions: Will Home Prices Drop in 2024?\\nIt’s been an interesting year in real estate. High home prices and elevated mortgage rates have posed challenges for numerous potential buyers, leaving them wondering, “Will home prices drop in 2024?” As the holidays and colder weather approach, now is an opportune time to reflect on the state of the housing market and look ahead to hopefully more favorable conditions for buyers next year.\\nThat begs several questions: Is it a good time to buy a house in the coming months? When will mortgage rates drop? Will the housing supply improve? For answers, we reached out to several real estate and mortgage industry pros, requesting their housing market predictions.\\nIn this article:\\nNational housing market trends and stats\\nOver the past year, the real estate market has navigated through a challenging landscape. With fluctuating home prices, elevated mortgage rates, and a range of economic factors, prospective buyers, sellers, and investors have had to adapt to a dynamic environment.\\nHere’s what we know about the national real estate market, based on the latest data from the National Association of Realtors, Redfin, Freddie Mac, and The Mortgage Reports:\\nBut raw numbers don’t tell the whole story. For a more in-depth analysis of how we got here, perspectives on where the national housing market stands, and predictions on where interest rates, prices, inventory, and other key indicators are headed, we reached out to a variety of industry experts. Their insights and prognostications are shared below.\\nCurrent housing market overview\\nFor a bird’s eye view of the real estate climate, we first asked the pros to sum up the current state of the U.S. housing market.\\nRick Sharga, president/CEO of CJ Patrick Company: “I’d characterize the housing market today as boring and likely to stay pretty unexciting for the foreseeable future. Existing home sales are on pace to be at their lowest total since 2009, during the Great Recession. Prices have rebounded over the past few months, and are increasing on a year-over-year basis, but very modestly (1-2%). Inventory is inching up slightly from nearly historic lows, but still down between 40-50% from the same time in 2019, when we last had a relatively normal number of homes for sale. And mortgage rates continue to rise, discouraging homeowners with lower-rate mortgages from listing their homes for sale and making a home purchase unaffordable for more buyers.”\\nShri Ganeshram, CEO of Awning.com: “The national real estate market presents a mixed bag of scenarios. On one hand, home prices have seen a steady climb, reflecting both the increased demand and the undeniable value people place on homeownership. Mortgage rates, while still low historically, have risen in recent months, causing some hesitations among potential home buyers. Inventory levels have been somewhat tight, especially in sought-after areas, driving up competition. Sales volumes have been robust, but with the occasional plateau, indicative of market saturation in specific areas. Home buyer interest remains high, but I’ve noticed a slight trend toward more informed and cautious buying. Remember when everyone was in a rush to get their slice of suburbia in the early 2020s? There’s more of a wait-and-watch sentiment now.”\\nJoseph Melara, owner of Residential Brokers: “The national real estate market is experiencing several noteworthy trends. Firstly, we’ve observed a slight decline in home prices on a national level. This is in line with seasonal patterns and is not indicative of a long-term trend. Additionally, mortgage rates have been rising as a measure to stabilize inflation, which is impacting buyer affordability. Inventory levels have continued to decrease, largely because many current homeowners are holding onto their properties due to lower interest rates, resulting in reduced housing mobility. Sales volumes have declined proportionally in both the detached and attached markets, aligning with the seasonal dip in prices. However, despite these fluctuations, it’s important to note that the market remains relatively stable.”\\nRalph DiBugnara, president of Home Qualified: “The current real estate market is one we have never seen before, with a combination of higher interest rates, high inflation, and lack of homes for sale to meet the demand of potential buyers. But buyers, even those willing to pay high prices, are less likely to follow through on purchasing a home if it is in disrepair. That’s the difference from when payments, rates, and inflation were lower. At the increased cost across the board, buyers want a better finished product.”\\nNick Ron, owner/founder/CEO of House Buyers of America: “Market activity is cooling due to eye-popping home prices and interest rates. But even though the national average 30-year mortgage rate has jumped to a nearly 23-year high, buyer interest remains relatively high and the housing market is still competitive for prospective buyers.”\\nWill home prices drop in 2024?\\nThe outlook for home prices in 2024 varies among experts. While some anticipate a potential drop of 5-10% due to factors like softening demand, affordability issues, and economic uncertainty, others predict rising prices, driven by continued high demand and low supply. Factors such as local market conditions, employment trends, and regional dynamics will play a significant role in determining the direction of home prices.\\nAndrew Lokenauth, owner of BeFluentInFinance: “Home prices will likely drop 5-10% nationally in 2024 as demand softens further. Affordability issues, economic uncertainty, and moderating investor activity will weigh on prices. Of course, the exact amount prices will reduce will depend on local market conditions and employment trends.”\\nJeremy Schachter, branch manager with Fairway Independent Mortgage: “Home prices will rise in 2024. With the demand still being high and supply low, this will drive up home values, especially if rates come down, which will increase demand even more.”\\nGlenn Phillips, CEO of Lake Homes Realty: “Housing prices nationally will level off on an average basis, with some markets slightly rising, some dropping, all based on local demand and that local demand’s local economic conditions.”\\nRon: “I expect house prices to rise around 3% to 4%. But at some point in 2024, I see a slowdown in price growth. The slowdown will be due to a combination of factors such as rising interest rates, an increase in the supply of homes, a decrease in demand, and affordability challenges for buyers. That said, I’m not anticipating a drop in prices nationwide. Rising construction costs and a slowing economy as a result of prolonged high interest rates will also impact the housing market in 2024.\\nGaneshram: “Given the current trajectory and economic indicators, I anticipate a moderate rise in housing prices nationally. The reason is consistent demand, especially in suburban and exurban regions. The urban exodus, sparked by remote work trends, hasn’t entirely plateaued. Add to that the narrative of some of my peers in the real estate industry: Many of them anticipate new housing developments in 2024, which could initially moderate prices. But expect prices overall to rise as supply tries to catch up with demand.”\\nSharga: “Home prices will probably rise slightly in 2024, perhaps by 2-3% as demand continues to outpace supply. However, this will not be universally true; some formerly high-flying markets like the Bay Area in California, Austin, and Phoenix could see prices continue to fall, while cities in the Southeastern states may see prices rise more quickly.”\\nMelara: “I anticipate that national housing prices will continue to experience a mild drop in 2024. This decline is expected to be a result of seasonal fluctuations, similar to what we’ve seen historically.”\\nWill mortgage rates come down?\\nThe outlook for mortgage rates in 2024 continues to be a subject of debate among experts. While some predict a slight decline in mortgage rates, others expect them to remain relatively high, influenced by economic factors, inflation, and Federal Reserve policy. This uncertainty leaves both buyers and sellers cautiously monitoring the mortgage rate landscape throughout the year.\\nDiBugnara: “Mortgage rates, on average, will be down in 2024 compared to 2023. But I do not believe they will drop as low as previously predicted by forecasters. An average interest rate in the mid 6% range for a 30-year fixed-rate loan is where I believe we will land.”\\nRon: “Sometime in the first half of next year we will see slightly lower, but still elevated, mortgage rates. As the economy decelerates, rates should go down. At some point in 2024, the Fed will start lowering rates as they see inflation decline and unemployment increase. Rates will still be high enough that home buyers continue to be challenged by affordability, and sellers will still be reluctant to give up their low existing mortgage rates.”\\nSharga: “Mortgage rates are likely to decline, slowly but steadily, over the year. This decline should begin once the Federal Reserve confirms that it’s done raising the Fed Funds rate for this cycle. But borrowers shouldn’t expect to see mortgage loans with 4% interest rates; it’s more likely that rates will gradually work their way down from 7%, and possibly end next year just below 6%.”\\nLokenauth: “Rates could fluctuate in 2024 based on inflation and Fed policy, but I expect rates to average in the 5-7% range. A strong labor market and slowing inflation could lead to rate cuts in the second half of 2024, but higher rates of at least 6% seem likely to persist throughout 2024.”\\nWill housing inventory increase?\\nWhile some experts anticipate a modest home inventory increase due to factors like rising interest rates and market dynamics, others argue that new construction may lag, maintaining tight inventory levels. However, one consensus remains: the housing market’s supply-demand balance continues to be a focal point for homeowners and prospective buyers alike.\\nHere’s what some mortgage pros had to say:\\nPhillips: “Supply will rise slightly in 2024. The reasons? Those who have been postponing selling—especially because they don’t want to give up their current low mortgage rates—may finally need to move, plus natural market churn will occur. However, no drastic change will flood the market with inventory, and buyer demand will remain strong in 2024.”\\nLokenauth: “Supply will gradually rise in 2024 as profit margins drop and sellers are less rushed. But new construction is lagging, keeping inventory tight for the long term. I expect to see 5-10% more listings nationally in 2024.”\\nSharga: “New home inventory is likely to increase a little bit next year as home builders ramp up activity to meet market demand; but the inventory of existing homes for sale will probably be flat as homeowners remain locked in by low interest rates on their current mortgages. Almost 70% of mortgage loans today have an interest rate of 4% or lower. We’re unlikely to see many of those homeowners list their properties for sale until rates drop significantly, probably to 5.5% or lower.”\\nRon: “I see some increases in housing inventory in 2024 due to rising interest rates, affordability challenges for buyers, and a decrease in demand. But in general, the national housing shortage will continue through the end of the 2020s. Due to the estimated pent-up demand for housing, it will take time for the nation’s builders to find suitable land, skilled labor, and materials to create a much-needed supply. Innovation in regulatory technology can also help increase the supply of housing and make it easier to build new homes faster.”\\nMelara: “Housing inventory is anticipated to continue its decline into 2024. The primary factor contributing to this trend is the reluctance of existing homeowners to sell. This reluctance to move is reducing the overall supply of homes.”\\nWill 2024 be a buyer's or a seller's market?\\nWhile some experts anticipate a continuation of a strong seller’s market due to high demand and limited inventory, others suggest a gradual shift towards a more balanced market, giving buyers slightly more leverage. The outcome may vary by region and housing conditions, making it crucial for both buyers and sellers to stay informed and adaptable in the evolving real estate landscape.\\nHere are the insights shared by some of the experts we interviewed:\\nSharga: “2024 will remain a strong seller’s market unless mortgage interest rates drop much further and faster than most economists are predicting. The market still has strong, demographically driven demand as millions of millennials approach the prime age for buying a home, and there simply isn’t enough inventory to meet this demand. So in most markets, sellers will continue to be in the driver’s seat.”\\nLokenauth: “The advantage will shift toward buyers in 2024, as they will benefit from more options and negotiating power. However, markets lacking inventory may still favor sellers.”\\nDiBugnara: “2024 will continue to be the year of the seller. Homes have record equity available, but a lot of owners still have very low mortgage interest rates and no desire to join the madness of today’s market to buy. Inventory will not get to a point that allows a buyers’ market to materialize.”\\nGaneshram: “A pendulum always swings, doesn’t it? While 2023 seemed dominantly to be a seller’s market, 2024 might bring a shift. With the predicted rise in inventory, buyers might have a little more leverage than before. But don’t expect a full swing – it’ll be more of a balanced market, in my opinion.”\\nRon: “It will be a seller’s market in 2024 because of the national housing shortage expected through the end of the 2020s. I expect to see more buyers join with friends and family members to purchase homes, as intergenerational households, grown children boomeranging homes, and families created from friendships increasingly pool multiple income sources to purchase homes and avoid the uncertainty of housing costs as renters.”\\nWill the housing market crash?\\nInterested in understanding which areas pose a higher risk for real estate investments and which ones are safer to purchase in the coming year? According to data from ATTOM, the top 10 U.S. counties that currently present the lowest risk of experiencing declines in the housing market are:\\nMeanwhile, although it didn’t provide a full ranked list, ATTOM recently revealed that the most at-risk markets (for declines, based on home affordability, foreclosures, and other measures) in the country right now include New York City (with eight of the top 50 most vulnerable counties in the nation), Chicago (six counties), and Philadelphia (three counties). Another six counties were found throughout northern, central, and southern California, and most of the remaining 50 counties were in Indiana and along the East Coast.\\nIs the fact that so many key markets are susceptible to price drops and foreclosures a sign that a housing crash could be on the horizon for 2024? Here’s what our panel had to say:\\nSchachter: “There will not be a housing recession or market crash. Overall, inventory is the biggest reason. For instance, in the Phoenix metro area, there were, on average, 40,000 to 50,000 homes on the market back in 2008 versus 8,000 to 10,000 homes today. Fifteen years later, our population has also increased.”\\nGaneshram: “Based on current indicators, I don’t foresee a housing market crash in 2024. However, a mild correction or plateauing of prices in certain regions is possible. Awning.com data indicates that markets like San Francisco and New York City have shown volatility, making them riskier bets in 2024. On the safer side, mid-sized cities such as Boise, Idaho, and Madison, Wisconsin, offer stable growth and lesser fluctuations.”\\nSharga: “I expect to see home sales remain weak over the next year, probably on par with this year’s projected sales of about 4 million existing homes and 650,000 new homes, one of the lowest numbers in years due to low inventory and poor affordability. The supply/demand imbalance should prevent a price crash, though a few markets may continue to see prices correct slightly.”\\nLokenauth: “I don’t foresee a 2008-style crash next year, given tighter lending standards. But I expect a significant housing slowdown and price correction falling short of a recession. I anticipate the riskiest housing markets in 2024 being Boise, Austin, and Phoenix, and the safest being in the Midwest, South, and smaller metro areas.”\\nThe bottom line: Is it a good time to buy a house?\\nShould home shoppers claim a home soon or wait things out? Will home prices drop in 2024 enough to make a home purchase a wise choice next year? The experts weighed in.\\nSharga: “Buyers who are waiting for a price crash in housing are very likely going to continue to be disappointed, as prices in most markets next year will either be flat or go up slightly. Waiting for mortgage rates to fall may not be a good strategy, either, as marginally lower rates will probably bring more buyers to the market, increasing demand for limited inventory and causing prices to rise more quickly. So if a buyer finds a home he or she likes and can afford at today’s prices and mortgage rates, and plans to stay in the property for at least a few years, they’re probably better off buying now than waiting.”\\nGaneshram: “If you find the right property that meets your needs and fits your budget, 2024 could be a great year to invest. Waiting for the perfect moment can sometimes mean missed opportunities. However, it’s crucial to ensure you’re making informed decisions. Consider interest rates, your financial stability, and long-term goals before jumping in.”\\nDiBugnara: “If the home fits a budget you can afford, it is still a good time to buy today and in 2024. Home prices will increase over the next couple of years, which means as an owner, you will have earned increased equity and growth in your investment.”\\nFAQs\\nWill there be a housing recession in 2024?\\nNone of the experts we surveyed expect a housing crash or housing recession next year. Market indicators do not point to a real estate bubble waiting to burst, especially comparing key metrics today to the 2008 Great Recession.\\nShould I buy a house in 2024 or wait?\\nWhether or not you should purchase a home will depend on your financial readiness, creditworthiness, ability to qualify for a mortgage loan, job security, and risk tolerance. Mortgage rates and home prices may decrease in the coming months, creating an ideal window for buying; or, they could rise further, making it more difficult to afford a home. To make a more informed decision, consult closely with a trusted Realtor/real estate agent, lending expert, and financial advisor.\\nWill mortgage rates drop in 2024?\\nMost of the professionals we polled agree that mortgage rates should come down next year from their current highs, but much will depend on economic conditions and decisions by the Federal Reserve.\"},\n",
       " {'url': 'https://smartasset.com/data-studies/projected-home-price-increases-2024',\n",
       "  'raw_content': '2024 Housing Market Projections: Where Prices Could Grow Most\\nAmid interest rate volatility over the last few years, the housing market “locked in” some homeowners with historically low rates, while pricing out others. Even though no one can predict the future, it is possible to forecast the trajectories of housing markets at the local level using relevant data. Such models can help inform potential homeowners if they should buy or wait during the quieter winter months, and inform sellers when to list their home.\\nWith this in mind, SmartAsset used Zillow data to rank the largest 2,000 zip codes by the highest projected home price increases.\\nKey Findings\\nTop 10 Projected Home Value Increases\\n1. Rio Grande City, TX: 78582\\nHome values are expected to increase by 12.3% within the 78582 area code, bringing the average price from $113,368 in July 2023 to a projected $127,312 in July 2024.\\n2. Knoxville, TN: 37920\\nIn the Kimberland Heights section of Knoxville, home values are expected to increase by 9.5% between this summer and next summer. This would bring the average home value up to $310,699, from the current $283,744.\\n3. North Miami, FL: 33161\\nThis area of Miami is projected to see an 8.8% increase in home values by next summer, bringing the typical home value up to $501,725 from $461,145 this year.\\n4. Winston-Salem, NC: 27105\\nHome values in Winston-Salem are forecast to climb 8.7%. That would make the average home value $163,269 by summer 2024, or more than a $13,000 increase from this summer.\\n5. Muskegon, MI: 49442\\nAs of July 31, 2023, home prices in the 49442 area of Muskegon averaged $158,324. This is projected to grow to $171,940 – an 8.6% increase – by the same time in 2024.\\n6. (tie) North Miami Beach, FL: 33162\\nThe average $443,856 home in 33162 could increase almost $38,000 to $481,584 in just one year if the 8.5% projection holds up.\\n6. (tie) Brownsville, FL: 33142\\nThe 33142 area in Brownsville is also projected to undergo a 8.5% increase in home values. That would bring the average home to $407,316.\\n8. Lenoir, NC: 28645\\nThis summer, a home in 28645 is valued at about $191,000 on average. But, it is projected to increase by 8.4% in the next 12 months, with the average value jumping to $206,894.\\n9. Knoxville, TN: 37918\\nHomes in 37918 are forecast to increase in value by 8.3%, taking the average home from $304,881 to $330,186.\\n10. (tie) Post Falls, ID: 83854\\nWith an 8.2% increase in home values, homes in 83854 would go up from an average of $483,973 to $523,659 in just over one year.\\n10. (tie) Donna, TX: 78537\\nHomes in 78537 also have a projected 8.2% increase in value, but they are a little cheaper:\\xa0 Jumping from $128,844 to $139,409 over the next 12 months.\\nData and Methodology\\nCities were ranked by the largest 12-month home value forecast from Zillow’s Home Value Forecast (ZHVF) metric for all homes (single-family residence, condos, and co-ops) in the top 2,000 zip codes by size. Value change projections are as of July 31, 2023, for July 31, 2024. Projections were applied to the average home value in each zip code to get the projected average home value.\\nHousing Tips\\nPhoto credit: ©iStock/Rasi Bhadramani\\nRecent posts\\nMore from SmartAsset\\nCategories\\nSmartAsset Advisors, LLC (\"SmartAsset\"), a wholly owned subsidiary of Financial Insight Technology, is registered with the U.S. Securities and Exchange Commission as an investment adviser. SmartAsset’s services are limited to referring users to third party registered investment advisers and/or investment adviser representatives (“RIA/IARs”) that have elected to participate in our matching platform based on information gathered from users through our online questionnaire. SmartAsset does not review the ongoing performance of any RIA/IAR, participate in the management of any user’s account by an RIA/IAR or provide advice regarding specific investments.\\nWe do not manage client funds or hold custody of assets, we help users connect with relevant financial advisors.\\nThis is not an offer to buy or sell any security or interest. All investing involves risk, including loss of principal. Working with an adviser may come with potential downsides such as payment of fees (which will reduce returns). There are no guarantees that working with an adviser will yield positive returns. The existence of a fiduciary duty does not prevent the rise of potential conflicts of interest.'},\n",
       " {'url': 'https://www.bankrate.com/real-estate/housing-market-2024/',\n",
       "  'raw_content': \"Compare accounts\\nGet guidance\\nCompare accounts\\nGet guidance\\nMoney market accounts\\nMoney market accounts are similar to savings accounts, but offer some checking features as well.\\nGet guidance\\nBanking\\nSkip the searching and find your next bank in minutes with BankMatch℠.\\nGet guidance\\nCompare rates\\nGet guidance\\nHome equity\\nHome equity is the portion of your home you’ve paid off. You can use it to borrow for other financial goals.\\nGet guidance\\nBuying & selling\\nFind an expert who knows the market. Compare trusted real estate agents all in one place.\\nGet guidance\\nHome insurance\\nHome insurance doesn't have to be a hassle. Choose the best home insurance company for you.\\nGet guidance\\nCompare investments\\nGet guidance\\nCompare plans\\nGet guidance\\nFinding an advisor\\nGet guidance\\nLife insurance\\nLife insurance doesn’t have to be complicated. Find peace of mind and choose the right policy for you.\\nGet guidance\\nCompare cards\\nFind your fit\\nSee your card matches\\nAnswer a few quick questions and we’ll show you your top credit card options.\\nCompare cards\\nSee what the experts say\\nRead in-depth credit card reviews to find out which cards have the best perks and more.\\nGet guidance\\nCompare lenders\\nGet guidance\\nCompare lenders\\nGet guidance\\nManage your debt\\nStart making moves toward your money goals and compare your debt management options.\\nGet guidance\\nCompare lenders\\nGet guidance\\nBusiness credit cards\\nBoost your business with rewards, perks and more. Compare cards in one place to find the one for you.\\nGet guidance\\nAuto loans\\nFigure out funding for your next car or refinance with confidence. Check out today’s auto loan rates.\\nGet guidance\\nAuto insurance\\nDrive with peace of mind when you compare insurance carriers and find the policy that’s right for you.\\nGet guidance\\nHousing market predictions for 2024\\nAdvertiser Disclosure\\nWe are an independent, advertising-supported comparison service. Our goal is to help you make smarter financial decisions by providing you with interactive tools and financial calculators, publishing original and objective content, by enabling you to conduct research and compare information for free - so that you can make financial decisions with confidence.\\nBankrate has partnerships with issuers including, but not limited to, American Express, Bank of America, Capital One, Chase, Citi and Discover.\\nHow We Make Money\\nThe offers that appear on this site are from companies that compensate us. This compensation may impact how and where products appear on this site, including, for example, the order in which they may appear within the listing categories, except where prohibited by law for our mortgage, home equity and other home lending products. But this compensation does not influence the information we publish, or the reviews that you see on this site. We do not include the universe of companies or financial offers that may be available to you.\\nOn This Page\\nOn This Page\\nThe Bankrate promise\\nAt Bankrate we strive to help you make smarter financial decisions. While we adhere to strict\\neditorial integrity,\\nthis post may contain references to products from our partners. Here's an explanation for how we make money\\n.\\nThe Bankrate promise\\nFounded in 1976, Bankrate has a long track record of helping people make smart financial choices.\\nWe’ve maintained this reputation for over four decades by demystifying the financial decision-making\\nprocess and giving people confidence in which actions to take next.\\nBankrate follows a strict editorial policy,\\nso you can trust that we’re putting your interests first. All of our content is authored by\\nhighly qualified professionals and edited by\\nsubject matter experts,\\nwho ensure everything we publish is objective, accurate and trustworthy.\\nBuying or selling a home is one of the biggest financial decisions an individual will ever make. Our real estate reporters and editors focus on educating consumers about this life-changing transaction and how to navigate the complex and ever-changing housing market. From finding an agent to closing and beyond, our goal is to help you feel confident that you're making the best, and smartest, real estate deal possible.\\nEditorial integrity\\nBankrate follows a strict editorial policy, so you can trust that we’re putting your interests first. Our award-winning editors and reporters create honest and accurate content to help you make the right financial decisions.\\nKey Principles\\nWe value your trust. Our mission is to provide readers with accurate and unbiased information, and we have editorial standards in place to ensure that happens. Our editors and reporters thoroughly fact-check editorial content to ensure the information you’re reading is accurate. We maintain a firewall between our advertisers and our editorial team. Our editorial team does not receive direct compensation from our advertisers.\\nEditorial Independence\\nBankrate’s editorial team writes on behalf of YOU – the reader. Our goal is to give you the best advice to help you make smart personal finance decisions. We follow strict guidelines to ensure that our editorial content is not influenced by advertisers. Our editorial team receives no direct compensation from advertisers, and our content is thoroughly fact-checked to ensure accuracy. So, whether you’re reading an article or a review, you can trust that you’re getting credible and dependable information.\\nHow we make money\\nYou have money questions. Bankrate has answers. Our experts have been helping you master your money for over four decades. We continually strive to provide consumers with the expert advice and tools needed to succeed throughout life’s financial journey.\\nBankrate follows a strict\\neditorial policy, so you can trust that our content is honest and accurate. Our award-winning editors and reporters create honest and accurate content to help you make the right financial decisions. The content created by our editorial staff is objective, factual, and not influenced by our advertisers.\\nWe’re transparent about how we are able to bring quality content, competitive rates, and useful tools to you by explaining how we make money.\\nBankrate.com is an independent, advertising-supported publisher and comparison service. We are compensated in exchange for placement of sponsored products and services, or by you clicking on certain links posted on our site. Therefore, this compensation may impact how, where and in what order products appear within listing categories, except where prohibited by law for our mortgage, home equity and other home lending products. Other factors, such as our own proprietary website rules and whether a product is offered in your area or at your self-selected credit score range, can also impact how and where products appear on this site. While we strive to provide a wide range of offers, Bankrate does not include information about every financial or credit product or service.\\nKey takeaways\\nWith mortgage rates and home prices both historically high, and inventory very tight, many prospective sellers and hopeful buyers are feeling nervous about today’s housing market.\\nThe median sale price for an existing home in the U.S. was a hefty $394,300 as of September 2023, the third month of year-over-year price increases in a row. And as of early November, the average 30-year mortgage rate was 7.69 percent — thankfully no longer above 8 percent, but still hovering around 20-year highs.\\nHome prices, mortgage rates and inventory levels will all shape housing affordability in the coming year. Curious where these trends may go? Read on to learn what the experts predict for the 2024 housing market.\\nWhat will happen to the housing market in 2024?\\nRates roughly doubled in 2022, thanks in part to the Federal Reserve’s war on inflation, and have stayed high since. While the Fed does not directly set mortgage rates, mortgage lenders take cues from them, and mortgage rates climbed in tandem with the Fed’s long string of rate hikes.\\nWill housing sales decline?\\nWhile home prices have certainly held firm this year, the volume of home sales has softened considerably. Existing-home sales in September 2023 declined to an annual pace of 3.96 million, according to NAR data, which represents a 15.4 percent drop year-over-year. However, these trends may pivot in 2024 if mortgage rates dip.\\n“Retreating mortgage rates will bring more buyers and sellers to the market and get Americans moving again,” says NAR chief economist Lawrence Yun. At a NAR conference in November, Yun predicted that sales will rise by as much as 15 percent next year.\\n“Housing sales are expected to increase a bit from this year,” says Chen Zhao, who leads the economics team at Redfin. “However,” she qualifies, “we are not expecting sales to increase dramatically, as rates are likely to remain above 6 percent.”\\n“Lower mortgage rates would help spur home sales activity, which are expected to increase in 2024 compared to 2023,” says Selma Hepp, chief economist at CoreLogic. “Declines in mortgage rates will drive more sellers to trade their existing home and help add much-needed inventory to the market, leading to more transactions.”\\nWill housing inventory increase?\\nSpeaking of much-needed inventory, housing supply has been very low throughout 2023 thus far. The overall number of existing homes on the market for sale as of September sat at 1.13 million units, an 8.1 percent decline since last year. That figure represents only a 3.4-month supply, far short of the 5 to 6 months usually needed for a balanced market.\\n“There are simply not enough homes for sale,” Yun said in a statement earlier this year. “The market can easily absorb a doubling of inventory.”\\nFor inventory levels to improve significantly, there would need to be either a surge of homeowners listing their existing properties or a huge amount of new-construction homes hitting the market. While both seem relatively unlikely, Yun does foresee some increase in housing inventory for 2024. “There will be more home construction, and more existing homeowners will be willing to sell and give up their low mortgage rates,” he says.\\nWill home prices go down?\\nHousing prices have been on fire lately, culminating in historic highs — September’s median of $394,300 was only about $20K short of the highest monthly home price NAR has ever recorded ($413,800, set in June 2022).\\nSo will home prices drop in 2024? Probably not, says Yun: “Home prices will rise around 3 to 4 percent,” he predicts.\\nPrices are intricately connected with housing inventory, as well, notes Zhao. “Sellers are likely to remain reluctant to give up their low interest rate for a much higher one, so inventory will remain constrained,” she says. “As more time passes, more homeowners may be ‘forced’ to sell due to life events, so inventory may rise from the current anemic levels, but it’s unlikely to increase much. That means that prices are unlikely to fall on a year-over-year basis, unless demand falters.”\\nWill 2024 be a buyer’s or seller’s market?\\nIn today’s market, tight inventory gives sellers the upper hand. There are more buyers than there are homes available, so each home that comes on the market becomes more of a hot commodity than it might if there were more options to choose from. Without a significant uptick in inventory, the seller’s market seems unlikely to change next year.\\n“The current significant shortage of inventory suggests it would be hard to [become] a buyer’s market anytime soon,” says Hepp.\\n“Given expectations about interest rates and supply, demand will probably exceed supply similar to current conditions,” Zhao says. “Supply is likely to remain below what we would deem a balanced market.”\\n“The plague of low inventory won’t be cured in the short-term, but demand will suffer from high mortgage rates, bringing about more of a balanced market in 2024,” says McBride. “Sellers may find themselves making concessions on closing costs or rate buydowns more often in 2024, and buyers should be wary of biting off more than can be financially chewed. Home prices are at record highs in most markets, the cost of financing is the highest in more than 20 years and insurance costs are up substantially in many coastal markets. You’re not getting a bargain, and the willingness to walk away might prove to be a good choice.”\\nBottom line on the 2024 housing market\\nThe combination of high mortgage rates, steep home prices and low inventory levels are lining up to make the 2024 housing market a challenging one for both buyers and sellers. But if rates cool in 2024, as some experts predict, then market activity should heat up in response.\\nThe complexities of the current conditions mean that, now more than ever, it’s smart to lean on the guidance of an experienced local real estate agent. If you want to enter the market in 2024, whether as a buyer or a seller, let a pro lead the way for you.\\nFAQs\\nCaret Down\\nCaret Down\\nCaret Down\\nArticle sources\\nWe use primary sources to support our work. Bankrate’s authors, reporters and editors are subject-matter experts who thoroughly fact-check editorial content to ensure the information you’re reading is accurate, timely and relevant.\\n“Existing-Home Sales – September 2023,” National Association of Realtors. Accessed on Nov. 15, 2023.\\n“S&P CoreLogic Case-Shiller Index – August 2023,” S&P Dow Jones Indices. Accessed on Nov. 15, 2023.\\n“Consumer Price Index Summary – October 2023,” U.S. Bureau of Labor Statistics. Accessed on Nov. 15, 2023.\\n“NAR Chief Economist Lawrence Yun Forecasts…,” National Association of Realtors. Accessed on Nov. 15, 2023.\\nRelated Articles\\nHousing market predictions: The forecast for the next 5 years\\nHousing market predictions for winter 2023\\nHousing market predictions for 2023\\nThe expensive, inventory-starved housing market in 5 charts\\nBankrate logo\\nBankrate\\nAbout\\nHelp\\nLegal\\nHow we make money\\nBankrate.com is an independent, advertising-supported publisher and comparison service. We are compensated in exchange for placement of sponsored products and services, or by you clicking on certain links posted on our site. Therefore, this compensation may impact how, where and in what order products appear within listing categories, except where prohibited by law for our mortgage, home equity and other home lending products. Other factors, such as our own proprietary website rules and whether a product is offered in your area or at your self-selected credit score range, can also impact how and where products appear on this site. While we strive to provide a wide range of offers, Bankrate does not include information about every financial or credit product or service.\\nBankrate, LLC NMLS ID# 1427381 | NMLS Consumer Access\\nBR Tech Services, Inc. NMLS ID #1743443 | NMLS Consumer Access\\n© 2023 Bankrate, LLC. A Red Ventures company. All Rights Reserved.\"}]"
      ]
     },
     "execution_count": 208,
     "metadata": {},
     "output_type": "execute_result"
    }
   ],
   "source": [
    "ans"
   ]
  },
  {
   "cell_type": "code",
   "execution_count": 53,
   "id": "22d42149",
   "metadata": {},
   "outputs": [],
   "source": [
    "\n",
    "\n",
    "for each_query in response:\n",
    "    \n",
    "    content = await get_content_using_query(each_query)\n",
    "    \n",
    "    relevant_context = \n",
    "    self.context.append() #all relevant context\n",
    "    \n",
    "    "
   ]
  },
  {
   "cell_type": "code",
   "execution_count": null,
   "id": "cbef9cb0",
   "metadata": {},
   "outputs": [],
   "source": []
  },
  {
   "cell_type": "code",
   "execution_count": 41,
   "id": "c34b92de",
   "metadata": {},
   "outputs": [
    {
     "data": {
      "text/plain": [
       "5"
      ]
     },
     "execution_count": 41,
     "metadata": {},
     "output_type": "execute_result"
    }
   ],
   "source": [
    "len(results)"
   ]
  },
  {
   "cell_type": "code",
   "execution_count": 25,
   "id": "f94f61bc",
   "metadata": {},
   "outputs": [
    {
     "data": {
      "text/plain": [
       "{'https://smartasset.com/investing/how-to-buy-your-first-investment-property',\n",
       " 'https://time.com/personal-finance/article/how-to-invest-in-real-estate/',\n",
       " 'https://www.businessinsider.com/how-to-find-good-deal-property-buy-real-estate-investing-2023-11?op=1',\n",
       " 'https://www.forbes.com/sites/forbesbusinesscouncil/2023/10/30/exploring-the-pros-and-cons-of-real-estate-investment/',\n",
       " 'https://www.investopedia.com/mortgage/real-estate-investing-guide/'}"
      ]
     },
     "execution_count": 25,
     "metadata": {},
     "output_type": "execute_result"
    }
   ],
   "source": [
    "search_urls"
   ]
  },
  {
   "cell_type": "code",
   "execution_count": 29,
   "id": "a6c8a8ad",
   "metadata": {},
   "outputs": [],
   "source": [
    "gg = {'a': 1, 'b': 2}"
   ]
  },
  {
   "cell_type": "code",
   "execution_count": 32,
   "id": "34a461a0",
   "metadata": {},
   "outputs": [],
   "source": [
    "ans = gg.get('c')"
   ]
  },
  {
   "cell_type": "code",
   "execution_count": null,
   "id": "379af0c5",
   "metadata": {},
   "outputs": [],
   "source": []
  },
  {
   "cell_type": "markdown",
   "id": "847f1505",
   "metadata": {},
   "source": [
    "## Langchain's hybrid search"
   ]
  },
  {
   "cell_type": "code",
   "execution_count": 202,
   "id": "341d4783",
   "metadata": {},
   "outputs": [],
   "source": [
    "from langchain.retrievers import BM25Retriever, EnsembleRetriever\n",
    "from langchain.vectorstores import FAISS\n",
    "from langchain.embeddings import OpenAIEmbeddings"
   ]
  },
  {
   "cell_type": "code",
   "execution_count": 134,
   "id": "dbe53d3f",
   "metadata": {},
   "outputs": [
    {
     "ename": "AttributeError",
     "evalue": "'Document' object has no attribute 'split'",
     "output_type": "error",
     "traceback": [
      "\u001b[0;31m---------------------------------------------------------------------------\u001b[0m",
      "\u001b[0;31mAttributeError\u001b[0m                            Traceback (most recent call last)",
      "Cell \u001b[0;32mIn[134], line 2\u001b[0m\n\u001b[1;32m      1\u001b[0m \u001b[38;5;66;03m# initialize the bm25 retriever and faiss retriever\u001b[39;00m\n\u001b[0;32m----> 2\u001b[0m bm25_retriever \u001b[38;5;241m=\u001b[39m \u001b[43mBM25Retriever\u001b[49m\u001b[38;5;241;43m.\u001b[39;49m\u001b[43mfrom_texts\u001b[49m\u001b[43m(\u001b[49m\u001b[43mcontext\u001b[49m\u001b[43m)\u001b[49m\n\u001b[1;32m      3\u001b[0m bm25_retriever\u001b[38;5;241m.\u001b[39mk \u001b[38;5;241m=\u001b[39m \u001b[38;5;241m2\u001b[39m\n\u001b[1;32m      5\u001b[0m embedding \u001b[38;5;241m=\u001b[39m OpenAIEmbeddings()\n",
      "File \u001b[0;32m~/anaconda3/envs/okprofessor/lib/python3.9/site-packages/langchain/retrievers/bm25.py:59\u001b[0m, in \u001b[0;36mBM25Retriever.from_texts\u001b[0;34m(cls, texts, metadatas, bm25_params, preprocess_func, **kwargs)\u001b[0m\n\u001b[1;32m     53\u001b[0m \u001b[38;5;28;01mexcept\u001b[39;00m \u001b[38;5;167;01mImportError\u001b[39;00m:\n\u001b[1;32m     54\u001b[0m     \u001b[38;5;28;01mraise\u001b[39;00m \u001b[38;5;167;01mImportError\u001b[39;00m(\n\u001b[1;32m     55\u001b[0m         \u001b[38;5;124m\"\u001b[39m\u001b[38;5;124mCould not import rank_bm25, please install with `pip install \u001b[39m\u001b[38;5;124m\"\u001b[39m\n\u001b[1;32m     56\u001b[0m         \u001b[38;5;124m\"\u001b[39m\u001b[38;5;124mrank_bm25`.\u001b[39m\u001b[38;5;124m\"\u001b[39m\n\u001b[1;32m     57\u001b[0m     )\n\u001b[0;32m---> 59\u001b[0m texts_processed \u001b[38;5;241m=\u001b[39m [preprocess_func(t) \u001b[38;5;28;01mfor\u001b[39;00m t \u001b[38;5;129;01min\u001b[39;00m texts]\n\u001b[1;32m     60\u001b[0m bm25_params \u001b[38;5;241m=\u001b[39m bm25_params \u001b[38;5;129;01mor\u001b[39;00m {}\n\u001b[1;32m     61\u001b[0m vectorizer \u001b[38;5;241m=\u001b[39m BM25Okapi(texts_processed, \u001b[38;5;241m*\u001b[39m\u001b[38;5;241m*\u001b[39mbm25_params)\n",
      "File \u001b[0;32m~/anaconda3/envs/okprofessor/lib/python3.9/site-packages/langchain/retrievers/bm25.py:59\u001b[0m, in \u001b[0;36m<listcomp>\u001b[0;34m(.0)\u001b[0m\n\u001b[1;32m     53\u001b[0m \u001b[38;5;28;01mexcept\u001b[39;00m \u001b[38;5;167;01mImportError\u001b[39;00m:\n\u001b[1;32m     54\u001b[0m     \u001b[38;5;28;01mraise\u001b[39;00m \u001b[38;5;167;01mImportError\u001b[39;00m(\n\u001b[1;32m     55\u001b[0m         \u001b[38;5;124m\"\u001b[39m\u001b[38;5;124mCould not import rank_bm25, please install with `pip install \u001b[39m\u001b[38;5;124m\"\u001b[39m\n\u001b[1;32m     56\u001b[0m         \u001b[38;5;124m\"\u001b[39m\u001b[38;5;124mrank_bm25`.\u001b[39m\u001b[38;5;124m\"\u001b[39m\n\u001b[1;32m     57\u001b[0m     )\n\u001b[0;32m---> 59\u001b[0m texts_processed \u001b[38;5;241m=\u001b[39m [\u001b[43mpreprocess_func\u001b[49m\u001b[43m(\u001b[49m\u001b[43mt\u001b[49m\u001b[43m)\u001b[49m \u001b[38;5;28;01mfor\u001b[39;00m t \u001b[38;5;129;01min\u001b[39;00m texts]\n\u001b[1;32m     60\u001b[0m bm25_params \u001b[38;5;241m=\u001b[39m bm25_params \u001b[38;5;129;01mor\u001b[39;00m {}\n\u001b[1;32m     61\u001b[0m vectorizer \u001b[38;5;241m=\u001b[39m BM25Okapi(texts_processed, \u001b[38;5;241m*\u001b[39m\u001b[38;5;241m*\u001b[39mbm25_params)\n",
      "File \u001b[0;32m~/anaconda3/envs/okprofessor/lib/python3.9/site-packages/langchain/retrievers/bm25.py:10\u001b[0m, in \u001b[0;36mdefault_preprocessing_func\u001b[0;34m(text)\u001b[0m\n\u001b[1;32m      9\u001b[0m \u001b[38;5;28;01mdef\u001b[39;00m \u001b[38;5;21mdefault_preprocessing_func\u001b[39m(text: \u001b[38;5;28mstr\u001b[39m) \u001b[38;5;241m-\u001b[39m\u001b[38;5;241m>\u001b[39m List[\u001b[38;5;28mstr\u001b[39m]:\n\u001b[0;32m---> 10\u001b[0m     \u001b[38;5;28;01mreturn\u001b[39;00m \u001b[43mtext\u001b[49m\u001b[38;5;241;43m.\u001b[39;49m\u001b[43msplit\u001b[49m()\n",
      "\u001b[0;31mAttributeError\u001b[0m: 'Document' object has no attribute 'split'"
     ]
    }
   ],
   "source": [
    "\n",
    "# initialize the bm25 retriever and faiss retriever\n",
    "bm25_retriever = BM25Retriever.from_texts(context)\n",
    "bm25_retriever.k = 2\n",
    "\n",
    "embedding = OpenAIEmbeddings()\n",
    "faiss_vectorstore = FAISS.from_texts(context, embedding) "
   ]
  },
  {
   "cell_type": "code",
   "execution_count": 103,
   "id": "accc00f0",
   "metadata": {},
   "outputs": [],
   "source": [
    "\n",
    "\n",
    "# initialize the bm25 retriever and faiss retriever\n",
    "bm25_retriever = BM25Retriever.from_texts(context)\n",
    "bm25_retriever.k = 2\n",
    "\n",
    "embedding = OpenAIEmbeddings()\n",
    "faiss_vectorstore = FAISS.from_texts(context, embedding)\n",
    "\n",
    "\n",
    "faiss_retriever = faiss_vectorstore.as_retriever(search_kwargs={\"k\": 2})\n",
    "\n",
    "\n",
    "\n",
    "# initialize the ensemble retriever\n",
    "ensemble_retriever = EnsembleRetriever(\n",
    "    retrievers=[bm25_retriever, faiss_retriever], weights=[0.5, 0.5]\n",
    ")"
   ]
  },
  {
   "cell_type": "code",
   "execution_count": 107,
   "id": "cffe39fb",
   "metadata": {},
   "outputs": [
    {
     "data": {
      "text/plain": [
       "[Document(page_content='I like apples'),\n",
       " Document(page_content='I like oranges'),\n",
       " Document(page_content='Apples and oranges are fruits')]"
      ]
     },
     "execution_count": 107,
     "metadata": {},
     "output_type": "execute_result"
    }
   ],
   "source": [
    "docs = ensemble_retriever.get_relevant_documents(\"i very much love apples\")\n",
    "docs"
   ]
  },
  {
   "cell_type": "code",
   "execution_count": 106,
   "id": "b73d167f",
   "metadata": {},
   "outputs": [
    {
     "data": {
      "text/plain": [
       "[Document(page_content='I like apples'),\n",
       " Document(page_content='I like oranges')]"
      ]
     },
     "execution_count": 106,
     "metadata": {},
     "output_type": "execute_result"
    }
   ],
   "source": [
    "faiss_retriever.get_relevant_documents('i very much love apples')"
   ]
  },
  {
   "cell_type": "code",
   "execution_count": null,
   "id": "036199c7",
   "metadata": {},
   "outputs": [],
   "source": []
  },
  {
   "cell_type": "code",
   "execution_count": 166,
   "id": "88decca5",
   "metadata": {},
   "outputs": [],
   "source": [
    "import os\n",
    "from enum import Enum\n",
    "from typing import Any, Dict, List, Optional\n",
    "\n",
    "from langchain.callbacks.manager import CallbackManagerForRetrieverRun\n",
    "from langchain.schema import Document\n",
    "from langchain.schema.retriever import BaseRetriever\n",
    "\n",
    "\n",
    "class SearchAPIRetriever(BaseRetriever):\n",
    "    \"\"\"Search API retriever.\"\"\"\n",
    "    pages: List[Dict] = []\n",
    "\n",
    "    def _get_relevant_documents(\n",
    "        self, query: str, *, run_manager: CallbackManagerForRetrieverRun\n",
    "    ) -> List[Document]:\n",
    "\n",
    "        docs = [\n",
    "            Document(\n",
    "                page_content=page.get(\"raw_content\", \"\"),\n",
    "                metadata={\n",
    "#                     \"title\": page.get(\"title\", \"\"),\n",
    "                    \"source\": page.get(\"url\", \"\"),\n",
    "                },\n",
    "            )\n",
    "            for page in self.pages\n",
    "        ]\n",
    "\n",
    "        return docs"
   ]
  },
  {
   "cell_type": "code",
   "execution_count": 116,
   "id": "a9c1eee0",
   "metadata": {},
   "outputs": [],
   "source": [
    "base_retriever = SearchAPIRetriever(pages = ans)"
   ]
  },
  {
   "cell_type": "code",
   "execution_count": 203,
   "id": "2990bee1",
   "metadata": {},
   "outputs": [],
   "source": [
    "from researcher.context.chunking import Chunking"
   ]
  },
  {
   "cell_type": "code",
   "execution_count": 205,
   "id": "20116d57",
   "metadata": {},
   "outputs": [],
   "source": [
    "chunking = Chunking(1000,100)"
   ]
  },
  {
   "cell_type": "code",
   "execution_count": 122,
   "id": "09681dbe",
   "metadata": {},
   "outputs": [
    {
     "data": {
      "text/plain": [
       "5"
      ]
     },
     "execution_count": 122,
     "metadata": {},
     "output_type": "execute_result"
    }
   ],
   "source": [
    "len(ans)"
   ]
  },
  {
   "cell_type": "code",
   "execution_count": 153,
   "id": "44f135fc",
   "metadata": {},
   "outputs": [
    {
     "data": {
      "text/plain": [
       "[{'url': 'https://www.realtor.com/research/2024-national-housing-forecast/',\n",
       "  'raw_content': 'Articles\\n2024 Housing Market Forecast and Predictions: Housing Affordability Finally Begins to Turnaround\\nAs we look ahead to 2024, we see a mix of continuity and change in both the housing market and economy. Against a backdrop of modest economic growth, slightly higher unemployment, and easing inflation longer term interest rates including mortgage rates begin a slow retreat. The shift from climbing to falling mortgage rates improves housing affordability, but saps some of the urgency home shoppers had previously sensed. Less frenzied housing demand and plenty of rental home options keep home sales relatively stable at low levels in 2024, helping home prices to adjust slightly lower even as the number of for-sale homes continues to dwindle.\\nRealtor.com® 2024 Forecast for Key Housing Indicators\\nHome Prices Dip, Improving Affordability\\nHome prices grew at a double-digit annual clip for the better part of two years spanning the second half of 2020 through 2022, a notable burst following a growing streak that spanned back to 2012. As mortgage rates climbed, home price growth flatlined, actually declining on an annual basis in early 2023 before an early-year dip in mortgage rates spurred enough buyer demand to reignite competition for still-limited inventory. Home prices began to climb again, and while they did not reach a new monthly peak, on average for the year we expect that the 2023 median home price will slightly exceed the 2022 annual median.\\nNevertheless, even during the brief period when prices eased, using a mortgage to buy a home remained expensive. Since May 2022, purchasing the typical for-sale home listing at the prevailing rate for a 30-year fixed-rate mortgage with a 20% down payment meant forking over a quarter or more of the typical household paycheck. In fact, in October 2023, it required 39% of the typical household income and this share is expected to average 36.7% for the full calendar year in 2023. This figure has typically ranged around 21%, so it is well above historical average. We expect that the return to pricing in line with financing costs will begin in 2024, and home prices, mortgage rates, and income growth will each contribute to the improvement. Home prices are expected to ease slightly, dropping less than 2% for the year on average. Combined with lower mortgage rates and income growth this will improve the home purchase mortgage payment share relative to median income to an average 34.9% in 2024, with the share slipping under 30% by the end of the year.\\nHome Sales Barely Budge Above 2023’s Likely Record Low\\nAfter soaring during the pandemic, existing home sales were weighed down in the latter half of 2022 as mortgage rates took off, climbing from just over 3% at the start of the year to a peak of more than 7% in the fourth quarter. The reprieve in mortgage rates in early 2023, when they dipped to around 6%, brought some life to home sales, but the renewed climb of mortgage rates has again exerted significant pressure on home sales that is exacerbated by the fact that a greater than usual number of households bought homes over the past few years, and despite stories of pandemic purchase regret, for the most part, these homeowners continue to be happy in their homes.\\nThis is consistent with what visitors to Realtor.com report when asked why they are not planning to sell their homes. The number one reason homeowners aren’t trying to sell is that they just don’t need to; concern about losing an existing low-rate mortgage is the top financial concern cited. Our current projection is for 2023 home sales to tally just over 4 million, a dip of 19% over the 2022 5 million total.\\nWith many of the same forces at play heading into 2024, the housing chill will continue, with sales expected to remain essentially unchanged at just over 4 million. Although mortgage rates are expected to ease throughout the course of the year, the continuation of high costs will mean that existing homeowners will have a very high threshold for deciding to move, with many likely choosing to stay in place.\\xa0 Moves of necessity–for job changes, family situation changes, and downsizing to a more affordable market–are likely to drive home sales in 2024.\\nShoppers Find Even Fewer Existing Homes For Sale\\nEven before the pandemic, housing inventory was on a long, slow downward trajectory. Insufficient building meant that the supply of houses did not keep up with household formation and left little slack in the housing market. Both homeowner and rental vacancy remain below historic averages. In contrast with the existing home market, which remains sluggish, builders have been catching up, with construction remaining near pre-pandemic highs for single-family and hitting record levels for multi-family.\\nDespite this, the lack of excess capacity in housing has been painfully obvious in the for-sale home market. The number of existing homes on the market has dwindled. With home sales activity to continue at a relatively low pace, the number of unsold homes on the market is also expected to remain low.\\xa0 Although mortgage rates are expected to begin to ease, they are expected to exceed 6.5% for the calendar year. This means that the lock-in effect, in which the gap between market mortgage rates and the mortgage rates existing homeowners enjoy on their outstanding mortgage, will remain a factor. Roughly two-thirds of outstanding mortgages have a rate under 4% and more than 90% have a rate less than 6%.\\nRental Supply Outpaces Demand to Drive Mild Further Decline in Rents\\nAfter almost a full year of double-digit rent growth between mid-2021 and mid-2022, the rental market has finally cooled down, as evidenced by the year-over-year decline that started in May 2023. In 2024, we expect the rental market will closely resemble the dynamics witnessed in 2023, as the tug of war between supply and demand results in a mild annual decline of -0.2% in the median asking rent.\\nNew multi-family supply will continue to be a key element shaping the 2024 rental market.\\xa0 In the third quarter of 2023, the annual pace of newly completed multi-family homes stood at 385,000 units. Although absorption rates remained elevated in the second quarter, especially at lower price points, the rental vacancy rate ticked up to 6.6% in the third quarter. This uptick in rental vacancy suggests the recent supply has outpaced demand, but context is important. After recent gains, the rental vacancy rate is on par with its level right before the onset of the pandemic in early 2020, still below its 7.2% average from the 2013 to 2019 period.\\xa0 Looking ahead, the strong construction pipeline–which hit a record high for units under construction this summer–is expected to continue fueling rental supply growth in 2024 pushing rental vacancy back toward its long-run average.\\nWhile the surge in new multi-family supply gives renters options, the sheer number of renters will minimize the potential price impact. The median asking rent in 2024 is expected to drop only slightly below its 2023 level. Renting is expected to continue to be a more budget friendly option than buying in the vast majority of markets, even though home prices and mortgage rates are both expected to dip, helping pull the purchase market down slightly from record unaffordability.\\nYoung adult renters who lack the benefit of historically high home equity to tap into for a home purchase will continue to find the housing market challenging. Specifically, as many Millennials age past first-time home buying age and more Gen Z approach these years, the current housing landscape is likely to keep these households in the rental market for a longer period as they work to save up more money for the growing down payment needed to buy a first home. This trend is expected to sustain robust demand for rental properties. Consequently, we anticipate that rental markets favored by young adults, a list which includes a mix of affordable areas and tech-heavy job markets in the South, Midwest, and West, will be rental markets to watch in 2024.\\nKey Wildcards:\\nHousing Perspectives:\\nWhat will the market be like for homebuyers, especially first-time homebuyers?\\nFirst-time homebuyers will continue to face a challenging housing market in 2024, but there are some green shoots. The record-high share of income required to purchase the median priced home is expected to begin to decline as mortgage rates ease, home prices soften, and incomes grow. In 2023 we expect that for the year as a whole, the monthly cost of financing the typical for-sale home will average more than $2,240, a nearly 20% increase over the mortgage payment in 2022, and roughly double the typical payment for buyers in 2020. This amounted to a whopping nearly 37% of the typical household income. In 2024 as modest price declines take hold and mortgage rates dip, the typical purchase cost is expected to slip just under $2,200 which would amount to nearly 35% of income. While far higher than historically average, this is a significant first step in a buyer-friendly direction.\\nHow can homebuyers prepare?\\nHomebuyers can prepare for this year’s housing market by getting financially ready. Buyers can use a home affordability calculator, like this one at Realtor.com to translate their income and savings into a home price range. And shoppers can pressure test the results by using a mortgage calculator to consider different down payment, price, and loan scenarios to see how their monthly costs would be impacted. Working with a lender can help potential buyers explore different loan products such as FHA or VA loans that may offer lower mortgage interest rates or more flexible credit criteria.\\nAlthough prices are anticipated to fall in 2024, housing costs remain high, and a down payment can be a big obstacle for buyers. Recent research shows that the typical down payment on a home reached a record high of $30,000.\\xa0 To make it easier to cobble together a down payment, shoppers can access information about down payment assistance options at Realtor.com/fairhousing and in the monthly payment section of home listing pages. Furthermore, home shoppers can explore loan products geared toward helping families access homeownership by enabling down payments as low as 3.5% in the case of FHA loans and 0% in the case of VA loans.\\nWhat will the market be like for home sellers?\\nHome sellers are likely to face more competition from builders than from other sellers in 2024. Because builders are continuing to maintain supply and increasingly adapting to market conditions, they are increasingly focused on lower-priced homes and willing to make price adjustments when needed. As a result, potential sellers will want to consider the landscape for new construction housing in their markets and any implications for pricing and marketing before listing their home for sale.\\nWhat will the market be like for renters?\\nIn 2024, renting is expected to continue to be a more cost-effective option than buying in the short term even though we anticipate the advantage for renting to diminish as home prices and mortgage rates decline.\\nHowever, for those considering the pursuit of long-term equity through homeownership, it’s essential to not only stay alert about market trends but also to carefully consider the intended duration of residence in their next home. When home prices rise rapidly, like they did during the pandemic, the higher cost of purchasing a home may break even with the cost of renting in as little as 3 years. Generally, it takes longer to reach the breakeven point, typically within a 5 to 7-year timeframe. Importantly, when home prices are falling and rents are also declining, as is expected to be the case in 2024, it can take longer to recoup some of the higher costs of buying a home. Individuals using Realtor.com’s Rent vs. Buy Calculator can thoroughly evaluate the costs and benefits associated with renting versus buying over time and how many years current market trends suggest it will take before buying is the better financial decision. This comprehensive tool can provide insights tailored to a household’s specific rent versus buying decision and empowers consumers to consider not only the optimal choice for the current month but also how the trade-offs evolve over several years.\\nLocal Market Predictions:\\nAll real estate is local and while the national trends are instructive, what matters most is what’s expected in your local market.\\nMetro\\n2024 Sales Growth % y/y\\n2024 Price Growth % y/y\\nSign up for updates\\nJoin our mailing list to receive the latest data and research.'},\n",
       " {'url': 'https://markets.businessinsider.com/news/commodities/housing-market-outlook-zillow-homes-forecasts-prices-mortgage-rates-2024-2023-11?op=1',\n",
       "  'raw_content': 'Jump to\\nFrom affordability to property demand, here are Zillow\\'s 6 biggest predictions for the US housing market in 2024\\nHigh mortgage rates, low inventory, and elevated home prices have defined the US housing market in 2023.\\nThose conditions have kept many current homeowners from moving, hesitant to give up the lower mortgage rates they secured in prior years, which in turn has left prospective buyers with fewer homes to choose from.\\nThe result has been a frozen housing market. Buyers aren\\'t buying because sellers aren\\'t selling, and vice versa. It\\'s led to stubbornly high prices amid mortgage rates that are high in relation to recent history, a cocktail that\\'s created an affordability crisis in US housing.\\nBut things may be looking up next year, Zillow researchers say, and Americans may see some relief as the calendar changes.\\nHere are six predictions the real-estate group has for 2024.\\n1. Higher-for-longer interest rates will lead to more homes on the market\\nAs house hunters and current owners come to terms with the new normal of high mortgage rates, Zillow expects more homes to go up for sale as people lose patience waiting for rates to fall before jumping back into the market.\\nA growing share of reluctant homeowners who haven\\'t sold homes in the last two years could give in to listing their properties, which ultimately could lead to a greater supply of housing.\\n2. Home-buying costs will level off\\nAs of October, a typical homebuyer would have spent more than 40% of their earnings on a mortgage payment, an all-time high indicated by Zillow data going back to the 1990s.\\nHomes may not get less expensive, but the rate of growth could level off and provide Americans some time to catch up via wages and savings.\\n\"Predicting how mortgage rates will move is a nearly impossible task, but recent inflation news gives the impression that rates are likely to hold fairly steady as well in the coming months,\" Zillow researchers said. \"Taken together, the cost of buying a home looks to be on track to level off next year, with the possibility of costs falling if mortgage rates do.\"\\n3. Higher demand for single-family rentals\\nZillow expects demand for single-family rentals to ramp up next year as families seek out affordable options.\\n\"One possible path to more single-family rental inventory is homeowners deciding to turn their home into an investment property and rent it out rather than selling it when they move,\" researchers said. \"The ultralow mortgage rates held by many existing homeowners make it more likely that this option would pencil out.\"\\n4. More markets will follow New York City\\'s lead\\nIn New York City, demand has jumped for rentals in commutable areas with access to downtown and midtown Manhattan. More distant areas, meanwhile, have seen less demand.\\nIn 2024, Zillow expects more markets across the country to reflect growing rental demand in downtown centers.\\n\"Renters looking for a place near downtown will likely have more options with this year\\'s multi-family-construction boom, which means a huge number of new homes have hit the market,\" the real-estate group said.\\n5. Less competition from flippers\\nLow housing inventory has been the norm for years, and even as more homes go online next year, total volume is set to remain below pre-pandemic norms.\\nGiven fewer options, buyers are expected to be willing to overlook small flaws in properties, such as an outdated kitchen, and make the purchase anyway.\\n\"The higher cost of buying a home today makes a flip harder to pencil out, so buyers may face less competition from flippers than they might have in previous years,\" Zillow researchers said. \"Even with less chance of being subject to a bidding war, these homes won\\'t come cheap, so expect buyers to frequent their local hardware stores as they work on DIY home improvements.\"\\n6. AI comes to the housing industry\\nFurther advancements in artificial intelligence will help streamline the home-shopping and home-selling experience next year, Zillow says.\\nNew tools are expected to help real-estate agents connect with more clients, and large language models such as ChatGPT have already helped with writing listings. Zillow\\'s tech experts expect new AI tools to bolster visual content creation, such as 3D images.\\nHome shoppers, meanwhile, are set to benefit from generative-AI-powered experiences that provide more insights into home financing.\\nRead next\\nIndices\\nCommodities\\nCurrencies\\nStocks'},\n",
       " {'url': 'https://money.com/mortgage-rates-home-prices-predictions-2024/',\n",
       "  'raw_content': 'Many companies featured on Money advertise with us. Opinions are our own, but compensation and in-depth research may determine where and how companies appear. Learn more about how we make money.\\nHere’s How Far Home Prices and Mortgage Rates Could Drop in 2024\\nhttps://money.com/mortgage-rates-home-prices-predictions-2024/\\nThe new year could finally bring good tidings for homebuyers — or at least the beginning of improved housing affordability.\\nHistorically high mortgage rates and housing prices that stymied homebuyers this year are expected to ebb a bit in 2024, according to real estate brokerage Realtor.com’s new housing market forecast. While home shoppers shouldn’t expect major relief from today’s crushing homeownership costs, small gains in affordability are expected to help some buyers get a foot in the door.\\nRenters can also look forward to somewhat better conditions as new construction hits the market in the coming months.\\nFind Your Actual Rate at Rocket Mortgage (NMLS #3030) Today!\\nWhat will the housing market look like in 2024?\\nThis year was another rough one for homebuyers thanks to stubbornly high prices and rising interest rates, which kept many current homeowners locked into their current mortgages. Soaring home insurance costs throughout 2023 also worsened the outlook for buyers, many of whom were forced to hold back on making a purchase or back out of deals.\\nNow that inflation is easing, mortgage rates are expected to make a slow decline throughout 2024. But the wheels of progress turn slowly: Realtor.com experts are forecasting that rates will be 6.8% on average for 2024 and 6.5% by the year’s end. (For comparison, the average mortgage rate between 2013 and 2019 was about 4%, and they reached a high of 7.79% earlier this year.)\\nAs for home prices, Realtor.com expects the typical monthly purchase cost for the median priced home listing to drop slightly from this year’s $2,240 to $2,200, amounting to about 35% of the average U.S. household income. Demand will probably remain low, and inventory will still be limited as would-be sellers hold back.\\n“Moves of necessity — for job changes, family situation changes, and downsizing to a more affordable market — are likely to drive home sales in 2024,” Danielle Hale, Realtor.com’s chief economist, said in the report.\\nOn the whole, while Realtor.com expects record-high unaffordability to wane, Americans shouldn’t anticipate a return to pre-inflation, pre-pandemic norms in 2024. And if inflation ticks back up, home sales could suffer even more, upending any prospective market stabilization.\\nThere is, however, something of a silver lining for renters in 2024: An increase in new construction is expected to hit the market and give renters more options. That said, the fact that renting will still be more affordable than buying will also mean more competition for rentals. Realtor.com doesn’t expect rent prices to budge much — the median rent price for 2024 is forecasted to decrease only about .2% below this year’s.\\nWhat can help homebuyers in 2024?\\nThough affordability will still be a challenge for the foreseeable future, free tools like a mortgage payment calculator can help prospective buyers figure out the best options for their needs in terms of loans, down payment and home price. Exploring different loan products with mortgage lenders may also help buyers find lower rates or less stringent loan requirements.\\nAlthough the average down payment reached a record high of $30,000 this year, there are an estimated 2,000-plus down payment assistance (or DPA) programs available throughout the country. DPA programs can be especially beneficial for first-time buyers and are typically designed to meet the needs of local homebuyers.\\nHomebuyers can start by researching DPAs in their desired state, county and city and reaching out to providers about their qualification requirements. Working with a housing counselor, which every lender has available, can help buyers explore the programs that best suit them.\\nNewsletterMoney MovesEvery Saturday, Money dives deep into the world of real estate, offering a fresh take on the latest housing news for homeowners, buyers and daydreamers alike.Sign UpBy clicking \"Sign Up\" I agree to receive newsletters and promotions from Money and its partners. I agree to Money\\'s Terms of Use and Privacy Notice and consent to the processing of my personal information.Sign Up\\nMore from Money:\\nHow Much Equity Can I Borrow From My Home?\\nHow Much House Can You Afford? Many Buyers Are Ignoring a Classic Rule of Thumb\\nHome Sales Rise as More Sellers Cut Prices and Grant Concessions to Buyers\\nConnect\\nPhysical Address\\nMoney Group, LLC\\nLots 81-82 Street C\\nDorado, PR 00646\\nMailing Address\\nMetro Office Park\\n7 calle 1, Suite 204\\nGuaynabo, PR 00968'},\n",
       " {'url': 'https://www.bankrate.com/real-estate/housing-market-2024/',\n",
       "  'raw_content': \"Compare accounts\\nGet guidance\\nCompare accounts\\nGet guidance\\nMoney market accounts\\nMoney market accounts are similar to savings accounts, but offer some checking features as well.\\nGet guidance\\nBanking\\nSkip the searching and find your next bank in minutes with BankMatch℠.\\nGet guidance\\nCompare rates\\nGet guidance\\nHome equity\\nHome equity is the portion of your home you’ve paid off. You can use it to borrow for other financial goals.\\nGet guidance\\nBuying & selling\\nFind an expert who knows the market. Compare trusted real estate agents all in one place.\\nGet guidance\\nHome insurance\\nHome insurance doesn't have to be a hassle. Choose the best home insurance company for you.\\nGet guidance\\nCompare investments\\nGet guidance\\nCompare plans\\nGet guidance\\nFinding an advisor\\nGet guidance\\nLife insurance\\nLife insurance doesn’t have to be complicated. Find peace of mind and choose the right policy for you.\\nGet guidance\\nCompare cards\\nFind your fit\\nSee your card matches\\nAnswer a few quick questions and we’ll show you your top credit card options.\\nCompare cards\\nSee what the experts say\\nRead in-depth credit card reviews to find out which cards have the best perks and more.\\nGet guidance\\nCompare lenders\\nGet guidance\\nCompare lenders\\nGet guidance\\nManage your debt\\nStart making moves toward your money goals and compare your debt management options.\\nGet guidance\\nCompare lenders\\nGet guidance\\nBusiness credit cards\\nBoost your business with rewards, perks and more. Compare cards in one place to find the one for you.\\nGet guidance\\nAuto loans\\nFigure out funding for your next car or refinance with confidence. Check out today’s auto loan rates.\\nGet guidance\\nAuto insurance\\nDrive with peace of mind when you compare insurance carriers and find the policy that’s right for you.\\nGet guidance\\nHousing market predictions for 2024\\nAdvertiser Disclosure\\nWe are an independent, advertising-supported comparison service. Our goal is to help you make smarter financial decisions by providing you with interactive tools and financial calculators, publishing original and objective content, by enabling you to conduct research and compare information for free - so that you can make financial decisions with confidence.\\nBankrate has partnerships with issuers including, but not limited to, American Express, Bank of America, Capital One, Chase, Citi and Discover.\\nHow We Make Money\\nThe offers that appear on this site are from companies that compensate us. This compensation may impact how and where products appear on this site, including, for example, the order in which they may appear within the listing categories, except where prohibited by law for our mortgage, home equity and other home lending products. But this compensation does not influence the information we publish, or the reviews that you see on this site. We do not include the universe of companies or financial offers that may be available to you.\\nOn This Page\\nOn This Page\\nThe Bankrate promise\\nAt Bankrate we strive to help you make smarter financial decisions. While we adhere to strict\\neditorial integrity,\\nthis post may contain references to products from our partners. Here's an explanation for how we make money\\n.\\nThe Bankrate promise\\nFounded in 1976, Bankrate has a long track record of helping people make smart financial choices.\\nWe’ve maintained this reputation for over four decades by demystifying the financial decision-making\\nprocess and giving people confidence in which actions to take next.\\nBankrate follows a strict editorial policy,\\nso you can trust that we’re putting your interests first. All of our content is authored by\\nhighly qualified professionals and edited by\\nsubject matter experts,\\nwho ensure everything we publish is objective, accurate and trustworthy.\\nBuying or selling a home is one of the biggest financial decisions an individual will ever make. Our real estate reporters and editors focus on educating consumers about this life-changing transaction and how to navigate the complex and ever-changing housing market. From finding an agent to closing and beyond, our goal is to help you feel confident that you're making the best, and smartest, real estate deal possible.\\nEditorial integrity\\nBankrate follows a strict editorial policy, so you can trust that we’re putting your interests first. Our award-winning editors and reporters create honest and accurate content to help you make the right financial decisions.\\nKey Principles\\nWe value your trust. Our mission is to provide readers with accurate and unbiased information, and we have editorial standards in place to ensure that happens. Our editors and reporters thoroughly fact-check editorial content to ensure the information you’re reading is accurate. We maintain a firewall between our advertisers and our editorial team. Our editorial team does not receive direct compensation from our advertisers.\\nEditorial Independence\\nBankrate’s editorial team writes on behalf of YOU – the reader. Our goal is to give you the best advice to help you make smart personal finance decisions. We follow strict guidelines to ensure that our editorial content is not influenced by advertisers. Our editorial team receives no direct compensation from advertisers, and our content is thoroughly fact-checked to ensure accuracy. So, whether you’re reading an article or a review, you can trust that you’re getting credible and dependable information.\\nHow we make money\\nYou have money questions. Bankrate has answers. Our experts have been helping you master your money for over four decades. We continually strive to provide consumers with the expert advice and tools needed to succeed throughout life’s financial journey.\\nBankrate follows a strict\\neditorial policy, so you can trust that our content is honest and accurate. Our award-winning editors and reporters create honest and accurate content to help you make the right financial decisions. The content created by our editorial staff is objective, factual, and not influenced by our advertisers.\\nWe’re transparent about how we are able to bring quality content, competitive rates, and useful tools to you by explaining how we make money.\\nBankrate.com is an independent, advertising-supported publisher and comparison service. We are compensated in exchange for placement of sponsored products and services, or by you clicking on certain links posted on our site. Therefore, this compensation may impact how, where and in what order products appear within listing categories, except where prohibited by law for our mortgage, home equity and other home lending products. Other factors, such as our own proprietary website rules and whether a product is offered in your area or at your self-selected credit score range, can also impact how and where products appear on this site. While we strive to provide a wide range of offers, Bankrate does not include information about every financial or credit product or service.\\nKey takeaways\\nWith mortgage rates and home prices both historically high, and inventory very tight, many prospective sellers and hopeful buyers are feeling nervous about today’s housing market.\\nThe median sale price for an existing home in the U.S. was a hefty $394,300 as of September 2023, the third month of year-over-year price increases in a row. And as of early November, the average 30-year mortgage rate was 7.69 percent — thankfully no longer above 8 percent, but still hovering around 20-year highs.\\nHome prices, mortgage rates and inventory levels will all shape housing affordability in the coming year. Curious where these trends may go? Read on to learn what the experts predict for the 2024 housing market.\\nWhat will happen to the housing market in 2024?\\nRates roughly doubled in 2022, thanks in part to the Federal Reserve’s war on inflation, and have stayed high since. While the Fed does not directly set mortgage rates, mortgage lenders take cues from them, and mortgage rates climbed in tandem with the Fed’s long string of rate hikes.\\nWill housing sales decline?\\nWhile home prices have certainly held firm this year, the volume of home sales has softened considerably. Existing-home sales in September 2023 declined to an annual pace of 3.96 million, according to NAR data, which represents a 15.4 percent drop year-over-year. However, these trends may pivot in 2024 if mortgage rates dip.\\n“Retreating mortgage rates will bring more buyers and sellers to the market and get Americans moving again,” says NAR chief economist Lawrence Yun. At a NAR conference in November, Yun predicted that sales will rise by as much as 15 percent next year.\\n“Housing sales are expected to increase a bit from this year,” says Chen Zhao, who leads the economics team at Redfin. “However,” she qualifies, “we are not expecting sales to increase dramatically, as rates are likely to remain above 6 percent.”\\n“Lower mortgage rates would help spur home sales activity, which are expected to increase in 2024 compared to 2023,” says Selma Hepp, chief economist at CoreLogic. “Declines in mortgage rates will drive more sellers to trade their existing home and help add much-needed inventory to the market, leading to more transactions.”\\nWill housing inventory increase?\\nSpeaking of much-needed inventory, housing supply has been very low throughout 2023 thus far. The overall number of existing homes on the market for sale as of September sat at 1.13 million units, an 8.1 percent decline since last year. That figure represents only a 3.4-month supply, far short of the 5 to 6 months usually needed for a balanced market.\\n“There are simply not enough homes for sale,” Yun said in a statement earlier this year. “The market can easily absorb a doubling of inventory.”\\nFor inventory levels to improve significantly, there would need to be either a surge of homeowners listing their existing properties or a huge amount of new-construction homes hitting the market. While both seem relatively unlikely, Yun does foresee some increase in housing inventory for 2024. “There will be more home construction, and more existing homeowners will be willing to sell and give up their low mortgage rates,” he says.\\nWill home prices go down?\\nHousing prices have been on fire lately, culminating in historic highs — September’s median of $394,300 was only about $20K short of the highest monthly home price NAR has ever recorded ($413,800, set in June 2022).\\nSo will home prices drop in 2024? Probably not, says Yun: “Home prices will rise around 3 to 4 percent,” he predicts.\\nPrices are intricately connected with housing inventory, as well, notes Zhao. “Sellers are likely to remain reluctant to give up their low interest rate for a much higher one, so inventory will remain constrained,” she says. “As more time passes, more homeowners may be ‘forced’ to sell due to life events, so inventory may rise from the current anemic levels, but it’s unlikely to increase much. That means that prices are unlikely to fall on a year-over-year basis, unless demand falters.”\\nWill 2024 be a buyer’s or seller’s market?\\nIn today’s market, tight inventory gives sellers the upper hand. There are more buyers than there are homes available, so each home that comes on the market becomes more of a hot commodity than it might if there were more options to choose from. Without a significant uptick in inventory, the seller’s market seems unlikely to change next year.\\n“The current significant shortage of inventory suggests it would be hard to [become] a buyer’s market anytime soon,” says Hepp.\\n“Given expectations about interest rates and supply, demand will probably exceed supply similar to current conditions,” Zhao says. “Supply is likely to remain below what we would deem a balanced market.”\\n“The plague of low inventory won’t be cured in the short-term, but demand will suffer from high mortgage rates, bringing about more of a balanced market in 2024,” says McBride. “Sellers may find themselves making concessions on closing costs or rate buydowns more often in 2024, and buyers should be wary of biting off more than can be financially chewed. Home prices are at record highs in most markets, the cost of financing is the highest in more than 20 years and insurance costs are up substantially in many coastal markets. You’re not getting a bargain, and the willingness to walk away might prove to be a good choice.”\\nBottom line on the 2024 housing market\\nThe combination of high mortgage rates, steep home prices and low inventory levels are lining up to make the 2024 housing market a challenging one for both buyers and sellers. But if rates cool in 2024, as some experts predict, then market activity should heat up in response.\\nThe complexities of the current conditions mean that, now more than ever, it’s smart to lean on the guidance of an experienced local real estate agent. If you want to enter the market in 2024, whether as a buyer or a seller, let a pro lead the way for you.\\nFAQs\\nCaret Down\\nCaret Down\\nCaret Down\\nArticle sources\\nWe use primary sources to support our work. Bankrate’s authors, reporters and editors are subject-matter experts who thoroughly fact-check editorial content to ensure the information you’re reading is accurate, timely and relevant.\\n“Existing-Home Sales – September 2023,” National Association of Realtors. Accessed on Nov. 15, 2023.\\n“S&P CoreLogic Case-Shiller Index – August 2023,” S&P Dow Jones Indices. Accessed on Nov. 15, 2023.\\n“Consumer Price Index Summary – October 2023,” U.S. Bureau of Labor Statistics. Accessed on Nov. 15, 2023.\\n“NAR Chief Economist Lawrence Yun Forecasts…,” National Association of Realtors. Accessed on Nov. 15, 2023.\\nRelated Articles\\nHousing market predictions: The forecast for the next 5 years\\nHousing market predictions for winter 2023\\nHousing market predictions for 2023\\nThe expensive, inventory-starved housing market in 5 charts\\nBankrate logo\\nBankrate\\nAbout\\nHelp\\nLegal\\nHow we make money\\nBankrate.com is an independent, advertising-supported publisher and comparison service. We are compensated in exchange for placement of sponsored products and services, or by you clicking on certain links posted on our site. Therefore, this compensation may impact how, where and in what order products appear within listing categories, except where prohibited by law for our mortgage, home equity and other home lending products. Other factors, such as our own proprietary website rules and whether a product is offered in your area or at your self-selected credit score range, can also impact how and where products appear on this site. While we strive to provide a wide range of offers, Bankrate does not include information about every financial or credit product or service.\\nBankrate, LLC NMLS ID# 1427381 | NMLS Consumer Access\\nBR Tech Services, Inc. NMLS ID #1743443 | NMLS Consumer Access\\n© 2023 Bankrate, LLC. A Red Ventures company. All Rights Reserved.\"}]"
      ]
     },
     "execution_count": 153,
     "metadata": {},
     "output_type": "execute_result"
    }
   ],
   "source": [
    "ans"
   ]
  },
  {
   "cell_type": "code",
   "execution_count": 211,
   "id": "18e26f13",
   "metadata": {},
   "outputs": [],
   "source": [
    "sub_query_chunks = []\n",
    "for each_ans in ans:\n",
    "    sub_query_chunks += chunking.run(content=each_ans['raw_content'], metadatas= {'url': each_ans['url'] })"
   ]
  },
  {
   "cell_type": "code",
   "execution_count": 212,
   "id": "41f0d3d3",
   "metadata": {},
   "outputs": [
    {
     "data": {
      "text/plain": [
       "68"
      ]
     },
     "execution_count": 212,
     "metadata": {},
     "output_type": "execute_result"
    }
   ],
   "source": [
    "len(sub_query_chunks)"
   ]
  },
  {
   "cell_type": "code",
   "execution_count": 214,
   "id": "38b4efe9",
   "metadata": {},
   "outputs": [
    {
     "data": {
      "text/plain": [
       "4"
      ]
     },
     "execution_count": 214,
     "metadata": {},
     "output_type": "execute_result"
    }
   ],
   "source": [
    "len(ans)"
   ]
  },
  {
   "cell_type": "code",
   "execution_count": 197,
   "id": "354c03bd",
   "metadata": {},
   "outputs": [],
   "source": [
    "def get_similar_context(query, content):\n",
    "    chunks = []\n",
    "    chunking = Chunking(1000,100)\n",
    "    \n",
    "    for each_content in content:\n",
    "        chunks += chunking.run(content=each_content['raw_content'], metadatas= {'url': each_content['url'] })\n",
    "   \n",
    "    retriever = hybrid_retriever(chunks,8)\n",
    "    \n",
    "    relevant_chunks = retriever.get_relevant_documents(query)\n",
    "    \n",
    "    return relevant_chunks"
   ]
  },
  {
   "cell_type": "code",
   "execution_count": 191,
   "id": "797932f5",
   "metadata": {},
   "outputs": [],
   "source": [
    "final_gg = get_similar_context('investment in 2024', ans)"
   ]
  },
  {
   "cell_type": "code",
   "execution_count": 192,
   "id": "2b4f3b39",
   "metadata": {},
   "outputs": [
    {
     "data": {
      "text/plain": [
       "12"
      ]
     },
     "execution_count": 192,
     "metadata": {},
     "output_type": "execute_result"
    }
   ],
   "source": [
    "len(final_gg)"
   ]
  },
  {
   "cell_type": "code",
   "execution_count": 193,
   "id": "15c2b6ec",
   "metadata": {},
   "outputs": [
    {
     "data": {
      "text/plain": [
       "[Document(page_content='Many companies featured on Money advertise with us. Opinions are our own, but compensation and in-depth research may determine where and how companies appear. Learn more about how we make money.\\nHere’s How Far Home Prices and Mortgage Rates Could Drop in 2024\\nhttps://money.com/mortgage-rates-home-prices-predictions-2024/\\nThe new year could finally bring good tidings for homebuyers — or at least the beginning of improved housing affordability.\\nHistorically high mortgage rates and housing prices that stymied homebuyers this year are expected to ebb a bit in 2024, according to real estate brokerage Realtor.com’s new housing market forecast. While home shoppers shouldn’t expect major relief from today’s crushing homeownership costs, small gains in affordability are expected to help some buyers get a foot in the door.\\nRenters can also look forward to somewhat better conditions as new construction hits the market in the coming months.', metadata={'url': 'https://money.com/mortgage-rates-home-prices-predictions-2024/'}),\n",
       " Document(page_content=\"Jump to\\nFrom affordability to property demand, here are Zillow's 6 biggest predictions for the US housing market in 2024\\nHigh mortgage rates, low inventory, and elevated home prices have defined the US housing market in 2023.\\nThose conditions have kept many current homeowners from moving, hesitant to give up the lower mortgage rates they secured in prior years, which in turn has left prospective buyers with fewer homes to choose from.\\nThe result has been a frozen housing market. Buyers aren't buying because sellers aren't selling, and vice versa. It's led to stubbornly high prices amid mortgage rates that are high in relation to recent history, a cocktail that's created an affordability crisis in US housing.\\nBut things may be looking up next year, Zillow researchers say, and Americans may see some relief as the calendar changes.\\nHere are six predictions the real-estate group has for 2024.\\n1. Higher-for-longer interest rates will lead to more homes on the market\", metadata={'url': 'https://markets.businessinsider.com/news/commodities/housing-market-outlook-zillow-homes-forecasts-prices-mortgage-rates-2024-2023-11?op=1'}),\n",
       " Document(page_content='“The current significant shortage of inventory suggests it would be hard to [become] a buyer’s market anytime soon,” says Hepp.\\n“Given expectations about interest rates and supply, demand will probably exceed supply similar to current conditions,” Zhao says. “Supply is likely to remain below what we would deem a balanced market.”\\n“The plague of low inventory won’t be cured in the short-term, but demand will suffer from high mortgage rates, bringing about more of a balanced market in 2024,” says McBride. “Sellers may find themselves making concessions on closing costs or rate buydowns more often in 2024, and buyers should be wary of biting off more than can be financially chewed. Home prices are at record highs in most markets, the cost of financing is the highest in more than 20 years and insurance costs are up substantially in many coastal markets. You’re not getting a bargain, and the willingness to walk away might prove to be a good choice.”\\nBottom line on the 2024 housing market', metadata={'url': 'https://www.bankrate.com/real-estate/housing-market-2024/'}),\n",
       " Document(page_content='Local Market Predictions:\\nAll real estate is local and while the national trends are instructive, what matters most is what’s expected in your local market.\\nMetro\\n2024 Sales Growth % y/y\\n2024 Price Growth % y/y\\nSign up for updates\\nJoin our mailing list to receive the latest data and research.', metadata={'url': 'https://www.realtor.com/research/2024-national-housing-forecast/'}),\n",
       " Document(page_content='Bottom line on the 2024 housing market\\nThe combination of high mortgage rates, steep home prices and low inventory levels are lining up to make the 2024 housing market a challenging one for both buyers and sellers. But if rates cool in 2024, as some experts predict, then market activity should heat up in response.\\nThe complexities of the current conditions mean that, now more than ever, it’s smart to lean on the guidance of an experienced local real estate agent. If you want to enter the market in 2024, whether as a buyer or a seller, let a pro lead the way for you.\\nFAQs\\nCaret Down\\nCaret Down\\nCaret Down\\nArticle sources\\nWe use primary sources to support our work. Bankrate’s authors, reporters and editors are subject-matter experts who thoroughly fact-check editorial content to ensure the information you’re reading is accurate, timely and relevant.\\n“Existing-Home Sales – September 2023,” National Association of Realtors. Accessed on Nov. 15, 2023.', metadata={'url': 'https://www.bankrate.com/real-estate/housing-market-2024/'}),\n",
       " Document(page_content='Articles\\n2024 Housing Market Forecast and Predictions: Housing Affordability Finally Begins to Turnaround\\nAs we look ahead to 2024, we see a mix of continuity and change in both the housing market and economy. Against a backdrop of modest economic growth, slightly higher unemployment, and easing inflation longer term interest rates including mortgage rates begin a slow retreat. The shift from climbing to falling mortgage rates improves housing affordability, but saps some of the urgency home shoppers had previously sensed. Less frenzied housing demand and plenty of rental home options keep home sales relatively stable at low levels in 2024, helping home prices to adjust slightly lower even as the number of for-sale homes continues to dwindle.\\nRealtor.com® 2024 Forecast for Key Housing Indicators\\nHome Prices Dip, Improving Affordability', metadata={'url': 'https://www.realtor.com/research/2024-national-housing-forecast/'}),\n",
       " Document(page_content='There is, however, something of a silver lining for renters in 2024: An increase in new construction is expected to hit the market and give renters more options. That said, the fact that renting will still be more affordable than buying will also mean more competition for rentals. Realtor.com doesn’t expect rent prices to budge much — the median rent price for 2024 is forecasted to decrease only about .2% below this year’s.\\nWhat can help homebuyers in 2024?\\nThough affordability will still be a challenge for the foreseeable future, free tools like a mortgage payment calculator can help prospective buyers figure out the best options for their needs in terms of loans, down payment and home price. Exploring different loan products with mortgage lenders may also help buyers find lower rates or less stringent loan requirements.', metadata={'url': 'https://money.com/mortgage-rates-home-prices-predictions-2024/'}),\n",
       " Document(page_content='improve the home purchase mortgage payment share relative to median income to an average 34.9% in 2024, with the share slipping under 30% by the end of the year.', metadata={'url': 'https://www.realtor.com/research/2024-national-housing-forecast/'}),\n",
       " Document(page_content='\"Predicting how mortgage rates will move is a nearly impossible task, but recent inflation news gives the impression that rates are likely to hold fairly steady as well in the coming months,\" Zillow researchers said. \"Taken together, the cost of buying a home looks to be on track to level off next year, with the possibility of costs falling if mortgage rates do.\"\\n3. Higher demand for single-family rentals\\nZillow expects demand for single-family rentals to ramp up next year as families seek out affordable options.\\n\"One possible path to more single-family rental inventory is homeowners deciding to turn their home into an investment property and rent it out rather than selling it when they move,\" researchers said. \"The ultralow mortgage rates held by many existing homeowners make it more likely that this option would pencil out.\"\\n4. More markets will follow New York City\\'s lead', metadata={'url': 'https://markets.businessinsider.com/news/commodities/housing-market-outlook-zillow-homes-forecasts-prices-mortgage-rates-2024-2023-11?op=1'}),\n",
       " Document(page_content='New multi-family supply will continue to be a key element shaping the 2024 rental market.\\xa0 In the third quarter of 2023, the annual pace of newly completed multi-family homes stood at 385,000 units. Although absorption rates remained elevated in the second quarter, especially at lower price points, the rental vacancy rate ticked up to 6.6% in the third quarter. This uptick in rental vacancy suggests the recent supply has outpaced demand, but context is important. After recent gains, the rental vacancy rate is on par with its level right before the onset of the pandemic in early 2020, still below its 7.2% average from the 2013 to 2019 period.\\xa0 Looking ahead, the strong construction pipeline–which hit a record high for units under construction this summer–is expected to continue fueling rental supply growth in 2024 pushing rental vacancy back toward its long-run average.', metadata={'url': 'https://www.realtor.com/research/2024-national-housing-forecast/'}),\n",
       " Document(page_content='While the surge in new multi-family supply gives renters options, the sheer number of renters will minimize the potential price impact. The median asking rent in 2024 is expected to drop only slightly below its 2023 level. Renting is expected to continue to be a more budget friendly option than buying in the vast majority of markets, even though home prices and mortgage rates are both expected to dip, helping pull the purchase market down slightly from record unaffordability.', metadata={'url': 'https://www.realtor.com/research/2024-national-housing-forecast/'}),\n",
       " Document(page_content='The median sale price for an existing home in the U.S. was a hefty $394,300 as of September 2023, the third month of year-over-year price increases in a row. And as of early November, the average 30-year mortgage rate was 7.69 percent — thankfully no longer above 8 percent, but still hovering around 20-year highs.\\nHome prices, mortgage rates and inventory levels will all shape housing affordability in the coming year. Curious where these trends may go? Read on to learn what the experts predict for the 2024 housing market.\\nWhat will happen to the housing market in 2024?\\nRates roughly doubled in 2022, thanks in part to the Federal Reserve’s war on inflation, and have stayed high since. While the Fed does not directly set mortgage rates, mortgage lenders take cues from them, and mortgage rates climbed in tandem with the Fed’s long string of rate hikes.\\nWill housing sales decline?', metadata={'url': 'https://www.bankrate.com/real-estate/housing-market-2024/'})]"
      ]
     },
     "execution_count": 193,
     "metadata": {},
     "output_type": "execute_result"
    }
   ],
   "source": [
    "final_gg"
   ]
  },
  {
   "cell_type": "code",
   "execution_count": 215,
   "id": "e90a1d2c",
   "metadata": {},
   "outputs": [],
   "source": [
    "class HybridRetriever:\n",
    "    def __init__(self, documents, embeddings=OpenAIEmbeddings(), max_results=5):\n",
    "\n",
    "        self.documents = documents\n",
    "        self.embeddings = embeddings\n",
    "        self.max_results = max_results\n",
    "        self.retriever = self._hybrid_retriever()\n",
    "        \n",
    "    def _hybrid_retriever(self):\n",
    "        \n",
    "        # initialize the bm25 retriever and faiss retriever\n",
    "        bm25_retriever = BM25Retriever.from_documents(self.documents)\n",
    "        bm25_retriever.k = self.max_results\n",
    "\n",
    "        embedding = OpenAIEmbeddings()\n",
    "        faiss_vectorstore = FAISS.from_documents(self.documents, self.embeddings)\n",
    "        faiss_retriever = faiss_vectorstore.as_retriever(search_kwargs={\"k\": self.max_results })\n",
    "\n",
    "        #initialize the ensemble retriever\n",
    "        ensemble_retriever = EnsembleRetriever(\n",
    "            retrievers=[bm25_retriever, faiss_retriever], weights=[0.2, 0.8]\n",
    "        )\n",
    "\n",
    "        return ensemble_retriever\n",
    "    \n",
    "    def get_context(self, query):\n",
    "\n",
    "        return self.retriever.get_relevant_documents(query)\n",
    "        "
   ]
  },
  {
   "cell_type": "code",
   "execution_count": 217,
   "id": "9e5c6586",
   "metadata": {},
   "outputs": [
    {
     "data": {
      "text/plain": [
       "68"
      ]
     },
     "execution_count": 217,
     "metadata": {},
     "output_type": "execute_result"
    }
   ],
   "source": [
    "len(sub_query_chunks)"
   ]
  },
  {
   "cell_type": "code",
   "execution_count": 218,
   "id": "5e4b0eeb",
   "metadata": {},
   "outputs": [],
   "source": [
    "H = HybridRetriever(sub_query_chunks)"
   ]
  },
  {
   "cell_type": "code",
   "execution_count": 220,
   "id": "28f5a70a",
   "metadata": {},
   "outputs": [],
   "source": [
    "retrieved_context = H.get_context('investment strategies')"
   ]
  },
  {
   "cell_type": "code",
   "execution_count": 222,
   "id": "937aaca3",
   "metadata": {},
   "outputs": [
    {
     "data": {
      "text/plain": [
       "9"
      ]
     },
     "execution_count": 222,
     "metadata": {},
     "output_type": "execute_result"
    }
   ],
   "source": [
    "len(retrieved_context)"
   ]
  },
  {
   "cell_type": "code",
   "execution_count": null,
   "id": "0b692fbc",
   "metadata": {},
   "outputs": [],
   "source": []
  },
  {
   "cell_type": "code",
   "execution_count": null,
   "id": "f646f9b5",
   "metadata": {},
   "outputs": [],
   "source": []
  },
  {
   "cell_type": "code",
   "execution_count": null,
   "id": "35f76da5",
   "metadata": {},
   "outputs": [],
   "source": []
  },
  {
   "cell_type": "markdown",
   "id": "11f7afc9",
   "metadata": {},
   "source": [
    "## Playing with asyncio"
   ]
  },
  {
   "cell_type": "code",
   "execution_count": 79,
   "id": "8c574915",
   "metadata": {},
   "outputs": [],
   "source": [
    "import asyncio\n",
    "\n",
    "async def gg():\n",
    "    task = asyncio.create_task(haha())\n",
    "    print('A')\n",
    "    await asyncio.sleep(1)\n",
    "\n",
    "    print('B')\n",
    "    await task\n",
    "    \n",
    "async def haha():\n",
    "    print('1')\n",
    "    await asyncio.sleep(2)\n",
    "    print('2')"
   ]
  },
  {
   "cell_type": "code",
   "execution_count": 80,
   "id": "4caf1cd7",
   "metadata": {},
   "outputs": [
    {
     "name": "stdout",
     "output_type": "stream",
     "text": [
      "A\n",
      "1\n",
      "B\n",
      "2\n"
     ]
    }
   ],
   "source": [
    "await gg()"
   ]
  },
  {
   "cell_type": "code",
   "execution_count": null,
   "id": "70167932",
   "metadata": {},
   "outputs": [],
   "source": []
  },
  {
   "cell_type": "code",
   "execution_count": null,
   "id": "37e9c413",
   "metadata": {},
   "outputs": [],
   "source": []
  },
  {
   "cell_type": "code",
   "execution_count": null,
   "id": "d557ae3c",
   "metadata": {},
   "outputs": [],
   "source": []
  }
 ],
 "metadata": {
  "kernelspec": {
   "display_name": "okprofessor",
   "language": "python",
   "name": "okprofessor"
  },
  "language_info": {
   "codemirror_mode": {
    "name": "ipython",
    "version": 3
   },
   "file_extension": ".py",
   "mimetype": "text/x-python",
   "name": "python",
   "nbconvert_exporter": "python",
   "pygments_lexer": "ipython3",
   "version": "3.9.18"
  }
 },
 "nbformat": 4,
 "nbformat_minor": 5
}
