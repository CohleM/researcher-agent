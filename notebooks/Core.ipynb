{
 "cells": [
  {
   "cell_type": "code",
   "execution_count": 1,
   "id": "e811fdec",
   "metadata": {},
   "outputs": [],
   "source": [
    "import sys\n",
    "sys.path.append('/Users/cohlem/Projects/OkProfessor/')\n",
    "\n",
    "from researcher.core.agent import Researcher"
   ]
  },
  {
   "cell_type": "code",
   "execution_count": 2,
   "id": "159a6ba5",
   "metadata": {},
   "outputs": [],
   "source": [
    "r = Researcher(\"Opena=AI's drama and how it got resolved\")"
   ]
  },
  {
   "cell_type": "code",
   "execution_count": 3,
   "id": "4148ffdb",
   "metadata": {},
   "outputs": [
    {
     "data": {
      "text/plain": [
       "1000"
      ]
     },
     "execution_count": 3,
     "metadata": {},
     "output_type": "execute_result"
    }
   ],
   "source": [
    "r.cfg.chunk_size"
   ]
  },
  {
   "cell_type": "code",
   "execution_count": 4,
   "id": "bc72692b",
   "metadata": {},
   "outputs": [
    {
     "data": {
      "text/plain": [
       "6"
      ]
     },
     "execution_count": 4,
     "metadata": {},
     "output_type": "execute_result"
    }
   ],
   "source": [
    "r.cfg.max_chunks_per_query"
   ]
  },
  {
   "cell_type": "code",
   "execution_count": 5,
   "id": "fa03bca3",
   "metadata": {},
   "outputs": [
    {
     "name": "stdout",
     "output_type": "stream",
     "text": [
      "📘 Starting research for query: Opena=AI's drama and how it got resolved\n",
      "Token Usage: CompletionUsage(completion_tokens=38, prompt_tokens=357, total_tokens=395)\n",
      "\u001b[31m Error in choose_agent: Expecting value: line 1 column 1 (char 0)\u001b[0m\n",
      "Running Default Agent ...\n",
      "Token Usage: CompletionUsage(completion_tokens=28, prompt_tokens=114, total_tokens=142)\n",
      "🔍 Searching web with query: OpenAI drama resolution December 06, 2023\n",
      "✅ Adding url https://www.npr.org/2023/11/24/1215015362/chatgpt-openai-sam-altman-fired-explained to our research\n",
      "✅ Adding url https://www.cnn.com/2023/11/22/tech/openai-sam-altman-chaos-explained-intl-hnk/index.html to our research\n",
      "✅ Adding url https://www.forbes.com/sites/digital-assets/2023/11/19/the-openai-drama-sam-altman-and-the-struggle-for-ais-future/ to our research\n",
      "✅ Adding url https://www.forbes.com/sites/rogertrapp/2023/11/28/drama-at-openai-poses-questions-for-venture-capital-industry/ to our research\n",
      "✅ Adding url https://news.wfsu.org/all-npr-news/2023-11-24/how-openais-origins-explain-the-sam-altman-drama to our research\n",
      "🔍 Searching web with query: OpenAI recent news and updates\n",
      "✅ Adding url https://edition.cnn.com/2023/11/20/tech/openai-sam-altman-what-happened/index.html to our research\n",
      "✅ Adding url https://www.nytimes.com/2023/11/29/technology/openai-sam-altman-plans.html to our research\n",
      "✅ Adding url https://www.latimes.com/business/technology/story/2023-11-22/five-days-of-chaos-what-just-happened-at-openai to our research\n",
      "✅ Adding url https://time.com/6337449/openai-sam-altman-return-ceo-staff-board-resign/ to our research\n",
      "✅ Adding url https://www.bloomberg.com/news/articles/2023-11-21/altman-openai-board-open-talks-to-negotiate-his-possible-return to our research\n",
      "🔍 Searching web with query: OpenAI conflict resolution strategies\n",
      "✅ Adding url https://www.forbes.com/sites/edwardsegal/2023/11/20/how-openai-could-navigate-its-unfolding-crisis-experts-weigh-in/ to our research\n",
      "✅ Adding url https://hr.economictimes.indiatimes.com/news/industry/openai-drama-what-strategies-can-companies-implement-while-facing-leadership-transitions/105713343 to our research\n",
      "✅ Adding url https://www.bbc.com/news/technology-67481548 to our research\n",
      "✅ Adding url https://www.nytimes.com/2023/11/18/technology/open-ai-sam-altman-what-happened.html to our research\n",
      "✅ Adding url https://www.theglobeandmail.com/business/commentary/article-the-conflict-at-the-heart-of-openai/ to our research\n",
      "🔍 Searching web with query: Opena=AI's drama and how it got resolved\n",
      "✅ Adding url https://www.nature.com/articles/d41586-023-03700-4 to our research\n",
      "✅ Adding url https://www.opb.org/article/2023/11/24/how-openai-s-origins-explain-the-sam-altman-drama/ to our research\n",
      "Total chunk count 37\n",
      "Generating Report...\n",
      "using 2000 words \n",
      "Token Usage: CompletionUsage(completion_tokens=1151, prompt_tokens=8092, total_tokens=9243)\n"
     ]
    }
   ],
   "source": [
    "output = await r.run()"
   ]
  },
  {
   "cell_type": "code",
   "execution_count": 6,
   "id": "e50d6e43",
   "metadata": {},
   "outputs": [
    {
     "data": {
      "text/plain": [
       "'# OpenAI\\'s Drama and Resolution\\n\\nThe recent events surrounding OpenAI, a pioneering force in generative AI, have sparked significant turmoil and upheaval within the tech industry. The sudden firing of CEO Sam Altman and the subsequent board upheaval have raised critical questions about board governance, power dynamics, and the role of AI in innovation. This report aims to provide a comprehensive overview of the OpenAI drama and its resolution.\\n\\n## Timeline of Turmoil\\n\\nThe drama at OpenAI unfolded over a short period, causing significant disruption within the organization and the AI industry as a whole. The sequence of events can be summarized as follows:\\n\\n- **Friday**: Altman\\'s Departure\\n  - Altman was abruptly fired during a Google Meet call with most of OpenAI\\'s board, convened by fellow co-founder and OpenAI chief scientist Ilya Sutskever.\\n  - The board also informed Greg Brockman, another co-founder and OpenAI president, that he would be removed from the board.\\n- **Saturday**: Whispers of Reconciliation\\n  - An anonymous letter written by former OpenAI employees during the Altman drama called on the board to examine whether Altman was putting commercial products and fundraising goals before the nonprofit\\'s founding mission.\\n- **Sunday Afternoon**: The Challenge of Absolution and Legal Implications\\n- **Sunday Night**: The Board Resigns\\n  - Altman\\'s firing came as a complete surprise, adding a layer of astonishment to the unfolding narrative.\\n- **Monday Morning**: New Beginnings\\n  - Altman and Brockman announced a new initiative with Microsoft that would continue OpenAI\\'s original mission in the tech industry.\\n\\n## Employee Response and Board Reshuffle\\n\\nThe drama at OpenAI reached a critical juncture when 702 out of OpenAI\\'s 770 employees committed to leaving the company unless Altman was restored. The employees also demanded the assembly of a new board. This unprecedented show of solidarity from the majority of the workforce led to a significant shift in the organization\\'s leadership.\\n\\nThe board initially refused to entertain the possibility of Altman\\'s return. However, the overwhelming support from the employees prompted a reshuffle, resulting in the restoration of Altman as CEO and the formation of a new, temporary board. Notably, only one former board member, Adam D\\'Angelo, the CEO of Quora, remained on the new board.\\n\\n## Root Causes of the Drama\\n\\nThe conflict at OpenAI can be traced back to the unusual way the company was structured. Founded in 2015 as a non-profit research lab by Altman, Elon Musk, and others, OpenAI prioritized principles over profit. However, tensions had long simmered under the surface of the company, culminating in the recent upheaval.\\n\\nOne of the key issues that divided the company was Altman\\'s drive to transition OpenAI from a nonprofit organization into a successful business. This clashed with board member concerns over the safety of AI tools and the organization\\'s mission to develop AI tools that would \"benefit humanity as a whole, unconstrained by a need to generate financial return.\"\\n\\n## Industry Response and Implications\\n\\nThe OpenAI drama has sent shockwaves through the tech industry, prompting discussions about responsible innovation, ethical decision-making, and the expanding role of AI in shaping the technological future. The investigative reporting by prominent figures in the industry has shed light on the intricate dynamics of board governance, external influences, and the pursuit of AI advancement.\\n\\nThe events at OpenAI serve as a compelling narrative, highlighting the complexities of balancing commercial interests with ethical leadership and transparency in the development of AI technologies. The resolution of the drama and the subsequent industry response have significant implications for the future of AI development and governance.\\n\\n## Conclusion\\n\\nThe OpenAI drama, characterized by the sudden firing and subsequent restoration of CEO Sam Altman, has brought to the forefront critical questions about the governance of AI organizations, the balance between commercial interests and ethical considerations, and the impact of internal dynamics on the pursuit of innovation. The resolution of the turmoil and the industry\\'s response underscore the challenges and complexities inherent in the development and governance of AI technologies.\\n\\nThe events at OpenAI have sparked a broader dialogue about responsible innovation, ethical decision-making, and the evolving role of AI in shaping the technological landscape. As the industry continues to grapple with the implications of the OpenAI drama, it serves as a pivotal moment in the ongoing discourse about the ethical development and governance of AI.\\n\\nReferences:\\n- Forbes. (2023). The OpenAI Drama: Sam Altman And The Struggle For AI’s Future. [https://www.forbes.com/sites/digital-assets/2023/11/19/the-openai-drama-sam-altman-and-the-struggle-for-ais-future/]\\n- NPR. (2023). How OpenAI\\'s origins explain the Sam Altman drama. [https://www.npr.org/2023/11/24/1215015362/chatgpt-openai-sam-altman-fired-explained]\\n- CNN. (2023). OpenAI’s wild 60 hours: Here’s what happened. [https://www.cnn.com/2023/11/22/tech/openai-sam-altman-chaos-explained-intl-hnk/index.html]\\n- The Globe and Mail. (2023). The conflict at the heart of OpenAI. [https://www.theglobeandmail.com/business/commentary/article-the-conflict-at-the-heart-of-openai/]\\n- Nature. (2023). What the OpenAI drama means for AI progress — and safety. [https://www.nature.com/articles/d41586-023-03700-4]'"
      ]
     },
     "execution_count": 6,
     "metadata": {},
     "output_type": "execute_result"
    }
   ],
   "source": [
    "output"
   ]
  },
  {
   "cell_type": "code",
   "execution_count": null,
   "id": "1d2ee15d",
   "metadata": {},
   "outputs": [],
   "source": []
  },
  {
   "cell_type": "code",
   "execution_count": 7,
   "id": "a02bbefb",
   "metadata": {},
   "outputs": [
    {
     "data": {
      "text/html": [
       "<h1>OpenAI's Drama and Resolution</h1>\n",
       "<p>The recent events surrounding OpenAI, a pioneering force in generative AI, have sparked significant turmoil and upheaval within the tech industry. The sudden firing of CEO Sam Altman and the subsequent board upheaval have raised critical questions about board governance, power dynamics, and the role of AI in innovation. This report aims to provide a comprehensive overview of the OpenAI drama and its resolution.</p>\n",
       "<h2>Timeline of Turmoil</h2>\n",
       "<p>The drama at OpenAI unfolded over a short period, causing significant disruption within the organization and the AI industry as a whole. The sequence of events can be summarized as follows:</p>\n",
       "<ul>\n",
       "<li><strong>Friday</strong>: Altman's Departure</li>\n",
       "<li>Altman was abruptly fired during a Google Meet call with most of OpenAI's board, convened by fellow co-founder and OpenAI chief scientist Ilya Sutskever.</li>\n",
       "<li>The board also informed Greg Brockman, another co-founder and OpenAI president, that he would be removed from the board.</li>\n",
       "<li><strong>Saturday</strong>: Whispers of Reconciliation</li>\n",
       "<li>An anonymous letter written by former OpenAI employees during the Altman drama called on the board to examine whether Altman was putting commercial products and fundraising goals before the nonprofit's founding mission.</li>\n",
       "<li><strong>Sunday Afternoon</strong>: The Challenge of Absolution and Legal Implications</li>\n",
       "<li><strong>Sunday Night</strong>: The Board Resigns</li>\n",
       "<li>Altman's firing came as a complete surprise, adding a layer of astonishment to the unfolding narrative.</li>\n",
       "<li><strong>Monday Morning</strong>: New Beginnings</li>\n",
       "<li>Altman and Brockman announced a new initiative with Microsoft that would continue OpenAI's original mission in the tech industry.</li>\n",
       "</ul>\n",
       "<h2>Employee Response and Board Reshuffle</h2>\n",
       "<p>The drama at OpenAI reached a critical juncture when 702 out of OpenAI's 770 employees committed to leaving the company unless Altman was restored. The employees also demanded the assembly of a new board. This unprecedented show of solidarity from the majority of the workforce led to a significant shift in the organization's leadership.</p>\n",
       "<p>The board initially refused to entertain the possibility of Altman's return. However, the overwhelming support from the employees prompted a reshuffle, resulting in the restoration of Altman as CEO and the formation of a new, temporary board. Notably, only one former board member, Adam D'Angelo, the CEO of Quora, remained on the new board.</p>\n",
       "<h2>Root Causes of the Drama</h2>\n",
       "<p>The conflict at OpenAI can be traced back to the unusual way the company was structured. Founded in 2015 as a non-profit research lab by Altman, Elon Musk, and others, OpenAI prioritized principles over profit. However, tensions had long simmered under the surface of the company, culminating in the recent upheaval.</p>\n",
       "<p>One of the key issues that divided the company was Altman's drive to transition OpenAI from a nonprofit organization into a successful business. This clashed with board member concerns over the safety of AI tools and the organization's mission to develop AI tools that would \"benefit humanity as a whole, unconstrained by a need to generate financial return.\"</p>\n",
       "<h2>Industry Response and Implications</h2>\n",
       "<p>The OpenAI drama has sent shockwaves through the tech industry, prompting discussions about responsible innovation, ethical decision-making, and the expanding role of AI in shaping the technological future. The investigative reporting by prominent figures in the industry has shed light on the intricate dynamics of board governance, external influences, and the pursuit of AI advancement.</p>\n",
       "<p>The events at OpenAI serve as a compelling narrative, highlighting the complexities of balancing commercial interests with ethical leadership and transparency in the development of AI technologies. The resolution of the drama and the subsequent industry response have significant implications for the future of AI development and governance.</p>\n",
       "<h2>Conclusion</h2>\n",
       "<p>The OpenAI drama, characterized by the sudden firing and subsequent restoration of CEO Sam Altman, has brought to the forefront critical questions about the governance of AI organizations, the balance between commercial interests and ethical considerations, and the impact of internal dynamics on the pursuit of innovation. The resolution of the turmoil and the industry's response underscore the challenges and complexities inherent in the development and governance of AI technologies.</p>\n",
       "<p>The events at OpenAI have sparked a broader dialogue about responsible innovation, ethical decision-making, and the evolving role of AI in shaping the technological landscape. As the industry continues to grapple with the implications of the OpenAI drama, it serves as a pivotal moment in the ongoing discourse about the ethical development and governance of AI.</p>\n",
       "<p>References:\n",
       "- Forbes. (2023). The OpenAI Drama: Sam Altman And The Struggle For AI’s Future. [https://www.forbes.com/sites/digital-assets/2023/11/19/the-openai-drama-sam-altman-and-the-struggle-for-ais-future/]\n",
       "- NPR. (2023). How OpenAI's origins explain the Sam Altman drama. [https://www.npr.org/2023/11/24/1215015362/chatgpt-openai-sam-altman-fired-explained]\n",
       "- CNN. (2023). OpenAI’s wild 60 hours: Here’s what happened. [https://www.cnn.com/2023/11/22/tech/openai-sam-altman-chaos-explained-intl-hnk/index.html]\n",
       "- The Globe and Mail. (2023). The conflict at the heart of OpenAI. [https://www.theglobeandmail.com/business/commentary/article-the-conflict-at-the-heart-of-openai/]\n",
       "- Nature. (2023). What the OpenAI drama means for AI progress — and safety. [https://www.nature.com/articles/d41586-023-03700-4]</p>"
      ],
      "text/plain": [
       "<IPython.core.display.HTML object>"
      ]
     },
     "metadata": {},
     "output_type": "display_data"
    }
   ],
   "source": [
    "import markdown\n",
    "from IPython.display import HTML, display\n",
    "\n",
    "html_output = markdown.markdown(output)\n",
    "\n",
    "display(HTML(html_output))"
   ]
  },
  {
   "cell_type": "code",
   "execution_count": 9,
   "id": "7f3d3140",
   "metadata": {},
   "outputs": [],
   "source": [
    "\n",
    "import tiktoken\n",
    "\n",
    "def num_tokens_from_string(string: str) -> int:\n",
    "    \"\"\"Returns the number of tokens in a text string.\"\"\"\n",
    "    encoding = tiktoken.encoding_for_model(\"gpt-3.5-turbo\")\n",
    "    num_tokens = len(encoding.encode(string))\n",
    "    return num_tokens"
   ]
  },
  {
   "cell_type": "code",
   "execution_count": null,
   "id": "16c67618",
   "metadata": {},
   "outputs": [],
   "source": []
  },
  {
   "cell_type": "code",
   "execution_count": 10,
   "id": "27f32c00",
   "metadata": {},
   "outputs": [
    {
     "name": "stdout",
     "output_type": "stream",
     "text": [
      "1588\n"
     ]
    }
   ],
   "source": [
    "print(num_tokens_from_string(output))"
   ]
  },
  {
   "cell_type": "code",
   "execution_count": 39,
   "id": "1c31073b",
   "metadata": {},
   "outputs": [
    {
     "data": {
      "text/plain": [
       "0.01"
      ]
     },
     "execution_count": 39,
     "metadata": {},
     "output_type": "execute_result"
    }
   ],
   "source": [
    "0.0010*8 + 0.002"
   ]
  },
  {
   "cell_type": "code",
   "execution_count": 40,
   "id": "64b570ab",
   "metadata": {},
   "outputs": [
    {
     "data": {
      "text/plain": [
       "0.05"
      ]
     },
     "execution_count": 40,
     "metadata": {},
     "output_type": "execute_result"
    }
   ],
   "source": [
    "0.01*5"
   ]
  },
  {
   "cell_type": "code",
   "execution_count": 21,
   "id": "2d09a042",
   "metadata": {},
   "outputs": [
    {
     "ename": "NameError",
     "evalue": "name 'agent_role' is not defined",
     "output_type": "error",
     "traceback": [
      "\u001b[0;31m---------------------------------------------------------------------------\u001b[0m",
      "\u001b[0;31mNameError\u001b[0m                                 Traceback (most recent call last)",
      "Cell \u001b[0;32mIn[21], line 1\u001b[0m\n\u001b[0;32m----> 1\u001b[0m \u001b[43magent_role\u001b[49m\n",
      "\u001b[0;31mNameError\u001b[0m: name 'agent_role' is not defined"
     ]
    }
   ],
   "source": [
    "agent_role"
   ]
  },
  {
   "cell_type": "code",
   "execution_count": 23,
   "id": "bf680f53",
   "metadata": {},
   "outputs": [],
   "source": [
    "async def generate_report(context, question, agent_role):\n",
    "    \n",
    "    # try and except block remaining\n",
    "    response = await create_chat_completion(\n",
    "            messages = [\n",
    "                    {\"role\": \"system\", \"content\": f\"{agent_role}\"},\n",
    "                    {\"role\": \"user\", \"content\": f\"task: {generate_report_prompt(question, context)}\"}], \n",
    "            model=model\n",
    "    )\n",
    "    \n",
    "    return response"
   ]
  },
  {
   "cell_type": "code",
   "execution_count": 11,
   "id": "ec022006",
   "metadata": {},
   "outputs": [
    {
     "name": "stderr",
     "output_type": "stream",
     "text": [
      "2023-12-05 17:40:33,431 - DEBUG - This is a debug message\n",
      "2023-12-05 17:40:33,433 - INFO - This is an info message\n",
      "2023-12-05 17:40:33,433 - WARNING - This is a warning message\n",
      "2023-12-05 17:40:33,434 - ERROR - This is an error message\n",
      "2023-12-05 17:40:33,434 - CRITICAL - This is a critical message\n"
     ]
    }
   ],
   "source": [
    "import logging\n",
    "\n",
    "# Configure logging\n",
    "logging.basicConfig(\n",
    "    level=logging.DEBUG,  # Set the logging level (DEBUG, INFO, WARNING, ERROR, CRITICAL)\n",
    "    format='%(asctime)s - %(levelname)s - %(message)s',\n",
    "    handlers=[\n",
    "        logging.StreamHandler()  # Output logs to the console\n",
    "        # Additional handlers can be added here, such as logging to a file\n",
    "    ]\n",
    ")\n",
    "\n",
    "# Sample code that generates log messages\n",
    "def sample_function():\n",
    "    logging.debug(\"This is a debug message\")\n",
    "    logging.info(\"This is an info message\")\n",
    "    logging.warning(\"This is a warning message\")\n",
    "    logging.error(\"This is an error message\")\n",
    "    logging.critical(\"This is a critical message\")\n",
    "\n",
    "# Call the sample function\n",
    "sample_function()\n"
   ]
  },
  {
   "cell_type": "code",
   "execution_count": null,
   "id": "51c699a7",
   "metadata": {},
   "outputs": [],
   "source": []
  },
  {
   "cell_type": "code",
   "execution_count": null,
   "id": "771c3ec0",
   "metadata": {},
   "outputs": [],
   "source": []
  },
  {
   "cell_type": "code",
   "execution_count": null,
   "id": "02b4e97a",
   "metadata": {},
   "outputs": [],
   "source": []
  },
  {
   "cell_type": "code",
   "execution_count": 60,
   "id": "5c5cde24",
   "metadata": {},
   "outputs": [],
   "source": [
    "r = Researcher('Investment strategies and buying rental properties')"
   ]
  },
  {
   "cell_type": "code",
   "execution_count": null,
   "id": "5162ff2a",
   "metadata": {},
   "outputs": [],
   "source": []
  },
  {
   "cell_type": "code",
   "execution_count": null,
   "id": "cc57f431",
   "metadata": {},
   "outputs": [],
   "source": []
  },
  {
   "cell_type": "code",
   "execution_count": null,
   "id": "c660508a",
   "metadata": {},
   "outputs": [],
   "source": []
  },
  {
   "cell_type": "code",
   "execution_count": null,
   "id": "95655721",
   "metadata": {},
   "outputs": [],
   "source": []
  },
  {
   "cell_type": "code",
   "execution_count": null,
   "id": "888bfb13",
   "metadata": {},
   "outputs": [],
   "source": []
  },
  {
   "cell_type": "code",
   "execution_count": null,
   "id": "eee8c2fc",
   "metadata": {},
   "outputs": [],
   "source": []
  },
  {
   "cell_type": "code",
   "execution_count": null,
   "id": "08a0c70a",
   "metadata": {},
   "outputs": [],
   "source": []
  },
  {
   "cell_type": "code",
   "execution_count": 61,
   "id": "98cf7454",
   "metadata": {},
   "outputs": [
    {
     "name": "stdout",
     "output_type": "stream",
     "text": [
      "📘 Starting research for query: Investment strategies and buying rental properties\n",
      "Running 💰 Finance Agent ...\n",
      "🔍 Searching web with query: Best investment strategies for rental properties\n",
      "✅ Adding url https://www.forbes.com/advisor/investing/rental-property-real-estate-investing/ to our research\n",
      "✅ Adding url https://smartasset.com/investing/investing-in-rental-property-for-beginners to our research\n",
      "✅ Adding url https://www.investopedia.com/articles/investing/090815/buying-your-first-investment-property-top-10-tips.asp to our research\n",
      "✅ Adding url https://www.mashvisor.com/blog/rental-property-investment-strategy-definitive-guide/ to our research\n",
      "✅ Adding url https://www.moneygeek.com/mortgage/resources/rental-property-investing/ to our research\n",
      "🔍 Searching web with query: Pros and cons of buying rental properties as an investment\n",
      "✅ Adding url https://learn.roofstock.com/blog/pros-and-cons-of-owning-rental-property to our research\n",
      "✅ Adding url https://www.investopedia.com/articles/investing/051515/pros-cons-owning-rental-property.asp to our research\n",
      "✅ Adding url https://listwithclever.com/real-estate-blog/pros-and-cons-of-investing-in-rental-properties/ to our research\n",
      "✅ Adding url https://www.moneycrashers.com/buying-rental-property-investment/ to our research\n",
      "✅ Adding url https://blog.openforhomes.com/investing-rental-properties/ to our research\n",
      "🔍 Searching web with query: Rental property market trends and analysis\n",
      "✅ Adding url https://www.nerdwallet.com/article/finance/rental-market-trends to our research\n",
      "✅ Adding url https://www.zillow.com/rental-manager/market-trends/ to our research\n",
      "✅ Adding url https://www.zillowstatic.com/bedrock/app/uploads/sites/42/2023/11/Zillow-Rentals-Consumer-Housing-Trends-Report-2024.pdf to our research\n",
      "✅ Adding url https://www.forbes.com/sites/forbesbusinesscouncil/2023/09/21/guide-to-rental-property-investing-trends-and-developments/ to our research\n",
      "✅ Adding url https://www.statista.com/topics/4465/rental-market-in-the-us/ to our research\n",
      "🔍 Searching web with query: Investment strategies and buying rental properties\n",
      "✅ Adding url https://www.rocketmortgage.com/learn/buying-rental-house to our research\n",
      "✅ Adding url https://learn.roofstock.com/blog/how-to-buy-rental-property to our research\n"
     ]
    }
   ],
   "source": [
    "x = await r.run()"
   ]
  },
  {
   "cell_type": "code",
   "execution_count": 38,
   "id": "c1f78554",
   "metadata": {},
   "outputs": [
    {
     "data": {
      "text/plain": [
       "[[Document(page_content=\"Rental Properties: Pros and Cons\\nRental Properties: Pros and Cons\\nPete Rathburn is a copy editor and fact-checker with expertise in economics and personal finance and over twenty years of experience in the classroom.\\nOwning a rental property can be financially rewarding. If you're exploring this type of real estate as an investment, be aware of the risks and responsibilities.\\nRental Properties: An Overview\\nThe idea of buying a home or apartment to rent out for profit may sound alluring. But buying a rental property for income and long-term capital appreciation can have its ups and downs. For example, the housing market can fluctuate depending on location, supply and demand, and the economy.\", metadata={'url': 'https://www.investopedia.com/articles/investing/051515/pros-cons-owning-rental-property.asp'}),\n",
       "  Document(page_content='The Pros and Cons of Investing in Rental Properties\\nLike any investment, it’s important that you understand the benefits and limitations of owning a rental property. When you recognize the pros and cons of rental property investment, you can calculate whether this investment option suits your personal circumstances and long-term financial goals.\\nRental Income\\nThe most immediate benefit of rental property investing is the income you derive from renters. Ideally, your rental income should offset the mortgage and/or managing expenses incurred by the rental property. If a rental property sustains positive rental yield, you can use the increased annual cash flow to renovate the property, purchase another property, or diversify your investment portfolio.\\nProperty Value Growth', metadata={'url': 'https://listwithclever.com/real-estate-blog/pros-and-cons-of-investing-in-rental-properties/'}),\n",
       "  Document(page_content='20 must-know pros and cons of owning rental property\\nThe main reasons people purchase rental property – as well as any other asset – is to make money and build wealth over the long term. As with any other market, housing prices and demand for rental property can fluctuate up and down, depending on the real estate market cycle.\\nResidential rental properties come in all shapes and sizes. From single-family rental homes to condos and coops, townhouses and mobile homes, small multifamily properties with 2 to 4 units, fractional ownership shares of a home, crowdfunds and REITs.\\nThat’s one of the best things about real estate. There’s literally something for everyone who wants to invest in rental property.\\nHowever, just because owning a rental property may sound like an attractive investment, investing in real estate may not be the right decision for everyone. Let’s take a look at some of the biggest pros and cons of owning a rental property today.\\nKey takeaways', metadata={'url': 'https://learn.roofstock.com/blog/pros-and-cons-of-owning-rental-property'}),\n",
       "  Document(page_content='Financially speaking, in order for the rental property to be really profitable, the return you reap should be greater than what you could earn in conservative investments, such as bonds and dividend-paying blue-chip stocks, because of the real risks involved. And on the human side, not everyone has the ability to manage property and tenants.\\nKey Takeaways\\nPros\\xa0of Rental Properties\\nThere are several benefits to owning a rental property. They include:\\nTax Benefits\\nThe Internal Revenue Service allows you to deduct many expenses connected with rental property in the categories of:\\nThis means that you can deduct your insurance, interest on your mortgage, maintenance costs, and physical wear-and-tear on your property.', metadata={'url': 'https://www.investopedia.com/articles/investing/051515/pros-cons-owning-rental-property.asp'}),\n",
       "  Document(page_content='Clever’s Concierge Team can help you compare top local agents and negotiate better rates.\\nClever’s Concierge Team can help you compare top local agents and find the best expert for your search.\\n7 Pros and Cons of Investing In Rental Properties\\nSHARE\\nInvesting in a rental property and securing reliable tenants can be an excellent way to secure passive income. If you’re thinking of investing in a rental property, make sure you understand the advantages and disadvantages that come with this investment option.\\nWhen it comes to property investing, it’s easy to feel intimidated by the sheer volume of information available to novice investors. Although investing in property can be a time-consuming and stressful process, making the right property investment is one of the best ways to get on the fast-track to financial independence.\\nWhat is Rental Property Investing?', metadata={'url': 'https://listwithclever.com/real-estate-blog/pros-and-cons-of-investing-in-rental-properties/'}),\n",
       "  Document(page_content='Is rental property a good investment? Weighing pros & cons\\nWhen people have cash to invest, one of the first things they frequently think about is investing in real estate. Rental properties can generate additional income, increase in value, and offer tax benefits.\\nOn the other side of the coin, owning real estate isn’t nearly as easy as it might seem. Keep reading to learn more about why people invest in real estate, and to understand if rental property is really a good investment.\\nKey takeaways\\nRental properties can be a strong alternative to more volatile investments\\nWith inflation on the rise, turbulence in China and the Middle East, and the Federal Reserve’s promise to taper, many investors are looking at rental property as an alternative to common equities like stocks and bonds.', metadata={'url': 'https://learn.roofstock.com/blog/is-rental-property-a-good-investment'}),\n",
       "  Document(page_content='SFRs are uncorrelated to stocks\\nCorrelation is a statistic investors use to measure the degree that two asset classes move in relation to one another. A correlation coefficient of 1.00 means that two assets are perfectly correlated, while a correlation coefficient of 0.00 means they are perfectly uncorrelated.\\nSince 1971, single-family rental prices and stock prices have had a correlation coefficient of just 0.07. That means for the past 50 years, there is effectively no correlation between SFR prices and stock prices.\\nInvestors who add rental property to their investment portfolios can help to reduce their exposure to risk that the volatile swings of stocks and bonds historically bring.\\nPros and cons of investing in rental property\\nIn addition to stable returns and independence from the stock market, there are a variety of other factors that help to make rental property a good investment.', metadata={'url': 'https://learn.roofstock.com/blog/is-rental-property-a-good-investment'})],\n",
       " [Document(page_content='Investing in the Best Long Term and Short Term Rentals Markets in 2023\\nSo, weâ\\x80\\x99ve provided you with the 20 best rental markets in the US for 2023. They offer the highest possible return on investment (in terms of cash on cash return) in addition to relatively affordable prices and strong rental demand for the respective strategy. If youâ\\x80\\x99d like to optimize your investment outcomes, itâ\\x80\\x99s a good idea to focus on these top locations.\\nWhile investing in real estate can be scary for first-time investors, US housing market predictions for 2023 show that this is a great time to buy a long term or short term rental. A lack of previous experience or significant knowledge should not prevent you from making money with real estate.', metadata={'url': 'https://www.mashvisor.com/blog/fastest-growing-rental-markets-us/'}),\n",
       "  Document(page_content='So, investing in a long term rental property in a small market seems to be one of the most profitable strategies, at least at the beginning of 2023. Nevertheless, weâ\\x80\\x99d like to advise investors to keep a close eye on trends as they might start to change mid-year. As much as 90% of employers will require workers to return to the office in 2023, at least partially.\\nThe strengthening of the hybrid work model might force – at least some – employees to return to major US cities, which will affect demand for long term rentals. It might cause a gradual change in the top US cities and towns for investment.\\n3. High Real Estate Prices\\nThirdly, our analysis reveals that the top locations to buy long term rental properties in 2023 share high median property prices. All of these markets have a median home value above the $500,000 benchmark, with a few of them above $800,000. The figure is quite high compared to the US median residential real estate price of $357,319, as reported by Zillow.', metadata={'url': 'https://www.mashvisor.com/blog/fastest-growing-rental-markets-us/'}),\n",
       "  Document(page_content='Step 2: Figure Out the Top Neighborhoods for Your Rental Strategy\\nThe next step in finding a profitable rental property in the best rental markets for 2023 is choosing the top neighborhood for your preferred strategy. Real estate investment is highly local. It means that both the city and the area within the city affect all indicators and, ultimately, your ROI.\\nMashvisor offers two tools that can help you greatly with neighborhood analysis. First, you can use the real estate heatmap to locate the best areas for either long term or short term rentals in any US market. You can find neighborhoods with:\\nSecond, once youâ\\x80\\x99ve got a general idea of a few promising areas, you can use the Mashvisor neighborhood analysis pages to deepen your research. For each neighborhood, you will get access to comprehensive real estate data, as well as long term and short term rental data.\\nSome numbers include:', metadata={'url': 'https://www.mashvisor.com/blog/fastest-growing-rental-markets-us/'}),\n",
       "  Document(page_content='This trend can be largely explained by the impact of the Coronavirus pandemic on the US real estate market and vacation rental industry. In 2021 and 2022, major short term rental listings platforms like Airbnb reported a noticeable shift in preferences among travelers following the pandemic.\\nSpecifically, more and more short term rental guests got interested in smaller, traditionally less popular places in proximity to natural attractions like parks, mountains, lakes, and others. Guests also showed an increased demand for properties with amenities offering opportunities for outdoor activities, including patios, barbeques, playgrounds, etc.\\nSo, if youâ\\x80\\x99re planning to buy a short term rental in 2023, thatâ\\x80\\x99s a trend that you should definitely take into consideration. Investing in one of these top locations will help you boost Airbnb occupancy rate, as well as daily rates, which are the two most important factors affecting ROI for vacation rentals.\\n3. Affordable Real Estate Values', metadata={'url': 'https://www.mashvisor.com/blog/fastest-growing-rental-markets-us/'}),\n",
       "  Document(page_content='How to Find a Profitable Rental Property in the Best Rental Markets\\nIdentifying the top locations for your selected rental strategy is the first step in the process of buying a profitable long term or short term rental property. There are a few more steps that you need to take in order to guarantee a successful real estate investment.\\nBelow, weâ\\x80\\x99ve provided a step-by-step guide to what it takes to find a profitable rental property in the US market in 2023.\\nStep 1: Check Out the Rental Market Regulatory Environment\\nA successful rental business is a business that is not only profitable but also legal. The last thing you want as a landlord or an Airbnb host is to run into problems with the local authorities because of not complying with the rules in the market.', metadata={'url': 'https://www.mashvisor.com/blog/fastest-growing-rental-markets-us/'}),\n",
       "  Document(page_content='So, where are the hottest housing markets for 2023?\\nWithout further ado, here are the 10 top places to buy a long term rental property in 2023, ranked in descending order in terms of cash and cash return. Note that a few Arkansas and Florida markets are present in the list.\\n1. Lantana, Florida\\nStart searching for profitable long term rental properties in Lantana FL.\\n2. Saint Petersburg, Florida\\n3. Williamsburg, Virginia\\n4. Charleston, South Carolina\\n5. Fayetteville, Arkansas\\n6. Granbury, Texas\\n7. Springdale, Arkansas\\n8. Lake Havasu City, Arizona\\n9. Mount Pleasant, South Carolina\\n10. Bentonville, Arkansas\\nTo start searching for the most profitable long term rentals in these top locations or any other US market, click here.\\nThe 10 Best Short Term Rental Markets in 2023', metadata={'url': 'https://www.mashvisor.com/blog/fastest-growing-rental-markets-us/'}),\n",
       "  Document(page_content='Use the Best Real Estate Technology Tools Throughout\\nAs a final piece of advice, weâ\\x80\\x99d like to emphasize the importance of using the best real estate investment tools when looking for top-performing properties in the best rental markets. It is not really a step in the process but rather something that you should ensure throughout.\\nTraditionally, an investor needs to allocate three months to real estate research and analysis in order to find a profitable opportunity. The said duration has been brought down to just 15 minutes by the Mashvisor rental analysis platform.\\nMoreover, the results produced by the Mashvisor technology are much more robust and reliable than those from manual research. It is because they are based on the performance of all real estate comps and rental comps in the area and not just a small number of them.\\nTo find the top long term and short term rental properties for sale in the best rental markets in the US in 2023, sign up for a 7-day free trial of Mashvisor.', metadata={'url': 'https://www.mashvisor.com/blog/fastest-growing-rental-markets-us/'}),\n",
       "  Document(page_content='The 10 Best Long Term Rental Markets in 2023\\nNow that you know what features make for the top locations to buy a long term rental property this year, itâ\\x80\\x99s time to see which US cities and towns made it to the list.\\nOur ranking of the best rental markets for long term rentals in 2023 is based on Mashvisor nationwide real estate market analysis. Our team collected real estate and rental data from the entire US market before applying our AI-based, machine learning algorithms. It allowed us to locate the top places for this investment strategy.\\nIn our ranking, weâ\\x80\\x99ve focused on the cash on cash return. In other words, the best real estate markets are those that offer the highest long term rental cash on cash return in January 2023.\\nAdditionally, weâ\\x80\\x99ve included markets that meet the following criteria:\\nSo, where are the hottest housing markets for 2023?', metadata={'url': 'https://www.mashvisor.com/blog/fastest-growing-rental-markets-us/'}),\n",
       "  Document(page_content='Rental Property Calculator: Calculate Investment Property ROI\\n100 Best Short Term Rental Markets in 2023\\nHow to Buy an Airbnb Investment Property\\nAirbnb Rental Arbitrage: The Complete Guide\\n7 Best Investment Software for Real Estate Investors\\nTop 5 Websites to Analyze Investment Property\\n5 Steps to Finding the Best Rental Investment Property for Sale\\nThe Best Real Estate Competitive Market Analysis Software for 2023\\nWhat Is a Good Cash on Cash Return?: A Complete Guide\\nLooking for anInvestment Property?\\nUse analytics to ï¬\\x81nd lucrative traditional or Airbnb properties in a matter of minutes.\\nCompany\\nProduct\\nSolutions\\nFeatures\\nResources\\nExplore\\nReal Estate Markets\\nÂ© Copyright 2016 - 2023 Mashvisor. All rights reserved', metadata={'url': 'https://www.mashvisor.com/blog/fastest-growing-rental-markets-us/'})],\n",
       " [Document(page_content='Related topics\\nRecommended\\nReport on the topic\\nKey figures\\nThe most important key figures provide you with a compact summary of the topic of \"Rental market in the U.S.\" and take you straight to the corresponding statistics.\\nRenting vs owning\\nHomeownership rate in the U.S. 1990-2022\\nMultifamily property rent as a share of household income in the U.S. 2021, by city\\nMain reasons non-owners don\\'t currently own a home U.S. 2022\\nTenants\\nShare of residents who are renters in the U.S. 2020, by structure type\\nShare of residents who are renters in the U.S. 2020, by age\\nNumber of housing cost burdened households in the U.S. among renters 2003-2021\\nCoronavirus (COVID-19) effect\\nShare of renters with rent arrears in the U.S. 2022, by age group\\nShare of renters with rent arrears in the U.S. 2022, by race\\nFurther reportsGet the best reports to understand your industry\\nGet the best reports to understand your industry\\nContact\\nMon - Fri, 9am - 6pm (EST)\\nMon - Fri, 9am - 5pm (SGT)', metadata={'url': 'https://www.statista.com/topics/4465/rental-market-in-the-us/'}),\n",
       "  Document(page_content='Rental vacancy rates in the U.S. 2000-2023, by region\\nRental vacancy rates in the United States from 2000 to 2023, by region\\nU.S. housing stock: vacant rental units 2012-2022\\nNumber of unoccupied rental housing units in the United States from 2012 to 2nd quarter 2022\\nMarket share of rental property review sites U.S. 2021\\nMarket share of rental property review sites in the United States in 2021\\nRental costs\\nRental costs\\nAsking rent for unfurnished apartments in the U.S. 1980-2023\\nMonthly median asking rent for unfurnished apartments in the United States from 1980 to 2023 (in U.S. dollars)\\nRent for small and medium apartments in different states in the U.S. 2022\\nAverage monthly rent for one and two bedroom apartments in the United States as of September 2022, by state (in U.S. dollars)\\nYear-on-year apartment rent change in the U.S. 2021-2022, by state\\nAnnual change in average monthly apartment rent in the United States as of March 2021 and March 2022, by state', metadata={'url': 'https://www.statista.com/topics/4465/rental-market-in-the-us/'}),\n",
       "  Document(page_content=\"Rental Market Trends in the U.S. — Rents Accelerate Again\\nMany or all of the products featured here are from our partners who compensate us. This influences which products we write about and where and how the product appears on a page. However, this does not influence our evaluations. Our opinions are our own. Here is a list of our partners and here's how we make money.\\nUpdated Nov. 8 with the latest Zillow data for rent.\\nMore than 35% of households in the U.S. rent homes, according to 2017-2021 data from the U.S. Census Bureau[0]U.S. Census Bureau. QuickFacts, United States. Accessed Feb 13, 2023.View all sources. Over the last few years it’s become more expensive than ever to rent. But price growth is continuing to slow down since hitting an annual peak of 16% in Feb. 2022.\", metadata={'url': 'https://www.nerdwallet.com/article/finance/rental-market-trends'}),\n",
       "  Document(page_content='Customized Research & Analysis projects:\\nGet quick analyses with our professional research service\\nThe best of the best: the portal for top lists & rankings:\\nTransforming data into design:\\nStatista Content & Design\\nStrategy and business building for the data-driven economy:\\nU.S. Residential Rental Market - statistics & facts\\nHow much does renting an apartment in different states in the U.S. cost?\\nA profile of the American renter\\nKey insights\\nDetailed statistics\\nAverage monthly apartment rent in the U.S. 2017-2023, by apartment size\\nDetailed statistics\\nApartment rent in the United States in 2020-2022, by state\\nDetailed statistics\\nYear-on-year apartment rent change in the U.S. 2021-2022, by state\\nEditor’s Picks\\nCurrent statistics on this topic\\nCurrent statistics on this topic\\nApartments\\nAverage monthly apartment rent in the U.S. 2017-2023, by apartment size\\nApartments\\nStudio apartment rent in the different states in the U.S. in 2021\\nApartments', metadata={'url': 'https://www.statista.com/topics/4465/rental-market-in-the-us/'}),\n",
       "  Document(page_content='Lack of inventory. There is a shortage of vacant rental properties in general, and of affordable ones in particular.\\nExpired rent freezes and discounts. Landlords are making up for pandemic-era rent freezes and steep discounts in urban areas by hiking prices on new units and lease renewals.\\nA shifting workforce. As the pandemic increased the popularity of remote work, deep-pocketed renters sought larger homes in areas that had been previously relatively low-cost. This migration increased rents in suburban areas more than it lowered them in urban ones, yielding a net increase in rents.\\nMore demand to live alone. Prospective renters are increasingly looking for studio and one-bedroom apartments, driving up demand for available housing, according to a November 2022 report from the real estate website StreetEasy.', metadata={'url': 'https://www.nerdwallet.com/article/finance/rental-market-trends'}),\n",
       "  Document(page_content=\"» MORE: 7 tips for getting an apartment without a credit check\\nWho is most likely to rent?\\nSingle people are more likely to rent than couples, regardless of whether they have children, according to a 2022 rental housing report from Harvard University [0]Joint Center for Housing Studies of Harvard University. America's Rental Housing 2022. Accessed Feb 13, 2023.View all sources . Hispanic, Black and Asian residents are more likely to rent than own homes when compared with white residents. Those with incomes at or below $74,999 are more likely to rent than own compared with those with incomes $75,000 and over.\\n» MORE: \\xa0What does renters insurance cover?\\nDespite soaring rents, it’s still less expensive to rent than to buy. The typical rent for an average three-bedroom place is still more affordable than owning a similar-sized home in 95% of the 222 U.S. counties analyzed by ATTOM, a land and property real estate data curator, in its 2023 Rental Affordability Report.\", metadata={'url': 'https://www.nerdwallet.com/article/finance/rental-market-trends'}),\n",
       "  Document(page_content='Industry Overview\\nDigital & Trend reports\\nOverview and forecasts on trending topics\\nIndustry & Market reports\\nIndustry and market insights and forecasts\\nCompanies & Products reports\\nKey figures and rankings about companies and products\\nConsumer & Brand reports\\nConsumer and brand insights and preferences in various industries\\nPolitics & Society reports\\nDetailed information about political and social topics\\nCountry & Region reports\\nAll key figures about countries and regions\\nMarket forecast and expert KPIs for 1000+ markets in 190+ countries & territories\\nInsights on consumer attitudes and behavior worldwide\\nBusiness information on 100m+ public and private companies\\nExplore Company Insights\\nDetailed information for 39,000+ online stores and marketplaces\\nDirectly accessible data for 170 industries from 150+ countries\\nand over 1\\xa0Mio. facts.\\nCustomized Research & Analysis projects:\\nGet quick analyses with our professional research service', metadata={'url': 'https://www.statista.com/topics/4465/rental-market-in-the-us/'}),\n",
       "  Document(page_content=\"The generation of adults most likely to rent is Gen Z with 74% of the cohort renting their homes, according to a March 29 data analysis by RentCafe, an apartment listing service. That's a pretty recent development since Millennial home buyers only began to outweigh renters in the cohort as of 2022, the data shows. The analysis found 51.5% of millennials now own their own home. The amount of millennial homeowners increased 28% from 2019 to 2022. But baby boomers are still the dominant generation owning their own homes, representing 40% of all homeowners in the U.S.\\nRent vs. income\\nGenerally, households should be spending no more than 30% of their gross income on rent, according to the NYU Furman Center [0]NYU Furman Center. State of Renters and Their Homes. Accessed Feb 13, 2023.View all sources .\", metadata={'url': 'https://www.nerdwallet.com/article/finance/rental-market-trends'})],\n",
       " [Document(page_content='Beginner’s Guide to Rental Property Investing\\nReal estate investments can help diversify your portfolio while creating an additional income stream. There are different ways to invest in real estate, including owning one or more rental properties. Getting started with rental investments means understanding how to find properties, how to purchase them and how to use them to turn a profit. It’s a bit more involved than picking stocks or mutual funds, but there’s solid reward potential if you’re open to learning the ropes. Here’s a beginner’s guide to investing in rental property.\\nA financial advisor can help you diversify your portfolio with real estate and other investments.\\nTypes of Rental Properties for Investment\\nRental properties aren’t all alike in terms of how you can use them to create streams of income. There are three different ways to leverage rental properties in a portfolio:\\nEach of these three types of rental arrangements require getting answers to specific questions.', metadata={'url': 'https://smartasset.com/investing/investing-in-rental-property-for-beginners'}),\n",
       "  Document(page_content='10 Tips For Buying Your First Rental Property\\nKey Takeaways\\nWhy invest in rental properties?\\n10 tips for buying rental properties\\nThe concept of buying first rental property assets is one of the best ways to begin accumulating long-term wealth. A solid rental property can not only provide you with monthly cash flow, but can serve as the backbone of your retirement plan. The key, however, is finding the right property. Not every quality property you look at will make a good rental property. It takes the right mix of demand and location to maximize your return. If you have been interested in owning a rental, but weren’t sure what steps to take, here are some suggestions on buying first rental property assets.\\nWhy Buy A Rental Property?', metadata={'url': 'https://www.fortunebuilders.com/how-to-buy-your-first-rental-property/'}),\n",
       "  Document(page_content=\"How to Invest in Rental Property\\nTips for buying your first rental property\\nThinking about purchasing an investment property? Purchasing rental real estate requires knowledge of leasing, mortgage loans, tenant and landlord relationships, and property management. Buying real estate can be lucrative but, just like any investment, comes with benefits and challenges.\\nKey Takeaways\\nSo You Want to Be a Landlord?\\nBuying investment property and acting as a landlord can be a good way to earn income, but requires a commitment of time and money. After choosing the right property, prepping the unit, and finding reliable tenants, ongoing maintenance is required.\\nMaintenance and upkeep costs can decrease your rental income. There's always the potential for an emergency, such as roof damage. Investors should plan to set aside 1% of their property's value for repairs.\", metadata={'url': 'https://www.investopedia.com/articles/investing/090815/buying-your-first-investment-property-top-10-tips.asp'}),\n",
       "  Document(page_content='Buying your first rental property gives you the flexibility to sell when the time is right. With consistent cash flow, owners aren’t typically forced to sell when they need more liquidity.\\nAppreciation is never guaranteed, but history has taught us that home values increase more often than not. As a result, rental property owners can usually depend on the appreciation of their assets.\\nBuying first rental property assets isn’t the only way to invest. That said, becoming a landlord is a great way to diversify any growing portfolio.\\n1. Do Your Homework', metadata={'url': 'https://www.fortunebuilders.com/how-to-buy-your-first-rental-property/'}),\n",
       "  Document(page_content='Buying a Rental Property\\nLocation, Location, Location\\nA city or locale where the population is growing or a revitalization plan is underway often represents a potential investment opportunity. A neighborhood with a low crime rate, easy access to public transportation, and a growing job market may also mean a larger pool of renters.\\nWhen choosing a profitable rental property, look for a location with low property taxes, a good school district, and a host of\\xa0amenities, such as restaurants, coffee shops, shopping, trails, and parks.\\nOnline real estate property sites like Zillow.com provide information for investors including home rental rates and current investment property values. Airbnb.com provides investors with information on the going rental rates for vacation homes or condos.\\nFinancing Your Rental Property', metadata={'url': 'https://www.investopedia.com/articles/investing/090815/buying-your-first-investment-property-top-10-tips.asp'}),\n",
       "  Document(page_content='Before you buy an investment property, review your options and learn the ins and outs of what it takes to own rental property.\\nYou’re Responsible For Everything\\nWhen you purchase a rental property, you’re in charge of buying a house (often a multifamily home), finding tenants and maintaining the property while collecting monthly rent and paying property taxes. When planned and well executed, buying rental properties can be an investment that eventually becomes a source of real estate income and profit.\\nIt’s important to consider what type of property you want to rent out. Different types of houses carry different types of responsibilities. For example, renting out a house with a lawn can involve more landscaping and lawn care than an apartment building in the city. However, buying a multifamily home or apartment building means finding more tenants and maintaining several rental units.\\nSee What You Qualify For\\nType of Loan\\nHome Description\\nProperty Use\\nYour Credit Profile', metadata={'url': 'https://www.rocketmortgage.com/learn/buying-rental-house'}),\n",
       "  Document(page_content='Condos can be a good option for rental property buyers and they are often located in desirable locations.\\nThe Bottom Line\\nAs with many investments, real estate rental property is often a long-term project. Yet, rental properties can be a lucrative way to invest in real estate and provide a passive, steady income for investors. Investing in rental property requires knowledge about tenant and landlord laws, leasing, mortgages, and property management.\\nLending Tree. \"Down Payment Requirements on Rental Property.\"\\nRenters Warehouse. \"How to Budget Maintenance For Your Rental Property.\"\\nApartments.com. \"How Much Does It Cost to Hire a Property Manager?\"\\nNOLO. \"State Landlord-Tenant Laws.\"\\nAllstate. \"What Does Landlord Insurance Cover?\"\\nAP Mortgage. \"Differences Between a Second Home and an Investment Property.\"\\nConsumer Financial Protection Bureau. \"Having a Problem With a Financial Product or Service?\"\\nU.S. Department of Housing and Urban Development. \"Complaints.\"', metadata={'url': 'https://www.investopedia.com/articles/investing/090815/buying-your-first-investment-property-top-10-tips.asp'}),\n",
       "  Document(page_content='Everything You Need To Know Before Buying Rental Property\\nVictoria Araj9-minute read\\nNovember 14, 2023\\nShare:\\nBuying a rental property is a big decision with big financial implications. You’ll want to find a location that’s easy to rent and a property that fits your budget. Then, you’ll need to figure out how to pay for your new investment property before you make an offer.\\nThough every property is different, the process of making savvy property investment decisions is the same.\\nLet’s look at what you need to know when buying a house to rent out, the different factors you’ll need to consider and what to look for when buying your first rental property.\\nWhat You Need To Know Before Investing In Rental Property\\nBecause the goal is to turn a profit quickly, buying a rental property differs from buying a house as a primary residence. That means you’ll need to treat your investment as a business, choosing affordable properties and finding the right way to finance them.', metadata={'url': 'https://www.rocketmortgage.com/learn/buying-rental-house'})]]"
      ]
     },
     "execution_count": 38,
     "metadata": {},
     "output_type": "execute_result"
    }
   ],
   "source": [
    "x"
   ]
  },
  {
   "cell_type": "code",
   "execution_count": 37,
   "id": "4eabd10a",
   "metadata": {},
   "outputs": [
    {
     "ename": "IndexError",
     "evalue": "list index out of range",
     "output_type": "error",
     "traceback": [
      "\u001b[0;31m---------------------------------------------------------------------------\u001b[0m",
      "\u001b[0;31mIndexError\u001b[0m                                Traceback (most recent call last)",
      "Cell \u001b[0;32mIn[37], line 1\u001b[0m\n\u001b[0;32m----> 1\u001b[0m \u001b[38;5;28mlen\u001b[39m(\u001b[43mx\u001b[49m\u001b[43m[\u001b[49m\u001b[38;5;241;43m4\u001b[39;49m\u001b[43m]\u001b[49m)\n",
      "\u001b[0;31mIndexError\u001b[0m: list index out of range"
     ]
    }
   ],
   "source": [
    "len(x[4])"
   ]
  },
  {
   "cell_type": "code",
   "execution_count": 19,
   "id": "23459f73",
   "metadata": {},
   "outputs": [
    {
     "name": "stdout",
     "output_type": "stream",
     "text": [
      "✅ Adding url https://www.sofi.com/learn/content/the-pros-and-cons-of-owning-rental-property/ to our research\n"
     ]
    }
   ],
   "source": [
    "something = await r.get_content_using_query('Pros and cons of investing in rental properties')"
   ]
  },
  {
   "cell_type": "code",
   "execution_count": null,
   "id": "35f76da5",
   "metadata": {},
   "outputs": [],
   "source": []
  },
  {
   "cell_type": "markdown",
   "id": "29c9511a",
   "metadata": {},
   "source": [
    "## Playing with asyncio"
   ]
  },
  {
   "cell_type": "code",
   "execution_count": 79,
   "id": "8c574915",
   "metadata": {},
   "outputs": [],
   "source": [
    "import asyncio\n",
    "\n",
    "async def gg():\n",
    "    task = asyncio.create_task(haha())\n",
    "    print('A')\n",
    "    await asyncio.sleep(1)\n",
    "\n",
    "    print('B')\n",
    "    await task\n",
    "    \n",
    "async def haha():\n",
    "    print('1')\n",
    "    await asyncio.sleep(2)\n",
    "    print('2')"
   ]
  },
  {
   "cell_type": "code",
   "execution_count": 80,
   "id": "4caf1cd7",
   "metadata": {},
   "outputs": [
    {
     "name": "stdout",
     "output_type": "stream",
     "text": [
      "A\n",
      "1\n",
      "B\n",
      "2\n"
     ]
    }
   ],
   "source": [
    "await gg()"
   ]
  },
  {
   "cell_type": "code",
   "execution_count": 15,
   "id": "70167932",
   "metadata": {},
   "outputs": [
    {
     "name": "stdout",
     "output_type": "stream",
     "text": [
      "\n",
      "Hello\n",
      "!\n",
      " How\n",
      " can\n",
      " I\n",
      " assist\n",
      " you\n",
      " today\n",
      "?\n",
      "None\n"
     ]
    }
   ],
   "source": [
    "# Example of an OpenAI ChatCompletion request with stream=True\n",
    "# https://platform.openai.com/docs/guides/chat\n",
    "\n",
    "# a ChatCompletion request\n",
    "from openai import OpenAI\n",
    "\n",
    "client = OpenAI()\n",
    "\n",
    "completion = client.chat.completions.create(\n",
    "  model=\"gpt-3.5-turbo\",\n",
    "  messages=[\n",
    "    {\"role\": \"system\", \"content\": \"You are a helpful assistant.\"},\n",
    "    {\"role\": \"user\", \"content\": \"Hello!\"}\n",
    "  ],\n",
    "    stream=True\n",
    ")\n",
    "\n",
    "for chunk in completion:\n",
    "    print(chunk.choices[0].delta.content)"
   ]
  },
  {
   "cell_type": "code",
   "execution_count": null,
   "id": "37e9c413",
   "metadata": {},
   "outputs": [],
   "source": []
  },
  {
   "cell_type": "code",
   "execution_count": null,
   "id": "1496b449",
   "metadata": {},
   "outputs": [],
   "source": []
  },
  {
   "cell_type": "code",
   "execution_count": null,
   "id": "8015c129",
   "metadata": {},
   "outputs": [],
   "source": [
    "from django.http import JsonResponse, StreamingHttpResponse\n",
    "from rest_framework.decorators import api_view\n",
    "from rest_framework.response import Response\n",
    "import openai\n",
    "\n",
    "# Move the API key to Django settings\n",
    "OPENAI_API_KEY = 'your_openai_api_key'  # Replace with your actual API key\n",
    "\n",
    "@api_view([\"POST\"])\n",
    "def generate_names(request):\n",
    "    if request.method == 'POST':\n",
    "        # Parse the request body and extract the prompt\n",
    "        prompt = request.data.get('prompt')\n",
    "        \n",
    "        if not prompt:\n",
    "            return JsonResponse({'error': 'Prompt is required.'}, status=400)\n",
    "\n",
    "        # Set up the OpenAI API client\n",
    "        openai.api_key = OPENAI_API_KEY\n",
    "        \n",
    "        # Define a generator function to stream the response\n",
    "        def generate_response():\n",
    "            response = client.chat.completions.create(\n",
    "                          model=\"gpt-3.5-turbo\",\n",
    "                          messages=[\n",
    "                            {\"role\": \"system\", \"content\": \"You are a helpful assistant.\"},\n",
    "                            {\"role\": \"user\", \"content\": \"Hello!\"}\n",
    "                          ],\n",
    "                            stream=True\n",
    "                        )\n",
    "            for chunk in response:\n",
    "                content = chunk.choices[0].delta.content\n",
    "                if content is not None:\n",
    "                    yield content\n",
    "\n",
    "        # Return a streaming response to the client\n",
    "        return StreamingHttpResponse(generate_response(), content_type='text/event-stream')\n",
    "    \n",
    "    # Return a JSON error if the request method is not POST\n",
    "    return JsonResponse({'error': 'Method not allowed.'}, status=405)\n"
   ]
  },
  {
   "cell_type": "code",
   "execution_count": null,
   "id": "dc1e244a",
   "metadata": {},
   "outputs": [],
   "source": []
  },
  {
   "cell_type": "code",
   "execution_count": null,
   "id": "d557ae3c",
   "metadata": {},
   "outputs": [],
   "source": []
  }
 ],
 "metadata": {
  "kernelspec": {
   "display_name": "okprofessor",
   "language": "python",
   "name": "okprofessor"
  },
  "language_info": {
   "codemirror_mode": {
    "name": "ipython",
    "version": 3
   },
   "file_extension": ".py",
   "mimetype": "text/x-python",
   "name": "python",
   "nbconvert_exporter": "python",
   "pygments_lexer": "ipython3",
   "version": "3.9.18"
  }
 },
 "nbformat": 4,
 "nbformat_minor": 5
}
