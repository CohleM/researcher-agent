{
 "cells": [
  {
   "cell_type": "code",
   "execution_count": 1,
   "id": "e811fdec",
   "metadata": {},
   "outputs": [],
   "source": [
    "import sys\n",
    "sys.path.append('/Users/cohlem/Projects/OkProfessor/')"
   ]
  },
  {
   "cell_type": "code",
   "execution_count": null,
   "id": "4148ffdb",
   "metadata": {},
   "outputs": [],
   "source": []
  },
  {
   "cell_type": "code",
   "execution_count": 24,
   "id": "f45691f9",
   "metadata": {},
   "outputs": [],
   "source": [
    "import asyncio\n",
    "import time\n",
    "from concurrent.futures import ThreadPoolExecutor\n",
    "from researcher.config import Config\n",
    "from researcher.search.duckduckgo import Duckduckgo\n",
    "from researcher.utils.functions import * \n",
    "from researcher.retriever.langchain_hybrid_retriever import HybridRetriever\n",
    "from researcher.scraping.scrape import Scraper\n",
    "from researcher.context.chunking import Chunking\n",
    "\n",
    "\n",
    "class Researcher:\n",
    "    def __init__(self, query ):\n",
    "        self.query = query\n",
    "        self.cfg = Config()\n",
    "        self.agent = None\n",
    "        self.role = None\n",
    "        self.visited_urls = set()\n",
    "        self.context = []\n",
    "        \n",
    "    async def run(self):\n",
    "        \"\"\"\n",
    "        Run the researcher\n",
    "        \"\"\"\n",
    "        if self.cfg.search_engine == 'Duckduckgo':\n",
    "            retriever = Duckduckgo()\n",
    "            \n",
    "        print(f'📘 Starting research for query: {self.query}')\n",
    "        self.agent, self.role = await choose_agent(self.query, self.cfg.llm )\n",
    "        print(f'Running {self.agent} ...')\n",
    "        \n",
    "        #query modification\n",
    "        sub_queries = await get_sub_queries(self.query, self.role, self.cfg) + [self.query]\n",
    "        \n",
    "#         tasks = [self.process_query(each_query) for each_query in sub_queries]\n",
    "#         context_results = await asyncio.gather(*tasks)\n",
    "        \n",
    "#         for context in context_results:\n",
    "#             self.context.append(context)\n",
    "    \n",
    "        \n",
    "        \n",
    "    \n",
    "    \n",
    "    \n",
    "    \n",
    "        for each_query in sub_queries:\n",
    "            \n",
    "            print(f'🔍 Searching web with query: {each_query}')\n",
    "            content = await self.get_content_using_query(each_query)\n",
    "            context = await self.get_similar_context(each_query, content)\n",
    "            self.context.append(context)\n",
    "            \n",
    "        \n",
    "        result = await generate_report(self.context, self.query, self.role, self.cfg)\n",
    "        \n",
    "        return result    \n",
    "        \n",
    "    \n",
    "    async def get_content_using_query(self,query):\n",
    "\n",
    "        \n",
    "        search_engine = Duckduckgo(query=query)\n",
    "        search_urls = search_engine.search(max_results = self.cfg.max_search_results_per_query)\n",
    "\n",
    "        search_urls = [url.get('href') for url in search_urls]\n",
    "\n",
    "        new_search_urls = await self.get_unique_urls(search_urls) #filter out the same urls \n",
    "\n",
    "        content_scraper = Scraper(new_search_urls)\n",
    "        content = content_scraper.run()\n",
    "\n",
    "        return content\n",
    "    \n",
    "    async def get_chunks(self, content):\n",
    "        \n",
    "        chunks = []\n",
    "        chunking = Chunking(self.cfg.chunk_size ,self.cfg.chunk_overlap)\n",
    "\n",
    "        for each_content in content:\n",
    "            chunks += chunking.run(content=each_content['raw_content'], metadatas= {'url': each_content['url'] })\n",
    "            \n",
    "        return chunks\n",
    "    \n",
    "    async def get_unique_urls(self, urls):\n",
    "        \n",
    "        new_urls = []\n",
    "        for url in urls:\n",
    "            if url not in self.visited_urls:\n",
    "                \n",
    "                print(f'✅ Adding url {url} to our research')\n",
    "                \n",
    "                new_urls.append(url)\n",
    "                self.visited_urls.add(url)\n",
    "                \n",
    "        return new_urls\n",
    "                \n",
    "    \n",
    "    async def get_similar_context(self, query, content):\n",
    "        \n",
    "        #chunk where?\n",
    "        chunks = await self.get_chunks(content)\n",
    "        hybrid_retriever = HybridRetriever(chunks ,max_results = self.cfg.max_chunks_per_query)\n",
    "        similar_context = hybrid_retriever.get_context(query)\n",
    "\n",
    "        return similar_context\n",
    "    \n",
    "\n",
    "    "
   ]
  },
  {
   "cell_type": "code",
   "execution_count": 25,
   "id": "d3fa5749",
   "metadata": {},
   "outputs": [],
   "source": [
    "async def generate_report(context, question, agent_role, cfg):\n",
    "    \n",
    "    # try and except block remaining\n",
    "    response = await create_chat_completion(\n",
    "            messages = [\n",
    "                    {\"role\": \"system\", \"content\": f\"{agent_role}\"},\n",
    "                    {\"role\": \"user\", \"content\": f\"task: {generate_report_prompt(question, context)}\"}], \n",
    "#             model=cfg.llm\n",
    "              model= cfg.llm\n",
    "    )\n",
    "    \n",
    "    return response"
   ]
  },
  {
   "cell_type": "code",
   "execution_count": 41,
   "id": "153bf863",
   "metadata": {},
   "outputs": [
    {
     "data": {
      "text/plain": [
       "'Information: \"\"\"context\"\"\"\\n\\nUsing the above information, answer the following query or task: \"investing\" in a detailed report -- The report should focus on the answer to the query, should be well structured, informative, in depth and comprehensive, with facts and numbers if available and a minimum of 1000 words.\\nYou should strive to write the report as long as you can using all relevant and necessary information provided.\\nYou must write the report with markdown syntax.\\n Use an unbiased and journalistic tone. \\nYou MUST determine your own concrete and valid opinion based on the given information. Do NOT deter to general and meaningless conclusions.\\nYou MUST write all used source urls at the end of the report as references, and make sure to not add duplicated sources, but only one reference for each.\\nYou MUST write the report in apa format.\\n Cite search results using inline notations. Only cite the most             relevant results that answer the query accurately. Place these citations at the end             of the sentence or paragraph that reference them.\\nPlease do your best, this is very important to my career. Assume that the current date is December 05, 2023'"
      ]
     },
     "execution_count": 41,
     "metadata": {},
     "output_type": "execute_result"
    }
   ],
   "source": [
    "generate_report_prompt('investing', 'context')"
   ]
  },
  {
   "cell_type": "code",
   "execution_count": 26,
   "id": "1333545c",
   "metadata": {},
   "outputs": [],
   "source": [
    "parallel_r = Researcher('Investment strategies and buying rental properties')"
   ]
  },
  {
   "cell_type": "code",
   "execution_count": null,
   "id": "70880d25",
   "metadata": {},
   "outputs": [],
   "source": []
  },
  {
   "cell_type": "code",
   "execution_count": 27,
   "id": "603a11d7",
   "metadata": {},
   "outputs": [],
   "source": [
    "queries = ['Pros and cons of investing in rental properties', 'Best investment strategies for rental properties in 2023', 'Rental property market trends and analysis', 'Investment strategies and buying rental properties']"
   ]
  },
  {
   "cell_type": "code",
   "execution_count": null,
   "id": "1a9a46c4",
   "metadata": {},
   "outputs": [],
   "source": []
  },
  {
   "cell_type": "code",
   "execution_count": null,
   "id": "a598017d",
   "metadata": {},
   "outputs": [],
   "source": []
  },
  {
   "cell_type": "code",
   "execution_count": 28,
   "id": "ba1dd25a",
   "metadata": {},
   "outputs": [
    {
     "name": "stdout",
     "output_type": "stream",
     "text": [
      "📘 Starting research for query: Investment strategies and buying rental properties\n",
      "Running 💰 Finance Agent ...\n",
      "🔍 Searching web with query: Pros and cons of investing in rental properties\n",
      "✅ Adding url https://learn.roofstock.com/blog/pros-and-cons-of-owning-rental-property to our research\n",
      "✅ Adding url https://www.investopedia.com/articles/investing/051515/pros-cons-owning-rental-property.asp to our research\n",
      "✅ Adding url https://listwithclever.com/real-estate-blog/pros-and-cons-of-investing-in-rental-properties/ to our research\n",
      "✅ Adding url https://learn.roofstock.com/blog/is-rental-property-a-good-investment to our research\n",
      "✅ Adding url https://www.forbes.com/sites/forbesbusinesscouncil/2023/12/04/rental-property-investing-in-2024-is-it-worth-it-for-smaller-investors-and-landlords/ to our research\n",
      "🔍 Searching web with query: Best investment strategies for rental properties in 2023\n",
      "✅ Adding url https://www.forbes.com/sites/forbesbusinesscouncil/2023/09/21/guide-to-rental-property-investing-trends-and-developments/ to our research\n",
      "✅ Adding url https://www.mashvisor.com/blog/fastest-growing-rental-markets-us/ to our research\n",
      "✅ Adding url https://realwealth.com/learn/best-places-to-buy-rental-property/ to our research\n",
      "✅ Adding url https://time.com/personal-finance/article/how-to-invest-in-real-estate/ to our research\n",
      "🔍 Searching web with query: Rental property market trends and analysis\n",
      "✅ Adding url https://www.nerdwallet.com/article/finance/rental-market-trends to our research\n",
      "✅ Adding url https://www.zillow.com/rental-manager/market-trends/ to our research\n",
      "✅ Adding url https://www.statista.com/topics/4465/rental-market-in-the-us/ to our research\n",
      "✅ Adding url https://www.realtor.com/research/may-2023-rent/ to our research\n",
      "🔍 Searching web with query: Investment strategies and buying rental properties\n",
      "✅ Adding url https://www.investopedia.com/articles/investing/090815/buying-your-first-investment-property-top-10-tips.asp to our research\n",
      "✅ Adding url https://www.forbes.com/advisor/investing/rental-property-real-estate-investing/ to our research\n",
      "✅ Adding url https://smartasset.com/investing/investing-in-rental-property-for-beginners to our research\n",
      "✅ Adding url https://www.rocketmortgage.com/learn/buying-rental-house to our research\n",
      "time taken by the async parallel method is 55.871665954589844\n",
      "Average CPU Usage during the CPU-intensive task: 6.8%\n"
     ]
    }
   ],
   "source": [
    "\n",
    "import psutil\n",
    "import time\n",
    "\n",
    "\n",
    "\n",
    "# Get the process ID (PID) of the current Python script\n",
    "pid = psutil.Process().pid\n",
    "\n",
    "# Start measuring CPU usage\n",
    "psutil.cpu_percent(interval=None)\n",
    "\n",
    "start_time = time.time()\n",
    "parallel_ans = await parallel_r.run()\n",
    "end_time = time.time()\n",
    "\n",
    "print('time taken by the async parallel method is', end_time - start_time)\n",
    "\n",
    "\n",
    "# Stop measuring CPU usage and get the average percentage during the task\n",
    "cpu_usage = psutil.cpu_percent(interval=None)\n",
    "\n",
    "print(f\"Average CPU Usage during the CPU-intensive task: {cpu_usage}%\")\n",
    "\n"
   ]
  },
  {
   "cell_type": "code",
   "execution_count": 29,
   "id": "4b30ab04",
   "metadata": {},
   "outputs": [
    {
     "data": {
      "text/plain": [
       "\"# Report on Investment Strategies and Buying Rental Properties\\n\\n## Introduction\\nInvesting in rental properties has been a popular strategy for individuals seeking to diversify their investment portfolios and generate passive income. This report aims to provide an in-depth analysis of investment strategies and considerations when buying rental properties. The report will cover various aspects such as the pros and cons of investing in rental properties, rental market trends, location considerations, financing options, and alternative investment strategies.\\n\\n## Pros and Cons of Investing in Rental Properties\\nInvesting in rental properties offers several advantages, including the potential for regular rental income, property value appreciation, and tax benefits. Rental income can offset mortgage and managing expenses, leading to positive rental yield, which can be used for property renovation, portfolio diversification, or purchasing additional properties ([Investopedia](https://www.investopedia.com/articles/investing/051515/pros-cons-owning-rental-property.asp)). However, it's important to consider the potential drawbacks, such as the fluctuation of housing prices, market cycles, and the responsibilities and risks associated with property management ([Investopedia](https://www.investopedia.com/articles/investing/051515/pros-cons-owning-rental-property.asp)).\\n\\n## Rental Market Trends\\nThe rental market is influenced by various factors such as demand, location, and economic conditions. According to the 2023 mid-year forecast, rental prices are expected to experience a small annual decline, with strong demand for rental properties due to elevated housing prices and mortgage rates ([Realtor.com](https://www.realtor.com/research/may-2023-rent/)). Additionally, the availability of rental options may pose challenges for property owners, leading to adjustments in rent increase plans and a lower level of competition within the rental market ([Realtor.com](https://www.realtor.com/research/may-2023-rent/)).\\n\\n## Location Considerations\\nWhen buying rental properties, location plays a crucial role in determining the potential for rental income and property appreciation. Factors such as population growth, job market, crime rate, access to amenities, and property taxes should be considered when selecting a profitable rental property ([Investopedia](https://www.investopedia.com/articles/investing/090815/buying-your-first-investment-property-top-10-tips.asp)).\\n\\n## Financing Options\\nFinancing a rental property purchase can be achieved through various methods, including traditional mortgage loans, real estate investment trusts (REITs), and investing in real estate through the stock market. It's essential to assess the financial implications, down payment requirements, and potential risks associated with each financing option ([Forbes](https://www.forbes.com/advisor/investing/rental-property-real-estate-investing/)).\\n\\n## Alternative Investment Strategies\\nFor individuals with limited capital or those seeking alternative investment approaches, options such as investing in real estate through the stock market, pooling investments with others, or making micro-investments through platforms like Fundrise or CrowdStreet can provide exposure to the real estate market with reduced management responsibilities ([Forbes](https://www.forbes.com/advisor/investing/rental-property-real-estate-investing/)).\\n\\n## Conclusion\\nInvesting in rental properties can be a lucrative strategy for generating passive income and building long-term wealth. However, it requires careful consideration of the pros and cons, understanding rental market trends, evaluating location factors, and selecting suitable financing options. Additionally, alternative investment strategies can provide opportunities for individuals with varying financial capabilities to participate in the real estate market.\\n\\nIn conclusion, individuals interested in buying rental properties should conduct thorough research, seek professional advice, and assess their financial readiness before making investment decisions.\\n\\nReferences:\\n- Investopedia. (n.d.). Pros and Cons of Owning Rental Property. [https://www.investopedia.com/articles/investing/051515/pros-cons-owning-rental-property.asp](https://www.investopedia.com/articles/investing/051515/pros-cons-owning-rental-property.asp)\\n- Realtor.com. (2023). May 2023 Rent Report. [https://www.realtor.com/research/may-2023-rent/](https://www.realtor.com/research/may-2023-rent/)\\n- Forbes. (n.d.). Rental Property Real Estate Investing. [https://www.forbes.com/advisor/investing/rental-property-real-estate-investing/](https://www.forbes.com/advisor/investing/rental-property-real-estate-investing/)\\n- Investopedia. (n.d.). Buying Your First Investment Property: Top 10 Tips. [https://www.investopedia.com/articles/investing/090815/buying-your-first-investment-property-top-10-tips.asp](https://www.investopedia.com/articles/investing/090815/buying-your-first-investment-property-top-10-tips.asp)\""
      ]
     },
     "execution_count": 29,
     "metadata": {},
     "output_type": "execute_result"
    }
   ],
   "source": [
    "parallel_ans"
   ]
  },
  {
   "cell_type": "code",
   "execution_count": 34,
   "id": "f9eb2c76",
   "metadata": {},
   "outputs": [
    {
     "data": {
      "text/html": [
       "<h1>Report on Investment Strategies and Buying Rental Properties</h1>\n",
       "<h2>Introduction</h2>\n",
       "<p>Investing in rental properties has been a popular strategy for individuals seeking to diversify their investment portfolios and generate passive income. This report aims to provide an in-depth analysis of investment strategies and considerations when buying rental properties. The report will cover various aspects such as the pros and cons of investing in rental properties, rental market trends, location considerations, financing options, and alternative investment strategies.</p>\n",
       "<h2>Pros and Cons of Investing in Rental Properties</h2>\n",
       "<p>Investing in rental properties offers several advantages, including the potential for regular rental income, property value appreciation, and tax benefits. Rental income can offset mortgage and managing expenses, leading to positive rental yield, which can be used for property renovation, portfolio diversification, or purchasing additional properties (<a href=\"https://www.investopedia.com/articles/investing/051515/pros-cons-owning-rental-property.asp\">Investopedia</a>). However, it's important to consider the potential drawbacks, such as the fluctuation of housing prices, market cycles, and the responsibilities and risks associated with property management (<a href=\"https://www.investopedia.com/articles/investing/051515/pros-cons-owning-rental-property.asp\">Investopedia</a>).</p>\n",
       "<h2>Rental Market Trends</h2>\n",
       "<p>The rental market is influenced by various factors such as demand, location, and economic conditions. According to the 2023 mid-year forecast, rental prices are expected to experience a small annual decline, with strong demand for rental properties due to elevated housing prices and mortgage rates (<a href=\"https://www.realtor.com/research/may-2023-rent/\">Realtor.com</a>). Additionally, the availability of rental options may pose challenges for property owners, leading to adjustments in rent increase plans and a lower level of competition within the rental market (<a href=\"https://www.realtor.com/research/may-2023-rent/\">Realtor.com</a>).</p>\n",
       "<h2>Location Considerations</h2>\n",
       "<p>When buying rental properties, location plays a crucial role in determining the potential for rental income and property appreciation. Factors such as population growth, job market, crime rate, access to amenities, and property taxes should be considered when selecting a profitable rental property (<a href=\"https://www.investopedia.com/articles/investing/090815/buying-your-first-investment-property-top-10-tips.asp\">Investopedia</a>).</p>\n",
       "<h2>Financing Options</h2>\n",
       "<p>Financing a rental property purchase can be achieved through various methods, including traditional mortgage loans, real estate investment trusts (REITs), and investing in real estate through the stock market. It's essential to assess the financial implications, down payment requirements, and potential risks associated with each financing option (<a href=\"https://www.forbes.com/advisor/investing/rental-property-real-estate-investing/\">Forbes</a>).</p>\n",
       "<h2>Alternative Investment Strategies</h2>\n",
       "<p>For individuals with limited capital or those seeking alternative investment approaches, options such as investing in real estate through the stock market, pooling investments with others, or making micro-investments through platforms like Fundrise or CrowdStreet can provide exposure to the real estate market with reduced management responsibilities (<a href=\"https://www.forbes.com/advisor/investing/rental-property-real-estate-investing/\">Forbes</a>).</p>\n",
       "<h2>Conclusion</h2>\n",
       "<p>Investing in rental properties can be a lucrative strategy for generating passive income and building long-term wealth. However, it requires careful consideration of the pros and cons, understanding rental market trends, evaluating location factors, and selecting suitable financing options. Additionally, alternative investment strategies can provide opportunities for individuals with varying financial capabilities to participate in the real estate market.</p>\n",
       "<p>In conclusion, individuals interested in buying rental properties should conduct thorough research, seek professional advice, and assess their financial readiness before making investment decisions.</p>\n",
       "<p>References:\n",
       "- Investopedia. (n.d.). Pros and Cons of Owning Rental Property. <a href=\"https://www.investopedia.com/articles/investing/051515/pros-cons-owning-rental-property.asp\">https://www.investopedia.com/articles/investing/051515/pros-cons-owning-rental-property.asp</a>\n",
       "- Realtor.com. (2023). May 2023 Rent Report. <a href=\"https://www.realtor.com/research/may-2023-rent/\">https://www.realtor.com/research/may-2023-rent/</a>\n",
       "- Forbes. (n.d.). Rental Property Real Estate Investing. <a href=\"https://www.forbes.com/advisor/investing/rental-property-real-estate-investing/\">https://www.forbes.com/advisor/investing/rental-property-real-estate-investing/</a>\n",
       "- Investopedia. (n.d.). Buying Your First Investment Property: Top 10 Tips. <a href=\"https://www.investopedia.com/articles/investing/090815/buying-your-first-investment-property-top-10-tips.asp\">https://www.investopedia.com/articles/investing/090815/buying-your-first-investment-property-top-10-tips.asp</a></p>"
      ],
      "text/plain": [
       "<IPython.core.display.HTML object>"
      ]
     },
     "metadata": {},
     "output_type": "display_data"
    }
   ],
   "source": [
    "import markdown\n",
    "from IPython.display import HTML, display\n",
    "\n",
    "html_output = markdown.markdown(parallel_ans)\n",
    "\n",
    "display(HTML(html_output))"
   ]
  },
  {
   "cell_type": "code",
   "execution_count": null,
   "id": "e48709f5",
   "metadata": {},
   "outputs": [],
   "source": []
  },
  {
   "cell_type": "code",
   "execution_count": null,
   "id": "ff90ace5",
   "metadata": {},
   "outputs": [],
   "source": []
  },
  {
   "cell_type": "code",
   "execution_count": 8,
   "id": "09e65709",
   "metadata": {},
   "outputs": [
    {
     "data": {
      "text/plain": [
       "[Document(page_content='The Pros and Cons of Investing in Rental Properties\\nLike any investment, it’s important that you understand the benefits and limitations of owning a rental property. When you recognize the pros and cons of rental property investment, you can calculate whether this investment option suits your personal circumstances and long-term financial goals.\\nRental Income\\nThe most immediate benefit of rental property investing is the income you derive from renters. Ideally, your rental income should offset the mortgage and/or managing expenses incurred by the rental property. If a rental property sustains positive rental yield, you can use the increased annual cash flow to renovate the property, purchase another property, or diversify your investment portfolio.\\nProperty Value Growth', metadata={'url': 'https://listwithclever.com/real-estate-blog/pros-and-cons-of-investing-in-rental-properties/'}),\n",
       " Document(page_content='20 must-know pros and cons of owning rental property\\nThe main reasons people purchase rental property – as well as any other asset – is to make money and build wealth over the long term. As with any other market, housing prices and demand for rental property can fluctuate up and down, depending on the real estate market cycle.\\nResidential rental properties come in all shapes and sizes. From single-family rental homes to condos and coops, townhouses and mobile homes, small multifamily properties with 2 to 4 units, fractional ownership shares of a home, crowdfunds and REITs.\\nThat’s one of the best things about real estate. There’s literally something for everyone who wants to invest in rental property.\\nHowever, just because owning a rental property may sound like an attractive investment, investing in real estate may not be the right decision for everyone. Let’s take a look at some of the biggest pros and cons of owning a rental property today.\\nKey takeaways', metadata={'url': 'https://learn.roofstock.com/blog/pros-and-cons-of-owning-rental-property'}),\n",
       " Document(page_content=\"Rental Properties: Pros and Cons\\nRental Properties: Pros and Cons\\nPete Rathburn is a copy editor and fact-checker with expertise in economics and personal finance and over twenty years of experience in the classroom.\\nOwning a rental property can be financially rewarding. If you're exploring this type of real estate as an investment, be aware of the risks and responsibilities.\\nRental Properties: An Overview\\nThe idea of buying a home or apartment to rent out for profit may sound alluring. But buying a rental property for income and long-term capital appreciation can have its ups and downs. For example, the housing market can fluctuate depending on location, supply and demand, and the economy.\", metadata={'url': 'https://www.investopedia.com/articles/investing/051515/pros-cons-owning-rental-property.asp'}),\n",
       " Document(page_content='Financially speaking, in order for the rental property to be really profitable, the return you reap should be greater than what you could earn in conservative investments, such as bonds and dividend-paying blue-chip stocks, because of the real risks involved. And on the human side, not everyone has the ability to manage property and tenants.\\nKey Takeaways\\nPros\\xa0of Rental Properties\\nThere are several benefits to owning a rental property. They include:\\nTax Benefits\\nThe Internal Revenue Service allows you to deduct many expenses connected with rental property in the categories of:\\nThis means that you can deduct your insurance, interest on your mortgage, maintenance costs, and physical wear-and-tear on your property.', metadata={'url': 'https://www.investopedia.com/articles/investing/051515/pros-cons-owning-rental-property.asp'}),\n",
       " Document(page_content='Clever’s Concierge Team can help you compare top local agents and negotiate better rates.\\nClever’s Concierge Team can help you compare top local agents and find the best expert for your search.\\n7 Pros and Cons of Investing In Rental Properties\\nSHARE\\nInvesting in a rental property and securing reliable tenants can be an excellent way to secure passive income. If you’re thinking of investing in a rental property, make sure you understand the advantages and disadvantages that come with this investment option.\\nWhen it comes to property investing, it’s easy to feel intimidated by the sheer volume of information available to novice investors. Although investing in property can be a time-consuming and stressful process, making the right property investment is one of the best ways to get on the fast-track to financial independence.\\nWhat is Rental Property Investing?', metadata={'url': 'https://listwithclever.com/real-estate-blog/pros-and-cons-of-investing-in-rental-properties/'}),\n",
       " Document(page_content='Is rental property a good investment? Weighing pros & cons\\nWhen people have cash to invest, one of the first things they frequently think about is investing in real estate. Rental properties can generate additional income, increase in value, and offer tax benefits.\\nOn the other side of the coin, owning real estate isn’t nearly as easy as it might seem. Keep reading to learn more about why people invest in real estate, and to understand if rental property is really a good investment.\\nKey takeaways\\nRental properties can be a strong alternative to more volatile investments\\nWith inflation on the rise, turbulence in China and the Middle East, and the Federal Reserve’s promise to taper, many investors are looking at rental property as an alternative to common equities like stocks and bonds.', metadata={'url': 'https://learn.roofstock.com/blog/is-rental-property-a-good-investment'}),\n",
       " Document(page_content='More From Forbes\\nExploring The Pros And Cons Of Real Estate Investment\\nAuthor, Serial Entrepreneur, Real Estate Investor, Stock Trader & cofounder of The Ligon Group.\\nInvesting in real estate has long been considered one of the most reliable ways to build long-lasting wealth. Profitable real estate investments offer steady income, potential for appreciation and various tax benefits.\\nHowever, like any investment, real estate comes with its own set of pros and cons that potential investors should carefully consider.\\nPros Of Investing In Real Estate\\n• Steady income: One of the most appealing aspects of investing in real estate is the potential for a steady stream of rental income. Whether you invest in residential or commercial properties, rental income can provide a consistent cash flow that can be used to cover expenses or reinvest in more properties.', metadata={'url': 'https://www.forbes.com/sites/forbesbusinesscouncil/2023/10/30/exploring-the-pros-and-cons-of-real-estate-investment/'}),\n",
       " Document(page_content='SFRs are uncorrelated to stocks\\nCorrelation is a statistic investors use to measure the degree that two asset classes move in relation to one another. A correlation coefficient of 1.00 means that two assets are perfectly correlated, while a correlation coefficient of 0.00 means they are perfectly uncorrelated.\\nSince 1971, single-family rental prices and stock prices have had a correlation coefficient of just 0.07. That means for the past 50 years, there is effectively no correlation between SFR prices and stock prices.\\nInvestors who add rental property to their investment portfolios can help to reduce their exposure to risk that the volatile swings of stocks and bonds historically bring.\\nPros and cons of investing in rental property\\nIn addition to stable returns and independence from the stock market, there are a variety of other factors that help to make rental property a good investment.', metadata={'url': 'https://learn.roofstock.com/blog/is-rental-property-a-good-investment'})]"
      ]
     },
     "execution_count": 8,
     "metadata": {},
     "output_type": "execute_result"
    }
   ],
   "source": [
    "parallel_ans[0]"
   ]
  },
  {
   "cell_type": "code",
   "execution_count": 13,
   "id": "77365200",
   "metadata": {},
   "outputs": [],
   "source": [
    "full_prompt = generate_report_prompt('investment strategies', parallel_ans)"
   ]
  },
  {
   "cell_type": "code",
   "execution_count": null,
   "id": "4127d1d5",
   "metadata": {},
   "outputs": [],
   "source": []
  },
  {
   "cell_type": "code",
   "execution_count": 36,
   "id": "86d63a1a",
   "metadata": {},
   "outputs": [],
   "source": [
    "import tiktoken\n",
    "\n",
    "\n",
    "def num_tokens_from_string(string: str) -> int:\n",
    "    \"\"\"Returns the number of tokens in a text string.\"\"\"\n",
    "    encoding = tiktoken.encoding_for_model(\"gpt-3.5-turbo\")\n",
    "    num_tokens = len(encoding.encode(string))\n",
    "    return num_tokens"
   ]
  },
  {
   "cell_type": "code",
   "execution_count": null,
   "id": "0806e55b",
   "metadata": {},
   "outputs": [],
   "source": []
  },
  {
   "cell_type": "code",
   "execution_count": 37,
   "id": "357c4059",
   "metadata": {},
   "outputs": [
    {
     "name": "stdout",
     "output_type": "stream",
     "text": [
      "1025\n"
     ]
    }
   ],
   "source": [
    "print(num_tokens_from_string(parallel_ans))"
   ]
  },
  {
   "cell_type": "code",
   "execution_count": 39,
   "id": "84c54b53",
   "metadata": {},
   "outputs": [
    {
     "data": {
      "text/plain": [
       "0.01"
      ]
     },
     "execution_count": 39,
     "metadata": {},
     "output_type": "execute_result"
    }
   ],
   "source": [
    "0.0010*8 + 0.002"
   ]
  },
  {
   "cell_type": "code",
   "execution_count": 40,
   "id": "9fcf8779",
   "metadata": {},
   "outputs": [
    {
     "data": {
      "text/plain": [
       "0.05"
      ]
     },
     "execution_count": 40,
     "metadata": {},
     "output_type": "execute_result"
    }
   ],
   "source": [
    "0.01*5"
   ]
  },
  {
   "cell_type": "code",
   "execution_count": 21,
   "id": "a96f69a9",
   "metadata": {},
   "outputs": [
    {
     "ename": "NameError",
     "evalue": "name 'agent_role' is not defined",
     "output_type": "error",
     "traceback": [
      "\u001b[0;31m---------------------------------------------------------------------------\u001b[0m",
      "\u001b[0;31mNameError\u001b[0m                                 Traceback (most recent call last)",
      "Cell \u001b[0;32mIn[21], line 1\u001b[0m\n\u001b[0;32m----> 1\u001b[0m \u001b[43magent_role\u001b[49m\n",
      "\u001b[0;31mNameError\u001b[0m: name 'agent_role' is not defined"
     ]
    }
   ],
   "source": [
    "agent_role"
   ]
  },
  {
   "cell_type": "code",
   "execution_count": 23,
   "id": "7bf39b6e",
   "metadata": {},
   "outputs": [],
   "source": [
    "async def generate_report(context, question, agent_role):\n",
    "    \n",
    "    # try and except block remaining\n",
    "    response = await create_chat_completion(\n",
    "            messages = [\n",
    "                    {\"role\": \"system\", \"content\": f\"{agent_role}\"},\n",
    "                    {\"role\": \"user\", \"content\": f\"task: {generate_report_prompt(question, context)}\"}], \n",
    "            model=model\n",
    "    )\n",
    "    \n",
    "    return response"
   ]
  },
  {
   "cell_type": "code",
   "execution_count": null,
   "id": "27bffcea",
   "metadata": {},
   "outputs": [],
   "source": []
  },
  {
   "cell_type": "code",
   "execution_count": null,
   "id": "3b445653",
   "metadata": {},
   "outputs": [],
   "source": []
  },
  {
   "cell_type": "code",
   "execution_count": null,
   "id": "e8a04d5d",
   "metadata": {},
   "outputs": [],
   "source": []
  },
  {
   "cell_type": "code",
   "execution_count": null,
   "id": "e9479749",
   "metadata": {},
   "outputs": [],
   "source": []
  },
  {
   "cell_type": "code",
   "execution_count": 60,
   "id": "5c5cde24",
   "metadata": {},
   "outputs": [],
   "source": [
    "r = Researcher('Investment strategies and buying rental properties')"
   ]
  },
  {
   "cell_type": "code",
   "execution_count": null,
   "id": "b1f85c75",
   "metadata": {},
   "outputs": [],
   "source": []
  },
  {
   "cell_type": "code",
   "execution_count": null,
   "id": "3ca7c5e0",
   "metadata": {},
   "outputs": [],
   "source": []
  },
  {
   "cell_type": "code",
   "execution_count": null,
   "id": "ebe454c6",
   "metadata": {},
   "outputs": [],
   "source": []
  },
  {
   "cell_type": "code",
   "execution_count": null,
   "id": "8fbe759b",
   "metadata": {},
   "outputs": [],
   "source": []
  },
  {
   "cell_type": "code",
   "execution_count": null,
   "id": "1a0f72b2",
   "metadata": {},
   "outputs": [],
   "source": []
  },
  {
   "cell_type": "code",
   "execution_count": null,
   "id": "cc12d195",
   "metadata": {},
   "outputs": [],
   "source": []
  },
  {
   "cell_type": "code",
   "execution_count": null,
   "id": "4927897f",
   "metadata": {},
   "outputs": [],
   "source": []
  },
  {
   "cell_type": "code",
   "execution_count": 61,
   "id": "98cf7454",
   "metadata": {},
   "outputs": [
    {
     "name": "stdout",
     "output_type": "stream",
     "text": [
      "📘 Starting research for query: Investment strategies and buying rental properties\n",
      "Running 💰 Finance Agent ...\n",
      "🔍 Searching web with query: Best investment strategies for rental properties\n",
      "✅ Adding url https://www.forbes.com/advisor/investing/rental-property-real-estate-investing/ to our research\n",
      "✅ Adding url https://smartasset.com/investing/investing-in-rental-property-for-beginners to our research\n",
      "✅ Adding url https://www.investopedia.com/articles/investing/090815/buying-your-first-investment-property-top-10-tips.asp to our research\n",
      "✅ Adding url https://www.mashvisor.com/blog/rental-property-investment-strategy-definitive-guide/ to our research\n",
      "✅ Adding url https://www.moneygeek.com/mortgage/resources/rental-property-investing/ to our research\n",
      "🔍 Searching web with query: Pros and cons of buying rental properties as an investment\n",
      "✅ Adding url https://learn.roofstock.com/blog/pros-and-cons-of-owning-rental-property to our research\n",
      "✅ Adding url https://www.investopedia.com/articles/investing/051515/pros-cons-owning-rental-property.asp to our research\n",
      "✅ Adding url https://listwithclever.com/real-estate-blog/pros-and-cons-of-investing-in-rental-properties/ to our research\n",
      "✅ Adding url https://www.moneycrashers.com/buying-rental-property-investment/ to our research\n",
      "✅ Adding url https://blog.openforhomes.com/investing-rental-properties/ to our research\n",
      "🔍 Searching web with query: Rental property market trends and analysis\n",
      "✅ Adding url https://www.nerdwallet.com/article/finance/rental-market-trends to our research\n",
      "✅ Adding url https://www.zillow.com/rental-manager/market-trends/ to our research\n",
      "✅ Adding url https://www.zillowstatic.com/bedrock/app/uploads/sites/42/2023/11/Zillow-Rentals-Consumer-Housing-Trends-Report-2024.pdf to our research\n",
      "✅ Adding url https://www.forbes.com/sites/forbesbusinesscouncil/2023/09/21/guide-to-rental-property-investing-trends-and-developments/ to our research\n",
      "✅ Adding url https://www.statista.com/topics/4465/rental-market-in-the-us/ to our research\n",
      "🔍 Searching web with query: Investment strategies and buying rental properties\n",
      "✅ Adding url https://www.rocketmortgage.com/learn/buying-rental-house to our research\n",
      "✅ Adding url https://learn.roofstock.com/blog/how-to-buy-rental-property to our research\n"
     ]
    }
   ],
   "source": [
    "x = await r.run()"
   ]
  },
  {
   "cell_type": "code",
   "execution_count": 38,
   "id": "c1f78554",
   "metadata": {},
   "outputs": [
    {
     "data": {
      "text/plain": [
       "[[Document(page_content=\"Rental Properties: Pros and Cons\\nRental Properties: Pros and Cons\\nPete Rathburn is a copy editor and fact-checker with expertise in economics and personal finance and over twenty years of experience in the classroom.\\nOwning a rental property can be financially rewarding. If you're exploring this type of real estate as an investment, be aware of the risks and responsibilities.\\nRental Properties: An Overview\\nThe idea of buying a home or apartment to rent out for profit may sound alluring. But buying a rental property for income and long-term capital appreciation can have its ups and downs. For example, the housing market can fluctuate depending on location, supply and demand, and the economy.\", metadata={'url': 'https://www.investopedia.com/articles/investing/051515/pros-cons-owning-rental-property.asp'}),\n",
       "  Document(page_content='The Pros and Cons of Investing in Rental Properties\\nLike any investment, it’s important that you understand the benefits and limitations of owning a rental property. When you recognize the pros and cons of rental property investment, you can calculate whether this investment option suits your personal circumstances and long-term financial goals.\\nRental Income\\nThe most immediate benefit of rental property investing is the income you derive from renters. Ideally, your rental income should offset the mortgage and/or managing expenses incurred by the rental property. If a rental property sustains positive rental yield, you can use the increased annual cash flow to renovate the property, purchase another property, or diversify your investment portfolio.\\nProperty Value Growth', metadata={'url': 'https://listwithclever.com/real-estate-blog/pros-and-cons-of-investing-in-rental-properties/'}),\n",
       "  Document(page_content='20 must-know pros and cons of owning rental property\\nThe main reasons people purchase rental property – as well as any other asset – is to make money and build wealth over the long term. As with any other market, housing prices and demand for rental property can fluctuate up and down, depending on the real estate market cycle.\\nResidential rental properties come in all shapes and sizes. From single-family rental homes to condos and coops, townhouses and mobile homes, small multifamily properties with 2 to 4 units, fractional ownership shares of a home, crowdfunds and REITs.\\nThat’s one of the best things about real estate. There’s literally something for everyone who wants to invest in rental property.\\nHowever, just because owning a rental property may sound like an attractive investment, investing in real estate may not be the right decision for everyone. Let’s take a look at some of the biggest pros and cons of owning a rental property today.\\nKey takeaways', metadata={'url': 'https://learn.roofstock.com/blog/pros-and-cons-of-owning-rental-property'}),\n",
       "  Document(page_content='Financially speaking, in order for the rental property to be really profitable, the return you reap should be greater than what you could earn in conservative investments, such as bonds and dividend-paying blue-chip stocks, because of the real risks involved. And on the human side, not everyone has the ability to manage property and tenants.\\nKey Takeaways\\nPros\\xa0of Rental Properties\\nThere are several benefits to owning a rental property. They include:\\nTax Benefits\\nThe Internal Revenue Service allows you to deduct many expenses connected with rental property in the categories of:\\nThis means that you can deduct your insurance, interest on your mortgage, maintenance costs, and physical wear-and-tear on your property.', metadata={'url': 'https://www.investopedia.com/articles/investing/051515/pros-cons-owning-rental-property.asp'}),\n",
       "  Document(page_content='Clever’s Concierge Team can help you compare top local agents and negotiate better rates.\\nClever’s Concierge Team can help you compare top local agents and find the best expert for your search.\\n7 Pros and Cons of Investing In Rental Properties\\nSHARE\\nInvesting in a rental property and securing reliable tenants can be an excellent way to secure passive income. If you’re thinking of investing in a rental property, make sure you understand the advantages and disadvantages that come with this investment option.\\nWhen it comes to property investing, it’s easy to feel intimidated by the sheer volume of information available to novice investors. Although investing in property can be a time-consuming and stressful process, making the right property investment is one of the best ways to get on the fast-track to financial independence.\\nWhat is Rental Property Investing?', metadata={'url': 'https://listwithclever.com/real-estate-blog/pros-and-cons-of-investing-in-rental-properties/'}),\n",
       "  Document(page_content='Is rental property a good investment? Weighing pros & cons\\nWhen people have cash to invest, one of the first things they frequently think about is investing in real estate. Rental properties can generate additional income, increase in value, and offer tax benefits.\\nOn the other side of the coin, owning real estate isn’t nearly as easy as it might seem. Keep reading to learn more about why people invest in real estate, and to understand if rental property is really a good investment.\\nKey takeaways\\nRental properties can be a strong alternative to more volatile investments\\nWith inflation on the rise, turbulence in China and the Middle East, and the Federal Reserve’s promise to taper, many investors are looking at rental property as an alternative to common equities like stocks and bonds.', metadata={'url': 'https://learn.roofstock.com/blog/is-rental-property-a-good-investment'}),\n",
       "  Document(page_content='SFRs are uncorrelated to stocks\\nCorrelation is a statistic investors use to measure the degree that two asset classes move in relation to one another. A correlation coefficient of 1.00 means that two assets are perfectly correlated, while a correlation coefficient of 0.00 means they are perfectly uncorrelated.\\nSince 1971, single-family rental prices and stock prices have had a correlation coefficient of just 0.07. That means for the past 50 years, there is effectively no correlation between SFR prices and stock prices.\\nInvestors who add rental property to their investment portfolios can help to reduce their exposure to risk that the volatile swings of stocks and bonds historically bring.\\nPros and cons of investing in rental property\\nIn addition to stable returns and independence from the stock market, there are a variety of other factors that help to make rental property a good investment.', metadata={'url': 'https://learn.roofstock.com/blog/is-rental-property-a-good-investment'})],\n",
       " [Document(page_content='Investing in the Best Long Term and Short Term Rentals Markets in 2023\\nSo, weâ\\x80\\x99ve provided you with the 20 best rental markets in the US for 2023. They offer the highest possible return on investment (in terms of cash on cash return) in addition to relatively affordable prices and strong rental demand for the respective strategy. If youâ\\x80\\x99d like to optimize your investment outcomes, itâ\\x80\\x99s a good idea to focus on these top locations.\\nWhile investing in real estate can be scary for first-time investors, US housing market predictions for 2023 show that this is a great time to buy a long term or short term rental. A lack of previous experience or significant knowledge should not prevent you from making money with real estate.', metadata={'url': 'https://www.mashvisor.com/blog/fastest-growing-rental-markets-us/'}),\n",
       "  Document(page_content='So, investing in a long term rental property in a small market seems to be one of the most profitable strategies, at least at the beginning of 2023. Nevertheless, weâ\\x80\\x99d like to advise investors to keep a close eye on trends as they might start to change mid-year. As much as 90% of employers will require workers to return to the office in 2023, at least partially.\\nThe strengthening of the hybrid work model might force – at least some – employees to return to major US cities, which will affect demand for long term rentals. It might cause a gradual change in the top US cities and towns for investment.\\n3. High Real Estate Prices\\nThirdly, our analysis reveals that the top locations to buy long term rental properties in 2023 share high median property prices. All of these markets have a median home value above the $500,000 benchmark, with a few of them above $800,000. The figure is quite high compared to the US median residential real estate price of $357,319, as reported by Zillow.', metadata={'url': 'https://www.mashvisor.com/blog/fastest-growing-rental-markets-us/'}),\n",
       "  Document(page_content='Step 2: Figure Out the Top Neighborhoods for Your Rental Strategy\\nThe next step in finding a profitable rental property in the best rental markets for 2023 is choosing the top neighborhood for your preferred strategy. Real estate investment is highly local. It means that both the city and the area within the city affect all indicators and, ultimately, your ROI.\\nMashvisor offers two tools that can help you greatly with neighborhood analysis. First, you can use the real estate heatmap to locate the best areas for either long term or short term rentals in any US market. You can find neighborhoods with:\\nSecond, once youâ\\x80\\x99ve got a general idea of a few promising areas, you can use the Mashvisor neighborhood analysis pages to deepen your research. For each neighborhood, you will get access to comprehensive real estate data, as well as long term and short term rental data.\\nSome numbers include:', metadata={'url': 'https://www.mashvisor.com/blog/fastest-growing-rental-markets-us/'}),\n",
       "  Document(page_content='This trend can be largely explained by the impact of the Coronavirus pandemic on the US real estate market and vacation rental industry. In 2021 and 2022, major short term rental listings platforms like Airbnb reported a noticeable shift in preferences among travelers following the pandemic.\\nSpecifically, more and more short term rental guests got interested in smaller, traditionally less popular places in proximity to natural attractions like parks, mountains, lakes, and others. Guests also showed an increased demand for properties with amenities offering opportunities for outdoor activities, including patios, barbeques, playgrounds, etc.\\nSo, if youâ\\x80\\x99re planning to buy a short term rental in 2023, thatâ\\x80\\x99s a trend that you should definitely take into consideration. Investing in one of these top locations will help you boost Airbnb occupancy rate, as well as daily rates, which are the two most important factors affecting ROI for vacation rentals.\\n3. Affordable Real Estate Values', metadata={'url': 'https://www.mashvisor.com/blog/fastest-growing-rental-markets-us/'}),\n",
       "  Document(page_content='How to Find a Profitable Rental Property in the Best Rental Markets\\nIdentifying the top locations for your selected rental strategy is the first step in the process of buying a profitable long term or short term rental property. There are a few more steps that you need to take in order to guarantee a successful real estate investment.\\nBelow, weâ\\x80\\x99ve provided a step-by-step guide to what it takes to find a profitable rental property in the US market in 2023.\\nStep 1: Check Out the Rental Market Regulatory Environment\\nA successful rental business is a business that is not only profitable but also legal. The last thing you want as a landlord or an Airbnb host is to run into problems with the local authorities because of not complying with the rules in the market.', metadata={'url': 'https://www.mashvisor.com/blog/fastest-growing-rental-markets-us/'}),\n",
       "  Document(page_content='So, where are the hottest housing markets for 2023?\\nWithout further ado, here are the 10 top places to buy a long term rental property in 2023, ranked in descending order in terms of cash and cash return. Note that a few Arkansas and Florida markets are present in the list.\\n1. Lantana, Florida\\nStart searching for profitable long term rental properties in Lantana FL.\\n2. Saint Petersburg, Florida\\n3. Williamsburg, Virginia\\n4. Charleston, South Carolina\\n5. Fayetteville, Arkansas\\n6. Granbury, Texas\\n7. Springdale, Arkansas\\n8. Lake Havasu City, Arizona\\n9. Mount Pleasant, South Carolina\\n10. Bentonville, Arkansas\\nTo start searching for the most profitable long term rentals in these top locations or any other US market, click here.\\nThe 10 Best Short Term Rental Markets in 2023', metadata={'url': 'https://www.mashvisor.com/blog/fastest-growing-rental-markets-us/'}),\n",
       "  Document(page_content='Use the Best Real Estate Technology Tools Throughout\\nAs a final piece of advice, weâ\\x80\\x99d like to emphasize the importance of using the best real estate investment tools when looking for top-performing properties in the best rental markets. It is not really a step in the process but rather something that you should ensure throughout.\\nTraditionally, an investor needs to allocate three months to real estate research and analysis in order to find a profitable opportunity. The said duration has been brought down to just 15 minutes by the Mashvisor rental analysis platform.\\nMoreover, the results produced by the Mashvisor technology are much more robust and reliable than those from manual research. It is because they are based on the performance of all real estate comps and rental comps in the area and not just a small number of them.\\nTo find the top long term and short term rental properties for sale in the best rental markets in the US in 2023, sign up for a 7-day free trial of Mashvisor.', metadata={'url': 'https://www.mashvisor.com/blog/fastest-growing-rental-markets-us/'}),\n",
       "  Document(page_content='The 10 Best Long Term Rental Markets in 2023\\nNow that you know what features make for the top locations to buy a long term rental property this year, itâ\\x80\\x99s time to see which US cities and towns made it to the list.\\nOur ranking of the best rental markets for long term rentals in 2023 is based on Mashvisor nationwide real estate market analysis. Our team collected real estate and rental data from the entire US market before applying our AI-based, machine learning algorithms. It allowed us to locate the top places for this investment strategy.\\nIn our ranking, weâ\\x80\\x99ve focused on the cash on cash return. In other words, the best real estate markets are those that offer the highest long term rental cash on cash return in January 2023.\\nAdditionally, weâ\\x80\\x99ve included markets that meet the following criteria:\\nSo, where are the hottest housing markets for 2023?', metadata={'url': 'https://www.mashvisor.com/blog/fastest-growing-rental-markets-us/'}),\n",
       "  Document(page_content='Rental Property Calculator: Calculate Investment Property ROI\\n100 Best Short Term Rental Markets in 2023\\nHow to Buy an Airbnb Investment Property\\nAirbnb Rental Arbitrage: The Complete Guide\\n7 Best Investment Software for Real Estate Investors\\nTop 5 Websites to Analyze Investment Property\\n5 Steps to Finding the Best Rental Investment Property for Sale\\nThe Best Real Estate Competitive Market Analysis Software for 2023\\nWhat Is a Good Cash on Cash Return?: A Complete Guide\\nLooking for anInvestment Property?\\nUse analytics to ï¬\\x81nd lucrative traditional or Airbnb properties in a matter of minutes.\\nCompany\\nProduct\\nSolutions\\nFeatures\\nResources\\nExplore\\nReal Estate Markets\\nÂ© Copyright 2016 - 2023 Mashvisor. All rights reserved', metadata={'url': 'https://www.mashvisor.com/blog/fastest-growing-rental-markets-us/'})],\n",
       " [Document(page_content='Related topics\\nRecommended\\nReport on the topic\\nKey figures\\nThe most important key figures provide you with a compact summary of the topic of \"Rental market in the U.S.\" and take you straight to the corresponding statistics.\\nRenting vs owning\\nHomeownership rate in the U.S. 1990-2022\\nMultifamily property rent as a share of household income in the U.S. 2021, by city\\nMain reasons non-owners don\\'t currently own a home U.S. 2022\\nTenants\\nShare of residents who are renters in the U.S. 2020, by structure type\\nShare of residents who are renters in the U.S. 2020, by age\\nNumber of housing cost burdened households in the U.S. among renters 2003-2021\\nCoronavirus (COVID-19) effect\\nShare of renters with rent arrears in the U.S. 2022, by age group\\nShare of renters with rent arrears in the U.S. 2022, by race\\nFurther reportsGet the best reports to understand your industry\\nGet the best reports to understand your industry\\nContact\\nMon - Fri, 9am - 6pm (EST)\\nMon - Fri, 9am - 5pm (SGT)', metadata={'url': 'https://www.statista.com/topics/4465/rental-market-in-the-us/'}),\n",
       "  Document(page_content='Rental vacancy rates in the U.S. 2000-2023, by region\\nRental vacancy rates in the United States from 2000 to 2023, by region\\nU.S. housing stock: vacant rental units 2012-2022\\nNumber of unoccupied rental housing units in the United States from 2012 to 2nd quarter 2022\\nMarket share of rental property review sites U.S. 2021\\nMarket share of rental property review sites in the United States in 2021\\nRental costs\\nRental costs\\nAsking rent for unfurnished apartments in the U.S. 1980-2023\\nMonthly median asking rent for unfurnished apartments in the United States from 1980 to 2023 (in U.S. dollars)\\nRent for small and medium apartments in different states in the U.S. 2022\\nAverage monthly rent for one and two bedroom apartments in the United States as of September 2022, by state (in U.S. dollars)\\nYear-on-year apartment rent change in the U.S. 2021-2022, by state\\nAnnual change in average monthly apartment rent in the United States as of March 2021 and March 2022, by state', metadata={'url': 'https://www.statista.com/topics/4465/rental-market-in-the-us/'}),\n",
       "  Document(page_content=\"Rental Market Trends in the U.S. — Rents Accelerate Again\\nMany or all of the products featured here are from our partners who compensate us. This influences which products we write about and where and how the product appears on a page. However, this does not influence our evaluations. Our opinions are our own. Here is a list of our partners and here's how we make money.\\nUpdated Nov. 8 with the latest Zillow data for rent.\\nMore than 35% of households in the U.S. rent homes, according to 2017-2021 data from the U.S. Census Bureau[0]U.S. Census Bureau. QuickFacts, United States. Accessed Feb 13, 2023.View all sources. Over the last few years it’s become more expensive than ever to rent. But price growth is continuing to slow down since hitting an annual peak of 16% in Feb. 2022.\", metadata={'url': 'https://www.nerdwallet.com/article/finance/rental-market-trends'}),\n",
       "  Document(page_content='Customized Research & Analysis projects:\\nGet quick analyses with our professional research service\\nThe best of the best: the portal for top lists & rankings:\\nTransforming data into design:\\nStatista Content & Design\\nStrategy and business building for the data-driven economy:\\nU.S. Residential Rental Market - statistics & facts\\nHow much does renting an apartment in different states in the U.S. cost?\\nA profile of the American renter\\nKey insights\\nDetailed statistics\\nAverage monthly apartment rent in the U.S. 2017-2023, by apartment size\\nDetailed statistics\\nApartment rent in the United States in 2020-2022, by state\\nDetailed statistics\\nYear-on-year apartment rent change in the U.S. 2021-2022, by state\\nEditor’s Picks\\nCurrent statistics on this topic\\nCurrent statistics on this topic\\nApartments\\nAverage monthly apartment rent in the U.S. 2017-2023, by apartment size\\nApartments\\nStudio apartment rent in the different states in the U.S. in 2021\\nApartments', metadata={'url': 'https://www.statista.com/topics/4465/rental-market-in-the-us/'}),\n",
       "  Document(page_content='Lack of inventory. There is a shortage of vacant rental properties in general, and of affordable ones in particular.\\nExpired rent freezes and discounts. Landlords are making up for pandemic-era rent freezes and steep discounts in urban areas by hiking prices on new units and lease renewals.\\nA shifting workforce. As the pandemic increased the popularity of remote work, deep-pocketed renters sought larger homes in areas that had been previously relatively low-cost. This migration increased rents in suburban areas more than it lowered them in urban ones, yielding a net increase in rents.\\nMore demand to live alone. Prospective renters are increasingly looking for studio and one-bedroom apartments, driving up demand for available housing, according to a November 2022 report from the real estate website StreetEasy.', metadata={'url': 'https://www.nerdwallet.com/article/finance/rental-market-trends'}),\n",
       "  Document(page_content=\"» MORE: 7 tips for getting an apartment without a credit check\\nWho is most likely to rent?\\nSingle people are more likely to rent than couples, regardless of whether they have children, according to a 2022 rental housing report from Harvard University [0]Joint Center for Housing Studies of Harvard University. America's Rental Housing 2022. Accessed Feb 13, 2023.View all sources . Hispanic, Black and Asian residents are more likely to rent than own homes when compared with white residents. Those with incomes at or below $74,999 are more likely to rent than own compared with those with incomes $75,000 and over.\\n» MORE: \\xa0What does renters insurance cover?\\nDespite soaring rents, it’s still less expensive to rent than to buy. The typical rent for an average three-bedroom place is still more affordable than owning a similar-sized home in 95% of the 222 U.S. counties analyzed by ATTOM, a land and property real estate data curator, in its 2023 Rental Affordability Report.\", metadata={'url': 'https://www.nerdwallet.com/article/finance/rental-market-trends'}),\n",
       "  Document(page_content='Industry Overview\\nDigital & Trend reports\\nOverview and forecasts on trending topics\\nIndustry & Market reports\\nIndustry and market insights and forecasts\\nCompanies & Products reports\\nKey figures and rankings about companies and products\\nConsumer & Brand reports\\nConsumer and brand insights and preferences in various industries\\nPolitics & Society reports\\nDetailed information about political and social topics\\nCountry & Region reports\\nAll key figures about countries and regions\\nMarket forecast and expert KPIs for 1000+ markets in 190+ countries & territories\\nInsights on consumer attitudes and behavior worldwide\\nBusiness information on 100m+ public and private companies\\nExplore Company Insights\\nDetailed information for 39,000+ online stores and marketplaces\\nDirectly accessible data for 170 industries from 150+ countries\\nand over 1\\xa0Mio. facts.\\nCustomized Research & Analysis projects:\\nGet quick analyses with our professional research service', metadata={'url': 'https://www.statista.com/topics/4465/rental-market-in-the-us/'}),\n",
       "  Document(page_content=\"The generation of adults most likely to rent is Gen Z with 74% of the cohort renting their homes, according to a March 29 data analysis by RentCafe, an apartment listing service. That's a pretty recent development since Millennial home buyers only began to outweigh renters in the cohort as of 2022, the data shows. The analysis found 51.5% of millennials now own their own home. The amount of millennial homeowners increased 28% from 2019 to 2022. But baby boomers are still the dominant generation owning their own homes, representing 40% of all homeowners in the U.S.\\nRent vs. income\\nGenerally, households should be spending no more than 30% of their gross income on rent, according to the NYU Furman Center [0]NYU Furman Center. State of Renters and Their Homes. Accessed Feb 13, 2023.View all sources .\", metadata={'url': 'https://www.nerdwallet.com/article/finance/rental-market-trends'})],\n",
       " [Document(page_content='Beginner’s Guide to Rental Property Investing\\nReal estate investments can help diversify your portfolio while creating an additional income stream. There are different ways to invest in real estate, including owning one or more rental properties. Getting started with rental investments means understanding how to find properties, how to purchase them and how to use them to turn a profit. It’s a bit more involved than picking stocks or mutual funds, but there’s solid reward potential if you’re open to learning the ropes. Here’s a beginner’s guide to investing in rental property.\\nA financial advisor can help you diversify your portfolio with real estate and other investments.\\nTypes of Rental Properties for Investment\\nRental properties aren’t all alike in terms of how you can use them to create streams of income. There are three different ways to leverage rental properties in a portfolio:\\nEach of these three types of rental arrangements require getting answers to specific questions.', metadata={'url': 'https://smartasset.com/investing/investing-in-rental-property-for-beginners'}),\n",
       "  Document(page_content='10 Tips For Buying Your First Rental Property\\nKey Takeaways\\nWhy invest in rental properties?\\n10 tips for buying rental properties\\nThe concept of buying first rental property assets is one of the best ways to begin accumulating long-term wealth. A solid rental property can not only provide you with monthly cash flow, but can serve as the backbone of your retirement plan. The key, however, is finding the right property. Not every quality property you look at will make a good rental property. It takes the right mix of demand and location to maximize your return. If you have been interested in owning a rental, but weren’t sure what steps to take, here are some suggestions on buying first rental property assets.\\nWhy Buy A Rental Property?', metadata={'url': 'https://www.fortunebuilders.com/how-to-buy-your-first-rental-property/'}),\n",
       "  Document(page_content=\"How to Invest in Rental Property\\nTips for buying your first rental property\\nThinking about purchasing an investment property? Purchasing rental real estate requires knowledge of leasing, mortgage loans, tenant and landlord relationships, and property management. Buying real estate can be lucrative but, just like any investment, comes with benefits and challenges.\\nKey Takeaways\\nSo You Want to Be a Landlord?\\nBuying investment property and acting as a landlord can be a good way to earn income, but requires a commitment of time and money. After choosing the right property, prepping the unit, and finding reliable tenants, ongoing maintenance is required.\\nMaintenance and upkeep costs can decrease your rental income. There's always the potential for an emergency, such as roof damage. Investors should plan to set aside 1% of their property's value for repairs.\", metadata={'url': 'https://www.investopedia.com/articles/investing/090815/buying-your-first-investment-property-top-10-tips.asp'}),\n",
       "  Document(page_content='Buying your first rental property gives you the flexibility to sell when the time is right. With consistent cash flow, owners aren’t typically forced to sell when they need more liquidity.\\nAppreciation is never guaranteed, but history has taught us that home values increase more often than not. As a result, rental property owners can usually depend on the appreciation of their assets.\\nBuying first rental property assets isn’t the only way to invest. That said, becoming a landlord is a great way to diversify any growing portfolio.\\n1. Do Your Homework', metadata={'url': 'https://www.fortunebuilders.com/how-to-buy-your-first-rental-property/'}),\n",
       "  Document(page_content='Buying a Rental Property\\nLocation, Location, Location\\nA city or locale where the population is growing or a revitalization plan is underway often represents a potential investment opportunity. A neighborhood with a low crime rate, easy access to public transportation, and a growing job market may also mean a larger pool of renters.\\nWhen choosing a profitable rental property, look for a location with low property taxes, a good school district, and a host of\\xa0amenities, such as restaurants, coffee shops, shopping, trails, and parks.\\nOnline real estate property sites like Zillow.com provide information for investors including home rental rates and current investment property values. Airbnb.com provides investors with information on the going rental rates for vacation homes or condos.\\nFinancing Your Rental Property', metadata={'url': 'https://www.investopedia.com/articles/investing/090815/buying-your-first-investment-property-top-10-tips.asp'}),\n",
       "  Document(page_content='Before you buy an investment property, review your options and learn the ins and outs of what it takes to own rental property.\\nYou’re Responsible For Everything\\nWhen you purchase a rental property, you’re in charge of buying a house (often a multifamily home), finding tenants and maintaining the property while collecting monthly rent and paying property taxes. When planned and well executed, buying rental properties can be an investment that eventually becomes a source of real estate income and profit.\\nIt’s important to consider what type of property you want to rent out. Different types of houses carry different types of responsibilities. For example, renting out a house with a lawn can involve more landscaping and lawn care than an apartment building in the city. However, buying a multifamily home or apartment building means finding more tenants and maintaining several rental units.\\nSee What You Qualify For\\nType of Loan\\nHome Description\\nProperty Use\\nYour Credit Profile', metadata={'url': 'https://www.rocketmortgage.com/learn/buying-rental-house'}),\n",
       "  Document(page_content='Condos can be a good option for rental property buyers and they are often located in desirable locations.\\nThe Bottom Line\\nAs with many investments, real estate rental property is often a long-term project. Yet, rental properties can be a lucrative way to invest in real estate and provide a passive, steady income for investors. Investing in rental property requires knowledge about tenant and landlord laws, leasing, mortgages, and property management.\\nLending Tree. \"Down Payment Requirements on Rental Property.\"\\nRenters Warehouse. \"How to Budget Maintenance For Your Rental Property.\"\\nApartments.com. \"How Much Does It Cost to Hire a Property Manager?\"\\nNOLO. \"State Landlord-Tenant Laws.\"\\nAllstate. \"What Does Landlord Insurance Cover?\"\\nAP Mortgage. \"Differences Between a Second Home and an Investment Property.\"\\nConsumer Financial Protection Bureau. \"Having a Problem With a Financial Product or Service?\"\\nU.S. Department of Housing and Urban Development. \"Complaints.\"', metadata={'url': 'https://www.investopedia.com/articles/investing/090815/buying-your-first-investment-property-top-10-tips.asp'}),\n",
       "  Document(page_content='Everything You Need To Know Before Buying Rental Property\\nVictoria Araj9-minute read\\nNovember 14, 2023\\nShare:\\nBuying a rental property is a big decision with big financial implications. You’ll want to find a location that’s easy to rent and a property that fits your budget. Then, you’ll need to figure out how to pay for your new investment property before you make an offer.\\nThough every property is different, the process of making savvy property investment decisions is the same.\\nLet’s look at what you need to know when buying a house to rent out, the different factors you’ll need to consider and what to look for when buying your first rental property.\\nWhat You Need To Know Before Investing In Rental Property\\nBecause the goal is to turn a profit quickly, buying a rental property differs from buying a house as a primary residence. That means you’ll need to treat your investment as a business, choosing affordable properties and finding the right way to finance them.', metadata={'url': 'https://www.rocketmortgage.com/learn/buying-rental-house'})]]"
      ]
     },
     "execution_count": 38,
     "metadata": {},
     "output_type": "execute_result"
    }
   ],
   "source": [
    "x"
   ]
  },
  {
   "cell_type": "code",
   "execution_count": 37,
   "id": "4eabd10a",
   "metadata": {},
   "outputs": [
    {
     "ename": "IndexError",
     "evalue": "list index out of range",
     "output_type": "error",
     "traceback": [
      "\u001b[0;31m---------------------------------------------------------------------------\u001b[0m",
      "\u001b[0;31mIndexError\u001b[0m                                Traceback (most recent call last)",
      "Cell \u001b[0;32mIn[37], line 1\u001b[0m\n\u001b[0;32m----> 1\u001b[0m \u001b[38;5;28mlen\u001b[39m(\u001b[43mx\u001b[49m\u001b[43m[\u001b[49m\u001b[38;5;241;43m4\u001b[39;49m\u001b[43m]\u001b[49m)\n",
      "\u001b[0;31mIndexError\u001b[0m: list index out of range"
     ]
    }
   ],
   "source": [
    "len(x[4])"
   ]
  },
  {
   "cell_type": "code",
   "execution_count": 19,
   "id": "23459f73",
   "metadata": {},
   "outputs": [
    {
     "name": "stdout",
     "output_type": "stream",
     "text": [
      "✅ Adding url https://www.sofi.com/learn/content/the-pros-and-cons-of-owning-rental-property/ to our research\n"
     ]
    }
   ],
   "source": [
    "something = await r.get_content_using_query('Pros and cons of investing in rental properties')"
   ]
  },
  {
   "cell_type": "code",
   "execution_count": null,
   "id": "35f76da5",
   "metadata": {},
   "outputs": [],
   "source": []
  },
  {
   "cell_type": "markdown",
   "id": "4299827e",
   "metadata": {},
   "source": [
    "## Playing with asyncio"
   ]
  },
  {
   "cell_type": "code",
   "execution_count": 79,
   "id": "8c574915",
   "metadata": {},
   "outputs": [],
   "source": [
    "import asyncio\n",
    "\n",
    "async def gg():\n",
    "    task = asyncio.create_task(haha())\n",
    "    print('A')\n",
    "    await asyncio.sleep(1)\n",
    "\n",
    "    print('B')\n",
    "    await task\n",
    "    \n",
    "async def haha():\n",
    "    print('1')\n",
    "    await asyncio.sleep(2)\n",
    "    print('2')"
   ]
  },
  {
   "cell_type": "code",
   "execution_count": 80,
   "id": "4caf1cd7",
   "metadata": {},
   "outputs": [
    {
     "name": "stdout",
     "output_type": "stream",
     "text": [
      "A\n",
      "1\n",
      "B\n",
      "2\n"
     ]
    }
   ],
   "source": [
    "await gg()"
   ]
  },
  {
   "cell_type": "code",
   "execution_count": 81,
   "id": "70167932",
   "metadata": {},
   "outputs": [
    {
     "name": "stdout",
     "output_type": "stream",
     "text": [
      "The CPU usage is :  18.609619140625\n"
     ]
    }
   ],
   "source": [
    "import os\n",
    "import psutil\n",
    "\n",
    "# Getting loadover15 minutes\n",
    "load1, load5, load15 = psutil.getloadavg()\n",
    "\n",
    "cpu_usage = (load15/os.cpu_count()) * 100\n",
    "\n",
    "print(\"The CPU usage is : \", cpu_usage)\n"
   ]
  },
  {
   "cell_type": "code",
   "execution_count": 83,
   "id": "37e9c413",
   "metadata": {},
   "outputs": [
    {
     "name": "stdout",
     "output_type": "stream",
     "text": [
      "Average CPU Usage during the CPU-intensive task: 19.1%\n"
     ]
    }
   ],
   "source": [
    "import psutil\n",
    "import time\n",
    "\n",
    "def cpu_intensive_task():\n",
    "    # Simulate a CPU-intensive task with a for loop\n",
    "    for _ in range(10**7):\n",
    "        _ = 2 ** 2  # Some simple computation\n",
    "\n",
    "# Get the process ID (PID) of the current Python script\n",
    "pid = psutil.Process().pid\n",
    "\n",
    "# Start measuring CPU usage\n",
    "psutil.cpu_percent(interval=None)\n",
    "\n",
    "# Perform CPU-intensive task\n",
    "cpu_intensive_task()\n",
    "\n",
    "# Stop measuring CPU usage and get the average percentage during the task\n",
    "cpu_usage = psutil.cpu_percent(interval=None)\n",
    "\n",
    "print(f\"Average CPU Usage during the CPU-intensive task: {cpu_usage}%\")\n"
   ]
  },
  {
   "cell_type": "code",
   "execution_count": null,
   "id": "d557ae3c",
   "metadata": {},
   "outputs": [],
   "source": []
  }
 ],
 "metadata": {
  "kernelspec": {
   "display_name": "okprofessor",
   "language": "python",
   "name": "okprofessor"
  },
  "language_info": {
   "codemirror_mode": {
    "name": "ipython",
    "version": 3
   },
   "file_extension": ".py",
   "mimetype": "text/x-python",
   "name": "python",
   "nbconvert_exporter": "python",
   "pygments_lexer": "ipython3",
   "version": "3.9.18"
  }
 },
 "nbformat": 4,
 "nbformat_minor": 5
}
