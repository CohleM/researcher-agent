{
 "cells": [
  {
   "cell_type": "code",
   "execution_count": 2,
   "id": "a7af7f1e",
   "metadata": {},
   "outputs": [
    {
     "data": {
      "text/plain": [
       "'/Users/cohlem/Projects/OkProfessor/researcher/notebooks'"
      ]
     },
     "execution_count": 2,
     "metadata": {},
     "output_type": "execute_result"
    }
   ],
   "source": [
    "pwd"
   ]
  },
  {
   "cell_type": "code",
   "execution_count": 5,
   "id": "975d24b4",
   "metadata": {},
   "outputs": [],
   "source": [
    "import sys\n",
    "sys.path.append('/Users/cohlem/Projects/OkProfessor/')"
   ]
  },
  {
   "cell_type": "code",
   "execution_count": null,
   "id": "16ab88da",
   "metadata": {},
   "outputs": [],
   "source": []
  },
  {
   "cell_type": "code",
   "execution_count": 77,
   "id": "1eb43822",
   "metadata": {},
   "outputs": [],
   "source": [
    "from researcher.config import Config\n",
    "from researcher.search.duckduckgo import Duckduckgo\n",
    "from researcher.utils.functions import * \n",
    "\n",
    "\n",
    "class Researcher:\n",
    "    def __init__(self, query ):\n",
    "        self.query = query\n",
    "        self.cfg = Config()\n",
    "        self.agent = None\n",
    "        self.role = None\n",
    "        self.visited_urls = set()\n",
    "        self.context = []\n",
    "        \n",
    "    async def run(self):\n",
    "        \"\"\"\n",
    "        Run the researcher\n",
    "        \"\"\"\n",
    "        if self.cfg.search_engine == 'Duckduckgo':\n",
    "            retriever = Duckduckgo()\n",
    "            \n",
    "        print(f'Running research for query: {self.query}')\n",
    "        self.agent, self.role = await choose_agent(self.query, self.cfg.llm )\n",
    "        print(f'Running {self.agent} ...')\n",
    "        \n",
    "        #query modification\n",
    "        sub_queries = await get_sub_queries(self.query, self.role, self.cfg) + [self.query]\n",
    "        \n",
    "        for each_query in sub_queries:\n",
    "            \n",
    "            print(f'Running research for query {each_query}')\n",
    "            content = await get_content_using_query(each_query)\n",
    "            \n",
    "            context = await get_similar_context(each_query, content)\n",
    "            \n",
    "            self.context.append(context)\n",
    "        \n",
    "\n",
    "        \n",
    "    async def get_content_using_query(query):\n",
    "\n",
    "        search_engine = Duckduckgo(query = query)\n",
    "        search_urls = search_engine.search(max_results = r.cfg.max_search_results_per_query)\n",
    "\n",
    "        search_urls = [url.get('href') for url in search_urls]\n",
    "\n",
    "        new_search_urls = get_unique_urls(search_urls) #filter out the same urls \n",
    "       \n",
    "\n",
    "        content_scraper = Scraper(new_search_urls)\n",
    "        content = content_scraper.run()\n",
    "\n",
    "        return content\n",
    "    \n",
    "    \n",
    "    async def get_unique_urls(self, urls):\n",
    "        \n",
    "        new_urls = []\n",
    "        for url in urls:\n",
    "            if url not in self.visited_urls:\n",
    "                \n",
    "                print(f'✅ Adding url {url} to our research')\n",
    "                \n",
    "                new_urls.append(url)\n",
    "                self.visited_urls.add(url)\n",
    "                \n",
    "        return new_urls\n",
    "                \n",
    "        "
   ]
  },
  {
   "cell_type": "code",
   "execution_count": 78,
   "id": "7975cf52",
   "metadata": {},
   "outputs": [],
   "source": [
    " \n",
    "r = Researcher('investment in real estate and buying properties')"
   ]
  },
  {
   "cell_type": "code",
   "execution_count": 79,
   "id": "fc660c67",
   "metadata": {},
   "outputs": [
    {
     "name": "stdout",
     "output_type": "stream",
     "text": [
      "✅ Adding url https://www.businessinsider.com/how-to-find-good-deal-property-buy-real-estate-investing-2023-11?op=1 to our research\n",
      "✅ Adding url https://time.com/personal-finance/article/how-to-invest-in-real-estate/ to our research\n",
      "✅ Adding url https://www.investopedia.com/mortgage/real-estate-investing-guide/ to our research\n",
      "✅ Adding url https://smartasset.com/investing/how-to-buy-your-first-investment-property to our research\n",
      "✅ Adding url https://www.forbes.com/sites/forbesbusinesscouncil/2023/10/30/exploring-the-pros-and-cons-of-real-estate-investment/ to our research\n"
     ]
    }
   ],
   "source": [
    "ans = await r.get_unique_urls(['https://www.businessinsider.com/how-to-find-good-deal-property-buy-real-estate-investing-2023-11?op=1',\n",
    " 'https://time.com/personal-finance/article/how-to-invest-in-real-estate/',\n",
    " 'https://www.investopedia.com/mortgage/real-estate-investing-guide/',\n",
    " 'https://smartasset.com/investing/how-to-buy-your-first-investment-property',\n",
    " 'https://www.forbes.com/sites/forbesbusinesscouncil/2023/10/30/exploring-the-pros-and-cons-of-real-estate-investment/'])"
   ]
  },
  {
   "cell_type": "code",
   "execution_count": 80,
   "id": "33511a10",
   "metadata": {},
   "outputs": [
    {
     "name": "stdout",
     "output_type": "stream",
     "text": [
      "✅ Adding url https://new_url.com/personal-finance/article/how-to-invest-in-real-estate/ to our research\n",
      "✅ Adding url https://www.gg_url.com/mortgage/real-estate-investing-guide/ to our research\n"
     ]
    }
   ],
   "source": [
    "ans = await r.get_unique_urls(['https://www.businessinsider.com/how-to-find-good-deal-property-buy-real-estate-investing-2023-11?op=1',\n",
    " 'https://new_url.com/personal-finance/article/how-to-invest-in-real-estate/',\n",
    " 'https://www.gg_url.com/mortgage/real-estate-investing-guide/',\n",
    " 'https://smartasset.com/investing/how-to-buy-your-first-investment-property',\n",
    " 'https://www.forbes.com/sites/forbesbusinesscouncil/2023/10/30/exploring-the-pros-and-cons-of-real-estate-investment/'])"
   ]
  },
  {
   "cell_type": "code",
   "execution_count": 81,
   "id": "0ac88803",
   "metadata": {},
   "outputs": [
    {
     "data": {
      "text/plain": [
       "['https://new_url.com/personal-finance/article/how-to-invest-in-real-estate/',\n",
       " 'https://www.gg_url.com/mortgage/real-estate-investing-guide/']"
      ]
     },
     "execution_count": 81,
     "metadata": {},
     "output_type": "execute_result"
    }
   ],
   "source": [
    "ans"
   ]
  },
  {
   "cell_type": "code",
   "execution_count": null,
   "id": "100e8e13",
   "metadata": {},
   "outputs": [],
   "source": []
  },
  {
   "cell_type": "code",
   "execution_count": 16,
   "id": "16351914",
   "metadata": {},
   "outputs": [
    {
     "data": {
      "text/plain": [
       "5"
      ]
     },
     "execution_count": 16,
     "metadata": {},
     "output_type": "execute_result"
    }
   ],
   "source": [
    "r.cfg.max_search_results_per_queryaa"
   ]
  },
  {
   "cell_type": "code",
   "execution_count": 7,
   "id": "0fb4dc9e",
   "metadata": {},
   "outputs": [
    {
     "name": "stdout",
     "output_type": "stream",
     "text": [
      "Running research for query: investment in real estate and buying properties\n",
      "Running 🏢 Real Estate Agent ...\n",
      "['Real estate market trends November 2023', 'Property value forecast 2024', 'Rental income potential in [specific location]', 'investment in real estate and buying properties']\n"
     ]
    }
   ],
   "source": [
    " \n",
    "r = Researcher('investment in real estate and buying properties')\n",
    "\n",
    "response = await r.run()\n",
    "\n",
    "print(response)\n",
    "\n"
   ]
  },
  {
   "cell_type": "code",
   "execution_count": 23,
   "id": "07093b7e",
   "metadata": {},
   "outputs": [
    {
     "data": {
      "text/plain": [
       "['Real estate market trends November 2023',\n",
       " 'Property value forecast 2024',\n",
       " 'Rental income potential in [specific location]',\n",
       " 'investment in real estate and buying properties']"
      ]
     },
     "execution_count": 23,
     "metadata": {},
     "output_type": "execute_result"
    }
   ],
   "source": [
    "response"
   ]
  },
  {
   "cell_type": "code",
   "execution_count": 10,
   "id": "d3d3a36f",
   "metadata": {},
   "outputs": [],
   "source": [
    "from researcher.search.duckduckgo import Duckduckgo"
   ]
  },
  {
   "cell_type": "code",
   "execution_count": 11,
   "id": "cdb8882a",
   "metadata": {},
   "outputs": [],
   "source": [
    "search_engine = Duckduckgo('investment in real estate and buying properties')\n"
   ]
  },
  {
   "cell_type": "code",
   "execution_count": 18,
   "id": "e01de41e",
   "metadata": {},
   "outputs": [],
   "source": [
    "search_urls = list(search_engine.search(max_results=r.cfg.max_search_results_per_query))"
   ]
  },
  {
   "cell_type": "code",
   "execution_count": 20,
   "id": "dd939e73",
   "metadata": {},
   "outputs": [],
   "source": [
    "search_urls = [url['href'] for url in search_urls]"
   ]
  },
  {
   "cell_type": "code",
   "execution_count": 21,
   "id": "4a8df6d7",
   "metadata": {},
   "outputs": [
    {
     "data": {
      "text/plain": [
       "['https://www.businessinsider.com/how-to-find-good-deal-property-buy-real-estate-investing-2023-11?op=1',\n",
       " 'https://time.com/personal-finance/article/how-to-invest-in-real-estate/',\n",
       " 'https://www.investopedia.com/mortgage/real-estate-investing-guide/',\n",
       " 'https://smartasset.com/investing/how-to-buy-your-first-investment-property',\n",
       " 'https://www.forbes.com/sites/forbesbusinesscouncil/2023/10/30/exploring-the-pros-and-cons-of-real-estate-investment/']"
      ]
     },
     "execution_count": 21,
     "metadata": {},
     "output_type": "execute_result"
    }
   ],
   "source": [
    "search_urls"
   ]
  },
  {
   "cell_type": "code",
   "execution_count": 27,
   "id": "950b97dd",
   "metadata": {},
   "outputs": [
    {
     "data": {
      "text/plain": [
       "['Real estate market trends November 2023',\n",
       " 'Property value forecast 2024',\n",
       " 'Rental income potential in [specific location]',\n",
       " 'investment in real estate and buying properties']"
      ]
     },
     "execution_count": 27,
     "metadata": {},
     "output_type": "execute_result"
    }
   ],
   "source": [
    "response"
   ]
  },
  {
   "cell_type": "code",
   "execution_count": 36,
   "id": "4aa335e7",
   "metadata": {},
   "outputs": [],
   "source": [
    "new = Duckduckgo('investment in real estate and buying properties')\n",
    "\n"
   ]
  },
  {
   "cell_type": "code",
   "execution_count": 38,
   "id": "40470c51",
   "metadata": {},
   "outputs": [
    {
     "data": {
      "text/plain": [
       "[{'title': 'How To Invest In Real Estate (2023) | TIME Stamped',\n",
       "  'href': 'https://time.com/personal-finance/article/how-to-invest-in-real-estate/',\n",
       "  'body': 'Buying and leasing out a rental property to short- or long-term tenants is a classic way to invest in real estate. A huge perk of being a landlord is that you can deduct many of the costs...'},\n",
       " {'title': 'How to Buy Your First Investment Property | SmartAsset',\n",
       "  'href': 'https://smartasset.com/investing/how-to-buy-your-first-investment-property',\n",
       "  'body': 'The first step in the process of buying an investment property is figuring out what type of property you want to purchase. Single-family homes typically require less low maintenance and may have higher potential, while multi-family homes offer the advantage of multiple income streams.'},\n",
       " {'title': 'Real-Estate Investing: How to Find a Great Deal on a Property',\n",
       "  'href': 'https://www.businessinsider.com/how-to-find-good-deal-property-buy-real-estate-investing-2023-11?op=1',\n",
       "  'body': 'In terms of real-estate investing, that has meant buying properties the traditional way: putting down a 25% down payment and building up equity in the property over years by renting...'},\n",
       " {'title': \"Real Estate Investing: A Beginner's Guide - Investopedia\",\n",
       "  'href': 'https://www.investopedia.com/mortgage/real-estate-investing-guide/',\n",
       "  'body': 'One of the key ways investors can make money in real estate is to become a landlord of a rental property. Flippers try to buy undervalued real estate, fix it up, and sell it for a...'},\n",
       " {'title': 'Exploring The Pros And Cons Of Real Estate Investment - Forbes',\n",
       "  'href': 'https://www.forbes.com/sites/forbesbusinesscouncil/2023/10/30/exploring-the-pros-and-cons-of-real-estate-investment/',\n",
       "  'body': 'getty Investing in real estate has long been considered one of the most reliable ways to build long-lasting wealth. Profitable real estate investments offer steady income, potential for...'}]"
      ]
     },
     "execution_count": 38,
     "metadata": {},
     "output_type": "execute_result"
    }
   ],
   "source": [
    "list(new.search())"
   ]
  },
  {
   "cell_type": "code",
   "execution_count": null,
   "id": "43712d3a",
   "metadata": {},
   "outputs": [],
   "source": []
  },
  {
   "cell_type": "code",
   "execution_count": 56,
   "id": "66e28824",
   "metadata": {},
   "outputs": [],
   "source": [
    "from researcher.scraping.scrape import Scraper"
   ]
  },
  {
   "cell_type": "code",
   "execution_count": null,
   "id": "332ca2ba",
   "metadata": {},
   "outputs": [],
   "source": []
  },
  {
   "cell_type": "code",
   "execution_count": null,
   "id": "36e46273",
   "metadata": {},
   "outputs": [],
   "source": [
    "def get_unique_urls(urls):\n",
    "    self.visited_urls "
   ]
  },
  {
   "cell_type": "code",
   "execution_count": 63,
   "id": "5f55376a",
   "metadata": {},
   "outputs": [],
   "source": [
    "async def get_content_using_query(query):\n",
    "    \n",
    "    search_engine = Duckduckgo(query = query)\n",
    "    search_urls = search_engine.search(max_results = r.cfg.max_search_results_per_query)\n",
    "    \n",
    "    search_urls = [url.get('href') for url in search_urls]\n",
    "    \n",
    "    new_search_urls = get_unique_urls(search_urls)\n",
    "    print(search_urls)\n",
    "    \n",
    "    scraper = Scraper(search_urls)\n",
    "    content = scraper.run()\n",
    "    \n",
    "    \n",
    "    \n",
    "    return content\n",
    "    \n",
    "    "
   ]
  },
  {
   "cell_type": "code",
   "execution_count": 64,
   "id": "3e0c2d45",
   "metadata": {},
   "outputs": [
    {
     "name": "stdout",
     "output_type": "stream",
     "text": [
      "['https://www.realtor.com/research/2024-national-housing-forecast/', 'https://www.noradarealestate.com/blog/housing-prices-will-fall-in-2024/', 'https://www.housingwire.com/articles/heres-what-you-can-expect-from-2024-housing-market/', 'https://smartasset.com/data-studies/projected-home-price-increases-2024', 'https://fortune.com/2023/10/21/housing-market-2024-home-price-forecast-outlook-by-zillow/']\n"
     ]
    }
   ],
   "source": [
    "ans = get_content_using_query('Property value forecast 2024')"
   ]
  },
  {
   "cell_type": "code",
   "execution_count": 72,
   "id": "5b84dffe",
   "metadata": {},
   "outputs": [
    {
     "data": {
      "text/plain": [
       "{'url': 'https://fortune.com/2023/10/21/housing-market-2024-home-price-forecast-outlook-by-zillow/',\n",
       " 'raw_content': 'Where the housing market has Morgan Stanley only seeing pain for homebuyers ahead, Zillow keeps cutting its forecast. Here’s why\\nThe housing market hasn’t seen a climate like this in a long time—but when exactly is a big question. To go by existing home sales, it hasn’t been this bad since 2010, the depths of the Great Recession, as a 15% collapse in September sent transactions to a 13-year low, a “deep freeze” that Zillow had warned about back in the spring. Other economists, such as Mark Fleming, chief economist at Fortune 500 financial services firm First American, and Jeseo Park, from Bank of America Research, see conditions that recall the “housing recession” of the 1980s. Morgan Stanley took the temperature of the market earlier this week and saw just more pain for homebuyers ahead: an up to 5% rise in home prices nationwide, reversing its previous call for prices to fall amid high mortgage rates. Zillow is taking the opposite tack.\\nAfter their February call that U.S. home prices had hit bottom, Zillow economists had been raising their home price forecast each month through August. At that point, they predicted home prices would climb 6.5% over the next 12 months.\\xa0Last month, though, they issued a downward revision. And this month they did it again.\\nZillow economists predicted this week that home prices would rise 2.1% between September 2023 and September 2024. That compares to their prediction last month that home prices would rise 4.9% between August 2023 and August 2024.\\n“Zillow’s forecast of the nation’s typical home value was revised downward this month due to an uncharacteristic month-over-month dip in September and mortgage rates climbing ever higher,” they wrote this week.\\nZillow economists have come to terms with the likelihood that a resilient labor market will mean a longer-than-expected period of elevated interest rates. With the firming of rates, the housing market has lost some steam.\\n“Elevated mortgage rates are weighing on new listings with ‘rate-locked’ homeowners largely opting to hold on to the relatively low monthly payment associated with their current home,” wrote Zillow economists.\\nThey now expect national home prices to rise 3.3% in 2023, down from the 4.3% they predicted last month.\\n“While many home shoppers are priced out or limited in what they can afford, there are enough active buyers to keep competitive pressure on for the few homes available for sale,” they noted.\\nMorgan Stanley, for its part, recently made a more dramatic change to its 2023 outlook. While its analysts previously expected home prices to fall for the year, they now say prices could rise by up to 5%. The reversal, made in a research note earlier this week, comes as mortgage rates continue to rise.\\nThe 30-year fixed mortgage rate hit 8% this week, according to Mortgage News Daily. Rates haven’t been this high in decades.\\n“It is likely they will stay around that level…in the last few months of the year, especially if the Fed does raise rates one more time before the year is done,” Fleming told Fortune this week.\\nThe Fed is keeping open the possibility of further rate hikes. Andrew Levin, a former senior Fed advisor who’s now a professor at Dartmouth College, recently told Bloomberg: “There is a very substantial risk that they will need to do more.”\\nMost popular Finance articles\\n© 2023 Fortune Media IP Limited. All Rights Reserved. Use of this site constitutes acceptance of our Terms of Use and Privacy Policy | CA Notice at Collection and Privacy Notice\\xa0| Do Not Sell/Share My Personal Information\\xa0| Ad Choices\\nFORTUNE is a trademark of Fortune Media IP Limited, registered in the U.S. and other countries. FORTUNE may receive compensation for some links to products and services on this website. Offers may be subject to change without notice.\\nS&P Index data is the property of Chicago Mercantile Exchange Inc. and its licensors. All rights reserved. Terms & Conditions. Powered and implemented by Interactive Data Managed Solutions.'}"
      ]
     },
     "execution_count": 72,
     "metadata": {},
     "output_type": "execute_result"
    }
   ],
   "source": [
    "ans[4]"
   ]
  },
  {
   "cell_type": "code",
   "execution_count": 53,
   "id": "8b7b5829",
   "metadata": {},
   "outputs": [],
   "source": [
    "\n",
    "\n",
    "for each_query in response:\n",
    "    \n",
    "    content = get_content_using_query(each_query)\n",
    "    \n",
    "    relevant_context = \n",
    "    self.context.append() #all relevant context\n",
    "    \n",
    "    "
   ]
  },
  {
   "cell_type": "code",
   "execution_count": null,
   "id": "3cf49ce5",
   "metadata": {},
   "outputs": [],
   "source": []
  },
  {
   "cell_type": "code",
   "execution_count": 41,
   "id": "4a4714fa",
   "metadata": {},
   "outputs": [
    {
     "data": {
      "text/plain": [
       "5"
      ]
     },
     "execution_count": 41,
     "metadata": {},
     "output_type": "execute_result"
    }
   ],
   "source": [
    "len(results)"
   ]
  },
  {
   "cell_type": "code",
   "execution_count": 25,
   "id": "9e458832",
   "metadata": {},
   "outputs": [
    {
     "data": {
      "text/plain": [
       "{'https://smartasset.com/investing/how-to-buy-your-first-investment-property',\n",
       " 'https://time.com/personal-finance/article/how-to-invest-in-real-estate/',\n",
       " 'https://www.businessinsider.com/how-to-find-good-deal-property-buy-real-estate-investing-2023-11?op=1',\n",
       " 'https://www.forbes.com/sites/forbesbusinesscouncil/2023/10/30/exploring-the-pros-and-cons-of-real-estate-investment/',\n",
       " 'https://www.investopedia.com/mortgage/real-estate-investing-guide/'}"
      ]
     },
     "execution_count": 25,
     "metadata": {},
     "output_type": "execute_result"
    }
   ],
   "source": [
    "search_urls"
   ]
  },
  {
   "cell_type": "code",
   "execution_count": 29,
   "id": "e7d6aa62",
   "metadata": {},
   "outputs": [],
   "source": [
    "gg = {'a': 1, 'b': 2}"
   ]
  },
  {
   "cell_type": "code",
   "execution_count": 32,
   "id": "c1de9c5f",
   "metadata": {},
   "outputs": [],
   "source": [
    "ans = gg.get('c')"
   ]
  },
  {
   "cell_type": "code",
   "execution_count": null,
   "id": "bb6f2b53",
   "metadata": {},
   "outputs": [],
   "source": []
  },
  {
   "cell_type": "code",
   "execution_count": null,
   "id": "f1de31e3",
   "metadata": {},
   "outputs": [],
   "source": []
  }
 ],
 "metadata": {
  "kernelspec": {
   "display_name": "okprofessor",
   "language": "python",
   "name": "okprofessor"
  },
  "language_info": {
   "codemirror_mode": {
    "name": "ipython",
    "version": 3
   },
   "file_extension": ".py",
   "mimetype": "text/x-python",
   "name": "python",
   "nbconvert_exporter": "python",
   "pygments_lexer": "ipython3",
   "version": "3.9.18"
  }
 },
 "nbformat": 4,
 "nbformat_minor": 5
}
