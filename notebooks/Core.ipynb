{
 "cells": [
  {
   "cell_type": "code",
   "execution_count": 136,
   "id": "2bd5d888",
   "metadata": {},
   "outputs": [
    {
     "data": {
      "text/plain": [
       "'/Users/cohlem/Projects/OkProfessor/researcher/notebooks'"
      ]
     },
     "execution_count": 136,
     "metadata": {},
     "output_type": "execute_result"
    }
   ],
   "source": [
    "pwd"
   ]
  },
  {
   "cell_type": "code",
   "execution_count": 137,
   "id": "e811fdec",
   "metadata": {},
   "outputs": [],
   "source": [
    "import sys\n",
    "sys.path.append('/Users/cohlem/Projects/OkProfessor/')"
   ]
  },
  {
   "cell_type": "code",
   "execution_count": null,
   "id": "98a06269",
   "metadata": {},
   "outputs": [],
   "source": []
  },
  {
   "cell_type": "code",
   "execution_count": 138,
   "id": "f45691f9",
   "metadata": {},
   "outputs": [],
   "source": [
    "from researcher.config import Config\n",
    "from researcher.search.duckduckgo import Duckduckgo\n",
    "from researcher.utils.functions import * \n",
    "\n",
    "\n",
    "class Researcher:\n",
    "    def __init__(self, query ):\n",
    "        self.query = query\n",
    "        self.cfg = Config()\n",
    "        self.agent = None\n",
    "        self.role = None\n",
    "        self.visited_urls = set()\n",
    "        self.context = []\n",
    "        \n",
    "    async def run(self):\n",
    "        \"\"\"\n",
    "        Run the researcher\n",
    "        \"\"\"\n",
    "        if self.cfg.search_engine == 'Duckduckgo':\n",
    "            retriever = Duckduckgo()\n",
    "            \n",
    "        print(f'Running research for query: {self.query}')\n",
    "        self.agent, self.role = await choose_agent(self.query, self.cfg.llm )\n",
    "        print(f'Running {self.agent} ...')\n",
    "        \n",
    "        #query modification\n",
    "        sub_queries = await get_sub_queries(self.query, self.role, self.cfg) + [self.query]\n",
    "        \n",
    "        for each_query in sub_queries:\n",
    "            \n",
    "            print(f'Running research for query {each_query}')\n",
    "            content = await get_content_using_query(each_query)\n",
    "            \n",
    "            context = await get_similar_context(each_query, content)\n",
    "            \n",
    "            self.context.append(context)\n",
    "        \n",
    "        \n",
    "        \n",
    "        \n",
    "\n",
    "        \n",
    "    async def get_content_using_query(query):\n",
    "\n",
    "        search_engine = Duckduckgo(query = query)\n",
    "        search_urls = search_engine.search(max_results = r.cfg.max_search_results_per_query)\n",
    "\n",
    "        search_urls = [url.get('href') for url in search_urls]\n",
    "\n",
    "        new_search_urls = get_unique_urls(search_urls) #filter out the same urls \n",
    "       \n",
    "\n",
    "        content_scraper = Scraper(new_search_urls)\n",
    "        content = content_scraper.run()\n",
    "\n",
    "        return content\n",
    "    \n",
    "    \n",
    "    async def get_unique_urls(self, urls):\n",
    "        \n",
    "        new_urls = []\n",
    "        for url in urls:\n",
    "            if url not in self.visited_urls:\n",
    "                \n",
    "                print(f'✅ Adding url {url} to our research')\n",
    "                \n",
    "                new_urls.append(url)\n",
    "                self.visited_urls.add(url)\n",
    "                \n",
    "        return new_urls\n",
    "                \n",
    "    \n",
    "    async def get_similar_context(self, query, content):\n",
    "        pass"
   ]
  },
  {
   "cell_type": "code",
   "execution_count": 78,
   "id": "5c5cde24",
   "metadata": {},
   "outputs": [],
   "source": [
    "r = Researcher('investment in real estate and buying properties')"
   ]
  },
  {
   "cell_type": "code",
   "execution_count": null,
   "id": "f402554d",
   "metadata": {},
   "outputs": [],
   "source": []
  },
  {
   "cell_type": "code",
   "execution_count": null,
   "id": "98cf7454",
   "metadata": {},
   "outputs": [],
   "source": []
  },
  {
   "cell_type": "code",
   "execution_count": null,
   "id": "23459f73",
   "metadata": {},
   "outputs": [],
   "source": []
  },
  {
   "cell_type": "code",
   "execution_count": null,
   "id": "cf8f2334",
   "metadata": {},
   "outputs": [],
   "source": []
  },
  {
   "cell_type": "code",
   "execution_count": null,
   "id": "109b7b97",
   "metadata": {},
   "outputs": [],
   "source": []
  },
  {
   "cell_type": "code",
   "execution_count": 7,
   "id": "0fcc70d2",
   "metadata": {},
   "outputs": [
    {
     "name": "stdout",
     "output_type": "stream",
     "text": [
      "Running research for query: investment in real estate and buying properties\n",
      "Running 🏢 Real Estate Agent ...\n",
      "['Real estate market trends November 2023', 'Property value forecast 2024', 'Rental income potential in [specific location]', 'investment in real estate and buying properties']\n"
     ]
    }
   ],
   "source": [
    " \n",
    "r = Researcher('investment in real estate and buying properties')\n",
    "\n",
    "response = await r.run()\n",
    "\n",
    "print(response)\n",
    "\n"
   ]
  },
  {
   "cell_type": "code",
   "execution_count": 23,
   "id": "b2b92268",
   "metadata": {},
   "outputs": [
    {
     "data": {
      "text/plain": [
       "['Real estate market trends November 2023',\n",
       " 'Property value forecast 2024',\n",
       " 'Rental income potential in [specific location]',\n",
       " 'investment in real estate and buying properties']"
      ]
     },
     "execution_count": 23,
     "metadata": {},
     "output_type": "execute_result"
    }
   ],
   "source": [
    "response"
   ]
  },
  {
   "cell_type": "code",
   "execution_count": 10,
   "id": "c8df4014",
   "metadata": {},
   "outputs": [],
   "source": [
    "from researcher.search.duckduckgo import Duckduckgo"
   ]
  },
  {
   "cell_type": "code",
   "execution_count": 139,
   "id": "7d6c20cb",
   "metadata": {},
   "outputs": [],
   "source": [
    "search_engine = Duckduckgo('investment in real estate and buying properties')\n"
   ]
  },
  {
   "cell_type": "code",
   "execution_count": 140,
   "id": "be0cf78c",
   "metadata": {},
   "outputs": [],
   "source": [
    "search_urls = list(search_engine.search(max_results=r.cfg.max_search_results_per_query))"
   ]
  },
  {
   "cell_type": "code",
   "execution_count": 141,
   "id": "e17cb1c1",
   "metadata": {},
   "outputs": [],
   "source": [
    "search_urls = [url['href'] for url in search_urls]"
   ]
  },
  {
   "cell_type": "code",
   "execution_count": 142,
   "id": "5377a6be",
   "metadata": {},
   "outputs": [
    {
     "data": {
      "text/plain": [
       "['https://www.businessinsider.com/how-to-find-good-deal-property-buy-real-estate-investing-2023-11?op=1',\n",
       " 'https://www.investopedia.com/mortgage/real-estate-investing-guide/',\n",
       " 'https://smartasset.com/investing/how-to-buy-your-first-investment-property',\n",
       " 'https://time.com/personal-finance/article/how-to-invest-in-real-estate/',\n",
       " 'https://money.usnews.com/investing/real-estate-investments/articles/rules-for-buy-and-hold-real-estate-investing']"
      ]
     },
     "execution_count": 142,
     "metadata": {},
     "output_type": "execute_result"
    }
   ],
   "source": [
    "search_urls"
   ]
  },
  {
   "cell_type": "code",
   "execution_count": 27,
   "id": "e904cb6d",
   "metadata": {},
   "outputs": [
    {
     "data": {
      "text/plain": [
       "['Real estate market trends November 2023',\n",
       " 'Property value forecast 2024',\n",
       " 'Rental income potential in [specific location]',\n",
       " 'investment in real estate and buying properties']"
      ]
     },
     "execution_count": 27,
     "metadata": {},
     "output_type": "execute_result"
    }
   ],
   "source": [
    "response"
   ]
  },
  {
   "cell_type": "code",
   "execution_count": null,
   "id": "4a3cba52",
   "metadata": {},
   "outputs": [],
   "source": []
  },
  {
   "cell_type": "code",
   "execution_count": null,
   "id": "e0d2ff8f",
   "metadata": {},
   "outputs": [],
   "source": []
  },
  {
   "cell_type": "code",
   "execution_count": null,
   "id": "49d85b92",
   "metadata": {},
   "outputs": [],
   "source": []
  },
  {
   "cell_type": "code",
   "execution_count": 56,
   "id": "161eeca1",
   "metadata": {},
   "outputs": [],
   "source": [
    "from researcher.scraping.scrape import Scraper"
   ]
  },
  {
   "cell_type": "code",
   "execution_count": null,
   "id": "eccb0338",
   "metadata": {},
   "outputs": [],
   "source": []
  },
  {
   "cell_type": "code",
   "execution_count": null,
   "id": "96dc37b3",
   "metadata": {},
   "outputs": [],
   "source": [
    "def get_unique_urls(urls):\n",
    "    self.visited_urls "
   ]
  },
  {
   "cell_type": "code",
   "execution_count": 150,
   "id": "c431bc54",
   "metadata": {},
   "outputs": [],
   "source": [
    "async def get_content_using_query(query):\n",
    "    \n",
    "    search_engine = Duckduckgo(query = query)\n",
    "    search_urls = search_engine.search(max_results = r.cfg.max_search_results_per_query)\n",
    "    \n",
    "    search_urls = [url.get('href') for url in search_urls]\n",
    "    \n",
    "#     new_search_urls = get_unique_urls(search_urls)\n",
    "#     print(search_urls)\n",
    "    \n",
    "    scraper = Scraper(search_urls)\n",
    "    content = scraper.run()\n",
    "    \n",
    "    \n",
    "    \n",
    "    return content\n",
    "    \n",
    "    "
   ]
  },
  {
   "cell_type": "code",
   "execution_count": 151,
   "id": "1dac0cbf",
   "metadata": {},
   "outputs": [
    {
     "name": "stderr",
     "output_type": "stream",
     "text": [
      "/Users/cohlem/anaconda3/envs/okprofessor/lib/python3.9/site-packages/bs4/element.py:1277: RuntimeWarning: coroutine 'run_async_tasks.<locals>._gather' was never awaited\n",
      "  self.setup(parent, previous)\n",
      "RuntimeWarning: Enable tracemalloc to get the object allocation traceback\n",
      "/Users/cohlem/anaconda3/envs/okprofessor/lib/python3.9/site-packages/bs4/element.py:1277: RuntimeWarning: coroutine 'BaseRetriever.aretrieve' was never awaited\n",
      "  self.setup(parent, previous)\n",
      "RuntimeWarning: Enable tracemalloc to get the object allocation traceback\n"
     ]
    }
   ],
   "source": [
    "ans = await get_content_using_query('Property value forecast 2024')"
   ]
  },
  {
   "cell_type": "code",
   "execution_count": 152,
   "id": "4848e68c",
   "metadata": {},
   "outputs": [
    {
     "data": {
      "text/plain": [
       "[{'url': 'https://www.realtor.com/research/2024-national-housing-forecast/',\n",
       "  'raw_content': 'Articles\\n2024 Housing Market Forecast and Predictions: Housing Affordability Finally Begins to Turnaround\\nAs we look ahead to 2024, we see a mix of continuity and change in both the housing market and economy. Against a backdrop of modest economic growth, slightly higher unemployment, and easing inflation longer term interest rates including mortgage rates begin a slow retreat. The shift from climbing to falling mortgage rates improves housing affordability, but saps some of the urgency home shoppers had previously sensed. Less frenzied housing demand and plenty of rental home options keep home sales relatively stable at low levels in 2024, helping home prices to adjust slightly lower even as the number of for-sale homes continues to dwindle.\\nRealtor.com® 2024 Forecast for Key Housing Indicators\\nHome Prices Dip, Improving Affordability\\nHome prices grew at a double-digit annual clip for the better part of two years spanning the second half of 2020 through 2022, a notable burst following a growing streak that spanned back to 2012. As mortgage rates climbed, home price growth flatlined, actually declining on an annual basis in early 2023 before an early-year dip in mortgage rates spurred enough buyer demand to reignite competition for still-limited inventory. Home prices began to climb again, and while they did not reach a new monthly peak, on average for the year we expect that the 2023 median home price will slightly exceed the 2022 annual median.\\nNevertheless, even during the brief period when prices eased, using a mortgage to buy a home remained expensive. Since May 2022, purchasing the typical for-sale home listing at the prevailing rate for a 30-year fixed-rate mortgage with a 20% down payment meant forking over a quarter or more of the typical household paycheck. In fact, in October 2023, it required 39% of the typical household income and this share is expected to average 36.7% for the full calendar year in 2023. This figure has typically ranged around 21%, so it is well above historical average. We expect that the return to pricing in line with financing costs will begin in 2024, and home prices, mortgage rates, and income growth will each contribute to the improvement. Home prices are expected to ease slightly, dropping less than 2% for the year on average. Combined with lower mortgage rates and income growth this will improve the home purchase mortgage payment share relative to median income to an average 34.9% in 2024, with the share slipping under 30% by the end of the year.\\nHome Sales Barely Budge Above 2023’s Likely Record Low\\nAfter soaring during the pandemic, existing home sales were weighed down in the latter half of 2022 as mortgage rates took off, climbing from just over 3% at the start of the year to a peak of more than 7% in the fourth quarter. The reprieve in mortgage rates in early 2023, when they dipped to around 6%, brought some life to home sales, but the renewed climb of mortgage rates has again exerted significant pressure on home sales that is exacerbated by the fact that a greater than usual number of households bought homes over the past few years, and despite stories of pandemic purchase regret, for the most part, these homeowners continue to be happy in their homes.\\nThis is consistent with what visitors to Realtor.com report when asked why they are not planning to sell their homes. The number one reason homeowners aren’t trying to sell is that they just don’t need to; concern about losing an existing low-rate mortgage is the top financial concern cited. Our current projection is for 2023 home sales to tally just over 4 million, a dip of 19% over the 2022 5 million total.\\nWith many of the same forces at play heading into 2024, the housing chill will continue, with sales expected to remain essentially unchanged at just over 4 million. Although mortgage rates are expected to ease throughout the course of the year, the continuation of high costs will mean that existing homeowners will have a very high threshold for deciding to move, with many likely choosing to stay in place.\\xa0 Moves of necessity–for job changes, family situation changes, and downsizing to a more affordable market–are likely to drive home sales in 2024.\\nShoppers Find Even Fewer Existing Homes For Sale\\nEven before the pandemic, housing inventory was on a long, slow downward trajectory. Insufficient building meant that the supply of houses did not keep up with household formation and left little slack in the housing market. Both homeowner and rental vacancy remain below historic averages. In contrast with the existing home market, which remains sluggish, builders have been catching up, with construction remaining near pre-pandemic highs for single-family and hitting record levels for multi-family.\\nDespite this, the lack of excess capacity in housing has been painfully obvious in the for-sale home market. The number of existing homes on the market has dwindled. With home sales activity to continue at a relatively low pace, the number of unsold homes on the market is also expected to remain low.\\xa0 Although mortgage rates are expected to begin to ease, they are expected to exceed 6.5% for the calendar year. This means that the lock-in effect, in which the gap between market mortgage rates and the mortgage rates existing homeowners enjoy on their outstanding mortgage, will remain a factor. Roughly two-thirds of outstanding mortgages have a rate under 4% and more than 90% have a rate less than 6%.\\nRental Supply Outpaces Demand to Drive Mild Further Decline in Rents\\nAfter almost a full year of double-digit rent growth between mid-2021 and mid-2022, the rental market has finally cooled down, as evidenced by the year-over-year decline that started in May 2023. In 2024, we expect the rental market will closely resemble the dynamics witnessed in 2023, as the tug of war between supply and demand results in a mild annual decline of -0.2% in the median asking rent.\\nNew multi-family supply will continue to be a key element shaping the 2024 rental market.\\xa0 In the third quarter of 2023, the annual pace of newly completed multi-family homes stood at 385,000 units. Although absorption rates remained elevated in the second quarter, especially at lower price points, the rental vacancy rate ticked up to 6.6% in the third quarter. This uptick in rental vacancy suggests the recent supply has outpaced demand, but context is important. After recent gains, the rental vacancy rate is on par with its level right before the onset of the pandemic in early 2020, still below its 7.2% average from the 2013 to 2019 period.\\xa0 Looking ahead, the strong construction pipeline–which hit a record high for units under construction this summer–is expected to continue fueling rental supply growth in 2024 pushing rental vacancy back toward its long-run average.\\nWhile the surge in new multi-family supply gives renters options, the sheer number of renters will minimize the potential price impact. The median asking rent in 2024 is expected to drop only slightly below its 2023 level. Renting is expected to continue to be a more budget friendly option than buying in the vast majority of markets, even though home prices and mortgage rates are both expected to dip, helping pull the purchase market down slightly from record unaffordability.\\nYoung adult renters who lack the benefit of historically high home equity to tap into for a home purchase will continue to find the housing market challenging. Specifically, as many Millennials age past first-time home buying age and more Gen Z approach these years, the current housing landscape is likely to keep these households in the rental market for a longer period as they work to save up more money for the growing down payment needed to buy a first home. This trend is expected to sustain robust demand for rental properties. Consequently, we anticipate that rental markets favored by young adults, a list which includes a mix of affordable areas and tech-heavy job markets in the South, Midwest, and West, will be rental markets to watch in 2024.\\nKey Wildcards:\\nHousing Perspectives:\\nWhat will the market be like for homebuyers, especially first-time homebuyers?\\nFirst-time homebuyers will continue to face a challenging housing market in 2024, but there are some green shoots. The record-high share of income required to purchase the median priced home is expected to begin to decline as mortgage rates ease, home prices soften, and incomes grow. In 2023 we expect that for the year as a whole, the monthly cost of financing the typical for-sale home will average more than $2,240, a nearly 20% increase over the mortgage payment in 2022, and roughly double the typical payment for buyers in 2020. This amounted to a whopping nearly 37% of the typical household income. In 2024 as modest price declines take hold and mortgage rates dip, the typical purchase cost is expected to slip just under $2,200 which would amount to nearly 35% of income. While far higher than historically average, this is a significant first step in a buyer-friendly direction.\\nHow can homebuyers prepare?\\nHomebuyers can prepare for this year’s housing market by getting financially ready. Buyers can use a home affordability calculator, like this one at Realtor.com to translate their income and savings into a home price range. And shoppers can pressure test the results by using a mortgage calculator to consider different down payment, price, and loan scenarios to see how their monthly costs would be impacted. Working with a lender can help potential buyers explore different loan products such as FHA or VA loans that may offer lower mortgage interest rates or more flexible credit criteria.\\nAlthough prices are anticipated to fall in 2024, housing costs remain high, and a down payment can be a big obstacle for buyers. Recent research shows that the typical down payment on a home reached a record high of $30,000.\\xa0 To make it easier to cobble together a down payment, shoppers can access information about down payment assistance options at Realtor.com/fairhousing and in the monthly payment section of home listing pages. Furthermore, home shoppers can explore loan products geared toward helping families access homeownership by enabling down payments as low as 3.5% in the case of FHA loans and 0% in the case of VA loans.\\nWhat will the market be like for home sellers?\\nHome sellers are likely to face more competition from builders than from other sellers in 2024. Because builders are continuing to maintain supply and increasingly adapting to market conditions, they are increasingly focused on lower-priced homes and willing to make price adjustments when needed. As a result, potential sellers will want to consider the landscape for new construction housing in their markets and any implications for pricing and marketing before listing their home for sale.\\nWhat will the market be like for renters?\\nIn 2024, renting is expected to continue to be a more cost-effective option than buying in the short term even though we anticipate the advantage for renting to diminish as home prices and mortgage rates decline.\\nHowever, for those considering the pursuit of long-term equity through homeownership, it’s essential to not only stay alert about market trends but also to carefully consider the intended duration of residence in their next home. When home prices rise rapidly, like they did during the pandemic, the higher cost of purchasing a home may break even with the cost of renting in as little as 3 years. Generally, it takes longer to reach the breakeven point, typically within a 5 to 7-year timeframe. Importantly, when home prices are falling and rents are also declining, as is expected to be the case in 2024, it can take longer to recoup some of the higher costs of buying a home. Individuals using Realtor.com’s Rent vs. Buy Calculator can thoroughly evaluate the costs and benefits associated with renting versus buying over time and how many years current market trends suggest it will take before buying is the better financial decision. This comprehensive tool can provide insights tailored to a household’s specific rent versus buying decision and empowers consumers to consider not only the optimal choice for the current month but also how the trade-offs evolve over several years.\\nLocal Market Predictions:\\nAll real estate is local and while the national trends are instructive, what matters most is what’s expected in your local market.\\nMetro\\n2024 Sales Growth % y/y\\n2024 Price Growth % y/y\\nSign up for updates\\nJoin our mailing list to receive the latest data and research.'},\n",
       " {'url': 'https://markets.businessinsider.com/news/commodities/housing-market-outlook-zillow-homes-forecasts-prices-mortgage-rates-2024-2023-11?op=1',\n",
       "  'raw_content': 'Jump to\\nFrom affordability to property demand, here are Zillow\\'s 6 biggest predictions for the US housing market in 2024\\nHigh mortgage rates, low inventory, and elevated home prices have defined the US housing market in 2023.\\nThose conditions have kept many current homeowners from moving, hesitant to give up the lower mortgage rates they secured in prior years, which in turn has left prospective buyers with fewer homes to choose from.\\nThe result has been a frozen housing market. Buyers aren\\'t buying because sellers aren\\'t selling, and vice versa. It\\'s led to stubbornly high prices amid mortgage rates that are high in relation to recent history, a cocktail that\\'s created an affordability crisis in US housing.\\nBut things may be looking up next year, Zillow researchers say, and Americans may see some relief as the calendar changes.\\nHere are six predictions the real-estate group has for 2024.\\n1. Higher-for-longer interest rates will lead to more homes on the market\\nAs house hunters and current owners come to terms with the new normal of high mortgage rates, Zillow expects more homes to go up for sale as people lose patience waiting for rates to fall before jumping back into the market.\\nA growing share of reluctant homeowners who haven\\'t sold homes in the last two years could give in to listing their properties, which ultimately could lead to a greater supply of housing.\\n2. Home-buying costs will level off\\nAs of October, a typical homebuyer would have spent more than 40% of their earnings on a mortgage payment, an all-time high indicated by Zillow data going back to the 1990s.\\nHomes may not get less expensive, but the rate of growth could level off and provide Americans some time to catch up via wages and savings.\\n\"Predicting how mortgage rates will move is a nearly impossible task, but recent inflation news gives the impression that rates are likely to hold fairly steady as well in the coming months,\" Zillow researchers said. \"Taken together, the cost of buying a home looks to be on track to level off next year, with the possibility of costs falling if mortgage rates do.\"\\n3. Higher demand for single-family rentals\\nZillow expects demand for single-family rentals to ramp up next year as families seek out affordable options.\\n\"One possible path to more single-family rental inventory is homeowners deciding to turn their home into an investment property and rent it out rather than selling it when they move,\" researchers said. \"The ultralow mortgage rates held by many existing homeowners make it more likely that this option would pencil out.\"\\n4. More markets will follow New York City\\'s lead\\nIn New York City, demand has jumped for rentals in commutable areas with access to downtown and midtown Manhattan. More distant areas, meanwhile, have seen less demand.\\nIn 2024, Zillow expects more markets across the country to reflect growing rental demand in downtown centers.\\n\"Renters looking for a place near downtown will likely have more options with this year\\'s multi-family-construction boom, which means a huge number of new homes have hit the market,\" the real-estate group said.\\n5. Less competition from flippers\\nLow housing inventory has been the norm for years, and even as more homes go online next year, total volume is set to remain below pre-pandemic norms.\\nGiven fewer options, buyers are expected to be willing to overlook small flaws in properties, such as an outdated kitchen, and make the purchase anyway.\\n\"The higher cost of buying a home today makes a flip harder to pencil out, so buyers may face less competition from flippers than they might have in previous years,\" Zillow researchers said. \"Even with less chance of being subject to a bidding war, these homes won\\'t come cheap, so expect buyers to frequent their local hardware stores as they work on DIY home improvements.\"\\n6. AI comes to the housing industry\\nFurther advancements in artificial intelligence will help streamline the home-shopping and home-selling experience next year, Zillow says.\\nNew tools are expected to help real-estate agents connect with more clients, and large language models such as ChatGPT have already helped with writing listings. Zillow\\'s tech experts expect new AI tools to bolster visual content creation, such as 3D images.\\nHome shoppers, meanwhile, are set to benefit from generative-AI-powered experiences that provide more insights into home financing.\\nRead next\\nIndices\\nCommodities\\nCurrencies\\nStocks'},\n",
       " {'url': 'https://money.com/mortgage-rates-home-prices-predictions-2024/',\n",
       "  'raw_content': 'Many companies featured on Money advertise with us. Opinions are our own, but compensation and in-depth research may determine where and how companies appear. Learn more about how we make money.\\nHere’s How Far Home Prices and Mortgage Rates Could Drop in 2024\\nhttps://money.com/mortgage-rates-home-prices-predictions-2024/\\nThe new year could finally bring good tidings for homebuyers — or at least the beginning of improved housing affordability.\\nHistorically high mortgage rates and housing prices that stymied homebuyers this year are expected to ebb a bit in 2024, according to real estate brokerage Realtor.com’s new housing market forecast. While home shoppers shouldn’t expect major relief from today’s crushing homeownership costs, small gains in affordability are expected to help some buyers get a foot in the door.\\nRenters can also look forward to somewhat better conditions as new construction hits the market in the coming months.\\nFind Your Actual Rate at Rocket Mortgage (NMLS #3030) Today!\\nWhat will the housing market look like in 2024?\\nThis year was another rough one for homebuyers thanks to stubbornly high prices and rising interest rates, which kept many current homeowners locked into their current mortgages. Soaring home insurance costs throughout 2023 also worsened the outlook for buyers, many of whom were forced to hold back on making a purchase or back out of deals.\\nNow that inflation is easing, mortgage rates are expected to make a slow decline throughout 2024. But the wheels of progress turn slowly: Realtor.com experts are forecasting that rates will be 6.8% on average for 2024 and 6.5% by the year’s end. (For comparison, the average mortgage rate between 2013 and 2019 was about 4%, and they reached a high of 7.79% earlier this year.)\\nAs for home prices, Realtor.com expects the typical monthly purchase cost for the median priced home listing to drop slightly from this year’s $2,240 to $2,200, amounting to about 35% of the average U.S. household income. Demand will probably remain low, and inventory will still be limited as would-be sellers hold back.\\n“Moves of necessity — for job changes, family situation changes, and downsizing to a more affordable market — are likely to drive home sales in 2024,” Danielle Hale, Realtor.com’s chief economist, said in the report.\\nOn the whole, while Realtor.com expects record-high unaffordability to wane, Americans shouldn’t anticipate a return to pre-inflation, pre-pandemic norms in 2024. And if inflation ticks back up, home sales could suffer even more, upending any prospective market stabilization.\\nThere is, however, something of a silver lining for renters in 2024: An increase in new construction is expected to hit the market and give renters more options. That said, the fact that renting will still be more affordable than buying will also mean more competition for rentals. Realtor.com doesn’t expect rent prices to budge much — the median rent price for 2024 is forecasted to decrease only about .2% below this year’s.\\nWhat can help homebuyers in 2024?\\nThough affordability will still be a challenge for the foreseeable future, free tools like a mortgage payment calculator can help prospective buyers figure out the best options for their needs in terms of loans, down payment and home price. Exploring different loan products with mortgage lenders may also help buyers find lower rates or less stringent loan requirements.\\nAlthough the average down payment reached a record high of $30,000 this year, there are an estimated 2,000-plus down payment assistance (or DPA) programs available throughout the country. DPA programs can be especially beneficial for first-time buyers and are typically designed to meet the needs of local homebuyers.\\nHomebuyers can start by researching DPAs in their desired state, county and city and reaching out to providers about their qualification requirements. Working with a housing counselor, which every lender has available, can help buyers explore the programs that best suit them.\\nNewsletterMoney MovesEvery Saturday, Money dives deep into the world of real estate, offering a fresh take on the latest housing news for homeowners, buyers and daydreamers alike.Sign UpBy clicking \"Sign Up\" I agree to receive newsletters and promotions from Money and its partners. I agree to Money\\'s Terms of Use and Privacy Notice and consent to the processing of my personal information.Sign Up\\nMore from Money:\\nHow Much Equity Can I Borrow From My Home?\\nHow Much House Can You Afford? Many Buyers Are Ignoring a Classic Rule of Thumb\\nHome Sales Rise as More Sellers Cut Prices and Grant Concessions to Buyers\\nConnect\\nPhysical Address\\nMoney Group, LLC\\nLots 81-82 Street C\\nDorado, PR 00646\\nMailing Address\\nMetro Office Park\\n7 calle 1, Suite 204\\nGuaynabo, PR 00968'},\n",
       " {'url': 'https://www.bankrate.com/real-estate/housing-market-2024/',\n",
       "  'raw_content': \"Compare accounts\\nGet guidance\\nCompare accounts\\nGet guidance\\nMoney market accounts\\nMoney market accounts are similar to savings accounts, but offer some checking features as well.\\nGet guidance\\nBanking\\nSkip the searching and find your next bank in minutes with BankMatch℠.\\nGet guidance\\nCompare rates\\nGet guidance\\nHome equity\\nHome equity is the portion of your home you’ve paid off. You can use it to borrow for other financial goals.\\nGet guidance\\nBuying & selling\\nFind an expert who knows the market. Compare trusted real estate agents all in one place.\\nGet guidance\\nHome insurance\\nHome insurance doesn't have to be a hassle. Choose the best home insurance company for you.\\nGet guidance\\nCompare investments\\nGet guidance\\nCompare plans\\nGet guidance\\nFinding an advisor\\nGet guidance\\nLife insurance\\nLife insurance doesn’t have to be complicated. Find peace of mind and choose the right policy for you.\\nGet guidance\\nCompare cards\\nFind your fit\\nSee your card matches\\nAnswer a few quick questions and we’ll show you your top credit card options.\\nCompare cards\\nSee what the experts say\\nRead in-depth credit card reviews to find out which cards have the best perks and more.\\nGet guidance\\nCompare lenders\\nGet guidance\\nCompare lenders\\nGet guidance\\nManage your debt\\nStart making moves toward your money goals and compare your debt management options.\\nGet guidance\\nCompare lenders\\nGet guidance\\nBusiness credit cards\\nBoost your business with rewards, perks and more. Compare cards in one place to find the one for you.\\nGet guidance\\nAuto loans\\nFigure out funding for your next car or refinance with confidence. Check out today’s auto loan rates.\\nGet guidance\\nAuto insurance\\nDrive with peace of mind when you compare insurance carriers and find the policy that’s right for you.\\nGet guidance\\nHousing market predictions for 2024\\nAdvertiser Disclosure\\nWe are an independent, advertising-supported comparison service. Our goal is to help you make smarter financial decisions by providing you with interactive tools and financial calculators, publishing original and objective content, by enabling you to conduct research and compare information for free - so that you can make financial decisions with confidence.\\nBankrate has partnerships with issuers including, but not limited to, American Express, Bank of America, Capital One, Chase, Citi and Discover.\\nHow We Make Money\\nThe offers that appear on this site are from companies that compensate us. This compensation may impact how and where products appear on this site, including, for example, the order in which they may appear within the listing categories, except where prohibited by law for our mortgage, home equity and other home lending products. But this compensation does not influence the information we publish, or the reviews that you see on this site. We do not include the universe of companies or financial offers that may be available to you.\\nOn This Page\\nOn This Page\\nThe Bankrate promise\\nAt Bankrate we strive to help you make smarter financial decisions. While we adhere to strict\\neditorial integrity,\\nthis post may contain references to products from our partners. Here's an explanation for how we make money\\n.\\nThe Bankrate promise\\nFounded in 1976, Bankrate has a long track record of helping people make smart financial choices.\\nWe’ve maintained this reputation for over four decades by demystifying the financial decision-making\\nprocess and giving people confidence in which actions to take next.\\nBankrate follows a strict editorial policy,\\nso you can trust that we’re putting your interests first. All of our content is authored by\\nhighly qualified professionals and edited by\\nsubject matter experts,\\nwho ensure everything we publish is objective, accurate and trustworthy.\\nBuying or selling a home is one of the biggest financial decisions an individual will ever make. Our real estate reporters and editors focus on educating consumers about this life-changing transaction and how to navigate the complex and ever-changing housing market. From finding an agent to closing and beyond, our goal is to help you feel confident that you're making the best, and smartest, real estate deal possible.\\nEditorial integrity\\nBankrate follows a strict editorial policy, so you can trust that we’re putting your interests first. Our award-winning editors and reporters create honest and accurate content to help you make the right financial decisions.\\nKey Principles\\nWe value your trust. Our mission is to provide readers with accurate and unbiased information, and we have editorial standards in place to ensure that happens. Our editors and reporters thoroughly fact-check editorial content to ensure the information you’re reading is accurate. We maintain a firewall between our advertisers and our editorial team. Our editorial team does not receive direct compensation from our advertisers.\\nEditorial Independence\\nBankrate’s editorial team writes on behalf of YOU – the reader. Our goal is to give you the best advice to help you make smart personal finance decisions. We follow strict guidelines to ensure that our editorial content is not influenced by advertisers. Our editorial team receives no direct compensation from advertisers, and our content is thoroughly fact-checked to ensure accuracy. So, whether you’re reading an article or a review, you can trust that you’re getting credible and dependable information.\\nHow we make money\\nYou have money questions. Bankrate has answers. Our experts have been helping you master your money for over four decades. We continually strive to provide consumers with the expert advice and tools needed to succeed throughout life’s financial journey.\\nBankrate follows a strict\\neditorial policy, so you can trust that our content is honest and accurate. Our award-winning editors and reporters create honest and accurate content to help you make the right financial decisions. The content created by our editorial staff is objective, factual, and not influenced by our advertisers.\\nWe’re transparent about how we are able to bring quality content, competitive rates, and useful tools to you by explaining how we make money.\\nBankrate.com is an independent, advertising-supported publisher and comparison service. We are compensated in exchange for placement of sponsored products and services, or by you clicking on certain links posted on our site. Therefore, this compensation may impact how, where and in what order products appear within listing categories, except where prohibited by law for our mortgage, home equity and other home lending products. Other factors, such as our own proprietary website rules and whether a product is offered in your area or at your self-selected credit score range, can also impact how and where products appear on this site. While we strive to provide a wide range of offers, Bankrate does not include information about every financial or credit product or service.\\nKey takeaways\\nWith mortgage rates and home prices both historically high, and inventory very tight, many prospective sellers and hopeful buyers are feeling nervous about today’s housing market.\\nThe median sale price for an existing home in the U.S. was a hefty $394,300 as of September 2023, the third month of year-over-year price increases in a row. And as of early November, the average 30-year mortgage rate was 7.69 percent — thankfully no longer above 8 percent, but still hovering around 20-year highs.\\nHome prices, mortgage rates and inventory levels will all shape housing affordability in the coming year. Curious where these trends may go? Read on to learn what the experts predict for the 2024 housing market.\\nWhat will happen to the housing market in 2024?\\nRates roughly doubled in 2022, thanks in part to the Federal Reserve’s war on inflation, and have stayed high since. While the Fed does not directly set mortgage rates, mortgage lenders take cues from them, and mortgage rates climbed in tandem with the Fed’s long string of rate hikes.\\nWill housing sales decline?\\nWhile home prices have certainly held firm this year, the volume of home sales has softened considerably. Existing-home sales in September 2023 declined to an annual pace of 3.96 million, according to NAR data, which represents a 15.4 percent drop year-over-year. However, these trends may pivot in 2024 if mortgage rates dip.\\n“Retreating mortgage rates will bring more buyers and sellers to the market and get Americans moving again,” says NAR chief economist Lawrence Yun. At a NAR conference in November, Yun predicted that sales will rise by as much as 15 percent next year.\\n“Housing sales are expected to increase a bit from this year,” says Chen Zhao, who leads the economics team at Redfin. “However,” she qualifies, “we are not expecting sales to increase dramatically, as rates are likely to remain above 6 percent.”\\n“Lower mortgage rates would help spur home sales activity, which are expected to increase in 2024 compared to 2023,” says Selma Hepp, chief economist at CoreLogic. “Declines in mortgage rates will drive more sellers to trade their existing home and help add much-needed inventory to the market, leading to more transactions.”\\nWill housing inventory increase?\\nSpeaking of much-needed inventory, housing supply has been very low throughout 2023 thus far. The overall number of existing homes on the market for sale as of September sat at 1.13 million units, an 8.1 percent decline since last year. That figure represents only a 3.4-month supply, far short of the 5 to 6 months usually needed for a balanced market.\\n“There are simply not enough homes for sale,” Yun said in a statement earlier this year. “The market can easily absorb a doubling of inventory.”\\nFor inventory levels to improve significantly, there would need to be either a surge of homeowners listing their existing properties or a huge amount of new-construction homes hitting the market. While both seem relatively unlikely, Yun does foresee some increase in housing inventory for 2024. “There will be more home construction, and more existing homeowners will be willing to sell and give up their low mortgage rates,” he says.\\nWill home prices go down?\\nHousing prices have been on fire lately, culminating in historic highs — September’s median of $394,300 was only about $20K short of the highest monthly home price NAR has ever recorded ($413,800, set in June 2022).\\nSo will home prices drop in 2024? Probably not, says Yun: “Home prices will rise around 3 to 4 percent,” he predicts.\\nPrices are intricately connected with housing inventory, as well, notes Zhao. “Sellers are likely to remain reluctant to give up their low interest rate for a much higher one, so inventory will remain constrained,” she says. “As more time passes, more homeowners may be ‘forced’ to sell due to life events, so inventory may rise from the current anemic levels, but it’s unlikely to increase much. That means that prices are unlikely to fall on a year-over-year basis, unless demand falters.”\\nWill 2024 be a buyer’s or seller’s market?\\nIn today’s market, tight inventory gives sellers the upper hand. There are more buyers than there are homes available, so each home that comes on the market becomes more of a hot commodity than it might if there were more options to choose from. Without a significant uptick in inventory, the seller’s market seems unlikely to change next year.\\n“The current significant shortage of inventory suggests it would be hard to [become] a buyer’s market anytime soon,” says Hepp.\\n“Given expectations about interest rates and supply, demand will probably exceed supply similar to current conditions,” Zhao says. “Supply is likely to remain below what we would deem a balanced market.”\\n“The plague of low inventory won’t be cured in the short-term, but demand will suffer from high mortgage rates, bringing about more of a balanced market in 2024,” says McBride. “Sellers may find themselves making concessions on closing costs or rate buydowns more often in 2024, and buyers should be wary of biting off more than can be financially chewed. Home prices are at record highs in most markets, the cost of financing is the highest in more than 20 years and insurance costs are up substantially in many coastal markets. You’re not getting a bargain, and the willingness to walk away might prove to be a good choice.”\\nBottom line on the 2024 housing market\\nThe combination of high mortgage rates, steep home prices and low inventory levels are lining up to make the 2024 housing market a challenging one for both buyers and sellers. But if rates cool in 2024, as some experts predict, then market activity should heat up in response.\\nThe complexities of the current conditions mean that, now more than ever, it’s smart to lean on the guidance of an experienced local real estate agent. If you want to enter the market in 2024, whether as a buyer or a seller, let a pro lead the way for you.\\nFAQs\\nCaret Down\\nCaret Down\\nCaret Down\\nArticle sources\\nWe use primary sources to support our work. Bankrate’s authors, reporters and editors are subject-matter experts who thoroughly fact-check editorial content to ensure the information you’re reading is accurate, timely and relevant.\\n“Existing-Home Sales – September 2023,” National Association of Realtors. Accessed on Nov. 15, 2023.\\n“S&P CoreLogic Case-Shiller Index – August 2023,” S&P Dow Jones Indices. Accessed on Nov. 15, 2023.\\n“Consumer Price Index Summary – October 2023,” U.S. Bureau of Labor Statistics. Accessed on Nov. 15, 2023.\\n“NAR Chief Economist Lawrence Yun Forecasts…,” National Association of Realtors. Accessed on Nov. 15, 2023.\\nRelated Articles\\nHousing market predictions: The forecast for the next 5 years\\nHousing market predictions for winter 2023\\nHousing market predictions for 2023\\nThe expensive, inventory-starved housing market in 5 charts\\nBankrate logo\\nBankrate\\nAbout\\nHelp\\nLegal\\nHow we make money\\nBankrate.com is an independent, advertising-supported publisher and comparison service. We are compensated in exchange for placement of sponsored products and services, or by you clicking on certain links posted on our site. Therefore, this compensation may impact how, where and in what order products appear within listing categories, except where prohibited by law for our mortgage, home equity and other home lending products. Other factors, such as our own proprietary website rules and whether a product is offered in your area or at your self-selected credit score range, can also impact how and where products appear on this site. While we strive to provide a wide range of offers, Bankrate does not include information about every financial or credit product or service.\\nBankrate, LLC NMLS ID# 1427381 | NMLS Consumer Access\\nBR Tech Services, Inc. NMLS ID #1743443 | NMLS Consumer Access\\n© 2023 Bankrate, LLC. A Red Ventures company. All Rights Reserved.\"}]"
      ]
     },
     "execution_count": 152,
     "metadata": {},
     "output_type": "execute_result"
    }
   ],
   "source": [
    "ans"
   ]
  },
  {
   "cell_type": "code",
   "execution_count": 53,
   "id": "22d42149",
   "metadata": {},
   "outputs": [],
   "source": [
    "\n",
    "\n",
    "for each_query in response:\n",
    "    \n",
    "    content = await get_content_using_query(each_query)\n",
    "    \n",
    "    relevant_context = \n",
    "    self.context.append() #all relevant context\n",
    "    \n",
    "    "
   ]
  },
  {
   "cell_type": "code",
   "execution_count": null,
   "id": "cbef9cb0",
   "metadata": {},
   "outputs": [],
   "source": []
  },
  {
   "cell_type": "code",
   "execution_count": 41,
   "id": "c34b92de",
   "metadata": {},
   "outputs": [
    {
     "data": {
      "text/plain": [
       "5"
      ]
     },
     "execution_count": 41,
     "metadata": {},
     "output_type": "execute_result"
    }
   ],
   "source": [
    "len(results)"
   ]
  },
  {
   "cell_type": "code",
   "execution_count": 25,
   "id": "f94f61bc",
   "metadata": {},
   "outputs": [
    {
     "data": {
      "text/plain": [
       "{'https://smartasset.com/investing/how-to-buy-your-first-investment-property',\n",
       " 'https://time.com/personal-finance/article/how-to-invest-in-real-estate/',\n",
       " 'https://www.businessinsider.com/how-to-find-good-deal-property-buy-real-estate-investing-2023-11?op=1',\n",
       " 'https://www.forbes.com/sites/forbesbusinesscouncil/2023/10/30/exploring-the-pros-and-cons-of-real-estate-investment/',\n",
       " 'https://www.investopedia.com/mortgage/real-estate-investing-guide/'}"
      ]
     },
     "execution_count": 25,
     "metadata": {},
     "output_type": "execute_result"
    }
   ],
   "source": [
    "search_urls"
   ]
  },
  {
   "cell_type": "code",
   "execution_count": 29,
   "id": "a6c8a8ad",
   "metadata": {},
   "outputs": [],
   "source": [
    "gg = {'a': 1, 'b': 2}"
   ]
  },
  {
   "cell_type": "code",
   "execution_count": 32,
   "id": "34a461a0",
   "metadata": {},
   "outputs": [],
   "source": [
    "ans = gg.get('c')"
   ]
  },
  {
   "cell_type": "code",
   "execution_count": null,
   "id": "379af0c5",
   "metadata": {},
   "outputs": [],
   "source": []
  },
  {
   "cell_type": "markdown",
   "id": "847f1505",
   "metadata": {},
   "source": [
    "## Langchain's hybrid search"
   ]
  },
  {
   "cell_type": "code",
   "execution_count": 133,
   "id": "341d4783",
   "metadata": {},
   "outputs": [],
   "source": [
    "from langchain.retrievers import BM25Retriever, EnsembleRetriever\n",
    "from langchain.vectorstores import FAISS\n",
    "from langchain.embeddings import OpenAIEmbeddings"
   ]
  },
  {
   "cell_type": "code",
   "execution_count": 134,
   "id": "dbe53d3f",
   "metadata": {},
   "outputs": [
    {
     "ename": "AttributeError",
     "evalue": "'Document' object has no attribute 'split'",
     "output_type": "error",
     "traceback": [
      "\u001b[0;31m---------------------------------------------------------------------------\u001b[0m",
      "\u001b[0;31mAttributeError\u001b[0m                            Traceback (most recent call last)",
      "Cell \u001b[0;32mIn[134], line 2\u001b[0m\n\u001b[1;32m      1\u001b[0m \u001b[38;5;66;03m# initialize the bm25 retriever and faiss retriever\u001b[39;00m\n\u001b[0;32m----> 2\u001b[0m bm25_retriever \u001b[38;5;241m=\u001b[39m \u001b[43mBM25Retriever\u001b[49m\u001b[38;5;241;43m.\u001b[39;49m\u001b[43mfrom_texts\u001b[49m\u001b[43m(\u001b[49m\u001b[43mcontext\u001b[49m\u001b[43m)\u001b[49m\n\u001b[1;32m      3\u001b[0m bm25_retriever\u001b[38;5;241m.\u001b[39mk \u001b[38;5;241m=\u001b[39m \u001b[38;5;241m2\u001b[39m\n\u001b[1;32m      5\u001b[0m embedding \u001b[38;5;241m=\u001b[39m OpenAIEmbeddings()\n",
      "File \u001b[0;32m~/anaconda3/envs/okprofessor/lib/python3.9/site-packages/langchain/retrievers/bm25.py:59\u001b[0m, in \u001b[0;36mBM25Retriever.from_texts\u001b[0;34m(cls, texts, metadatas, bm25_params, preprocess_func, **kwargs)\u001b[0m\n\u001b[1;32m     53\u001b[0m \u001b[38;5;28;01mexcept\u001b[39;00m \u001b[38;5;167;01mImportError\u001b[39;00m:\n\u001b[1;32m     54\u001b[0m     \u001b[38;5;28;01mraise\u001b[39;00m \u001b[38;5;167;01mImportError\u001b[39;00m(\n\u001b[1;32m     55\u001b[0m         \u001b[38;5;124m\"\u001b[39m\u001b[38;5;124mCould not import rank_bm25, please install with `pip install \u001b[39m\u001b[38;5;124m\"\u001b[39m\n\u001b[1;32m     56\u001b[0m         \u001b[38;5;124m\"\u001b[39m\u001b[38;5;124mrank_bm25`.\u001b[39m\u001b[38;5;124m\"\u001b[39m\n\u001b[1;32m     57\u001b[0m     )\n\u001b[0;32m---> 59\u001b[0m texts_processed \u001b[38;5;241m=\u001b[39m [preprocess_func(t) \u001b[38;5;28;01mfor\u001b[39;00m t \u001b[38;5;129;01min\u001b[39;00m texts]\n\u001b[1;32m     60\u001b[0m bm25_params \u001b[38;5;241m=\u001b[39m bm25_params \u001b[38;5;129;01mor\u001b[39;00m {}\n\u001b[1;32m     61\u001b[0m vectorizer \u001b[38;5;241m=\u001b[39m BM25Okapi(texts_processed, \u001b[38;5;241m*\u001b[39m\u001b[38;5;241m*\u001b[39mbm25_params)\n",
      "File \u001b[0;32m~/anaconda3/envs/okprofessor/lib/python3.9/site-packages/langchain/retrievers/bm25.py:59\u001b[0m, in \u001b[0;36m<listcomp>\u001b[0;34m(.0)\u001b[0m\n\u001b[1;32m     53\u001b[0m \u001b[38;5;28;01mexcept\u001b[39;00m \u001b[38;5;167;01mImportError\u001b[39;00m:\n\u001b[1;32m     54\u001b[0m     \u001b[38;5;28;01mraise\u001b[39;00m \u001b[38;5;167;01mImportError\u001b[39;00m(\n\u001b[1;32m     55\u001b[0m         \u001b[38;5;124m\"\u001b[39m\u001b[38;5;124mCould not import rank_bm25, please install with `pip install \u001b[39m\u001b[38;5;124m\"\u001b[39m\n\u001b[1;32m     56\u001b[0m         \u001b[38;5;124m\"\u001b[39m\u001b[38;5;124mrank_bm25`.\u001b[39m\u001b[38;5;124m\"\u001b[39m\n\u001b[1;32m     57\u001b[0m     )\n\u001b[0;32m---> 59\u001b[0m texts_processed \u001b[38;5;241m=\u001b[39m [\u001b[43mpreprocess_func\u001b[49m\u001b[43m(\u001b[49m\u001b[43mt\u001b[49m\u001b[43m)\u001b[49m \u001b[38;5;28;01mfor\u001b[39;00m t \u001b[38;5;129;01min\u001b[39;00m texts]\n\u001b[1;32m     60\u001b[0m bm25_params \u001b[38;5;241m=\u001b[39m bm25_params \u001b[38;5;129;01mor\u001b[39;00m {}\n\u001b[1;32m     61\u001b[0m vectorizer \u001b[38;5;241m=\u001b[39m BM25Okapi(texts_processed, \u001b[38;5;241m*\u001b[39m\u001b[38;5;241m*\u001b[39mbm25_params)\n",
      "File \u001b[0;32m~/anaconda3/envs/okprofessor/lib/python3.9/site-packages/langchain/retrievers/bm25.py:10\u001b[0m, in \u001b[0;36mdefault_preprocessing_func\u001b[0;34m(text)\u001b[0m\n\u001b[1;32m      9\u001b[0m \u001b[38;5;28;01mdef\u001b[39;00m \u001b[38;5;21mdefault_preprocessing_func\u001b[39m(text: \u001b[38;5;28mstr\u001b[39m) \u001b[38;5;241m-\u001b[39m\u001b[38;5;241m>\u001b[39m List[\u001b[38;5;28mstr\u001b[39m]:\n\u001b[0;32m---> 10\u001b[0m     \u001b[38;5;28;01mreturn\u001b[39;00m \u001b[43mtext\u001b[49m\u001b[38;5;241;43m.\u001b[39;49m\u001b[43msplit\u001b[49m()\n",
      "\u001b[0;31mAttributeError\u001b[0m: 'Document' object has no attribute 'split'"
     ]
    }
   ],
   "source": [
    "\n",
    "# initialize the bm25 retriever and faiss retriever\n",
    "bm25_retriever = BM25Retriever.from_texts(context)\n",
    "bm25_retriever.k = 2\n",
    "\n",
    "embedding = OpenAIEmbeddings()\n",
    "faiss_vectorstore = FAISS.from_texts(context, embedding) "
   ]
  },
  {
   "cell_type": "code",
   "execution_count": 103,
   "id": "accc00f0",
   "metadata": {},
   "outputs": [],
   "source": [
    "\n",
    "\n",
    "# initialize the bm25 retriever and faiss retriever\n",
    "bm25_retriever = BM25Retriever.from_texts(context)\n",
    "bm25_retriever.k = 2\n",
    "\n",
    "embedding = OpenAIEmbeddings()\n",
    "faiss_vectorstore = FAISS.from_texts(context, embedding)\n",
    "\n",
    "\n",
    "faiss_retriever = faiss_vectorstore.as_retriever(search_kwargs={\"k\": 2})\n",
    "\n",
    "\n",
    "\n",
    "# initialize the ensemble retriever\n",
    "ensemble_retriever = EnsembleRetriever(\n",
    "    retrievers=[bm25_retriever, faiss_retriever], weights=[0.5, 0.5]\n",
    ")"
   ]
  },
  {
   "cell_type": "code",
   "execution_count": 107,
   "id": "cffe39fb",
   "metadata": {},
   "outputs": [
    {
     "data": {
      "text/plain": [
       "[Document(page_content='I like apples'),\n",
       " Document(page_content='I like oranges'),\n",
       " Document(page_content='Apples and oranges are fruits')]"
      ]
     },
     "execution_count": 107,
     "metadata": {},
     "output_type": "execute_result"
    }
   ],
   "source": [
    "docs = ensemble_retriever.get_relevant_documents(\"i very much love apples\")\n",
    "docs"
   ]
  },
  {
   "cell_type": "code",
   "execution_count": 106,
   "id": "b73d167f",
   "metadata": {},
   "outputs": [
    {
     "data": {
      "text/plain": [
       "[Document(page_content='I like apples'),\n",
       " Document(page_content='I like oranges')]"
      ]
     },
     "execution_count": 106,
     "metadata": {},
     "output_type": "execute_result"
    }
   ],
   "source": [
    "faiss_retriever.get_relevant_documents('i very much love apples')"
   ]
  },
  {
   "cell_type": "code",
   "execution_count": null,
   "id": "036199c7",
   "metadata": {},
   "outputs": [],
   "source": []
  },
  {
   "cell_type": "code",
   "execution_count": 166,
   "id": "88decca5",
   "metadata": {},
   "outputs": [],
   "source": [
    "import os\n",
    "from enum import Enum\n",
    "from typing import Any, Dict, List, Optional\n",
    "\n",
    "from langchain.callbacks.manager import CallbackManagerForRetrieverRun\n",
    "from langchain.schema import Document\n",
    "from langchain.schema.retriever import BaseRetriever\n",
    "\n",
    "\n",
    "class SearchAPIRetriever(BaseRetriever):\n",
    "    \"\"\"Search API retriever.\"\"\"\n",
    "    pages: List[Dict] = []\n",
    "\n",
    "    def _get_relevant_documents(\n",
    "        self, query: str, *, run_manager: CallbackManagerForRetrieverRun\n",
    "    ) -> List[Document]:\n",
    "\n",
    "        docs = [\n",
    "            Document(\n",
    "                page_content=page.get(\"raw_content\", \"\"),\n",
    "                metadata={\n",
    "#                     \"title\": page.get(\"title\", \"\"),\n",
    "                    \"source\": page.get(\"url\", \"\"),\n",
    "                },\n",
    "            )\n",
    "            for page in self.pages\n",
    "        ]\n",
    "\n",
    "        return docs"
   ]
  },
  {
   "cell_type": "code",
   "execution_count": 116,
   "id": "a9c1eee0",
   "metadata": {},
   "outputs": [],
   "source": [
    "base_retriever = SearchAPIRetriever(pages = ans)"
   ]
  },
  {
   "cell_type": "code",
   "execution_count": 119,
   "id": "2990bee1",
   "metadata": {},
   "outputs": [],
   "source": [
    "from researcher.context.chunking import Chunking"
   ]
  },
  {
   "cell_type": "code",
   "execution_count": 120,
   "id": "20116d57",
   "metadata": {},
   "outputs": [],
   "source": [
    "chunking = Chunking(1000,100)"
   ]
  },
  {
   "cell_type": "code",
   "execution_count": 122,
   "id": "09681dbe",
   "metadata": {},
   "outputs": [
    {
     "data": {
      "text/plain": [
       "5"
      ]
     },
     "execution_count": 122,
     "metadata": {},
     "output_type": "execute_result"
    }
   ],
   "source": [
    "len(ans)"
   ]
  },
  {
   "cell_type": "code",
   "execution_count": 153,
   "id": "44f135fc",
   "metadata": {},
   "outputs": [
    {
     "data": {
      "text/plain": [
       "[{'url': 'https://www.realtor.com/research/2024-national-housing-forecast/',\n",
       "  'raw_content': 'Articles\\n2024 Housing Market Forecast and Predictions: Housing Affordability Finally Begins to Turnaround\\nAs we look ahead to 2024, we see a mix of continuity and change in both the housing market and economy. Against a backdrop of modest economic growth, slightly higher unemployment, and easing inflation longer term interest rates including mortgage rates begin a slow retreat. The shift from climbing to falling mortgage rates improves housing affordability, but saps some of the urgency home shoppers had previously sensed. Less frenzied housing demand and plenty of rental home options keep home sales relatively stable at low levels in 2024, helping home prices to adjust slightly lower even as the number of for-sale homes continues to dwindle.\\nRealtor.com® 2024 Forecast for Key Housing Indicators\\nHome Prices Dip, Improving Affordability\\nHome prices grew at a double-digit annual clip for the better part of two years spanning the second half of 2020 through 2022, a notable burst following a growing streak that spanned back to 2012. As mortgage rates climbed, home price growth flatlined, actually declining on an annual basis in early 2023 before an early-year dip in mortgage rates spurred enough buyer demand to reignite competition for still-limited inventory. Home prices began to climb again, and while they did not reach a new monthly peak, on average for the year we expect that the 2023 median home price will slightly exceed the 2022 annual median.\\nNevertheless, even during the brief period when prices eased, using a mortgage to buy a home remained expensive. Since May 2022, purchasing the typical for-sale home listing at the prevailing rate for a 30-year fixed-rate mortgage with a 20% down payment meant forking over a quarter or more of the typical household paycheck. In fact, in October 2023, it required 39% of the typical household income and this share is expected to average 36.7% for the full calendar year in 2023. This figure has typically ranged around 21%, so it is well above historical average. We expect that the return to pricing in line with financing costs will begin in 2024, and home prices, mortgage rates, and income growth will each contribute to the improvement. Home prices are expected to ease slightly, dropping less than 2% for the year on average. Combined with lower mortgage rates and income growth this will improve the home purchase mortgage payment share relative to median income to an average 34.9% in 2024, with the share slipping under 30% by the end of the year.\\nHome Sales Barely Budge Above 2023’s Likely Record Low\\nAfter soaring during the pandemic, existing home sales were weighed down in the latter half of 2022 as mortgage rates took off, climbing from just over 3% at the start of the year to a peak of more than 7% in the fourth quarter. The reprieve in mortgage rates in early 2023, when they dipped to around 6%, brought some life to home sales, but the renewed climb of mortgage rates has again exerted significant pressure on home sales that is exacerbated by the fact that a greater than usual number of households bought homes over the past few years, and despite stories of pandemic purchase regret, for the most part, these homeowners continue to be happy in their homes.\\nThis is consistent with what visitors to Realtor.com report when asked why they are not planning to sell their homes. The number one reason homeowners aren’t trying to sell is that they just don’t need to; concern about losing an existing low-rate mortgage is the top financial concern cited. Our current projection is for 2023 home sales to tally just over 4 million, a dip of 19% over the 2022 5 million total.\\nWith many of the same forces at play heading into 2024, the housing chill will continue, with sales expected to remain essentially unchanged at just over 4 million. Although mortgage rates are expected to ease throughout the course of the year, the continuation of high costs will mean that existing homeowners will have a very high threshold for deciding to move, with many likely choosing to stay in place.\\xa0 Moves of necessity–for job changes, family situation changes, and downsizing to a more affordable market–are likely to drive home sales in 2024.\\nShoppers Find Even Fewer Existing Homes For Sale\\nEven before the pandemic, housing inventory was on a long, slow downward trajectory. Insufficient building meant that the supply of houses did not keep up with household formation and left little slack in the housing market. Both homeowner and rental vacancy remain below historic averages. In contrast with the existing home market, which remains sluggish, builders have been catching up, with construction remaining near pre-pandemic highs for single-family and hitting record levels for multi-family.\\nDespite this, the lack of excess capacity in housing has been painfully obvious in the for-sale home market. The number of existing homes on the market has dwindled. With home sales activity to continue at a relatively low pace, the number of unsold homes on the market is also expected to remain low.\\xa0 Although mortgage rates are expected to begin to ease, they are expected to exceed 6.5% for the calendar year. This means that the lock-in effect, in which the gap between market mortgage rates and the mortgage rates existing homeowners enjoy on their outstanding mortgage, will remain a factor. Roughly two-thirds of outstanding mortgages have a rate under 4% and more than 90% have a rate less than 6%.\\nRental Supply Outpaces Demand to Drive Mild Further Decline in Rents\\nAfter almost a full year of double-digit rent growth between mid-2021 and mid-2022, the rental market has finally cooled down, as evidenced by the year-over-year decline that started in May 2023. In 2024, we expect the rental market will closely resemble the dynamics witnessed in 2023, as the tug of war between supply and demand results in a mild annual decline of -0.2% in the median asking rent.\\nNew multi-family supply will continue to be a key element shaping the 2024 rental market.\\xa0 In the third quarter of 2023, the annual pace of newly completed multi-family homes stood at 385,000 units. Although absorption rates remained elevated in the second quarter, especially at lower price points, the rental vacancy rate ticked up to 6.6% in the third quarter. This uptick in rental vacancy suggests the recent supply has outpaced demand, but context is important. After recent gains, the rental vacancy rate is on par with its level right before the onset of the pandemic in early 2020, still below its 7.2% average from the 2013 to 2019 period.\\xa0 Looking ahead, the strong construction pipeline–which hit a record high for units under construction this summer–is expected to continue fueling rental supply growth in 2024 pushing rental vacancy back toward its long-run average.\\nWhile the surge in new multi-family supply gives renters options, the sheer number of renters will minimize the potential price impact. The median asking rent in 2024 is expected to drop only slightly below its 2023 level. Renting is expected to continue to be a more budget friendly option than buying in the vast majority of markets, even though home prices and mortgage rates are both expected to dip, helping pull the purchase market down slightly from record unaffordability.\\nYoung adult renters who lack the benefit of historically high home equity to tap into for a home purchase will continue to find the housing market challenging. Specifically, as many Millennials age past first-time home buying age and more Gen Z approach these years, the current housing landscape is likely to keep these households in the rental market for a longer period as they work to save up more money for the growing down payment needed to buy a first home. This trend is expected to sustain robust demand for rental properties. Consequently, we anticipate that rental markets favored by young adults, a list which includes a mix of affordable areas and tech-heavy job markets in the South, Midwest, and West, will be rental markets to watch in 2024.\\nKey Wildcards:\\nHousing Perspectives:\\nWhat will the market be like for homebuyers, especially first-time homebuyers?\\nFirst-time homebuyers will continue to face a challenging housing market in 2024, but there are some green shoots. The record-high share of income required to purchase the median priced home is expected to begin to decline as mortgage rates ease, home prices soften, and incomes grow. In 2023 we expect that for the year as a whole, the monthly cost of financing the typical for-sale home will average more than $2,240, a nearly 20% increase over the mortgage payment in 2022, and roughly double the typical payment for buyers in 2020. This amounted to a whopping nearly 37% of the typical household income. In 2024 as modest price declines take hold and mortgage rates dip, the typical purchase cost is expected to slip just under $2,200 which would amount to nearly 35% of income. While far higher than historically average, this is a significant first step in a buyer-friendly direction.\\nHow can homebuyers prepare?\\nHomebuyers can prepare for this year’s housing market by getting financially ready. Buyers can use a home affordability calculator, like this one at Realtor.com to translate their income and savings into a home price range. And shoppers can pressure test the results by using a mortgage calculator to consider different down payment, price, and loan scenarios to see how their monthly costs would be impacted. Working with a lender can help potential buyers explore different loan products such as FHA or VA loans that may offer lower mortgage interest rates or more flexible credit criteria.\\nAlthough prices are anticipated to fall in 2024, housing costs remain high, and a down payment can be a big obstacle for buyers. Recent research shows that the typical down payment on a home reached a record high of $30,000.\\xa0 To make it easier to cobble together a down payment, shoppers can access information about down payment assistance options at Realtor.com/fairhousing and in the monthly payment section of home listing pages. Furthermore, home shoppers can explore loan products geared toward helping families access homeownership by enabling down payments as low as 3.5% in the case of FHA loans and 0% in the case of VA loans.\\nWhat will the market be like for home sellers?\\nHome sellers are likely to face more competition from builders than from other sellers in 2024. Because builders are continuing to maintain supply and increasingly adapting to market conditions, they are increasingly focused on lower-priced homes and willing to make price adjustments when needed. As a result, potential sellers will want to consider the landscape for new construction housing in their markets and any implications for pricing and marketing before listing their home for sale.\\nWhat will the market be like for renters?\\nIn 2024, renting is expected to continue to be a more cost-effective option than buying in the short term even though we anticipate the advantage for renting to diminish as home prices and mortgage rates decline.\\nHowever, for those considering the pursuit of long-term equity through homeownership, it’s essential to not only stay alert about market trends but also to carefully consider the intended duration of residence in their next home. When home prices rise rapidly, like they did during the pandemic, the higher cost of purchasing a home may break even with the cost of renting in as little as 3 years. Generally, it takes longer to reach the breakeven point, typically within a 5 to 7-year timeframe. Importantly, when home prices are falling and rents are also declining, as is expected to be the case in 2024, it can take longer to recoup some of the higher costs of buying a home. Individuals using Realtor.com’s Rent vs. Buy Calculator can thoroughly evaluate the costs and benefits associated with renting versus buying over time and how many years current market trends suggest it will take before buying is the better financial decision. This comprehensive tool can provide insights tailored to a household’s specific rent versus buying decision and empowers consumers to consider not only the optimal choice for the current month but also how the trade-offs evolve over several years.\\nLocal Market Predictions:\\nAll real estate is local and while the national trends are instructive, what matters most is what’s expected in your local market.\\nMetro\\n2024 Sales Growth % y/y\\n2024 Price Growth % y/y\\nSign up for updates\\nJoin our mailing list to receive the latest data and research.'},\n",
       " {'url': 'https://markets.businessinsider.com/news/commodities/housing-market-outlook-zillow-homes-forecasts-prices-mortgage-rates-2024-2023-11?op=1',\n",
       "  'raw_content': 'Jump to\\nFrom affordability to property demand, here are Zillow\\'s 6 biggest predictions for the US housing market in 2024\\nHigh mortgage rates, low inventory, and elevated home prices have defined the US housing market in 2023.\\nThose conditions have kept many current homeowners from moving, hesitant to give up the lower mortgage rates they secured in prior years, which in turn has left prospective buyers with fewer homes to choose from.\\nThe result has been a frozen housing market. Buyers aren\\'t buying because sellers aren\\'t selling, and vice versa. It\\'s led to stubbornly high prices amid mortgage rates that are high in relation to recent history, a cocktail that\\'s created an affordability crisis in US housing.\\nBut things may be looking up next year, Zillow researchers say, and Americans may see some relief as the calendar changes.\\nHere are six predictions the real-estate group has for 2024.\\n1. Higher-for-longer interest rates will lead to more homes on the market\\nAs house hunters and current owners come to terms with the new normal of high mortgage rates, Zillow expects more homes to go up for sale as people lose patience waiting for rates to fall before jumping back into the market.\\nA growing share of reluctant homeowners who haven\\'t sold homes in the last two years could give in to listing their properties, which ultimately could lead to a greater supply of housing.\\n2. Home-buying costs will level off\\nAs of October, a typical homebuyer would have spent more than 40% of their earnings on a mortgage payment, an all-time high indicated by Zillow data going back to the 1990s.\\nHomes may not get less expensive, but the rate of growth could level off and provide Americans some time to catch up via wages and savings.\\n\"Predicting how mortgage rates will move is a nearly impossible task, but recent inflation news gives the impression that rates are likely to hold fairly steady as well in the coming months,\" Zillow researchers said. \"Taken together, the cost of buying a home looks to be on track to level off next year, with the possibility of costs falling if mortgage rates do.\"\\n3. Higher demand for single-family rentals\\nZillow expects demand for single-family rentals to ramp up next year as families seek out affordable options.\\n\"One possible path to more single-family rental inventory is homeowners deciding to turn their home into an investment property and rent it out rather than selling it when they move,\" researchers said. \"The ultralow mortgage rates held by many existing homeowners make it more likely that this option would pencil out.\"\\n4. More markets will follow New York City\\'s lead\\nIn New York City, demand has jumped for rentals in commutable areas with access to downtown and midtown Manhattan. More distant areas, meanwhile, have seen less demand.\\nIn 2024, Zillow expects more markets across the country to reflect growing rental demand in downtown centers.\\n\"Renters looking for a place near downtown will likely have more options with this year\\'s multi-family-construction boom, which means a huge number of new homes have hit the market,\" the real-estate group said.\\n5. Less competition from flippers\\nLow housing inventory has been the norm for years, and even as more homes go online next year, total volume is set to remain below pre-pandemic norms.\\nGiven fewer options, buyers are expected to be willing to overlook small flaws in properties, such as an outdated kitchen, and make the purchase anyway.\\n\"The higher cost of buying a home today makes a flip harder to pencil out, so buyers may face less competition from flippers than they might have in previous years,\" Zillow researchers said. \"Even with less chance of being subject to a bidding war, these homes won\\'t come cheap, so expect buyers to frequent their local hardware stores as they work on DIY home improvements.\"\\n6. AI comes to the housing industry\\nFurther advancements in artificial intelligence will help streamline the home-shopping and home-selling experience next year, Zillow says.\\nNew tools are expected to help real-estate agents connect with more clients, and large language models such as ChatGPT have already helped with writing listings. Zillow\\'s tech experts expect new AI tools to bolster visual content creation, such as 3D images.\\nHome shoppers, meanwhile, are set to benefit from generative-AI-powered experiences that provide more insights into home financing.\\nRead next\\nIndices\\nCommodities\\nCurrencies\\nStocks'},\n",
       " {'url': 'https://money.com/mortgage-rates-home-prices-predictions-2024/',\n",
       "  'raw_content': 'Many companies featured on Money advertise with us. Opinions are our own, but compensation and in-depth research may determine where and how companies appear. Learn more about how we make money.\\nHere’s How Far Home Prices and Mortgage Rates Could Drop in 2024\\nhttps://money.com/mortgage-rates-home-prices-predictions-2024/\\nThe new year could finally bring good tidings for homebuyers — or at least the beginning of improved housing affordability.\\nHistorically high mortgage rates and housing prices that stymied homebuyers this year are expected to ebb a bit in 2024, according to real estate brokerage Realtor.com’s new housing market forecast. While home shoppers shouldn’t expect major relief from today’s crushing homeownership costs, small gains in affordability are expected to help some buyers get a foot in the door.\\nRenters can also look forward to somewhat better conditions as new construction hits the market in the coming months.\\nFind Your Actual Rate at Rocket Mortgage (NMLS #3030) Today!\\nWhat will the housing market look like in 2024?\\nThis year was another rough one for homebuyers thanks to stubbornly high prices and rising interest rates, which kept many current homeowners locked into their current mortgages. Soaring home insurance costs throughout 2023 also worsened the outlook for buyers, many of whom were forced to hold back on making a purchase or back out of deals.\\nNow that inflation is easing, mortgage rates are expected to make a slow decline throughout 2024. But the wheels of progress turn slowly: Realtor.com experts are forecasting that rates will be 6.8% on average for 2024 and 6.5% by the year’s end. (For comparison, the average mortgage rate between 2013 and 2019 was about 4%, and they reached a high of 7.79% earlier this year.)\\nAs for home prices, Realtor.com expects the typical monthly purchase cost for the median priced home listing to drop slightly from this year’s $2,240 to $2,200, amounting to about 35% of the average U.S. household income. Demand will probably remain low, and inventory will still be limited as would-be sellers hold back.\\n“Moves of necessity — for job changes, family situation changes, and downsizing to a more affordable market — are likely to drive home sales in 2024,” Danielle Hale, Realtor.com’s chief economist, said in the report.\\nOn the whole, while Realtor.com expects record-high unaffordability to wane, Americans shouldn’t anticipate a return to pre-inflation, pre-pandemic norms in 2024. And if inflation ticks back up, home sales could suffer even more, upending any prospective market stabilization.\\nThere is, however, something of a silver lining for renters in 2024: An increase in new construction is expected to hit the market and give renters more options. That said, the fact that renting will still be more affordable than buying will also mean more competition for rentals. Realtor.com doesn’t expect rent prices to budge much — the median rent price for 2024 is forecasted to decrease only about .2% below this year’s.\\nWhat can help homebuyers in 2024?\\nThough affordability will still be a challenge for the foreseeable future, free tools like a mortgage payment calculator can help prospective buyers figure out the best options for their needs in terms of loans, down payment and home price. Exploring different loan products with mortgage lenders may also help buyers find lower rates or less stringent loan requirements.\\nAlthough the average down payment reached a record high of $30,000 this year, there are an estimated 2,000-plus down payment assistance (or DPA) programs available throughout the country. DPA programs can be especially beneficial for first-time buyers and are typically designed to meet the needs of local homebuyers.\\nHomebuyers can start by researching DPAs in their desired state, county and city and reaching out to providers about their qualification requirements. Working with a housing counselor, which every lender has available, can help buyers explore the programs that best suit them.\\nNewsletterMoney MovesEvery Saturday, Money dives deep into the world of real estate, offering a fresh take on the latest housing news for homeowners, buyers and daydreamers alike.Sign UpBy clicking \"Sign Up\" I agree to receive newsletters and promotions from Money and its partners. I agree to Money\\'s Terms of Use and Privacy Notice and consent to the processing of my personal information.Sign Up\\nMore from Money:\\nHow Much Equity Can I Borrow From My Home?\\nHow Much House Can You Afford? Many Buyers Are Ignoring a Classic Rule of Thumb\\nHome Sales Rise as More Sellers Cut Prices and Grant Concessions to Buyers\\nConnect\\nPhysical Address\\nMoney Group, LLC\\nLots 81-82 Street C\\nDorado, PR 00646\\nMailing Address\\nMetro Office Park\\n7 calle 1, Suite 204\\nGuaynabo, PR 00968'},\n",
       " {'url': 'https://www.bankrate.com/real-estate/housing-market-2024/',\n",
       "  'raw_content': \"Compare accounts\\nGet guidance\\nCompare accounts\\nGet guidance\\nMoney market accounts\\nMoney market accounts are similar to savings accounts, but offer some checking features as well.\\nGet guidance\\nBanking\\nSkip the searching and find your next bank in minutes with BankMatch℠.\\nGet guidance\\nCompare rates\\nGet guidance\\nHome equity\\nHome equity is the portion of your home you’ve paid off. You can use it to borrow for other financial goals.\\nGet guidance\\nBuying & selling\\nFind an expert who knows the market. Compare trusted real estate agents all in one place.\\nGet guidance\\nHome insurance\\nHome insurance doesn't have to be a hassle. Choose the best home insurance company for you.\\nGet guidance\\nCompare investments\\nGet guidance\\nCompare plans\\nGet guidance\\nFinding an advisor\\nGet guidance\\nLife insurance\\nLife insurance doesn’t have to be complicated. Find peace of mind and choose the right policy for you.\\nGet guidance\\nCompare cards\\nFind your fit\\nSee your card matches\\nAnswer a few quick questions and we’ll show you your top credit card options.\\nCompare cards\\nSee what the experts say\\nRead in-depth credit card reviews to find out which cards have the best perks and more.\\nGet guidance\\nCompare lenders\\nGet guidance\\nCompare lenders\\nGet guidance\\nManage your debt\\nStart making moves toward your money goals and compare your debt management options.\\nGet guidance\\nCompare lenders\\nGet guidance\\nBusiness credit cards\\nBoost your business with rewards, perks and more. Compare cards in one place to find the one for you.\\nGet guidance\\nAuto loans\\nFigure out funding for your next car or refinance with confidence. Check out today’s auto loan rates.\\nGet guidance\\nAuto insurance\\nDrive with peace of mind when you compare insurance carriers and find the policy that’s right for you.\\nGet guidance\\nHousing market predictions for 2024\\nAdvertiser Disclosure\\nWe are an independent, advertising-supported comparison service. Our goal is to help you make smarter financial decisions by providing you with interactive tools and financial calculators, publishing original and objective content, by enabling you to conduct research and compare information for free - so that you can make financial decisions with confidence.\\nBankrate has partnerships with issuers including, but not limited to, American Express, Bank of America, Capital One, Chase, Citi and Discover.\\nHow We Make Money\\nThe offers that appear on this site are from companies that compensate us. This compensation may impact how and where products appear on this site, including, for example, the order in which they may appear within the listing categories, except where prohibited by law for our mortgage, home equity and other home lending products. But this compensation does not influence the information we publish, or the reviews that you see on this site. We do not include the universe of companies or financial offers that may be available to you.\\nOn This Page\\nOn This Page\\nThe Bankrate promise\\nAt Bankrate we strive to help you make smarter financial decisions. While we adhere to strict\\neditorial integrity,\\nthis post may contain references to products from our partners. Here's an explanation for how we make money\\n.\\nThe Bankrate promise\\nFounded in 1976, Bankrate has a long track record of helping people make smart financial choices.\\nWe’ve maintained this reputation for over four decades by demystifying the financial decision-making\\nprocess and giving people confidence in which actions to take next.\\nBankrate follows a strict editorial policy,\\nso you can trust that we’re putting your interests first. All of our content is authored by\\nhighly qualified professionals and edited by\\nsubject matter experts,\\nwho ensure everything we publish is objective, accurate and trustworthy.\\nBuying or selling a home is one of the biggest financial decisions an individual will ever make. Our real estate reporters and editors focus on educating consumers about this life-changing transaction and how to navigate the complex and ever-changing housing market. From finding an agent to closing and beyond, our goal is to help you feel confident that you're making the best, and smartest, real estate deal possible.\\nEditorial integrity\\nBankrate follows a strict editorial policy, so you can trust that we’re putting your interests first. Our award-winning editors and reporters create honest and accurate content to help you make the right financial decisions.\\nKey Principles\\nWe value your trust. Our mission is to provide readers with accurate and unbiased information, and we have editorial standards in place to ensure that happens. Our editors and reporters thoroughly fact-check editorial content to ensure the information you’re reading is accurate. We maintain a firewall between our advertisers and our editorial team. Our editorial team does not receive direct compensation from our advertisers.\\nEditorial Independence\\nBankrate’s editorial team writes on behalf of YOU – the reader. Our goal is to give you the best advice to help you make smart personal finance decisions. We follow strict guidelines to ensure that our editorial content is not influenced by advertisers. Our editorial team receives no direct compensation from advertisers, and our content is thoroughly fact-checked to ensure accuracy. So, whether you’re reading an article or a review, you can trust that you’re getting credible and dependable information.\\nHow we make money\\nYou have money questions. Bankrate has answers. Our experts have been helping you master your money for over four decades. We continually strive to provide consumers with the expert advice and tools needed to succeed throughout life’s financial journey.\\nBankrate follows a strict\\neditorial policy, so you can trust that our content is honest and accurate. Our award-winning editors and reporters create honest and accurate content to help you make the right financial decisions. The content created by our editorial staff is objective, factual, and not influenced by our advertisers.\\nWe’re transparent about how we are able to bring quality content, competitive rates, and useful tools to you by explaining how we make money.\\nBankrate.com is an independent, advertising-supported publisher and comparison service. We are compensated in exchange for placement of sponsored products and services, or by you clicking on certain links posted on our site. Therefore, this compensation may impact how, where and in what order products appear within listing categories, except where prohibited by law for our mortgage, home equity and other home lending products. Other factors, such as our own proprietary website rules and whether a product is offered in your area or at your self-selected credit score range, can also impact how and where products appear on this site. While we strive to provide a wide range of offers, Bankrate does not include information about every financial or credit product or service.\\nKey takeaways\\nWith mortgage rates and home prices both historically high, and inventory very tight, many prospective sellers and hopeful buyers are feeling nervous about today’s housing market.\\nThe median sale price for an existing home in the U.S. was a hefty $394,300 as of September 2023, the third month of year-over-year price increases in a row. And as of early November, the average 30-year mortgage rate was 7.69 percent — thankfully no longer above 8 percent, but still hovering around 20-year highs.\\nHome prices, mortgage rates and inventory levels will all shape housing affordability in the coming year. Curious where these trends may go? Read on to learn what the experts predict for the 2024 housing market.\\nWhat will happen to the housing market in 2024?\\nRates roughly doubled in 2022, thanks in part to the Federal Reserve’s war on inflation, and have stayed high since. While the Fed does not directly set mortgage rates, mortgage lenders take cues from them, and mortgage rates climbed in tandem with the Fed’s long string of rate hikes.\\nWill housing sales decline?\\nWhile home prices have certainly held firm this year, the volume of home sales has softened considerably. Existing-home sales in September 2023 declined to an annual pace of 3.96 million, according to NAR data, which represents a 15.4 percent drop year-over-year. However, these trends may pivot in 2024 if mortgage rates dip.\\n“Retreating mortgage rates will bring more buyers and sellers to the market and get Americans moving again,” says NAR chief economist Lawrence Yun. At a NAR conference in November, Yun predicted that sales will rise by as much as 15 percent next year.\\n“Housing sales are expected to increase a bit from this year,” says Chen Zhao, who leads the economics team at Redfin. “However,” she qualifies, “we are not expecting sales to increase dramatically, as rates are likely to remain above 6 percent.”\\n“Lower mortgage rates would help spur home sales activity, which are expected to increase in 2024 compared to 2023,” says Selma Hepp, chief economist at CoreLogic. “Declines in mortgage rates will drive more sellers to trade their existing home and help add much-needed inventory to the market, leading to more transactions.”\\nWill housing inventory increase?\\nSpeaking of much-needed inventory, housing supply has been very low throughout 2023 thus far. The overall number of existing homes on the market for sale as of September sat at 1.13 million units, an 8.1 percent decline since last year. That figure represents only a 3.4-month supply, far short of the 5 to 6 months usually needed for a balanced market.\\n“There are simply not enough homes for sale,” Yun said in a statement earlier this year. “The market can easily absorb a doubling of inventory.”\\nFor inventory levels to improve significantly, there would need to be either a surge of homeowners listing their existing properties or a huge amount of new-construction homes hitting the market. While both seem relatively unlikely, Yun does foresee some increase in housing inventory for 2024. “There will be more home construction, and more existing homeowners will be willing to sell and give up their low mortgage rates,” he says.\\nWill home prices go down?\\nHousing prices have been on fire lately, culminating in historic highs — September’s median of $394,300 was only about $20K short of the highest monthly home price NAR has ever recorded ($413,800, set in June 2022).\\nSo will home prices drop in 2024? Probably not, says Yun: “Home prices will rise around 3 to 4 percent,” he predicts.\\nPrices are intricately connected with housing inventory, as well, notes Zhao. “Sellers are likely to remain reluctant to give up their low interest rate for a much higher one, so inventory will remain constrained,” she says. “As more time passes, more homeowners may be ‘forced’ to sell due to life events, so inventory may rise from the current anemic levels, but it’s unlikely to increase much. That means that prices are unlikely to fall on a year-over-year basis, unless demand falters.”\\nWill 2024 be a buyer’s or seller’s market?\\nIn today’s market, tight inventory gives sellers the upper hand. There are more buyers than there are homes available, so each home that comes on the market becomes more of a hot commodity than it might if there were more options to choose from. Without a significant uptick in inventory, the seller’s market seems unlikely to change next year.\\n“The current significant shortage of inventory suggests it would be hard to [become] a buyer’s market anytime soon,” says Hepp.\\n“Given expectations about interest rates and supply, demand will probably exceed supply similar to current conditions,” Zhao says. “Supply is likely to remain below what we would deem a balanced market.”\\n“The plague of low inventory won’t be cured in the short-term, but demand will suffer from high mortgage rates, bringing about more of a balanced market in 2024,” says McBride. “Sellers may find themselves making concessions on closing costs or rate buydowns more often in 2024, and buyers should be wary of biting off more than can be financially chewed. Home prices are at record highs in most markets, the cost of financing is the highest in more than 20 years and insurance costs are up substantially in many coastal markets. You’re not getting a bargain, and the willingness to walk away might prove to be a good choice.”\\nBottom line on the 2024 housing market\\nThe combination of high mortgage rates, steep home prices and low inventory levels are lining up to make the 2024 housing market a challenging one for both buyers and sellers. But if rates cool in 2024, as some experts predict, then market activity should heat up in response.\\nThe complexities of the current conditions mean that, now more than ever, it’s smart to lean on the guidance of an experienced local real estate agent. If you want to enter the market in 2024, whether as a buyer or a seller, let a pro lead the way for you.\\nFAQs\\nCaret Down\\nCaret Down\\nCaret Down\\nArticle sources\\nWe use primary sources to support our work. Bankrate’s authors, reporters and editors are subject-matter experts who thoroughly fact-check editorial content to ensure the information you’re reading is accurate, timely and relevant.\\n“Existing-Home Sales – September 2023,” National Association of Realtors. Accessed on Nov. 15, 2023.\\n“S&P CoreLogic Case-Shiller Index – August 2023,” S&P Dow Jones Indices. Accessed on Nov. 15, 2023.\\n“Consumer Price Index Summary – October 2023,” U.S. Bureau of Labor Statistics. Accessed on Nov. 15, 2023.\\n“NAR Chief Economist Lawrence Yun Forecasts…,” National Association of Realtors. Accessed on Nov. 15, 2023.\\nRelated Articles\\nHousing market predictions: The forecast for the next 5 years\\nHousing market predictions for winter 2023\\nHousing market predictions for 2023\\nThe expensive, inventory-starved housing market in 5 charts\\nBankrate logo\\nBankrate\\nAbout\\nHelp\\nLegal\\nHow we make money\\nBankrate.com is an independent, advertising-supported publisher and comparison service. We are compensated in exchange for placement of sponsored products and services, or by you clicking on certain links posted on our site. Therefore, this compensation may impact how, where and in what order products appear within listing categories, except where prohibited by law for our mortgage, home equity and other home lending products. Other factors, such as our own proprietary website rules and whether a product is offered in your area or at your self-selected credit score range, can also impact how and where products appear on this site. While we strive to provide a wide range of offers, Bankrate does not include information about every financial or credit product or service.\\nBankrate, LLC NMLS ID# 1427381 | NMLS Consumer Access\\nBR Tech Services, Inc. NMLS ID #1743443 | NMLS Consumer Access\\n© 2023 Bankrate, LLC. A Red Ventures company. All Rights Reserved.\"}]"
      ]
     },
     "execution_count": 153,
     "metadata": {},
     "output_type": "execute_result"
    }
   ],
   "source": [
    "ans"
   ]
  },
  {
   "cell_type": "code",
   "execution_count": 198,
   "id": "18e26f13",
   "metadata": {},
   "outputs": [],
   "source": [
    "sub_query_chunks = []\n",
    "for each_ans in ans:\n",
    "    sub_query_chunks += chunking.run(content=each_ans['raw_content'], metadatas= {'url': each_ans['url'] })"
   ]
  },
  {
   "cell_type": "code",
   "execution_count": 199,
   "id": "41f0d3d3",
   "metadata": {},
   "outputs": [
    {
     "data": {
      "text/plain": [
       "49"
      ]
     },
     "execution_count": 199,
     "metadata": {},
     "output_type": "execute_result"
    }
   ],
   "source": [
    "len(sub_query_chunks)"
   ]
  },
  {
   "cell_type": "code",
   "execution_count": 159,
   "id": "38b4efe9",
   "metadata": {},
   "outputs": [
    {
     "data": {
      "text/plain": [
       "[{'url': 'https://www.realtor.com/research/2024-national-housing-forecast/',\n",
       "  'raw_content': 'Articles\\n2024 Housing Market Forecast and Predictions: Housing Affordability Finally Begins to Turnaround\\nAs we look ahead to 2024, we see a mix of continuity and change in both the housing market and economy. Against a backdrop of modest economic growth, slightly higher unemployment, and easing inflation longer term interest rates including mortgage rates begin a slow retreat. The shift from climbing to falling mortgage rates improves housing affordability, but saps some of the urgency home shoppers had previously sensed. Less frenzied housing demand and plenty of rental home options keep home sales relatively stable at low levels in 2024, helping home prices to adjust slightly lower even as the number of for-sale homes continues to dwindle.\\nRealtor.com® 2024 Forecast for Key Housing Indicators\\nHome Prices Dip, Improving Affordability\\nHome prices grew at a double-digit annual clip for the better part of two years spanning the second half of 2020 through 2022, a notable burst following a growing streak that spanned back to 2012. As mortgage rates climbed, home price growth flatlined, actually declining on an annual basis in early 2023 before an early-year dip in mortgage rates spurred enough buyer demand to reignite competition for still-limited inventory. Home prices began to climb again, and while they did not reach a new monthly peak, on average for the year we expect that the 2023 median home price will slightly exceed the 2022 annual median.\\nNevertheless, even during the brief period when prices eased, using a mortgage to buy a home remained expensive. Since May 2022, purchasing the typical for-sale home listing at the prevailing rate for a 30-year fixed-rate mortgage with a 20% down payment meant forking over a quarter or more of the typical household paycheck. In fact, in October 2023, it required 39% of the typical household income and this share is expected to average 36.7% for the full calendar year in 2023. This figure has typically ranged around 21%, so it is well above historical average. We expect that the return to pricing in line with financing costs will begin in 2024, and home prices, mortgage rates, and income growth will each contribute to the improvement. Home prices are expected to ease slightly, dropping less than 2% for the year on average. Combined with lower mortgage rates and income growth this will improve the home purchase mortgage payment share relative to median income to an average 34.9% in 2024, with the share slipping under 30% by the end of the year.\\nHome Sales Barely Budge Above 2023’s Likely Record Low\\nAfter soaring during the pandemic, existing home sales were weighed down in the latter half of 2022 as mortgage rates took off, climbing from just over 3% at the start of the year to a peak of more than 7% in the fourth quarter. The reprieve in mortgage rates in early 2023, when they dipped to around 6%, brought some life to home sales, but the renewed climb of mortgage rates has again exerted significant pressure on home sales that is exacerbated by the fact that a greater than usual number of households bought homes over the past few years, and despite stories of pandemic purchase regret, for the most part, these homeowners continue to be happy in their homes.\\nThis is consistent with what visitors to Realtor.com report when asked why they are not planning to sell their homes. The number one reason homeowners aren’t trying to sell is that they just don’t need to; concern about losing an existing low-rate mortgage is the top financial concern cited. Our current projection is for 2023 home sales to tally just over 4 million, a dip of 19% over the 2022 5 million total.\\nWith many of the same forces at play heading into 2024, the housing chill will continue, with sales expected to remain essentially unchanged at just over 4 million. Although mortgage rates are expected to ease throughout the course of the year, the continuation of high costs will mean that existing homeowners will have a very high threshold for deciding to move, with many likely choosing to stay in place.\\xa0 Moves of necessity–for job changes, family situation changes, and downsizing to a more affordable market–are likely to drive home sales in 2024.\\nShoppers Find Even Fewer Existing Homes For Sale\\nEven before the pandemic, housing inventory was on a long, slow downward trajectory. Insufficient building meant that the supply of houses did not keep up with household formation and left little slack in the housing market. Both homeowner and rental vacancy remain below historic averages. In contrast with the existing home market, which remains sluggish, builders have been catching up, with construction remaining near pre-pandemic highs for single-family and hitting record levels for multi-family.\\nDespite this, the lack of excess capacity in housing has been painfully obvious in the for-sale home market. The number of existing homes on the market has dwindled. With home sales activity to continue at a relatively low pace, the number of unsold homes on the market is also expected to remain low.\\xa0 Although mortgage rates are expected to begin to ease, they are expected to exceed 6.5% for the calendar year. This means that the lock-in effect, in which the gap between market mortgage rates and the mortgage rates existing homeowners enjoy on their outstanding mortgage, will remain a factor. Roughly two-thirds of outstanding mortgages have a rate under 4% and more than 90% have a rate less than 6%.\\nRental Supply Outpaces Demand to Drive Mild Further Decline in Rents\\nAfter almost a full year of double-digit rent growth between mid-2021 and mid-2022, the rental market has finally cooled down, as evidenced by the year-over-year decline that started in May 2023. In 2024, we expect the rental market will closely resemble the dynamics witnessed in 2023, as the tug of war between supply and demand results in a mild annual decline of -0.2% in the median asking rent.\\nNew multi-family supply will continue to be a key element shaping the 2024 rental market.\\xa0 In the third quarter of 2023, the annual pace of newly completed multi-family homes stood at 385,000 units. Although absorption rates remained elevated in the second quarter, especially at lower price points, the rental vacancy rate ticked up to 6.6% in the third quarter. This uptick in rental vacancy suggests the recent supply has outpaced demand, but context is important. After recent gains, the rental vacancy rate is on par with its level right before the onset of the pandemic in early 2020, still below its 7.2% average from the 2013 to 2019 period.\\xa0 Looking ahead, the strong construction pipeline–which hit a record high for units under construction this summer–is expected to continue fueling rental supply growth in 2024 pushing rental vacancy back toward its long-run average.\\nWhile the surge in new multi-family supply gives renters options, the sheer number of renters will minimize the potential price impact. The median asking rent in 2024 is expected to drop only slightly below its 2023 level. Renting is expected to continue to be a more budget friendly option than buying in the vast majority of markets, even though home prices and mortgage rates are both expected to dip, helping pull the purchase market down slightly from record unaffordability.\\nYoung adult renters who lack the benefit of historically high home equity to tap into for a home purchase will continue to find the housing market challenging. Specifically, as many Millennials age past first-time home buying age and more Gen Z approach these years, the current housing landscape is likely to keep these households in the rental market for a longer period as they work to save up more money for the growing down payment needed to buy a first home. This trend is expected to sustain robust demand for rental properties. Consequently, we anticipate that rental markets favored by young adults, a list which includes a mix of affordable areas and tech-heavy job markets in the South, Midwest, and West, will be rental markets to watch in 2024.\\nKey Wildcards:\\nHousing Perspectives:\\nWhat will the market be like for homebuyers, especially first-time homebuyers?\\nFirst-time homebuyers will continue to face a challenging housing market in 2024, but there are some green shoots. The record-high share of income required to purchase the median priced home is expected to begin to decline as mortgage rates ease, home prices soften, and incomes grow. In 2023 we expect that for the year as a whole, the monthly cost of financing the typical for-sale home will average more than $2,240, a nearly 20% increase over the mortgage payment in 2022, and roughly double the typical payment for buyers in 2020. This amounted to a whopping nearly 37% of the typical household income. In 2024 as modest price declines take hold and mortgage rates dip, the typical purchase cost is expected to slip just under $2,200 which would amount to nearly 35% of income. While far higher than historically average, this is a significant first step in a buyer-friendly direction.\\nHow can homebuyers prepare?\\nHomebuyers can prepare for this year’s housing market by getting financially ready. Buyers can use a home affordability calculator, like this one at Realtor.com to translate their income and savings into a home price range. And shoppers can pressure test the results by using a mortgage calculator to consider different down payment, price, and loan scenarios to see how their monthly costs would be impacted. Working with a lender can help potential buyers explore different loan products such as FHA or VA loans that may offer lower mortgage interest rates or more flexible credit criteria.\\nAlthough prices are anticipated to fall in 2024, housing costs remain high, and a down payment can be a big obstacle for buyers. Recent research shows that the typical down payment on a home reached a record high of $30,000.\\xa0 To make it easier to cobble together a down payment, shoppers can access information about down payment assistance options at Realtor.com/fairhousing and in the monthly payment section of home listing pages. Furthermore, home shoppers can explore loan products geared toward helping families access homeownership by enabling down payments as low as 3.5% in the case of FHA loans and 0% in the case of VA loans.\\nWhat will the market be like for home sellers?\\nHome sellers are likely to face more competition from builders than from other sellers in 2024. Because builders are continuing to maintain supply and increasingly adapting to market conditions, they are increasingly focused on lower-priced homes and willing to make price adjustments when needed. As a result, potential sellers will want to consider the landscape for new construction housing in their markets and any implications for pricing and marketing before listing their home for sale.\\nWhat will the market be like for renters?\\nIn 2024, renting is expected to continue to be a more cost-effective option than buying in the short term even though we anticipate the advantage for renting to diminish as home prices and mortgage rates decline.\\nHowever, for those considering the pursuit of long-term equity through homeownership, it’s essential to not only stay alert about market trends but also to carefully consider the intended duration of residence in their next home. When home prices rise rapidly, like they did during the pandemic, the higher cost of purchasing a home may break even with the cost of renting in as little as 3 years. Generally, it takes longer to reach the breakeven point, typically within a 5 to 7-year timeframe. Importantly, when home prices are falling and rents are also declining, as is expected to be the case in 2024, it can take longer to recoup some of the higher costs of buying a home. Individuals using Realtor.com’s Rent vs. Buy Calculator can thoroughly evaluate the costs and benefits associated with renting versus buying over time and how many years current market trends suggest it will take before buying is the better financial decision. This comprehensive tool can provide insights tailored to a household’s specific rent versus buying decision and empowers consumers to consider not only the optimal choice for the current month but also how the trade-offs evolve over several years.\\nLocal Market Predictions:\\nAll real estate is local and while the national trends are instructive, what matters most is what’s expected in your local market.\\nMetro\\n2024 Sales Growth % y/y\\n2024 Price Growth % y/y\\nSign up for updates\\nJoin our mailing list to receive the latest data and research.'},\n",
       " {'url': 'https://markets.businessinsider.com/news/commodities/housing-market-outlook-zillow-homes-forecasts-prices-mortgage-rates-2024-2023-11?op=1',\n",
       "  'raw_content': 'Jump to\\nFrom affordability to property demand, here are Zillow\\'s 6 biggest predictions for the US housing market in 2024\\nHigh mortgage rates, low inventory, and elevated home prices have defined the US housing market in 2023.\\nThose conditions have kept many current homeowners from moving, hesitant to give up the lower mortgage rates they secured in prior years, which in turn has left prospective buyers with fewer homes to choose from.\\nThe result has been a frozen housing market. Buyers aren\\'t buying because sellers aren\\'t selling, and vice versa. It\\'s led to stubbornly high prices amid mortgage rates that are high in relation to recent history, a cocktail that\\'s created an affordability crisis in US housing.\\nBut things may be looking up next year, Zillow researchers say, and Americans may see some relief as the calendar changes.\\nHere are six predictions the real-estate group has for 2024.\\n1. Higher-for-longer interest rates will lead to more homes on the market\\nAs house hunters and current owners come to terms with the new normal of high mortgage rates, Zillow expects more homes to go up for sale as people lose patience waiting for rates to fall before jumping back into the market.\\nA growing share of reluctant homeowners who haven\\'t sold homes in the last two years could give in to listing their properties, which ultimately could lead to a greater supply of housing.\\n2. Home-buying costs will level off\\nAs of October, a typical homebuyer would have spent more than 40% of their earnings on a mortgage payment, an all-time high indicated by Zillow data going back to the 1990s.\\nHomes may not get less expensive, but the rate of growth could level off and provide Americans some time to catch up via wages and savings.\\n\"Predicting how mortgage rates will move is a nearly impossible task, but recent inflation news gives the impression that rates are likely to hold fairly steady as well in the coming months,\" Zillow researchers said. \"Taken together, the cost of buying a home looks to be on track to level off next year, with the possibility of costs falling if mortgage rates do.\"\\n3. Higher demand for single-family rentals\\nZillow expects demand for single-family rentals to ramp up next year as families seek out affordable options.\\n\"One possible path to more single-family rental inventory is homeowners deciding to turn their home into an investment property and rent it out rather than selling it when they move,\" researchers said. \"The ultralow mortgage rates held by many existing homeowners make it more likely that this option would pencil out.\"\\n4. More markets will follow New York City\\'s lead\\nIn New York City, demand has jumped for rentals in commutable areas with access to downtown and midtown Manhattan. More distant areas, meanwhile, have seen less demand.\\nIn 2024, Zillow expects more markets across the country to reflect growing rental demand in downtown centers.\\n\"Renters looking for a place near downtown will likely have more options with this year\\'s multi-family-construction boom, which means a huge number of new homes have hit the market,\" the real-estate group said.\\n5. Less competition from flippers\\nLow housing inventory has been the norm for years, and even as more homes go online next year, total volume is set to remain below pre-pandemic norms.\\nGiven fewer options, buyers are expected to be willing to overlook small flaws in properties, such as an outdated kitchen, and make the purchase anyway.\\n\"The higher cost of buying a home today makes a flip harder to pencil out, so buyers may face less competition from flippers than they might have in previous years,\" Zillow researchers said. \"Even with less chance of being subject to a bidding war, these homes won\\'t come cheap, so expect buyers to frequent their local hardware stores as they work on DIY home improvements.\"\\n6. AI comes to the housing industry\\nFurther advancements in artificial intelligence will help streamline the home-shopping and home-selling experience next year, Zillow says.\\nNew tools are expected to help real-estate agents connect with more clients, and large language models such as ChatGPT have already helped with writing listings. Zillow\\'s tech experts expect new AI tools to bolster visual content creation, such as 3D images.\\nHome shoppers, meanwhile, are set to benefit from generative-AI-powered experiences that provide more insights into home financing.\\nRead next\\nIndices\\nCommodities\\nCurrencies\\nStocks'},\n",
       " {'url': 'https://money.com/mortgage-rates-home-prices-predictions-2024/',\n",
       "  'raw_content': 'Many companies featured on Money advertise with us. Opinions are our own, but compensation and in-depth research may determine where and how companies appear. Learn more about how we make money.\\nHere’s How Far Home Prices and Mortgage Rates Could Drop in 2024\\nhttps://money.com/mortgage-rates-home-prices-predictions-2024/\\nThe new year could finally bring good tidings for homebuyers — or at least the beginning of improved housing affordability.\\nHistorically high mortgage rates and housing prices that stymied homebuyers this year are expected to ebb a bit in 2024, according to real estate brokerage Realtor.com’s new housing market forecast. While home shoppers shouldn’t expect major relief from today’s crushing homeownership costs, small gains in affordability are expected to help some buyers get a foot in the door.\\nRenters can also look forward to somewhat better conditions as new construction hits the market in the coming months.\\nFind Your Actual Rate at Rocket Mortgage (NMLS #3030) Today!\\nWhat will the housing market look like in 2024?\\nThis year was another rough one for homebuyers thanks to stubbornly high prices and rising interest rates, which kept many current homeowners locked into their current mortgages. Soaring home insurance costs throughout 2023 also worsened the outlook for buyers, many of whom were forced to hold back on making a purchase or back out of deals.\\nNow that inflation is easing, mortgage rates are expected to make a slow decline throughout 2024. But the wheels of progress turn slowly: Realtor.com experts are forecasting that rates will be 6.8% on average for 2024 and 6.5% by the year’s end. (For comparison, the average mortgage rate between 2013 and 2019 was about 4%, and they reached a high of 7.79% earlier this year.)\\nAs for home prices, Realtor.com expects the typical monthly purchase cost for the median priced home listing to drop slightly from this year’s $2,240 to $2,200, amounting to about 35% of the average U.S. household income. Demand will probably remain low, and inventory will still be limited as would-be sellers hold back.\\n“Moves of necessity — for job changes, family situation changes, and downsizing to a more affordable market — are likely to drive home sales in 2024,” Danielle Hale, Realtor.com’s chief economist, said in the report.\\nOn the whole, while Realtor.com expects record-high unaffordability to wane, Americans shouldn’t anticipate a return to pre-inflation, pre-pandemic norms in 2024. And if inflation ticks back up, home sales could suffer even more, upending any prospective market stabilization.\\nThere is, however, something of a silver lining for renters in 2024: An increase in new construction is expected to hit the market and give renters more options. That said, the fact that renting will still be more affordable than buying will also mean more competition for rentals. Realtor.com doesn’t expect rent prices to budge much — the median rent price for 2024 is forecasted to decrease only about .2% below this year’s.\\nWhat can help homebuyers in 2024?\\nThough affordability will still be a challenge for the foreseeable future, free tools like a mortgage payment calculator can help prospective buyers figure out the best options for their needs in terms of loans, down payment and home price. Exploring different loan products with mortgage lenders may also help buyers find lower rates or less stringent loan requirements.\\nAlthough the average down payment reached a record high of $30,000 this year, there are an estimated 2,000-plus down payment assistance (or DPA) programs available throughout the country. DPA programs can be especially beneficial for first-time buyers and are typically designed to meet the needs of local homebuyers.\\nHomebuyers can start by researching DPAs in their desired state, county and city and reaching out to providers about their qualification requirements. Working with a housing counselor, which every lender has available, can help buyers explore the programs that best suit them.\\nNewsletterMoney MovesEvery Saturday, Money dives deep into the world of real estate, offering a fresh take on the latest housing news for homeowners, buyers and daydreamers alike.Sign UpBy clicking \"Sign Up\" I agree to receive newsletters and promotions from Money and its partners. I agree to Money\\'s Terms of Use and Privacy Notice and consent to the processing of my personal information.Sign Up\\nMore from Money:\\nHow Much Equity Can I Borrow From My Home?\\nHow Much House Can You Afford? Many Buyers Are Ignoring a Classic Rule of Thumb\\nHome Sales Rise as More Sellers Cut Prices and Grant Concessions to Buyers\\nConnect\\nPhysical Address\\nMoney Group, LLC\\nLots 81-82 Street C\\nDorado, PR 00646\\nMailing Address\\nMetro Office Park\\n7 calle 1, Suite 204\\nGuaynabo, PR 00968'},\n",
       " {'url': 'https://www.bankrate.com/real-estate/housing-market-2024/',\n",
       "  'raw_content': \"Compare accounts\\nGet guidance\\nCompare accounts\\nGet guidance\\nMoney market accounts\\nMoney market accounts are similar to savings accounts, but offer some checking features as well.\\nGet guidance\\nBanking\\nSkip the searching and find your next bank in minutes with BankMatch℠.\\nGet guidance\\nCompare rates\\nGet guidance\\nHome equity\\nHome equity is the portion of your home you’ve paid off. You can use it to borrow for other financial goals.\\nGet guidance\\nBuying & selling\\nFind an expert who knows the market. Compare trusted real estate agents all in one place.\\nGet guidance\\nHome insurance\\nHome insurance doesn't have to be a hassle. Choose the best home insurance company for you.\\nGet guidance\\nCompare investments\\nGet guidance\\nCompare plans\\nGet guidance\\nFinding an advisor\\nGet guidance\\nLife insurance\\nLife insurance doesn’t have to be complicated. Find peace of mind and choose the right policy for you.\\nGet guidance\\nCompare cards\\nFind your fit\\nSee your card matches\\nAnswer a few quick questions and we’ll show you your top credit card options.\\nCompare cards\\nSee what the experts say\\nRead in-depth credit card reviews to find out which cards have the best perks and more.\\nGet guidance\\nCompare lenders\\nGet guidance\\nCompare lenders\\nGet guidance\\nManage your debt\\nStart making moves toward your money goals and compare your debt management options.\\nGet guidance\\nCompare lenders\\nGet guidance\\nBusiness credit cards\\nBoost your business with rewards, perks and more. Compare cards in one place to find the one for you.\\nGet guidance\\nAuto loans\\nFigure out funding for your next car or refinance with confidence. Check out today’s auto loan rates.\\nGet guidance\\nAuto insurance\\nDrive with peace of mind when you compare insurance carriers and find the policy that’s right for you.\\nGet guidance\\nHousing market predictions for 2024\\nAdvertiser Disclosure\\nWe are an independent, advertising-supported comparison service. Our goal is to help you make smarter financial decisions by providing you with interactive tools and financial calculators, publishing original and objective content, by enabling you to conduct research and compare information for free - so that you can make financial decisions with confidence.\\nBankrate has partnerships with issuers including, but not limited to, American Express, Bank of America, Capital One, Chase, Citi and Discover.\\nHow We Make Money\\nThe offers that appear on this site are from companies that compensate us. This compensation may impact how and where products appear on this site, including, for example, the order in which they may appear within the listing categories, except where prohibited by law for our mortgage, home equity and other home lending products. But this compensation does not influence the information we publish, or the reviews that you see on this site. We do not include the universe of companies or financial offers that may be available to you.\\nOn This Page\\nOn This Page\\nThe Bankrate promise\\nAt Bankrate we strive to help you make smarter financial decisions. While we adhere to strict\\neditorial integrity,\\nthis post may contain references to products from our partners. Here's an explanation for how we make money\\n.\\nThe Bankrate promise\\nFounded in 1976, Bankrate has a long track record of helping people make smart financial choices.\\nWe’ve maintained this reputation for over four decades by demystifying the financial decision-making\\nprocess and giving people confidence in which actions to take next.\\nBankrate follows a strict editorial policy,\\nso you can trust that we’re putting your interests first. All of our content is authored by\\nhighly qualified professionals and edited by\\nsubject matter experts,\\nwho ensure everything we publish is objective, accurate and trustworthy.\\nBuying or selling a home is one of the biggest financial decisions an individual will ever make. Our real estate reporters and editors focus on educating consumers about this life-changing transaction and how to navigate the complex and ever-changing housing market. From finding an agent to closing and beyond, our goal is to help you feel confident that you're making the best, and smartest, real estate deal possible.\\nEditorial integrity\\nBankrate follows a strict editorial policy, so you can trust that we’re putting your interests first. Our award-winning editors and reporters create honest and accurate content to help you make the right financial decisions.\\nKey Principles\\nWe value your trust. Our mission is to provide readers with accurate and unbiased information, and we have editorial standards in place to ensure that happens. Our editors and reporters thoroughly fact-check editorial content to ensure the information you’re reading is accurate. We maintain a firewall between our advertisers and our editorial team. Our editorial team does not receive direct compensation from our advertisers.\\nEditorial Independence\\nBankrate’s editorial team writes on behalf of YOU – the reader. Our goal is to give you the best advice to help you make smart personal finance decisions. We follow strict guidelines to ensure that our editorial content is not influenced by advertisers. Our editorial team receives no direct compensation from advertisers, and our content is thoroughly fact-checked to ensure accuracy. So, whether you’re reading an article or a review, you can trust that you’re getting credible and dependable information.\\nHow we make money\\nYou have money questions. Bankrate has answers. Our experts have been helping you master your money for over four decades. We continually strive to provide consumers with the expert advice and tools needed to succeed throughout life’s financial journey.\\nBankrate follows a strict\\neditorial policy, so you can trust that our content is honest and accurate. Our award-winning editors and reporters create honest and accurate content to help you make the right financial decisions. The content created by our editorial staff is objective, factual, and not influenced by our advertisers.\\nWe’re transparent about how we are able to bring quality content, competitive rates, and useful tools to you by explaining how we make money.\\nBankrate.com is an independent, advertising-supported publisher and comparison service. We are compensated in exchange for placement of sponsored products and services, or by you clicking on certain links posted on our site. Therefore, this compensation may impact how, where and in what order products appear within listing categories, except where prohibited by law for our mortgage, home equity and other home lending products. Other factors, such as our own proprietary website rules and whether a product is offered in your area or at your self-selected credit score range, can also impact how and where products appear on this site. While we strive to provide a wide range of offers, Bankrate does not include information about every financial or credit product or service.\\nKey takeaways\\nWith mortgage rates and home prices both historically high, and inventory very tight, many prospective sellers and hopeful buyers are feeling nervous about today’s housing market.\\nThe median sale price for an existing home in the U.S. was a hefty $394,300 as of September 2023, the third month of year-over-year price increases in a row. And as of early November, the average 30-year mortgage rate was 7.69 percent — thankfully no longer above 8 percent, but still hovering around 20-year highs.\\nHome prices, mortgage rates and inventory levels will all shape housing affordability in the coming year. Curious where these trends may go? Read on to learn what the experts predict for the 2024 housing market.\\nWhat will happen to the housing market in 2024?\\nRates roughly doubled in 2022, thanks in part to the Federal Reserve’s war on inflation, and have stayed high since. While the Fed does not directly set mortgage rates, mortgage lenders take cues from them, and mortgage rates climbed in tandem with the Fed’s long string of rate hikes.\\nWill housing sales decline?\\nWhile home prices have certainly held firm this year, the volume of home sales has softened considerably. Existing-home sales in September 2023 declined to an annual pace of 3.96 million, according to NAR data, which represents a 15.4 percent drop year-over-year. However, these trends may pivot in 2024 if mortgage rates dip.\\n“Retreating mortgage rates will bring more buyers and sellers to the market and get Americans moving again,” says NAR chief economist Lawrence Yun. At a NAR conference in November, Yun predicted that sales will rise by as much as 15 percent next year.\\n“Housing sales are expected to increase a bit from this year,” says Chen Zhao, who leads the economics team at Redfin. “However,” she qualifies, “we are not expecting sales to increase dramatically, as rates are likely to remain above 6 percent.”\\n“Lower mortgage rates would help spur home sales activity, which are expected to increase in 2024 compared to 2023,” says Selma Hepp, chief economist at CoreLogic. “Declines in mortgage rates will drive more sellers to trade their existing home and help add much-needed inventory to the market, leading to more transactions.”\\nWill housing inventory increase?\\nSpeaking of much-needed inventory, housing supply has been very low throughout 2023 thus far. The overall number of existing homes on the market for sale as of September sat at 1.13 million units, an 8.1 percent decline since last year. That figure represents only a 3.4-month supply, far short of the 5 to 6 months usually needed for a balanced market.\\n“There are simply not enough homes for sale,” Yun said in a statement earlier this year. “The market can easily absorb a doubling of inventory.”\\nFor inventory levels to improve significantly, there would need to be either a surge of homeowners listing their existing properties or a huge amount of new-construction homes hitting the market. While both seem relatively unlikely, Yun does foresee some increase in housing inventory for 2024. “There will be more home construction, and more existing homeowners will be willing to sell and give up their low mortgage rates,” he says.\\nWill home prices go down?\\nHousing prices have been on fire lately, culminating in historic highs — September’s median of $394,300 was only about $20K short of the highest monthly home price NAR has ever recorded ($413,800, set in June 2022).\\nSo will home prices drop in 2024? Probably not, says Yun: “Home prices will rise around 3 to 4 percent,” he predicts.\\nPrices are intricately connected with housing inventory, as well, notes Zhao. “Sellers are likely to remain reluctant to give up their low interest rate for a much higher one, so inventory will remain constrained,” she says. “As more time passes, more homeowners may be ‘forced’ to sell due to life events, so inventory may rise from the current anemic levels, but it’s unlikely to increase much. That means that prices are unlikely to fall on a year-over-year basis, unless demand falters.”\\nWill 2024 be a buyer’s or seller’s market?\\nIn today’s market, tight inventory gives sellers the upper hand. There are more buyers than there are homes available, so each home that comes on the market becomes more of a hot commodity than it might if there were more options to choose from. Without a significant uptick in inventory, the seller’s market seems unlikely to change next year.\\n“The current significant shortage of inventory suggests it would be hard to [become] a buyer’s market anytime soon,” says Hepp.\\n“Given expectations about interest rates and supply, demand will probably exceed supply similar to current conditions,” Zhao says. “Supply is likely to remain below what we would deem a balanced market.”\\n“The plague of low inventory won’t be cured in the short-term, but demand will suffer from high mortgage rates, bringing about more of a balanced market in 2024,” says McBride. “Sellers may find themselves making concessions on closing costs or rate buydowns more often in 2024, and buyers should be wary of biting off more than can be financially chewed. Home prices are at record highs in most markets, the cost of financing is the highest in more than 20 years and insurance costs are up substantially in many coastal markets. You’re not getting a bargain, and the willingness to walk away might prove to be a good choice.”\\nBottom line on the 2024 housing market\\nThe combination of high mortgage rates, steep home prices and low inventory levels are lining up to make the 2024 housing market a challenging one for both buyers and sellers. But if rates cool in 2024, as some experts predict, then market activity should heat up in response.\\nThe complexities of the current conditions mean that, now more than ever, it’s smart to lean on the guidance of an experienced local real estate agent. If you want to enter the market in 2024, whether as a buyer or a seller, let a pro lead the way for you.\\nFAQs\\nCaret Down\\nCaret Down\\nCaret Down\\nArticle sources\\nWe use primary sources to support our work. Bankrate’s authors, reporters and editors are subject-matter experts who thoroughly fact-check editorial content to ensure the information you’re reading is accurate, timely and relevant.\\n“Existing-Home Sales – September 2023,” National Association of Realtors. Accessed on Nov. 15, 2023.\\n“S&P CoreLogic Case-Shiller Index – August 2023,” S&P Dow Jones Indices. Accessed on Nov. 15, 2023.\\n“Consumer Price Index Summary – October 2023,” U.S. Bureau of Labor Statistics. Accessed on Nov. 15, 2023.\\n“NAR Chief Economist Lawrence Yun Forecasts…,” National Association of Realtors. Accessed on Nov. 15, 2023.\\nRelated Articles\\nHousing market predictions: The forecast for the next 5 years\\nHousing market predictions for winter 2023\\nHousing market predictions for 2023\\nThe expensive, inventory-starved housing market in 5 charts\\nBankrate logo\\nBankrate\\nAbout\\nHelp\\nLegal\\nHow we make money\\nBankrate.com is an independent, advertising-supported publisher and comparison service. We are compensated in exchange for placement of sponsored products and services, or by you clicking on certain links posted on our site. Therefore, this compensation may impact how, where and in what order products appear within listing categories, except where prohibited by law for our mortgage, home equity and other home lending products. Other factors, such as our own proprietary website rules and whether a product is offered in your area or at your self-selected credit score range, can also impact how and where products appear on this site. While we strive to provide a wide range of offers, Bankrate does not include information about every financial or credit product or service.\\nBankrate, LLC NMLS ID# 1427381 | NMLS Consumer Access\\nBR Tech Services, Inc. NMLS ID #1743443 | NMLS Consumer Access\\n© 2023 Bankrate, LLC. A Red Ventures company. All Rights Reserved.\"}]"
      ]
     },
     "execution_count": 159,
     "metadata": {},
     "output_type": "execute_result"
    }
   ],
   "source": [
    "ans"
   ]
  },
  {
   "cell_type": "code",
   "execution_count": 197,
   "id": "354c03bd",
   "metadata": {},
   "outputs": [],
   "source": [
    "def get_similar_context(query, content):\n",
    "    chunks = []\n",
    "    chunking = Chunking(1000,100)\n",
    "    \n",
    "    for each_content in content:\n",
    "        chunks += chunking.run(content=each_content['raw_content'], metadatas= {'url': each_content['url'] })\n",
    "   \n",
    "    retriever = hybrid_retriever(chunks,8)\n",
    "    \n",
    "    relevant_chunks = retriever.get_relevant_documents(query)\n",
    "    \n",
    "    return relevant_chunks"
   ]
  },
  {
   "cell_type": "code",
   "execution_count": 191,
   "id": "797932f5",
   "metadata": {},
   "outputs": [],
   "source": [
    "final_gg = get_similar_context('investment in 2024', ans)"
   ]
  },
  {
   "cell_type": "code",
   "execution_count": 192,
   "id": "2b4f3b39",
   "metadata": {},
   "outputs": [
    {
     "data": {
      "text/plain": [
       "12"
      ]
     },
     "execution_count": 192,
     "metadata": {},
     "output_type": "execute_result"
    }
   ],
   "source": [
    "len(final_gg)"
   ]
  },
  {
   "cell_type": "code",
   "execution_count": 193,
   "id": "15c2b6ec",
   "metadata": {},
   "outputs": [
    {
     "data": {
      "text/plain": [
       "[Document(page_content='Many companies featured on Money advertise with us. Opinions are our own, but compensation and in-depth research may determine where and how companies appear. Learn more about how we make money.\\nHere’s How Far Home Prices and Mortgage Rates Could Drop in 2024\\nhttps://money.com/mortgage-rates-home-prices-predictions-2024/\\nThe new year could finally bring good tidings for homebuyers — or at least the beginning of improved housing affordability.\\nHistorically high mortgage rates and housing prices that stymied homebuyers this year are expected to ebb a bit in 2024, according to real estate brokerage Realtor.com’s new housing market forecast. While home shoppers shouldn’t expect major relief from today’s crushing homeownership costs, small gains in affordability are expected to help some buyers get a foot in the door.\\nRenters can also look forward to somewhat better conditions as new construction hits the market in the coming months.', metadata={'url': 'https://money.com/mortgage-rates-home-prices-predictions-2024/'}),\n",
       " Document(page_content=\"Jump to\\nFrom affordability to property demand, here are Zillow's 6 biggest predictions for the US housing market in 2024\\nHigh mortgage rates, low inventory, and elevated home prices have defined the US housing market in 2023.\\nThose conditions have kept many current homeowners from moving, hesitant to give up the lower mortgage rates they secured in prior years, which in turn has left prospective buyers with fewer homes to choose from.\\nThe result has been a frozen housing market. Buyers aren't buying because sellers aren't selling, and vice versa. It's led to stubbornly high prices amid mortgage rates that are high in relation to recent history, a cocktail that's created an affordability crisis in US housing.\\nBut things may be looking up next year, Zillow researchers say, and Americans may see some relief as the calendar changes.\\nHere are six predictions the real-estate group has for 2024.\\n1. Higher-for-longer interest rates will lead to more homes on the market\", metadata={'url': 'https://markets.businessinsider.com/news/commodities/housing-market-outlook-zillow-homes-forecasts-prices-mortgage-rates-2024-2023-11?op=1'}),\n",
       " Document(page_content='“The current significant shortage of inventory suggests it would be hard to [become] a buyer’s market anytime soon,” says Hepp.\\n“Given expectations about interest rates and supply, demand will probably exceed supply similar to current conditions,” Zhao says. “Supply is likely to remain below what we would deem a balanced market.”\\n“The plague of low inventory won’t be cured in the short-term, but demand will suffer from high mortgage rates, bringing about more of a balanced market in 2024,” says McBride. “Sellers may find themselves making concessions on closing costs or rate buydowns more often in 2024, and buyers should be wary of biting off more than can be financially chewed. Home prices are at record highs in most markets, the cost of financing is the highest in more than 20 years and insurance costs are up substantially in many coastal markets. You’re not getting a bargain, and the willingness to walk away might prove to be a good choice.”\\nBottom line on the 2024 housing market', metadata={'url': 'https://www.bankrate.com/real-estate/housing-market-2024/'}),\n",
       " Document(page_content='Local Market Predictions:\\nAll real estate is local and while the national trends are instructive, what matters most is what’s expected in your local market.\\nMetro\\n2024 Sales Growth % y/y\\n2024 Price Growth % y/y\\nSign up for updates\\nJoin our mailing list to receive the latest data and research.', metadata={'url': 'https://www.realtor.com/research/2024-national-housing-forecast/'}),\n",
       " Document(page_content='Bottom line on the 2024 housing market\\nThe combination of high mortgage rates, steep home prices and low inventory levels are lining up to make the 2024 housing market a challenging one for both buyers and sellers. But if rates cool in 2024, as some experts predict, then market activity should heat up in response.\\nThe complexities of the current conditions mean that, now more than ever, it’s smart to lean on the guidance of an experienced local real estate agent. If you want to enter the market in 2024, whether as a buyer or a seller, let a pro lead the way for you.\\nFAQs\\nCaret Down\\nCaret Down\\nCaret Down\\nArticle sources\\nWe use primary sources to support our work. Bankrate’s authors, reporters and editors are subject-matter experts who thoroughly fact-check editorial content to ensure the information you’re reading is accurate, timely and relevant.\\n“Existing-Home Sales – September 2023,” National Association of Realtors. Accessed on Nov. 15, 2023.', metadata={'url': 'https://www.bankrate.com/real-estate/housing-market-2024/'}),\n",
       " Document(page_content='Articles\\n2024 Housing Market Forecast and Predictions: Housing Affordability Finally Begins to Turnaround\\nAs we look ahead to 2024, we see a mix of continuity and change in both the housing market and economy. Against a backdrop of modest economic growth, slightly higher unemployment, and easing inflation longer term interest rates including mortgage rates begin a slow retreat. The shift from climbing to falling mortgage rates improves housing affordability, but saps some of the urgency home shoppers had previously sensed. Less frenzied housing demand and plenty of rental home options keep home sales relatively stable at low levels in 2024, helping home prices to adjust slightly lower even as the number of for-sale homes continues to dwindle.\\nRealtor.com® 2024 Forecast for Key Housing Indicators\\nHome Prices Dip, Improving Affordability', metadata={'url': 'https://www.realtor.com/research/2024-national-housing-forecast/'}),\n",
       " Document(page_content='There is, however, something of a silver lining for renters in 2024: An increase in new construction is expected to hit the market and give renters more options. That said, the fact that renting will still be more affordable than buying will also mean more competition for rentals. Realtor.com doesn’t expect rent prices to budge much — the median rent price for 2024 is forecasted to decrease only about .2% below this year’s.\\nWhat can help homebuyers in 2024?\\nThough affordability will still be a challenge for the foreseeable future, free tools like a mortgage payment calculator can help prospective buyers figure out the best options for their needs in terms of loans, down payment and home price. Exploring different loan products with mortgage lenders may also help buyers find lower rates or less stringent loan requirements.', metadata={'url': 'https://money.com/mortgage-rates-home-prices-predictions-2024/'}),\n",
       " Document(page_content='improve the home purchase mortgage payment share relative to median income to an average 34.9% in 2024, with the share slipping under 30% by the end of the year.', metadata={'url': 'https://www.realtor.com/research/2024-national-housing-forecast/'}),\n",
       " Document(page_content='\"Predicting how mortgage rates will move is a nearly impossible task, but recent inflation news gives the impression that rates are likely to hold fairly steady as well in the coming months,\" Zillow researchers said. \"Taken together, the cost of buying a home looks to be on track to level off next year, with the possibility of costs falling if mortgage rates do.\"\\n3. Higher demand for single-family rentals\\nZillow expects demand for single-family rentals to ramp up next year as families seek out affordable options.\\n\"One possible path to more single-family rental inventory is homeowners deciding to turn their home into an investment property and rent it out rather than selling it when they move,\" researchers said. \"The ultralow mortgage rates held by many existing homeowners make it more likely that this option would pencil out.\"\\n4. More markets will follow New York City\\'s lead', metadata={'url': 'https://markets.businessinsider.com/news/commodities/housing-market-outlook-zillow-homes-forecasts-prices-mortgage-rates-2024-2023-11?op=1'}),\n",
       " Document(page_content='New multi-family supply will continue to be a key element shaping the 2024 rental market.\\xa0 In the third quarter of 2023, the annual pace of newly completed multi-family homes stood at 385,000 units. Although absorption rates remained elevated in the second quarter, especially at lower price points, the rental vacancy rate ticked up to 6.6% in the third quarter. This uptick in rental vacancy suggests the recent supply has outpaced demand, but context is important. After recent gains, the rental vacancy rate is on par with its level right before the onset of the pandemic in early 2020, still below its 7.2% average from the 2013 to 2019 period.\\xa0 Looking ahead, the strong construction pipeline–which hit a record high for units under construction this summer–is expected to continue fueling rental supply growth in 2024 pushing rental vacancy back toward its long-run average.', metadata={'url': 'https://www.realtor.com/research/2024-national-housing-forecast/'}),\n",
       " Document(page_content='While the surge in new multi-family supply gives renters options, the sheer number of renters will minimize the potential price impact. The median asking rent in 2024 is expected to drop only slightly below its 2023 level. Renting is expected to continue to be a more budget friendly option than buying in the vast majority of markets, even though home prices and mortgage rates are both expected to dip, helping pull the purchase market down slightly from record unaffordability.', metadata={'url': 'https://www.realtor.com/research/2024-national-housing-forecast/'}),\n",
       " Document(page_content='The median sale price for an existing home in the U.S. was a hefty $394,300 as of September 2023, the third month of year-over-year price increases in a row. And as of early November, the average 30-year mortgage rate was 7.69 percent — thankfully no longer above 8 percent, but still hovering around 20-year highs.\\nHome prices, mortgage rates and inventory levels will all shape housing affordability in the coming year. Curious where these trends may go? Read on to learn what the experts predict for the 2024 housing market.\\nWhat will happen to the housing market in 2024?\\nRates roughly doubled in 2022, thanks in part to the Federal Reserve’s war on inflation, and have stayed high since. While the Fed does not directly set mortgage rates, mortgage lenders take cues from them, and mortgage rates climbed in tandem with the Fed’s long string of rate hikes.\\nWill housing sales decline?', metadata={'url': 'https://www.bankrate.com/real-estate/housing-market-2024/'})]"
      ]
     },
     "execution_count": 193,
     "metadata": {},
     "output_type": "execute_result"
    }
   ],
   "source": [
    "final_gg"
   ]
  },
  {
   "cell_type": "code",
   "execution_count": 194,
   "id": "e90a1d2c",
   "metadata": {},
   "outputs": [],
   "source": [
    "class HybridRetriever:\n",
    "    def __init__(self, documents, embeddings=OpenAIEmbeddings(), max_results=5):\n",
    "\n",
    "        self.documents = documents\n",
    "        self.embeddings = embeddings\n",
    "        self.max_results = max_results\n",
    "        self.retriever = self._hybrid_retriever()\n",
    "        \n",
    "    def _hybrid_retriever(self):\n",
    "        \n",
    "        # initialize the bm25 retriever and faiss retriever\n",
    "        bm25_retriever = BM25Retriever.from_documents(self.documents)\n",
    "        bm25_retriever.k = self.max_results\n",
    "\n",
    "        embedding = OpenAIEmbeddings()\n",
    "        faiss_vectorstore = FAISS.from_documents(self.documents, self.embeddings)\n",
    "        faiss_retriever = faiss_vectorstore.as_retriever(search_kwargs={\"k\": self.max_results })\n",
    "\n",
    "        #initialize the ensemble retriever\n",
    "        ensemble_retriever = EnsembleRetriever(\n",
    "            retrievers=[bm25_retriever, faiss_retriever], weights=[0.2, 0.8]\n",
    "        )\n",
    "\n",
    "        return ensemble_retriever\n",
    "    \n",
    "    def get_context(self, query):\n",
    "\n",
    "        return self.retriever.get_relevant_documents(query)\n",
    "        \n",
    "        "
   ]
  },
  {
   "cell_type": "code",
   "execution_count": null,
   "id": "5e4b0eeb",
   "metadata": {},
   "outputs": [],
   "source": [
    "H = HybridRetriever()"
   ]
  },
  {
   "cell_type": "code",
   "execution_count": 196,
   "id": "937aaca3",
   "metadata": {},
   "outputs": [
    {
     "data": {
      "text/plain": [
       "4"
      ]
     },
     "execution_count": 196,
     "metadata": {},
     "output_type": "execute_result"
    }
   ],
   "source": [
    "len(ans)"
   ]
  },
  {
   "cell_type": "code",
   "execution_count": 181,
   "id": "0b692fbc",
   "metadata": {},
   "outputs": [],
   "source": [
    "def hybrid_retriever(context, K):\n",
    "    \n",
    "    \n",
    "    # initialize the bm25 retriever and faiss retriever\n",
    "    bm25_retriever = BM25Retriever.from_documents(context)\n",
    "    bm25_retriever.k = K\n",
    "\n",
    "    embedding = OpenAIEmbeddings()\n",
    "    faiss_vectorstore = FAISS.from_documents(context, embedding)\n",
    "\n",
    "    faiss_retriever = faiss_vectorstore.as_retriever(search_kwargs={\"k\": K})\n",
    "\n",
    "\n",
    "\n",
    "    #initialize the ensemble retriever\n",
    "    ensemble_retriever = EnsembleRetriever(\n",
    "        retrievers=[bm25_retriever, faiss_retriever], weights=[0.2, 0.8]\n",
    "    )\n",
    "    \n",
    "    return ensemble_retriever"
   ]
  },
  {
   "cell_type": "code",
   "execution_count": 182,
   "id": "f646f9b5",
   "metadata": {},
   "outputs": [],
   "source": [
    "retriever = hybrid_retriever(final_gg, 5)"
   ]
  },
  {
   "cell_type": "code",
   "execution_count": null,
   "id": "35f76da5",
   "metadata": {},
   "outputs": [],
   "source": []
  },
  {
   "cell_type": "code",
   "execution_count": 184,
   "id": "230dd8ea",
   "metadata": {},
   "outputs": [],
   "source": [
    "combined_ans = retriever.get_relevant_documents('investments')"
   ]
  },
  {
   "cell_type": "code",
   "execution_count": 186,
   "id": "8c574915",
   "metadata": {},
   "outputs": [
    {
     "data": {
      "text/plain": [
       "8"
      ]
     },
     "execution_count": 186,
     "metadata": {},
     "output_type": "execute_result"
    }
   ],
   "source": [
    "len(combined_ans)"
   ]
  },
  {
   "cell_type": "code",
   "execution_count": null,
   "id": "4caf1cd7",
   "metadata": {},
   "outputs": [],
   "source": []
  },
  {
   "cell_type": "code",
   "execution_count": 170,
   "id": "70167932",
   "metadata": {},
   "outputs": [
    {
     "data": {
      "text/plain": [
       "[Document(page_content='I like apples'),\n",
       " Document(page_content='Apples and oranges are fruits')]"
      ]
     },
     "execution_count": 170,
     "metadata": {},
     "output_type": "execute_result"
    }
   ],
   "source": [
    "from langchain.retrievers import BM25Retriever, EnsembleRetriever\n",
    "from langchain.vectorstores import FAISS\n",
    "\n",
    "doc_list = [\n",
    "    \"I like apples\",\n",
    "    \"I like oranges\",\n",
    "    \"Apples and oranges are fruits\",\n",
    "]\n",
    "\n",
    "# initialize the bm25 retriever and faiss retriever\n",
    "bm25_retriever = BM25Retriever.from_texts(doc_list)\n",
    "bm25_retriever.k = 2\n",
    "\n",
    "embedding = OpenAIEmbeddings()\n",
    "faiss_vectorstore = FAISS.from_texts(doc_list, embedding)\n",
    "faiss_retriever = faiss_vectorstore.as_retriever(search_kwargs={\"k\": 2})\n",
    "\n",
    "# initialize the ensemble retriever\n",
    "ensemble_retriever = EnsembleRetriever(\n",
    "    retrievers=[bm25_retriever, faiss_retriever], weights=[0.5, 0.5]\n",
    ")\n",
    "\n",
    "docs = ensemble_retriever.get_relevant_documents(\"apples\")\n",
    "docs"
   ]
  },
  {
   "cell_type": "code",
   "execution_count": 171,
   "id": "37e9c413",
   "metadata": {},
   "outputs": [
    {
     "data": {
      "text/plain": [
       "[Document(page_content='I like apples'),\n",
       " Document(page_content='Apples and oranges are fruits')]"
      ]
     },
     "execution_count": 171,
     "metadata": {},
     "output_type": "execute_result"
    }
   ],
   "source": [
    "bm25_retriever.get_relevant_documents('apples')"
   ]
  },
  {
   "cell_type": "code",
   "execution_count": null,
   "id": "d557ae3c",
   "metadata": {},
   "outputs": [],
   "source": []
  }
 ],
 "metadata": {
  "kernelspec": {
   "display_name": "okprofessor",
   "language": "python",
   "name": "okprofessor"
  },
  "language_info": {
   "codemirror_mode": {
    "name": "ipython",
    "version": 3
   },
   "file_extension": ".py",
   "mimetype": "text/x-python",
   "name": "python",
   "nbconvert_exporter": "python",
   "pygments_lexer": "ipython3",
   "version": "3.9.18"
  }
 },
 "nbformat": 4,
 "nbformat_minor": 5
}
