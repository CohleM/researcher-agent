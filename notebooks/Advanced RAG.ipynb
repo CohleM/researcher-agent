{
 "cells": [
  {
   "cell_type": "code",
   "execution_count": 8,
   "id": "d56877dd",
   "metadata": {},
   "outputs": [
    {
     "name": "stdout",
     "output_type": "stream",
     "text": [
      "OPENAI_API_KEY: haha\n"
     ]
    }
   ],
   "source": [
    "import os\n",
    "from dotenv import load_dotenv\n",
    "\n",
    "# Load environment variables from the .env file\n",
    "load_dotenv()\n",
    "\n",
    "# Access the variables using os.environ.get\n",
    "openai_api_key = os.environ.get(\"gg\")\n",
    "\n",
    "# Print or use the variable as needed\n",
    "print(f\"OPENAI_API_KEY: {openai_api_key}\")"
   ]
  },
  {
   "cell_type": "code",
   "execution_count": 29,
   "id": "5b3ab20f",
   "metadata": {},
   "outputs": [],
   "source": [
    "from openai import OpenAI\n",
    "from getpass import getpass\n",
    "import requests\n",
    "\n",
    "# from langchain.document_loaders import PyMuPDFLoader\n",
    "# from langchain.retrievers import ArxivRetriever"
   ]
  },
  {
   "cell_type": "code",
   "execution_count": null,
   "id": "6aae223a",
   "metadata": {},
   "outputs": [],
   "source": []
  },
  {
   "cell_type": "code",
   "execution_count": null,
   "id": "3a564f7a",
   "metadata": {},
   "outputs": [],
   "source": []
  },
  {
   "cell_type": "code",
   "execution_count": 7,
   "id": "0e4d767f",
   "metadata": {},
   "outputs": [],
   "source": []
  },
  {
   "cell_type": "code",
   "execution_count": 50,
   "id": "0f0af188",
   "metadata": {},
   "outputs": [],
   "source": [
    "load_dotenv()\n",
    "\n",
    "client = OpenAI(\n",
    "    # defaults to os.environ.get(\"OPENAI_API_KEY\")\n",
    "#     api_key= oai_key,\n",
    ")\n",
    "\n",
    "chat_completion = client.chat.completions.create(\n",
    "    messages=[\n",
    "        {\n",
    "            \"role\": \"user\",\n",
    "            \"content\": \"What do you know about OpenAI and elon musk do they have some relation?\",\n",
    "        }\n",
    "    ],\n",
    "    model=\"gpt-3.5-turbo\",\n",
    ")"
   ]
  },
  {
   "cell_type": "code",
   "execution_count": 52,
   "id": "350f81f5",
   "metadata": {},
   "outputs": [
    {
     "data": {
      "text/plain": [
       "\"OpenAI is an artificial intelligence research lab founded in December 2015. It was initially co-founded by Elon Musk, along with Sam Altman, Greg Brockman, Ilya Sutskever, John Schulman, and Wojciech Zaremba. OpenAI's primary goal is to develop safe and beneficial AI technologies while ensuring the broad distribution of their benefits.\\n\\nHowever, Elon Musk is no longer directly involved with OpenAI as of February 2018. Musk has stated that his departure was due to potential conflicts that might arise due to his involvement in Tesla, Neuralink, and SpaceX, where AI is also a significant focus. Despite stepping down from the board, Musk has expressed support for OpenAI and its mission.\\n\\nOpenAI has garnered attention for its innovative research and contributions in the field of artificial intelligence, including developing advanced language models such as GPT-3 (Generative Pre-trained Transformer 3).\""
      ]
     },
     "execution_count": 52,
     "metadata": {},
     "output_type": "execute_result"
    }
   ],
   "source": [
    "chat_completion.choices[0].message.content"
   ]
  },
  {
   "cell_type": "code",
   "execution_count": null,
   "id": "d64a083b",
   "metadata": {},
   "outputs": [],
   "source": [
    "chat_completion"
   ]
  },
  {
   "cell_type": "markdown",
   "id": "d527e2fb",
   "metadata": {},
   "source": [
    "# Load Data"
   ]
  },
  {
   "cell_type": "code",
   "execution_count": 19,
   "id": "e69b39fc",
   "metadata": {},
   "outputs": [
    {
     "ename": "KeyboardInterrupt",
     "evalue": "",
     "output_type": "error",
     "traceback": [
      "\u001b[0;31m---------------------------------------------------------------------------\u001b[0m",
      "\u001b[0;31mKeyboardInterrupt\u001b[0m                         Traceback (most recent call last)",
      "Cell \u001b[0;32mIn[19], line 3\u001b[0m\n\u001b[1;32m      1\u001b[0m \u001b[38;5;28;01mfrom\u001b[39;00m \u001b[38;5;21;01mlangchain\u001b[39;00m\u001b[38;5;21;01m.\u001b[39;00m\u001b[38;5;21;01mdocument_loaders\u001b[39;00m \u001b[38;5;28;01mimport\u001b[39;00m PyPDFLoader\n\u001b[0;32m----> 3\u001b[0m loader \u001b[38;5;241m=\u001b[39m \u001b[43mPyPDFLoader\u001b[49m\u001b[43m(\u001b[49m\u001b[38;5;124;43m\"\u001b[39;49m\u001b[38;5;124;43mhttps://arxiv.org/pdf/2311.12755.pdf\u001b[39;49m\u001b[38;5;124;43m\"\u001b[39;49m\u001b[43m)\u001b[49m\n\u001b[1;32m      4\u001b[0m pages \u001b[38;5;241m=\u001b[39m loader\u001b[38;5;241m.\u001b[39mload_and_split()\n",
      "File \u001b[0;32m~/anaconda3/envs/okprofessor/lib/python3.9/site-packages/langchain/document_loaders/pdf.py:157\u001b[0m, in \u001b[0;36mPyPDFLoader.__init__\u001b[0;34m(self, file_path, password, headers, extract_images)\u001b[0m\n\u001b[1;32m    153\u001b[0m \u001b[38;5;28;01mexcept\u001b[39;00m \u001b[38;5;167;01mImportError\u001b[39;00m:\n\u001b[1;32m    154\u001b[0m     \u001b[38;5;28;01mraise\u001b[39;00m \u001b[38;5;167;01mImportError\u001b[39;00m(\n\u001b[1;32m    155\u001b[0m         \u001b[38;5;124m\"\u001b[39m\u001b[38;5;124mpypdf package not found, please install it with \u001b[39m\u001b[38;5;124m\"\u001b[39m \u001b[38;5;124m\"\u001b[39m\u001b[38;5;124m`pip install pypdf`\u001b[39m\u001b[38;5;124m\"\u001b[39m\n\u001b[1;32m    156\u001b[0m     )\n\u001b[0;32m--> 157\u001b[0m \u001b[38;5;28;43msuper\u001b[39;49m\u001b[43m(\u001b[49m\u001b[43m)\u001b[49m\u001b[38;5;241;43m.\u001b[39;49m\u001b[38;5;21;43m__init__\u001b[39;49m\u001b[43m(\u001b[49m\u001b[43mfile_path\u001b[49m\u001b[43m,\u001b[49m\u001b[43m \u001b[49m\u001b[43mheaders\u001b[49m\u001b[38;5;241;43m=\u001b[39;49m\u001b[43mheaders\u001b[49m\u001b[43m)\u001b[49m\n\u001b[1;32m    158\u001b[0m \u001b[38;5;28mself\u001b[39m\u001b[38;5;241m.\u001b[39mparser \u001b[38;5;241m=\u001b[39m PyPDFParser(password\u001b[38;5;241m=\u001b[39mpassword, extract_images\u001b[38;5;241m=\u001b[39mextract_images)\n",
      "File \u001b[0;32m~/anaconda3/envs/okprofessor/lib/python3.9/site-packages/langchain/document_loaders/pdf.py:89\u001b[0m, in \u001b[0;36mBasePDFLoader.__init__\u001b[0;34m(self, file_path, headers)\u001b[0m\n\u001b[1;32m     87\u001b[0m \u001b[38;5;28mself\u001b[39m\u001b[38;5;241m.\u001b[39mweb_path \u001b[38;5;241m=\u001b[39m \u001b[38;5;28mself\u001b[39m\u001b[38;5;241m.\u001b[39mfile_path\n\u001b[1;32m     88\u001b[0m \u001b[38;5;28;01mif\u001b[39;00m \u001b[38;5;129;01mnot\u001b[39;00m \u001b[38;5;28mself\u001b[39m\u001b[38;5;241m.\u001b[39m_is_s3_url(\u001b[38;5;28mself\u001b[39m\u001b[38;5;241m.\u001b[39mfile_path):\n\u001b[0;32m---> 89\u001b[0m     r \u001b[38;5;241m=\u001b[39m \u001b[43mrequests\u001b[49m\u001b[38;5;241;43m.\u001b[39;49m\u001b[43mget\u001b[49m\u001b[43m(\u001b[49m\u001b[38;5;28;43mself\u001b[39;49m\u001b[38;5;241;43m.\u001b[39;49m\u001b[43mfile_path\u001b[49m\u001b[43m,\u001b[49m\u001b[43m \u001b[49m\u001b[43mheaders\u001b[49m\u001b[38;5;241;43m=\u001b[39;49m\u001b[38;5;28;43mself\u001b[39;49m\u001b[38;5;241;43m.\u001b[39;49m\u001b[43mheaders\u001b[49m\u001b[43m)\u001b[49m\n\u001b[1;32m     90\u001b[0m     \u001b[38;5;28;01mif\u001b[39;00m r\u001b[38;5;241m.\u001b[39mstatus_code \u001b[38;5;241m!=\u001b[39m \u001b[38;5;241m200\u001b[39m:\n\u001b[1;32m     91\u001b[0m         \u001b[38;5;28;01mraise\u001b[39;00m \u001b[38;5;167;01mValueError\u001b[39;00m(\n\u001b[1;32m     92\u001b[0m             \u001b[38;5;124m\"\u001b[39m\u001b[38;5;124mCheck the url of your file; returned status code \u001b[39m\u001b[38;5;132;01m%s\u001b[39;00m\u001b[38;5;124m\"\u001b[39m\n\u001b[1;32m     93\u001b[0m             \u001b[38;5;241m%\u001b[39m r\u001b[38;5;241m.\u001b[39mstatus_code\n\u001b[1;32m     94\u001b[0m         )\n",
      "File \u001b[0;32m~/anaconda3/envs/okprofessor/lib/python3.9/site-packages/requests/api.py:73\u001b[0m, in \u001b[0;36mget\u001b[0;34m(url, params, **kwargs)\u001b[0m\n\u001b[1;32m     62\u001b[0m \u001b[38;5;28;01mdef\u001b[39;00m \u001b[38;5;21mget\u001b[39m(url, params\u001b[38;5;241m=\u001b[39m\u001b[38;5;28;01mNone\u001b[39;00m, \u001b[38;5;241m*\u001b[39m\u001b[38;5;241m*\u001b[39mkwargs):\n\u001b[1;32m     63\u001b[0m \u001b[38;5;250m    \u001b[39m\u001b[38;5;124mr\u001b[39m\u001b[38;5;124;03m\"\"\"Sends a GET request.\u001b[39;00m\n\u001b[1;32m     64\u001b[0m \n\u001b[1;32m     65\u001b[0m \u001b[38;5;124;03m    :param url: URL for the new :class:`Request` object.\u001b[39;00m\n\u001b[0;32m   (...)\u001b[0m\n\u001b[1;32m     70\u001b[0m \u001b[38;5;124;03m    :rtype: requests.Response\u001b[39;00m\n\u001b[1;32m     71\u001b[0m \u001b[38;5;124;03m    \"\"\"\u001b[39;00m\n\u001b[0;32m---> 73\u001b[0m     \u001b[38;5;28;01mreturn\u001b[39;00m \u001b[43mrequest\u001b[49m\u001b[43m(\u001b[49m\u001b[38;5;124;43m\"\u001b[39;49m\u001b[38;5;124;43mget\u001b[39;49m\u001b[38;5;124;43m\"\u001b[39;49m\u001b[43m,\u001b[49m\u001b[43m \u001b[49m\u001b[43murl\u001b[49m\u001b[43m,\u001b[49m\u001b[43m \u001b[49m\u001b[43mparams\u001b[49m\u001b[38;5;241;43m=\u001b[39;49m\u001b[43mparams\u001b[49m\u001b[43m,\u001b[49m\u001b[43m \u001b[49m\u001b[38;5;241;43m*\u001b[39;49m\u001b[38;5;241;43m*\u001b[39;49m\u001b[43mkwargs\u001b[49m\u001b[43m)\u001b[49m\n",
      "File \u001b[0;32m~/anaconda3/envs/okprofessor/lib/python3.9/site-packages/requests/api.py:59\u001b[0m, in \u001b[0;36mrequest\u001b[0;34m(method, url, **kwargs)\u001b[0m\n\u001b[1;32m     55\u001b[0m \u001b[38;5;66;03m# By using the 'with' statement we are sure the session is closed, thus we\u001b[39;00m\n\u001b[1;32m     56\u001b[0m \u001b[38;5;66;03m# avoid leaving sockets open which can trigger a ResourceWarning in some\u001b[39;00m\n\u001b[1;32m     57\u001b[0m \u001b[38;5;66;03m# cases, and look like a memory leak in others.\u001b[39;00m\n\u001b[1;32m     58\u001b[0m \u001b[38;5;28;01mwith\u001b[39;00m sessions\u001b[38;5;241m.\u001b[39mSession() \u001b[38;5;28;01mas\u001b[39;00m session:\n\u001b[0;32m---> 59\u001b[0m     \u001b[38;5;28;01mreturn\u001b[39;00m \u001b[43msession\u001b[49m\u001b[38;5;241;43m.\u001b[39;49m\u001b[43mrequest\u001b[49m\u001b[43m(\u001b[49m\u001b[43mmethod\u001b[49m\u001b[38;5;241;43m=\u001b[39;49m\u001b[43mmethod\u001b[49m\u001b[43m,\u001b[49m\u001b[43m \u001b[49m\u001b[43murl\u001b[49m\u001b[38;5;241;43m=\u001b[39;49m\u001b[43murl\u001b[49m\u001b[43m,\u001b[49m\u001b[43m \u001b[49m\u001b[38;5;241;43m*\u001b[39;49m\u001b[38;5;241;43m*\u001b[39;49m\u001b[43mkwargs\u001b[49m\u001b[43m)\u001b[49m\n",
      "File \u001b[0;32m~/anaconda3/envs/okprofessor/lib/python3.9/site-packages/requests/sessions.py:589\u001b[0m, in \u001b[0;36mSession.request\u001b[0;34m(self, method, url, params, data, headers, cookies, files, auth, timeout, allow_redirects, proxies, hooks, stream, verify, cert, json)\u001b[0m\n\u001b[1;32m    584\u001b[0m send_kwargs \u001b[38;5;241m=\u001b[39m {\n\u001b[1;32m    585\u001b[0m     \u001b[38;5;124m\"\u001b[39m\u001b[38;5;124mtimeout\u001b[39m\u001b[38;5;124m\"\u001b[39m: timeout,\n\u001b[1;32m    586\u001b[0m     \u001b[38;5;124m\"\u001b[39m\u001b[38;5;124mallow_redirects\u001b[39m\u001b[38;5;124m\"\u001b[39m: allow_redirects,\n\u001b[1;32m    587\u001b[0m }\n\u001b[1;32m    588\u001b[0m send_kwargs\u001b[38;5;241m.\u001b[39mupdate(settings)\n\u001b[0;32m--> 589\u001b[0m resp \u001b[38;5;241m=\u001b[39m \u001b[38;5;28;43mself\u001b[39;49m\u001b[38;5;241;43m.\u001b[39;49m\u001b[43msend\u001b[49m\u001b[43m(\u001b[49m\u001b[43mprep\u001b[49m\u001b[43m,\u001b[49m\u001b[43m \u001b[49m\u001b[38;5;241;43m*\u001b[39;49m\u001b[38;5;241;43m*\u001b[39;49m\u001b[43msend_kwargs\u001b[49m\u001b[43m)\u001b[49m\n\u001b[1;32m    591\u001b[0m \u001b[38;5;28;01mreturn\u001b[39;00m resp\n",
      "File \u001b[0;32m~/anaconda3/envs/okprofessor/lib/python3.9/site-packages/requests/sessions.py:747\u001b[0m, in \u001b[0;36mSession.send\u001b[0;34m(self, request, **kwargs)\u001b[0m\n\u001b[1;32m    744\u001b[0m         \u001b[38;5;28;01mpass\u001b[39;00m\n\u001b[1;32m    746\u001b[0m \u001b[38;5;28;01mif\u001b[39;00m \u001b[38;5;129;01mnot\u001b[39;00m stream:\n\u001b[0;32m--> 747\u001b[0m     \u001b[43mr\u001b[49m\u001b[38;5;241;43m.\u001b[39;49m\u001b[43mcontent\u001b[49m\n\u001b[1;32m    749\u001b[0m \u001b[38;5;28;01mreturn\u001b[39;00m r\n",
      "File \u001b[0;32m~/anaconda3/envs/okprofessor/lib/python3.9/site-packages/requests/models.py:899\u001b[0m, in \u001b[0;36mResponse.content\u001b[0;34m(self)\u001b[0m\n\u001b[1;32m    897\u001b[0m         \u001b[38;5;28mself\u001b[39m\u001b[38;5;241m.\u001b[39m_content \u001b[38;5;241m=\u001b[39m \u001b[38;5;28;01mNone\u001b[39;00m\n\u001b[1;32m    898\u001b[0m     \u001b[38;5;28;01melse\u001b[39;00m:\n\u001b[0;32m--> 899\u001b[0m         \u001b[38;5;28mself\u001b[39m\u001b[38;5;241m.\u001b[39m_content \u001b[38;5;241m=\u001b[39m \u001b[38;5;124;43mb\u001b[39;49m\u001b[38;5;124;43m\"\u001b[39;49m\u001b[38;5;124;43m\"\u001b[39;49m\u001b[38;5;241;43m.\u001b[39;49m\u001b[43mjoin\u001b[49m\u001b[43m(\u001b[49m\u001b[38;5;28;43mself\u001b[39;49m\u001b[38;5;241;43m.\u001b[39;49m\u001b[43miter_content\u001b[49m\u001b[43m(\u001b[49m\u001b[43mCONTENT_CHUNK_SIZE\u001b[49m\u001b[43m)\u001b[49m\u001b[43m)\u001b[49m \u001b[38;5;129;01mor\u001b[39;00m \u001b[38;5;124mb\u001b[39m\u001b[38;5;124m\"\u001b[39m\u001b[38;5;124m\"\u001b[39m\n\u001b[1;32m    901\u001b[0m \u001b[38;5;28mself\u001b[39m\u001b[38;5;241m.\u001b[39m_content_consumed \u001b[38;5;241m=\u001b[39m \u001b[38;5;28;01mTrue\u001b[39;00m\n\u001b[1;32m    902\u001b[0m \u001b[38;5;66;03m# don't need to release the connection; that's been handled by urllib3\u001b[39;00m\n\u001b[1;32m    903\u001b[0m \u001b[38;5;66;03m# since we exhausted the data.\u001b[39;00m\n",
      "File \u001b[0;32m~/anaconda3/envs/okprofessor/lib/python3.9/site-packages/requests/models.py:816\u001b[0m, in \u001b[0;36mResponse.iter_content.<locals>.generate\u001b[0;34m()\u001b[0m\n\u001b[1;32m    814\u001b[0m \u001b[38;5;28;01mif\u001b[39;00m \u001b[38;5;28mhasattr\u001b[39m(\u001b[38;5;28mself\u001b[39m\u001b[38;5;241m.\u001b[39mraw, \u001b[38;5;124m\"\u001b[39m\u001b[38;5;124mstream\u001b[39m\u001b[38;5;124m\"\u001b[39m):\n\u001b[1;32m    815\u001b[0m     \u001b[38;5;28;01mtry\u001b[39;00m:\n\u001b[0;32m--> 816\u001b[0m         \u001b[38;5;28;01myield from\u001b[39;00m \u001b[38;5;28mself\u001b[39m\u001b[38;5;241m.\u001b[39mraw\u001b[38;5;241m.\u001b[39mstream(chunk_size, decode_content\u001b[38;5;241m=\u001b[39m\u001b[38;5;28;01mTrue\u001b[39;00m)\n\u001b[1;32m    817\u001b[0m     \u001b[38;5;28;01mexcept\u001b[39;00m ProtocolError \u001b[38;5;28;01mas\u001b[39;00m e:\n\u001b[1;32m    818\u001b[0m         \u001b[38;5;28;01mraise\u001b[39;00m ChunkedEncodingError(e)\n",
      "File \u001b[0;32m~/anaconda3/envs/okprofessor/lib/python3.9/site-packages/urllib3/response.py:628\u001b[0m, in \u001b[0;36mHTTPResponse.stream\u001b[0;34m(self, amt, decode_content)\u001b[0m\n\u001b[1;32m    626\u001b[0m \u001b[38;5;28;01melse\u001b[39;00m:\n\u001b[1;32m    627\u001b[0m     \u001b[38;5;28;01mwhile\u001b[39;00m \u001b[38;5;129;01mnot\u001b[39;00m is_fp_closed(\u001b[38;5;28mself\u001b[39m\u001b[38;5;241m.\u001b[39m_fp):\n\u001b[0;32m--> 628\u001b[0m         data \u001b[38;5;241m=\u001b[39m \u001b[38;5;28;43mself\u001b[39;49m\u001b[38;5;241;43m.\u001b[39;49m\u001b[43mread\u001b[49m\u001b[43m(\u001b[49m\u001b[43mamt\u001b[49m\u001b[38;5;241;43m=\u001b[39;49m\u001b[43mamt\u001b[49m\u001b[43m,\u001b[49m\u001b[43m \u001b[49m\u001b[43mdecode_content\u001b[49m\u001b[38;5;241;43m=\u001b[39;49m\u001b[43mdecode_content\u001b[49m\u001b[43m)\u001b[49m\n\u001b[1;32m    630\u001b[0m         \u001b[38;5;28;01mif\u001b[39;00m data:\n\u001b[1;32m    631\u001b[0m             \u001b[38;5;28;01myield\u001b[39;00m data\n",
      "File \u001b[0;32m~/anaconda3/envs/okprofessor/lib/python3.9/site-packages/urllib3/response.py:567\u001b[0m, in \u001b[0;36mHTTPResponse.read\u001b[0;34m(self, amt, decode_content, cache_content)\u001b[0m\n\u001b[1;32m    564\u001b[0m fp_closed \u001b[38;5;241m=\u001b[39m \u001b[38;5;28mgetattr\u001b[39m(\u001b[38;5;28mself\u001b[39m\u001b[38;5;241m.\u001b[39m_fp, \u001b[38;5;124m\"\u001b[39m\u001b[38;5;124mclosed\u001b[39m\u001b[38;5;124m\"\u001b[39m, \u001b[38;5;28;01mFalse\u001b[39;00m)\n\u001b[1;32m    566\u001b[0m \u001b[38;5;28;01mwith\u001b[39;00m \u001b[38;5;28mself\u001b[39m\u001b[38;5;241m.\u001b[39m_error_catcher():\n\u001b[0;32m--> 567\u001b[0m     data \u001b[38;5;241m=\u001b[39m \u001b[38;5;28;43mself\u001b[39;49m\u001b[38;5;241;43m.\u001b[39;49m\u001b[43m_fp_read\u001b[49m\u001b[43m(\u001b[49m\u001b[43mamt\u001b[49m\u001b[43m)\u001b[49m \u001b[38;5;28;01mif\u001b[39;00m \u001b[38;5;129;01mnot\u001b[39;00m fp_closed \u001b[38;5;28;01melse\u001b[39;00m \u001b[38;5;124mb\u001b[39m\u001b[38;5;124m\"\u001b[39m\u001b[38;5;124m\"\u001b[39m\n\u001b[1;32m    568\u001b[0m     \u001b[38;5;28;01mif\u001b[39;00m amt \u001b[38;5;129;01mis\u001b[39;00m \u001b[38;5;28;01mNone\u001b[39;00m:\n\u001b[1;32m    569\u001b[0m         flush_decoder \u001b[38;5;241m=\u001b[39m \u001b[38;5;28;01mTrue\u001b[39;00m\n",
      "File \u001b[0;32m~/anaconda3/envs/okprofessor/lib/python3.9/site-packages/urllib3/response.py:533\u001b[0m, in \u001b[0;36mHTTPResponse._fp_read\u001b[0;34m(self, amt)\u001b[0m\n\u001b[1;32m    530\u001b[0m     \u001b[38;5;28;01mreturn\u001b[39;00m buffer\u001b[38;5;241m.\u001b[39mgetvalue()\n\u001b[1;32m    531\u001b[0m \u001b[38;5;28;01melse\u001b[39;00m:\n\u001b[1;32m    532\u001b[0m     \u001b[38;5;66;03m# StringIO doesn't like amt=None\u001b[39;00m\n\u001b[0;32m--> 533\u001b[0m     \u001b[38;5;28;01mreturn\u001b[39;00m \u001b[38;5;28;43mself\u001b[39;49m\u001b[38;5;241;43m.\u001b[39;49m\u001b[43m_fp\u001b[49m\u001b[38;5;241;43m.\u001b[39;49m\u001b[43mread\u001b[49m\u001b[43m(\u001b[49m\u001b[43mamt\u001b[49m\u001b[43m)\u001b[49m \u001b[38;5;28;01mif\u001b[39;00m amt \u001b[38;5;129;01mis\u001b[39;00m \u001b[38;5;129;01mnot\u001b[39;00m \u001b[38;5;28;01mNone\u001b[39;00m \u001b[38;5;28;01melse\u001b[39;00m \u001b[38;5;28mself\u001b[39m\u001b[38;5;241m.\u001b[39m_fp\u001b[38;5;241m.\u001b[39mread()\n",
      "File \u001b[0;32m~/anaconda3/envs/okprofessor/lib/python3.9/http/client.py:463\u001b[0m, in \u001b[0;36mHTTPResponse.read\u001b[0;34m(self, amt)\u001b[0m\n\u001b[1;32m    460\u001b[0m \u001b[38;5;28;01mif\u001b[39;00m amt \u001b[38;5;129;01mis\u001b[39;00m \u001b[38;5;129;01mnot\u001b[39;00m \u001b[38;5;28;01mNone\u001b[39;00m:\n\u001b[1;32m    461\u001b[0m     \u001b[38;5;66;03m# Amount is given, implement using readinto\u001b[39;00m\n\u001b[1;32m    462\u001b[0m     b \u001b[38;5;241m=\u001b[39m \u001b[38;5;28mbytearray\u001b[39m(amt)\n\u001b[0;32m--> 463\u001b[0m     n \u001b[38;5;241m=\u001b[39m \u001b[38;5;28;43mself\u001b[39;49m\u001b[38;5;241;43m.\u001b[39;49m\u001b[43mreadinto\u001b[49m\u001b[43m(\u001b[49m\u001b[43mb\u001b[49m\u001b[43m)\u001b[49m\n\u001b[1;32m    464\u001b[0m     \u001b[38;5;28;01mreturn\u001b[39;00m \u001b[38;5;28mmemoryview\u001b[39m(b)[:n]\u001b[38;5;241m.\u001b[39mtobytes()\n\u001b[1;32m    465\u001b[0m \u001b[38;5;28;01melse\u001b[39;00m:\n\u001b[1;32m    466\u001b[0m     \u001b[38;5;66;03m# Amount is not given (unbounded read) so we must check self.length\u001b[39;00m\n\u001b[1;32m    467\u001b[0m     \u001b[38;5;66;03m# and self.chunked\u001b[39;00m\n",
      "File \u001b[0;32m~/anaconda3/envs/okprofessor/lib/python3.9/http/client.py:507\u001b[0m, in \u001b[0;36mHTTPResponse.readinto\u001b[0;34m(self, b)\u001b[0m\n\u001b[1;32m    502\u001b[0m         b \u001b[38;5;241m=\u001b[39m \u001b[38;5;28mmemoryview\u001b[39m(b)[\u001b[38;5;241m0\u001b[39m:\u001b[38;5;28mself\u001b[39m\u001b[38;5;241m.\u001b[39mlength]\n\u001b[1;32m    504\u001b[0m \u001b[38;5;66;03m# we do not use _safe_read() here because this may be a .will_close\u001b[39;00m\n\u001b[1;32m    505\u001b[0m \u001b[38;5;66;03m# connection, and the user is reading more bytes than will be provided\u001b[39;00m\n\u001b[1;32m    506\u001b[0m \u001b[38;5;66;03m# (for example, reading in 1k chunks)\u001b[39;00m\n\u001b[0;32m--> 507\u001b[0m n \u001b[38;5;241m=\u001b[39m \u001b[38;5;28;43mself\u001b[39;49m\u001b[38;5;241;43m.\u001b[39;49m\u001b[43mfp\u001b[49m\u001b[38;5;241;43m.\u001b[39;49m\u001b[43mreadinto\u001b[49m\u001b[43m(\u001b[49m\u001b[43mb\u001b[49m\u001b[43m)\u001b[49m\n\u001b[1;32m    508\u001b[0m \u001b[38;5;28;01mif\u001b[39;00m \u001b[38;5;129;01mnot\u001b[39;00m n \u001b[38;5;129;01mand\u001b[39;00m b:\n\u001b[1;32m    509\u001b[0m     \u001b[38;5;66;03m# Ideally, we would raise IncompleteRead if the content-length\u001b[39;00m\n\u001b[1;32m    510\u001b[0m     \u001b[38;5;66;03m# wasn't satisfied, but it might break compatibility.\u001b[39;00m\n\u001b[1;32m    511\u001b[0m     \u001b[38;5;28mself\u001b[39m\u001b[38;5;241m.\u001b[39m_close_conn()\n",
      "File \u001b[0;32m~/anaconda3/envs/okprofessor/lib/python3.9/socket.py:704\u001b[0m, in \u001b[0;36mSocketIO.readinto\u001b[0;34m(self, b)\u001b[0m\n\u001b[1;32m    702\u001b[0m \u001b[38;5;28;01mwhile\u001b[39;00m \u001b[38;5;28;01mTrue\u001b[39;00m:\n\u001b[1;32m    703\u001b[0m     \u001b[38;5;28;01mtry\u001b[39;00m:\n\u001b[0;32m--> 704\u001b[0m         \u001b[38;5;28;01mreturn\u001b[39;00m \u001b[38;5;28;43mself\u001b[39;49m\u001b[38;5;241;43m.\u001b[39;49m\u001b[43m_sock\u001b[49m\u001b[38;5;241;43m.\u001b[39;49m\u001b[43mrecv_into\u001b[49m\u001b[43m(\u001b[49m\u001b[43mb\u001b[49m\u001b[43m)\u001b[49m\n\u001b[1;32m    705\u001b[0m     \u001b[38;5;28;01mexcept\u001b[39;00m timeout:\n\u001b[1;32m    706\u001b[0m         \u001b[38;5;28mself\u001b[39m\u001b[38;5;241m.\u001b[39m_timeout_occurred \u001b[38;5;241m=\u001b[39m \u001b[38;5;28;01mTrue\u001b[39;00m\n",
      "File \u001b[0;32m~/anaconda3/envs/okprofessor/lib/python3.9/ssl.py:1275\u001b[0m, in \u001b[0;36mSSLSocket.recv_into\u001b[0;34m(self, buffer, nbytes, flags)\u001b[0m\n\u001b[1;32m   1271\u001b[0m     \u001b[38;5;28;01mif\u001b[39;00m flags \u001b[38;5;241m!=\u001b[39m \u001b[38;5;241m0\u001b[39m:\n\u001b[1;32m   1272\u001b[0m         \u001b[38;5;28;01mraise\u001b[39;00m \u001b[38;5;167;01mValueError\u001b[39;00m(\n\u001b[1;32m   1273\u001b[0m           \u001b[38;5;124m\"\u001b[39m\u001b[38;5;124mnon-zero flags not allowed in calls to recv_into() on \u001b[39m\u001b[38;5;132;01m%s\u001b[39;00m\u001b[38;5;124m\"\u001b[39m \u001b[38;5;241m%\u001b[39m\n\u001b[1;32m   1274\u001b[0m           \u001b[38;5;28mself\u001b[39m\u001b[38;5;241m.\u001b[39m\u001b[38;5;18m__class__\u001b[39m)\n\u001b[0;32m-> 1275\u001b[0m     \u001b[38;5;28;01mreturn\u001b[39;00m \u001b[38;5;28;43mself\u001b[39;49m\u001b[38;5;241;43m.\u001b[39;49m\u001b[43mread\u001b[49m\u001b[43m(\u001b[49m\u001b[43mnbytes\u001b[49m\u001b[43m,\u001b[49m\u001b[43m \u001b[49m\u001b[43mbuffer\u001b[49m\u001b[43m)\u001b[49m\n\u001b[1;32m   1276\u001b[0m \u001b[38;5;28;01melse\u001b[39;00m:\n\u001b[1;32m   1277\u001b[0m     \u001b[38;5;28;01mreturn\u001b[39;00m \u001b[38;5;28msuper\u001b[39m()\u001b[38;5;241m.\u001b[39mrecv_into(buffer, nbytes, flags)\n",
      "File \u001b[0;32m~/anaconda3/envs/okprofessor/lib/python3.9/ssl.py:1133\u001b[0m, in \u001b[0;36mSSLSocket.read\u001b[0;34m(self, len, buffer)\u001b[0m\n\u001b[1;32m   1131\u001b[0m \u001b[38;5;28;01mtry\u001b[39;00m:\n\u001b[1;32m   1132\u001b[0m     \u001b[38;5;28;01mif\u001b[39;00m buffer \u001b[38;5;129;01mis\u001b[39;00m \u001b[38;5;129;01mnot\u001b[39;00m \u001b[38;5;28;01mNone\u001b[39;00m:\n\u001b[0;32m-> 1133\u001b[0m         \u001b[38;5;28;01mreturn\u001b[39;00m \u001b[38;5;28;43mself\u001b[39;49m\u001b[38;5;241;43m.\u001b[39;49m\u001b[43m_sslobj\u001b[49m\u001b[38;5;241;43m.\u001b[39;49m\u001b[43mread\u001b[49m\u001b[43m(\u001b[49m\u001b[38;5;28;43mlen\u001b[39;49m\u001b[43m,\u001b[49m\u001b[43m \u001b[49m\u001b[43mbuffer\u001b[49m\u001b[43m)\u001b[49m\n\u001b[1;32m   1134\u001b[0m     \u001b[38;5;28;01melse\u001b[39;00m:\n\u001b[1;32m   1135\u001b[0m         \u001b[38;5;28;01mreturn\u001b[39;00m \u001b[38;5;28mself\u001b[39m\u001b[38;5;241m.\u001b[39m_sslobj\u001b[38;5;241m.\u001b[39mread(\u001b[38;5;28mlen\u001b[39m)\n",
      "\u001b[0;31mKeyboardInterrupt\u001b[0m: "
     ]
    }
   ],
   "source": [
    "from langchain.document_loaders import PyPDFLoader\n",
    "\n",
    "loader = PyPDFLoader(\"https://arxiv.org/pdf/2311.12755.pdf\")\n",
    "pages = loader.load_and_split()"
   ]
  },
  {
   "cell_type": "code",
   "execution_count": 17,
   "id": "fa2d7285",
   "metadata": {},
   "outputs": [
    {
     "data": {
      "text/plain": [
       "31"
      ]
     },
     "execution_count": 17,
     "metadata": {},
     "output_type": "execute_result"
    }
   ],
   "source": [
    "len(pages)"
   ]
  },
  {
   "cell_type": "code",
   "execution_count": 8,
   "id": "a74f9865",
   "metadata": {},
   "outputs": [
    {
     "data": {
      "text/plain": [
       "[Document(page_content='A ROADMAP TO YOUR JOURNEY TO FINANCIAL SECURITY  |  1Saving and Investing\\nA Roadmap To Your Financial Security \\nThrough Saving and Investing', metadata={'source': 'Resources/sec-guide-to-savings-and-investing.pdf', 'page': 0}),\n",
       " Document(page_content='2  |  SAVING AND INVESTING', metadata={'source': 'Resources/sec-guide-to-savings-and-investing.pdf', 'page': 1}),\n",
       " Document(page_content='A ROADMAP TO YOUR JOURNEY TO FINANCIAL SECURITY  |  1\\nDear Reader\\nWhile money doesn’t grow on trees, it can grow when \\nyou save and invest wisely.\\nKnowing how to secure your financial well-being is one \\nof the most important things you’ll ever need in life. Y ou don’t have to be a genius to do it. Y ou just need to know a few basics, form a plan, and be ready to stick to it. No matter how much or little money you have, the important thing is to educate yourself about your opportunities. In this brochure, we’ll cover the basics on saving and investing.\\nAt the SEC, we enforce the laws that determine how in-\\nvestments are offered and sold to you. These laws protect in-vestors, but you need to do your part, too. Part of this brochure tells you how to check out investments and the people that sell them so you do not fall victim to fraud or costly mistakes.\\nNo one can guarantee that you’ll make money from \\ninvestments you make. But if you get the facts about sav -\\ning and investing and follow through with an intelligent plan, you should be able to gain financial security over the years and enjoy the benefits of managing your money.\\nPlease feel free to contact us with any of your ques -\\ntions or concerns about investing. It always pays to learn before you invest. And congratulations on taking your first step on the road to financial security!\\nU.S. Securities and Exchange Commission\\nOffice of Investor Education and Advocacy100 F Street, N.E.Washington, D.C. 20549-0213T oll-free: (800) SEC-0330Website: Investor.gov', metadata={'source': 'Resources/sec-guide-to-savings-and-investing.pdf', 'page': 2}),\n",
       " Document(page_content='2  |  SAVING AND INVESTING', metadata={'source': 'Resources/sec-guide-to-savings-and-investing.pdf', 'page': 3}),\n",
       " Document(page_content='A ROADMAP TO YOUR JOURNEY TO FINANCIAL SECURITY   |  3Don’t Wait to Get Started\\nYOU CAN DO IT!  \\nIT’S EASIER THAN YOU THINK.\\nNo one is born knowing how to save or to invest. Every suc -\\ncessful investor starts with the basics—the information in this \\nbrochure.\\nA few people may stumble into financial security—a wealthy \\nrelative may die, or a business may take off. But for most peo -\\nple, the only way to attain financial security is to save and in -\\nvest over a long period of time.\\nTime after time, people of even modest means who begin \\nthe journey reach financial security and all that it promises: \\nbuying a home, educational opportunities for their children, \\nand a comfortable retirement. If they can do it, so can you!\\nKEYS  TO FINANCIAL SUCCESS\\n1 . Make a financial plan.\\n2. Pay off any high interest debts.\\n3.  Start saving and investing as soon as you’ve paid off your debts.', metadata={'source': 'Resources/sec-guide-to-savings-and-investing.pdf', 'page': 4}),\n",
       " Document(page_content='4  |  SAVING AND INVESTINGY our First Step—Making a \\nFinancial Plan\\nWhat are the things you want to save and invest for?\\n• a home\\n• a car\\n• an education\\n• a comfortable retirement\\n• your children\\n• medical or other emergencies\\n• periods of unemployment\\n• caring for parents\\nMake your own list and then think about which goals are the \\nmost important to you. List your most important goals first. \\nDecide how many years you have to meet each specific goal, \\nbecause when you save or invest you’ll need to find a savings or \\nYOUR FINANCIAL GOALS\\nIf you don’t know where you are going, you may end up somewhere you don’t want \\nto be. To end up where you want to be, you’ll need a roadmap, a financial plan.\\nWhat do you want to save or invest for? By when?\\n1 . ____________________________ _______\\n2. ____________________________ _______\\n3. ____________________________ _______\\n4. ____________________________ _______\\n5. ____________________________ _______', metadata={'source': 'Resources/sec-guide-to-savings-and-investing.pdf', 'page': 5}),\n",
       " Document(page_content='A ROADMAP TO YOUR JOURNEY TO FINANCIAL SECURITY  |  5investment option that fits your time frame for meeting each goal. \\nMany tools exist to help you put your financial plan together.\\nY ou’ll find a wealth of information, including calculators and \\nlinks to non-commercial resources at Investor.gov.\\nKNOW  YOUR CURRENT FINANCIAL SITUATION\\nSit down and take an honest look at your entire financial situ -\\nation. Y ou can never take a journey without knowing where you’re starting from, and a journey to financial security is no different. Y ou’ll need to figure out on paper your current situ-ation—what you own and what you owe. Y ou’ll be creating a “net worth statement.” On one side of the page, list what you own. These are your “assets.” And on the other side list what you owe other people, your “liabilities” or debts. \\nYOUR NET WORTH STATEMENT\\nAssets Current Value Liabilities Amount\\nCash __________ Mortgage balance __________\\nChecking accounts __________ Credit cards __________\\nSavings __________ Bank loans __________\\nCash value of life \\ninsurance__________ Car loans __________\\nRetirement accounts __________ Student loans __________\\nReal estate __________ Other __________\\nHome __________ __________\\nOther investments __________ __________\\nPersonal property __________ __________\\nTOTAL __________ TOTAL __________', metadata={'source': 'Resources/sec-guide-to-savings-and-investing.pdf', 'page': 6}),\n",
       " Document(page_content='6  |  SAVING AND INVESTINGSubtract your liabilities from your assets. If your assets are larger \\nthan your liabilities, you have a “positive” net worth. If your liabil -\\nities are greater than your assets, you have a “negative” net worth. \\nY ou’ll want to update your “net worth statement” every year \\nto keep track of how you are doing. Don’t be discouraged if \\nyou have a negative net worth. If you follow a plan to get into a positive position, you’re doing the right thing.\\nKNOW  YOUR INCOME AND EXPENSES\\nThe next step is to keep track of your income and your ex -\\npenses for every month. Write down what you and others in your family earn, and then your monthly expenses. \\nPAY  YOURSELF OR YOUR FAMILY FIRST\\nInclude a category for savings and investing. What are you paying yourself every month? Many people get into the habit of saving and investing by following this advice: always pay yourself or your family first. Many people find it easier to pay themselves first if they allow their bank to automatically re -\\nmove money from their paycheck and deposit it into a savings or investment account. \\nLikely even better, for tax purposes, is to participate in an \\nemployer-sponsored retirement plan such as a 401(k), 403(b), or 457(b). These plans will typically not only automatically de -\\nduct money from your paycheck, but will immediately reduce the taxes you are paying. Additionally, in many plans the em -\\nployer matches some or all of your contribution. When your employer does that, it’s offering “free money.” \\nAny time you have automatic deductions made from your \\npaycheck or bank account, you’ll increase the chances of being able to stick to your plan and to realize your goals.', metadata={'source': 'Resources/sec-guide-to-savings-and-investing.pdf', 'page': 7}),\n",
       " Document(page_content='A ROADMAP TO YOUR JOURNEY TO FINANCIAL SECURITY   |  7FINDING MONEY TO SAVE OR INVEST \\nIf you are spending all your income, and never have money to \\nsave or invest, you’ll need to look for ways to cut back on your \\nexpenses. When you watch where you spend your money, you \\nwill be surprised how small everyday expenses that you can do \\nwithout add up over a year. \\nKNOW  YOUR INCOME AND WHAT YOU SPEND\\nMonthly Income ________________\\nMonthly Expenses\\nSavings ________________\\nInvestments ________________\\nHousing ________________\\nRent or mortgage ________________\\nElectricity ________________\\nGas/oil ________________\\nTelephone ________________\\nWater/sewer ________________\\nProperty tax ________________\\nFurniture ________________\\nFood ________________\\nTransportation ________________\\nLoans ________________\\nInsurance ________________\\nEducation ________________\\nRecreation ________________\\nChild care ________________\\nHealth care ________________\\nGifts ________________\\nOther ________________\\nTOTAL ________________', metadata={'source': 'Resources/sec-guide-to-savings-and-investing.pdf', 'page': 8}),\n",
       " Document(page_content='8  |  SAVING AND INVESTINGSmall Savings Add Up  \\nto Big Money\\nHow much does a cup of coffee cost you?\\nIf you buy a cup of coffee every day for $1.00 (an awfully good price \\nfor a decent cup of coffee, nowadays), that adds up to $365.00 a year. \\nIf you saved that $365.00 for just one year, and put it into a savings \\naccount or investment that earns 5% a year, it would grow to $465.84 \\nby the end of 5 years, and by the end of 30 years, to $1,577.50. \\nThat’s the power of “compounding.” With compound interest,  \\nyou earn interest on the money you save and on the interest that money \\nearns. Over time, even a small amount saved can add up to big money.\\nIf you are willing to watch what you spend and look for \\nlittle ways to save on a regular schedule, you can make money \\ngrow. Y ou just did it with one cup of coffee.\\nIf a small cup of coffee can make such a huge difference, start \\nlooking at how you could make your money grow if you de -\\ncided to spend less on other things and save those extra dollars.\\nIf you buy on impulse, make a rule that you’ll always wait \\n24 hours to buy anything. Y ou may lose your desire to buy it \\nafter a day. And try emptying your pockets and wallet of spare \\nchange at the end of each day.  Y ou’ll be surprised how quickly \\nthose nickels and dimes add up!\\nPAY OFF CREDIT CARD OR OTHER HIGH  \\nINTEREST DEBT\\nSpeaking of things adding up, few investment strategies pay off as \\nwell as, or with less risk than, merely paying off all high interest \\ndebt you may have. \\nMany people have wallets filled with credit cards, some of \\nwhich they’ve “maxed out” (meaning they’ve spent up to their', metadata={'source': 'Resources/sec-guide-to-savings-and-investing.pdf', 'page': 9}),\n",
       " Document(page_content='A ROADMAP TO YOUR JOURNEY TO FINANCIAL SECURITY   |  9credit limit). Credit cards can make it seem easy to buy expensive \\nthings when you don’t have the cash in your pocket—or in the \\nbank. But credit cards aren’t free money. \\nMost credit cards charge high interest rates—as much as 18 \\npercent or more—if you don’t pay off your balance in full each \\nmonth. If you owe money on your credit cards, the wisest thing \\nyou can do is pay off the balance in full as quickly as possible. Vir -\\ntually no investment will give you the high returns you’ll need to \\nkeep pace with an 18 percent interest charge. That’s why you’re \\nbetter off eliminating all credit card debt before investing savings. \\nOnce you’ve paid off your credit cards, you can budget your \\nmoney and begin to save and invest. Here are some tips for \\navoiding credit card debt:\\nPut Away the Plastic\\n Don’t use a credit card unless your debt is at a manageable level and \\nyou know you’ll have the money to pay the bill when it arrives.\\nKnow What You Owe\\n It’s easy to forget how much you’ve charged on your credit \\ncard. Every time you use a credit card, write down how much \\nyou have spent and figure out how much you’ll have to pay that \\nmonth. If you know you won’t be able to pay your balance in \\nfull, try to figure out how much you can pay each month and \\nhow long it’ll take to pay the balance in full.\\nPay Off the Card with the Highest Rate\\n If you’ve got unpaid balances on several credit cards, you should \\nfirst pay down the card that charges the highest rate. Pay as much \\nas you can toward that debt each month until your balance is once \\nagain zero, while still paying the minimum on your other cards.\\nThe same advice goes for any other high interest debt (about 8% or \\nabove) which does not offer the tax advantages of, for example, a mortgage.\\nNow, once you have paid off those credit cards and begun to \\nset aside some money to save and invest, what are your choices?', metadata={'source': 'Resources/sec-guide-to-savings-and-investing.pdf', 'page': 10}),\n",
       " Document(page_content='10  |  SAVING AND INVESTINGMaking Money Grow\\nTHE TWO WAYS TO MAKE MONEY\\nThere are basically two ways to make money.\\n1. You work for money.\\n  Someone pays you to work for them or you have your own \\nbusiness.\\n2. Your money works for you.\\n Y ou take your money and you save or invest it.\\nYOUR MONEY CAN WORK FOR YOU IN TWO WAYS\\nYour money earns money.  When your money goes to work, \\nit may earn a steady paycheck. Someone pays you to use your \\nmoney for a period of time. When you get your money back, \\nyou get it back plus “interest.” Or, if you buy stock in a compa -\\nny that pays “dividends” to shareholders, the company may pay \\nyou a portion of its earnings on a regular basis. Y our money can \\nmake an “income,” just like you. Y ou can make more money \\nwhen you and your money work. \\nYou buy something with your money that could in -\\ncrease in value. Y ou become an owner of something that you \\nhope increases in value over time. When you need your money \\nback, you sell it, hoping someone else will pay you more for it. For \\ninstance, you buy a piece of land thinking it will increase in value \\nas more businesses or people move into your town. Y ou expect to \\nsell the land in five, ten, or twenty years when someone will buy \\nit from you for a lot more money than you paid.\\nAnd sometimes, your money can do both at the same time—\\nearn a steady paycheck and increase in value.', metadata={'source': 'Resources/sec-guide-to-savings-and-investing.pdf', 'page': 11}),\n",
       " Document(page_content='A ROADMAP TO YOUR JOURNEY TO FINANCIAL SECURITY   |  11THE DIFFERENCES BETWEEN SAVING AND INVESTING\\nSaving\\nY our “savings” are usually put into the safest places, or prod -\\nucts, that allow you access to your money at any time. Sav -\\nings products include savings accounts, checking accounts, and \\ncertificates of deposit. Some deposits in these products may be \\ninsured by the Federal Deposit  Insurance Corporation or the \\nNational Credit Union Administration. But there’s a tradeoff \\nfor security and ready availability. Y our money is paid a low \\nwage as it works for you.\\nAfter paying off credit cards or other high interest debt, \\nmost smart investors put enough money in a savings product to \\ncover an emergency, like sudden unemployment. Some make \\nsure they have up to six months of their income in savings so \\nthat they know it will absolutely be there for them when they \\nneed it.\\nBut how “safe” is a savings account if you leave all of your \\nmoney there for a long time, and the interest it earns doesn’t \\nkeep up with inflation? What if you save a dollar when it can \\nbuy a loaf of bread. But years later when you withdraw that \\ndollar plus the interest you earned on it, it can only buy half \\na loaf? This is why many people put some of their money in \\nsavings, but look to investing so they can earn more over long \\nperiods of time, say three years or longer. \\nInvesting\\nWhen you “invest,” you have a greater chance of losing your \\nmoney than when you “save.” The money you invest in se -\\ncurities, mutual funds, and other similar investments typically \\nis not federally insured. Y ou could lose your “principal”—the \\namount you’ve invested. But you also have the opportunity to \\nearn more money.', metadata={'source': 'Resources/sec-guide-to-savings-and-investing.pdf', 'page': 12}),\n",
       " Document(page_content='12  |  SAVING AND INVESTINGTHE BASIC TYPES OF PRODUCTS\\nSavings Investments\\nSavings accounts Bonds\\nCertificates of deposit Stocks\\nChecking accounts Mutual funds\\nReal estate\\nCommodities (gold, silver, etc.)\\nWhat about risk?\\nAll investments involve taking on risk. It’s important that you \\ngo into any investment in stocks, bonds or mutual funds with a \\nfull understanding that you could lose some or all of your money \\nin any one investment. While over the long term the stock market \\nhas historically provided around 10% annual returns (closer to 6% \\nor 7% “real” returns when you subtract for the effects of inflation), \\nthe long term does sometimes take a rather long, long time to play \\nout. Those who invested all of their money in the stock market at \\nits peak in 1929 (before the stock market crash) would wait over \\n20 years to see the stock market return to the same level.\\nHowever, those that kept adding money to the market \\nthroughout that time would have done very well for them -\\nselves, as the lower cost of stocks in the 1930s made for some \\nhefty gains for those who bought and held over the course of \\nthe next twenty years or more. \\nIt is often said that the greater the risk, the greater the po -\\ntential reward in investing, but taking on unnecessary risk is \\noften avoidable. Investors best protect themselves against risk \\nby spreading their money among various investments, hop -\\ning that if one investment loses money, the other investments \\nwill more than make up for those losses. This strategy, called', metadata={'source': 'Resources/sec-guide-to-savings-and-investing.pdf', 'page': 13}),\n",
       " Document(page_content='A ROADMAP TO YOUR JOURNEY TO FINANCIAL SECURITY   |  13“ diversification,” can be neatly summed up as, “Don’t put all \\nyour eggs in one basket.” Investors also protect themselves from \\nthe risk of investing all their money at the wrong time (think \\n1929) by following a consistent pattern of adding new money \\nto their investments over long periods of time. \\nOnce you’ve saved money for investing, consider carefully all \\nyour options and think about what diversification strategy makes \\nsense for you. While the SEC cannot recommend any particular \\ninvestment product, you should know that a vast array of invest -\\nment products exists—including stocks and stock mutual funds, \\ncorporate and municipal bonds, bond mutual funds, certificates \\nof deposit, money market funds, and U.S. Treasury securities.\\nDiversification can’t guarantee  that your investments won’t \\nsuffer if the market drops. But it can improve the chances that \\nyou won’t lose money, or that if you do, it won’t be as much as \\nif you weren’t diversified. \\nWhat are the best investments for me?\\nThe answer depends on when you will need the money, \\nyour goals, and if you will be able to sleep at night if you pur -\\nchase a risky investment where you could lose your principal. \\nFor instance, if you are saving for retirement, and you have \\n35 years before you retire, you may want to consider riskier \\ninvestment products, knowing that if you stick to only the “sav -\\nings” products or to less risky investment products, your money \\nwill grow too slowly—or, given inflation and taxes, you may \\nlose the purchasing power of your money. A frequent mistake \\npeople make is putting money they will not need for a very \\nlong time in investments that pay a low amount of interest. \\nOn the other hand, if you are saving for a short-term goal, \\nfive years or less, you don’t want to choose risky investments, \\nbecause when it’s time to sell, you may have to take a loss. Since \\ninvestments often move up and down in value rapidly, you want \\nto make sure that you can wait and sell at the best possible time.', metadata={'source': 'Resources/sec-guide-to-savings-and-investing.pdf', 'page': 14}),\n",
       " Document(page_content='14  |  SAVING AND INVESTINGWhat are investments all about?\\nWhen you make an investment, you are giving your money \\nto a company or enterprise, hoping that it will be successful \\nand pay you back with even more money.\\nStocks and Bonds\\nMany companies offer investors the opportunity to buy either \\nstocks or bonds. The example below shows you how stocks and \\nbonds differ. \\nLet’s say you believe that a company that makes automo -\\nbiles may be a good investment. Everyone you know is buying \\none of its cars, and your friends report that the company’s cars \\nrarely break down and run well for years. Y ou either have an \\ninvestment professional investigate the company and read as \\nmuch as possible about it, or you do it yourself.\\nAfter your research, you’re convinced it’s a solid company \\nthat will sell many more cars in the years ahead. \\nThe automobile company offers both stocks and bonds. With the \\nbonds, the company agrees to pay you back your initial investment \\nin ten years, plus pay you interest twice a year at the rate of 8% a year.\\nIf you buy the stock, you take on the risk of potentially los -\\ning a portion or all of your initial investment if the company \\ndoes poorly or the stock market drops in value. But you also \\nmay see the stock increase in value beyond what you could \\nearn from the bonds. If you buy the stock, you become an \\n“owner” of the company.\\nY ou wrestle with the decision. If you buy the bonds, you \\nwill get your money back plus the 8% interest a year. And you \\nthink the company will be able to honor its promise to you on \\nthe bonds because it has been in business for many years and \\ndoesn’t look like it could go bankrupt. The company has a long \\nhistory of making cars and you know that its stock has gone \\nup in price by an average of 9% a year, plus it has typically paid \\nstockholders a dividend of 3% from its profits each year.', metadata={'source': 'Resources/sec-guide-to-savings-and-investing.pdf', 'page': 15}),\n",
       " Document(page_content='A ROADMAP TO YOUR JOURNEY TO FINANCIAL SECURITY   |  15THE MAIN DIFFERENCES BETWEEN  \\nSTOCKS AND BONDS\\nStocks Bonds\\nIf the company profits or is perceived as \\nhaving strong potential, its stock may go \\nup in value and pay dividends. You may \\nmake more money than from the bonds.The company promises to return money \\nplus interest. \\nRisk: The company may do poorly, and \\nyou’ll lose a portion or all of your invest -\\nment.Risk:  If the company goes bankrupt, \\nyour money may be lost. But if there is \\nany money left, you will be paid before \\nstockholders. \\nY ou take your time and make a careful decision. Only time \\nwill tell if you made the right choice. Y ou’ll keep a close eye on \\nthe company and keep the stock as long as the company keeps \\nselling a quality car that consumers want to drive, and it can \\nmake an acceptable profit from its sales.\\nWHY SOME INVESTMENTS MAKE MONEY  \\nAND OTHERS DON’T\\nY ou can potentially make money in an investment if: \\n•  The company performs better than its competitors.\\n•  Other investors recognize it’s a good company, so that when \\nit comes time to sell your investment, others want to buy it.\\n•  The company makes profits, meaning they make enough \\nmoney to pay you interest for your bond, or maybe divi -\\ndends on your stock.\\nY ou can lose money if:\\n• The company’s competitors are better than it is.\\n•  Consumers don’t want to buy the company’s products or services.', metadata={'source': 'Resources/sec-guide-to-savings-and-investing.pdf', 'page': 16}),\n",
       " Document(page_content='16  |  SAVING AND INVESTING•  The company’s officers fail at managing the business well, \\nthey spend too much money, and their expenses are larger \\nthan their profits.\\n•  Other investors that you would need to sell to think the company’s \\nstock is too expensive given its performance and future outlook.\\n•  The people running the company are dishonest. They use \\nyour money to buy homes, clothes, and vacations, instead \\nof using your money on the business.\\n•  They lie about any aspect of the business: claim past or \\nfuture profits that do not exist, claim it has contracts to sell \\nits products when it doesn’t, or make up fake numbers on \\ntheir finances to dupe investors.\\n•  The brokers who sell the company’s stock manipulate the \\nprice so that it doesn’t reflect the true value of the com -\\npany. After they pump up the price, these brokers dump the \\nstock, the price falls, and investors lose their money.\\n•  For whatever reason, you have to sell your investment \\nwhen the market is down.\\nMUTUAL FUNDS AND EXCHANGE-TRADED  \\nFUNDS (ETF s)\\nBecause it is sometimes hard for investors to become experts on \\nvarious businesses—for example, what are the best steel, automo -\\nbile, or telephone companies—investors often depend on profes -\\nsionals who are trained to investigate companies and recommend \\ncompanies that are likely to succeed. Since it takes work to pick the \\nstocks or bonds of the companies that have the best chance to do \\nwell in the future, many investors choose to invest in mutual funds \\nand ETFs.', metadata={'source': 'Resources/sec-guide-to-savings-and-investing.pdf', 'page': 17}),\n",
       " Document(page_content='A ROADMAP TO YOUR JOURNEY TO FINANCIAL SECURITY  |  17What are mutual funds and ETFs?\\nA mutual fund or ETF is a pool of money run by a profes -\\nsional or group of professionals called the “investment adviser.” \\nIn a managed fund, after investigating the prospects of many companies, the fund’s investment adviser will pick the stocks or bonds of companies and put them into a fund. \\nInvestors can buy shares of the fund, and their shares rise or \\nfall in value as the values of the stocks and bonds in the fund rise and fall. Investors may typically pay a fee when they buy or sell their shares in the fund, and those fees in part pay the salaries and expenses of the professionals who manage the fund.\\nEven small fees can and do add up and eat into a significant \\nchunk of the returns a fund is likely to produce, so you need to look carefully at how much a fund costs and think about how much it will cost you over the amount of time you plan to own its shares. If two funds are similar in every way except that one charges a higher fee than the other, you’ll make more money by choosing the fund with the lower annual costs.\\nFor more information about mutual fund and ETF fees and  \\nexpenses, be sure to read our brochure entitled “Mutual Funds and ETFs—A Guide for Investors”—which you can read online at  \\nInvestor.gov. \\nMUTUAL FUNDS AND ETFs  WITHOUT ACTIVE \\nMANAGEMENT\\nOne way that investors can obtain for themselves nearly the full returns of the market is to invest in an “index fund.” This is a fund that does not attempt to pick and choose stocks of indi -\\nvidual companies based upon the research of the fund managers or to try to time the market’s movements. An index fund seeks to equal the returns of a major stock index, such as the Standard & Poor’s 500, the Wilshire 5000, or the Russell 3000. Through computer programmed buying and selling, an index fund tracks', metadata={'source': 'Resources/sec-guide-to-savings-and-investing.pdf', 'page': 18}),\n",
       " Document(page_content='18  |  SAVING AND INVESTINGthe holdings of a chosen index, and so shows the same returns as \\nan index minus, of course, the annual fees involved in running \\nthe fund. The fees for index mutual funds and ETFs generally are \\nmuch lower than the fees for managed funds.\\nHistorical data shows that index funds have, primarily because \\nof their lower fees, enjoyed higher returns than the average man -\\naged fund. But, like any investment, index funds involve risk.\\nWATCH “TURNOVER” TO AVOID PAYING EXCESS TAXES\\nT o maximize your fund returns, or any investment returns, \\nknow the effect that taxes can have on what actually ends up \\nin your pocket. Funds that trade quickly in and out of stocks \\nwill have what is known as “high turnover.” While selling a \\nstock that has moved up in price does lock in a profit for the \\nfund, this is a profit for which taxes have to be paid. Turnover \\nin a fund creates taxable capital gains, which are paid by the \\nfund shareholders. All funds are now mandated by the SEC to \\nshow both their before- and after-tax returns. The differences \\nbetween what a fund is reportedly earning, and what a fund is \\nearning after taxes are paid on the dividends and capital gains, \\ncan be quite striking. If you plan to hold funds in a taxable \\n account, be sure to check out these historical returns in the \\nfund prospectus to see what kind of taxes you might be likely \\nto incur.\\nDo I Need an Investment Professional?\\nAre you the type of person who will read as much as possible \\nabout potential investments and ask questions about them? If \\nso, maybe you don’t need investment advice. But if you’re busy \\nwith your job, your children, or other responsibilities, or feel \\nyou don’t know enough about investing on your own, then you \\nmay need professional investment advice.', metadata={'source': 'Resources/sec-guide-to-savings-and-investing.pdf', 'page': 19}),\n",
       " Document(page_content='A ROADMAP TO YOUR JOURNEY TO FINANCIAL SECURITY   |  19WARNING!\\nBefore Y ou Invest Always Check with the SEC and Y our State’s \\nSecurities Regulator:\\nIs the investment registered?\\nHave investors complained about the investment in the past?\\n Have the people who own or manage the investment been in trouble in the past?\\n Is the person selling me this investment licensed in my state?\\n Has that person been in trouble with the SEC, my state, or other investors in the past?\\nInvestment professionals offer a variety of services at a variety \\nof prices. It pays to comparison shop. Y ou can get investment \\nadvice from most financial institutions that sell investments, \\nincluding brokerages, banks, mutual funds, and insurance com -\\npanies. Y ou can also hire a broker, an investment adviser, an ac -\\ncountant, a financial planner, or other professional to help you \\nmake investment decisions.\\nSome financial planners and investment advisers offer a \\ncomplete financial plan, assessing every aspect of your financial \\nlife and developing a detailed strategy for meeting your finan -\\ncial goals. They may charge you a fee for the plan, a percentage \\nof your assets that they manage, or receive commissions from \\nthe companies whose products you buy, or a combination of \\nthese. Y ou should know exactly what services you are getting \\nand how much they will cost.\\nRemember, there is no such thing as a free lunch. Profes -\\nsional financial advisers do not perform their services as an act \\nof charity. If they are working for you, they are getting paid for \\ntheir efforts. Some of their fees are easier to see immediately \\nthan are others. But, in all cases, you should always feel free to \\nask questions about how and how much your adviser is being \\npaid. And if the fee is quoted to you as a percentage, make sure \\nthat you understand what that translates to in dollars.', metadata={'source': 'Resources/sec-guide-to-savings-and-investing.pdf', 'page': 20}),\n",
       " Document(page_content='20  |  SAVING AND INVESTINGIn contrast to investment advisers, brokers make recommen -\\ndations about specific investments like stocks, bonds, or mutual \\nfunds. While taking into account your overall financial goals, \\nbrokers generally do not give you a detailed financial plan. \\nBrokers are generally paid commissions when you buy or sell \\nsecurities through them. If they sell you mutual funds make \\nsure to ask questions about what fees are included in the mu -\\ntual fund purchase. \\nBrokerages vary widely in the quantity and quality of the ser -\\nvices they provide for customers. Some have large research staffs, \\nlarge national operations, and are prepared to service almost any \\nkind of financial transaction you may need. Others are small and \\nmay specialize in promoting investments in unproven and very \\nrisky companies. And there’s everything else in between.\\nA discount brokerage  charges lower fees and commissions \\nfor its services than what you’d pay at a full-service brokerage. \\nBut generally you have to research and choose investments by \\nyourself. A full- service brokerage  costs more, but the high -\\ner fees and commissions pay for a broker’s investment advice \\nbased on that firm’s research.\\nThe best way to choose an investment professional is to start \\nby asking your friends and colleagues who they recommend. \\nTry to get several recommendations, and then meet with po -\\ntential advisers face-to-face. Make sure you get along. Make \\nsure you understand each other. After all, it’s your money.\\nOPENING A BROKERAGE ACCOUNT\\nWhen you open a brokerage account, whether in person or on -\\nline, you will typically be asked to sign a new account agreement. \\nY ou should carefully review all the information in this agreement \\nbecause it determines your legal rights regarding your account. \\nDo not sign the new account agreement unless you thor -\\noughly understand it and agree with the terms and conditions', metadata={'source': 'Resources/sec-guide-to-savings-and-investing.pdf', 'page': 21}),\n",
       " Document(page_content='A ROADMAP TO YOUR JOURNEY TO FINANCIAL SECURITY   |  21it imposes on you. Do not rely on statements about your ac -\\ncount that are not in this agreement. Ask for a copy of any ac -\\ncount documentation prepared for you by your broker. \\nThe broker should ask you about your investment goals and \\npersonal financial situation, including your income, net worth, \\ninvestment experience, and how much risk you are willing to \\ntake on. Be honest. The broker relies on this information to \\ndetermine which investments will best meet your investment \\ngoals and tolerance for risk. If a broker tries to sell you an in -\\nvestment before asking you these questions, that’s a very bad \\nsign. It signals that the broker has a greater interest in earning \\na commission than recommending an investment to you that \\nmeets your needs. The new account agreement requires that \\nyou make three critical decisions:\\n1.  Who will make the final decisions about what you buy and \\nsell in your account?\\nY ou will have the final say on investment decisions unless you \\ngive “discretionary authority” to your broker. Discretionary au -\\nthority allows your broker to invest your money without con -\\nsulting you about the price, the type of security, the amount, \\nand when to buy or sell. Do not give discretionary authority to \\nyour broker without seriously considering the risks involved \\nin turning control over your money to another person.\\n2. How will you pay for your investments?\\nMost investors maintain a “cash” account that requires pay -\\nment in full for each security purchase. But if you open a \\n“margin” account, you can buy securities by borrowing money \\nfrom your broker for a portion of the purchase price. Be aware \\nof the risks involved with buying stocks on margin. Begin -\\nning investors generally should not get started with a margin \\naccount. Make sure you understand how a margin account \\nworks, and what happens in the worst case scenario before you \\nagree to buy on margin. Unlike other loans, like for a car or a', metadata={'source': 'Resources/sec-guide-to-savings-and-investing.pdf', 'page': 22}),\n",
       " Document(page_content='22  |  SAVING AND INVESTINGhome, that allow you to pay back a fixed amount every month, \\nwhen you buy stocks on margin you can be faced with paying \\nback the entire margin loan all at once if the price of the stock \\ndrops suddenly and dramatically. The firm has the authority to \\nimmediately sell any security in your account, without notice \\nto you, to cover any shortfall resulting from a decline in the \\nvalue of your securities. Y ou may owe a substantial amount of \\nmoney even after your securities are sold. The margin account \\nagreement generally provides that the securities in your mar -\\ngin account may be lent out by the brokerage firm at any time \\nwithout notice or compensation to you.\\n3. How much risk should you assume?\\nIn a new account agreement, you must specify your overall \\ninvestment objective in terms of risk. Categories of risk may \\nhave labels such as “income,” “growth,” or “aggressive growth.” \\nBe certain that you fully understand the distinctions among \\nthese terms, and be certain that the risk level you choose ac -\\ncurately reflects your age, experience and investment goals. Be \\nsure that the investment products recommended to you reflect \\nthe category of risk you have selected.\\nWhen opening a new account, the brokerage firm may ask \\nyou to sign a legally binding contract to use the arbitration \\nprocess to settle any future dispute between you and the firm \\nor your sales representative. Signing this agreement means that \\nyou give up the right to sue your sales representative and firm \\nin court.', metadata={'source': 'Resources/sec-guide-to-savings-and-investing.pdf', 'page': 23}),\n",
       " Document(page_content='A ROADMAP TO YOUR JOURNEY TO FINANCIAL SECURITY   |  23How Can I Protect Myself? \\nASK QUESTIONS!\\nY ou can never ask a dumb question about your investments \\nand the people who help you choose them, especially when \\nit comes to how much you will be paying for any investment, \\nboth in upfront costs and ongoing management fees.\\nHere are some questions you should ask when choosing an \\ninvestment professional or someone to help you:\\n•  What training and experience do you have? How long \\nhave you been in business?\\n•  What is your investment philosophy? Do you take a lot of risks \\nor are you more concerned about the safety of my money?\\n•  Describe your typical client. Can you provide me with ref -\\nerences, the names of people who have invested with you \\nfor a long time?\\n•  How do you get paid? By commission? Based on a per -\\ncentage of assets you manage? Another method? Do you \\nget paid more for selling your own firm’s products?\\n•  How much will it cost me in total to do business with you?\\nY our investment professional should understand your invest -\\nment goals, whether you’re saving to buy a home, paying for \\nyour children’s education, or enjoying a comfortable retirement.\\nY our investment professional should also understand your \\ntolerance for risk. That is, how much money can you afford \\nto lose if the value of one of your investments declines? An \\ninvestment professional has a duty to make sure that he or \\nshe only recommends investments that are suitable for you. \\nThat is, that the investment makes sense for you based on your', metadata={'source': 'Resources/sec-guide-to-savings-and-investing.pdf', 'page': 24}),\n",
       " Document(page_content='24  |  SAVING AND INVESTINGother securities holdings, your financial situation, your means, \\nand any other information that your investment professional thinks is important. The best investment professional is one who fully understands your objectives and matches investment recommendations to your goals. Y ou’ll want someone you can understand, because your investment professional should teach you about investing and the investment products. \\nHow Should I Monitor My Investments?\\nInvesting makes it possible for your money to work for you. \\nIn a sense, your money has become your employee, and that makes you the boss. Y ou’ll want to keep a close watch on how your employee, your money, is doing. \\nSome people like to look at the stock quotations every day \\nto see how their investments have done. That’s probably too often. Y ou may get too caught up in the ups and downs of the “trading” value of your investment, and sell when its value goes down temporarily—even though the performance of the company is still stellar. Remember, you’re in for the long haul. \\nSome people prefer to see how they’re doing once a year. \\nThat’s probably not often enough. What’s best for you will most likely be somewhere in between, based on your goals and your investments. \\nBut it’s not enough to simply check an investment’s perfor -\\nmance. Y ou should compare that performance against an index of similar investments over the same period of time to see if you are getting the proper returns for the amount of risk that you are assuming. Y ou should also compare the fees and commissions that you’re paying to what other investment professionals charge.\\nWhile you should monitor performance regularly, you should \\npay close attention every time you send your money somewhere \\nelse to work. \\nEvery time you buy or sell an investment you will receive a \\nconfirmation slip from your broker. Make sure each trade was', metadata={'source': 'Resources/sec-guide-to-savings-and-investing.pdf', 'page': 25}),\n",
       " Document(page_content='A ROADMAP TO YOUR JOURNEY TO FINANCIAL SECURITY  |  25IMPORTANT CONTACTS\\nSEC NASAA\\n100 F Street, N.E. 750 First Street, N.E., Suite 1140\\nWashington, D.C. 20549-0213 Washington, D.C. 20002\\nToll-free: (800) SEC-0330 Phone: (202) 737-0900\\nWebsite: Investor.gov Website: www.nasaa.org\\ncompleted according to your instructions. Make sure the buy -\\ning or selling price was what your broker quoted. And make \\nsure the commissions or fees are what your broker said they would be. \\nWatch out for unauthorized trades in your account. If you \\nget a confirmation slip for a transaction that you didn’t approve beforehand, call your broker. It may have been a mistake. If your broker refuses to correct it, put your complaint in writing and send it to the firm’s compliance officer. Serious complaints should always be made in writing. \\nRemember, too, that if you rely on your investment profes-\\nsional for advice, he or she has an obligation to recommend investments that match your investment goals and tolerance for risk. Y our investment professional should not be recom -\\nmending trades simply to generate commissions. That’s called “churning,” and it’s illegal.\\nHow Can I Avoid Problems?\\nChoosing someone to help you with your investments is one \\nof the most important investment decisions you will ever make. While most investment professionals are honest and hardwork -\\ning, you must watch out for those few unscrupulous individu -\\nals. They can make your life’s savings disappear in an instant. \\nSecurities regulators and law enforcement officials can and \\ndo catch these criminals. But putting them in jail doesn’t always get your money back. T oo often, the money is gone. The good news is you can avoid potential problems by protecting yourself.', metadata={'source': 'Resources/sec-guide-to-savings-and-investing.pdf', 'page': 26}),\n",
       " Document(page_content='26  |  SAVING AND INVESTINGLet’s say you’ve already met with several investment profes -\\nsionals based on recommendations from friends and others you \\ntrust, and you’ve found someone who clearly understands your investment objectives. Before you hire this person, you still have more homework. \\nMake sure the investment professional and her firm are reg -\\nistered with the SEC and licensed to do business in your state. And find out from your state’s securities regulator whether the investment professional or her firm have ever been dis -\\nciplined, or whether they have any complaints against them. Y ou’ll find contact information for securities regulators in the U.S. by visiting the website of the North American Securities Administrators Association (NASAA) at www.nasaa.org or by calling (202) 737-0900. \\nY ou should also find out as much as you can about any in -\\nvestments that your investment professional recommends. \\nFirst, make sure the investments are registered. Keep in mind, \\nhowever, the mere fact that a company has registered and files reports with the SEC doesn’t guarantee that the company will be a good investment.\\nLikewise, the fact that a company hasn’t registered and \\ndoesn’t file reports with the SEC doesn’t mean the company is a fraud. Still, you may be asking for serious losses if, for in -\\nstance, you invest in a small, thinly traded company that isn’t widely known solely on the basis of what you may have read online. One simple phone call to your state regulator could prevent you from squandering your money on a scam. \\nBe wary of promises of quick profits, offers to share “inside \\ninformation,” and pressure to invest before you have an oppor-tunity to investigate. These are all warning signs of fraud. Ask your investment professional for written materials and pro -\\nspectuses, and read them before you invest. If you have ques -\\ntions, now is the time to ask.', metadata={'source': 'Resources/sec-guide-to-savings-and-investing.pdf', 'page': 27}),\n",
       " Document(page_content='A ROADMAP TO YOUR JOURNEY TO FINANCIAL SECURITY  |  27•How will the investment make money?\\n•How is this investment consistent with my investment goals?\\n•What must happen for the investment to increase in value?\\n•What are the risks?\\n•Where can I get more information?\\nFinally, it’s always a good idea to write down everything your\\ninvestment professional tells you. Accurate notes will come in \\nhandy if ever there’s a problem.\\nSome investments make money. Others lose money. That’s \\nnatural, and that’s why you need a diversified portfolio to min-imize your risk. But if you lose money because you’ve been cheated, that’s not natural, that’s a problem.\\nSometimes all it takes is a simple phone call to your in -\\nvestment professional to resolve a problem. Maybe there was an honest mistake that can be corrected. If talking to the in -\\nvestment professional doesn’t resolve the problem, talk to the firm’s manager, and write a letter to confirm your conversa -\\ntion. If that doesn’t lead to a resolution, you may have to initi -\\nate private legal action. Y ou may need to take action quickly because legal time limits for doing so vary. Y our local bar as-sociation can provide referrals for attorneys who specialize in securities law. \\nAt the same time, call or write to us and let us know what \\nthe problem was. Investor complaints are very important to the SEC. Y ou may think you’re the only one experiencing a prob -\\nlem, but typically, you’re not alone. Sometimes it takes only one investor’s complaint to trigger an investigation that exposes a bad broker or an illegal scheme. Complaints can be filed online with us by going to www.sec.gov/complaint.shtml.', metadata={'source': 'Resources/sec-guide-to-savings-and-investing.pdf', 'page': 28}),\n",
       " Document(page_content='28  |  SAVING AND INVESTINGKeep in T ouch With Us\\nWe hope that you’ve found this brochure helpful. Please let us \\nknow how it can be improved. \\nWe’ve only covered the basics, and there’s a lot more to learn \\nabout saving and investing. But you’ll be learning as you go and over your lifetime. \\nAs we said at the beginning, the most important thing is to \\nget started. And remember to ask questions as you make your investment decisions. \\nBe sure to find out if the person is licensed to sell invest -\\nments, and if the investment is registered with us. So, we look forward to hearing from you. And in the years ahead, let us know how well your money is growing.\\nU.S. Securities and Exchange CommissionOffice of Investor Education and Advocacy100 F Street, N.E.Washington, D.C. 20549-0213T oll-free: (800) SEC-0330Website: Investor.gov', metadata={'source': 'Resources/sec-guide-to-savings-and-investing.pdf', 'page': 29}),\n",
       " Document(page_content='OFFICE of INVESTO R\\nEDUCATION  and ADVOC ACY\\n1-800-732-0330\\nInvestor.gov\\nSEC Pub. 009 (06/11)', metadata={'source': 'Resources/sec-guide-to-savings-and-investing.pdf', 'page': 31})]"
      ]
     },
     "execution_count": 8,
     "metadata": {},
     "output_type": "execute_result"
    }
   ],
   "source": [
    "pages"
   ]
  },
  {
   "cell_type": "markdown",
   "id": "b59a75d1",
   "metadata": {},
   "source": [
    "## HTML"
   ]
  },
  {
   "cell_type": "code",
   "execution_count": 10,
   "id": "3c8cdddc",
   "metadata": {},
   "outputs": [],
   "source": [
    "from langchain.document_loaders import UnstructuredURLLoader\n",
    "\n",
    "urls = [\n",
    "    \"https://hbr.org/2021/08/how-to-make-smart-investments-a-beginners-guide\",\n",
    "    \"https://www.nerdwallet.com/article/investing/how-to-invest-money\",\n",
    "    \"https://www.nerdwallet.com/article/investing/investment-strategies\"\n",
    "\n",
    "]\n",
    "\n",
    "loader = UnstructuredURLLoader(urls=urls)\n",
    "\n",
    "data = loader.load()"
   ]
  },
  {
   "cell_type": "code",
   "execution_count": 14,
   "id": "b2904b50",
   "metadata": {},
   "outputs": [
    {
     "data": {
      "text/plain": [
       "Document(page_content=\"MORE LIKE THIS\\n\\nInvestingInvesting Planning & Strategy\\n\\nInvesting money in the stock market is one of the main ways to build wealth and save for long-term goals such as retirement. But figuring out the best strategy to invest that money can feel daunting. That doesn't need to be the case, though —\\xa0there are several straightforward, beginner-friendly ways to invest.\\n\\nAdvertisement\\n\\nCharles Schwab Interactive Brokers IBKR Lite Webull NerdWallet rating\\xa0 NerdWallet's ratings are determined by our editorial team. The scoring formula for online brokers and robo-advisors takes into account over 15 factors, including account fees and minimums, investment choices, customer support and mobile app capabilities. 4.9 /5 NerdWallet rating\\xa0 NerdWallet's ratings are determined by our editorial team. The scoring formula for online brokers and robo-advisors takes into account over 15 factors, including account fees and minimums, investment choices, customer support and mobile app capabilities. 5.0 /5 NerdWallet rating\\xa0 NerdWallet's ratings are determined by our editorial team. The scoring formula for online brokers and robo-advisors takes into account over 15 factors, including account fees and minimums, investment choices, customer support and mobile app capabilities. 4.7 /5 Fees\\xa0 $0 per trade Fees\\xa0 $0 per trade Fees\\xa0 $0 per trade Account minimum\\xa0 $0 Account minimum\\xa0 $0 Account minimum\\xa0 $0 Promotion\\xa0 None no promotion available at this time Promotion\\xa0 None no promotion available at this time Promotion\\xa0 Get up to 12 free fractional shares (valued up to $3,000) when you open and fund an account with Webull. Learn More Learn More Learn More\\n\\nInvesting money is personal\\n\\nEveryone has a unique financial situation. The best way to invest depends on your personal preferences along with your current and future financial circumstances.\\n\\nHere's a five-step process that can help you figure out how to invest your money right now:\\n\\nIdentify your financial goal and when you want to achieve that goal.\\n\\nDecide whether you want to manage your money yourself or work with a service that does it for you.\\n\\nPick the type of investment account you'll use.\\n\\nOpen an account.\\n\\nChoose your investments.\\n\\nAnd here are the details on how to put your cash to work in the right way, right away.\\n\\n» Ready to start investing? Read about the best investments right now\\n\\n1. Give your money a goal\\n\\nFiguring out how to invest money starts with determining your investing goals, when you need or want to achieve them and your comfort level with risk for each goal.\\n\\nLong-term goals: These goals are at least five years away. One common goal is retirement, but you may have others as well: Do you want a down payment on a house or college tuition? To purchase your dream vacation home or go on an anniversary trip in 10 years?\\n\\nShort-term goals: These goals are less than five years away. This is next summer's vacation, a house you want to buy next year, an emergency fund or your holiday piggy bank. Money for short-term goals generally shouldn't be invested at all. If you need the money you're saving in under five years, check out our guide to how to invest money for short-term goals.\\n\\nIn this article, we're largely focusing on investing for long-term goals. We'll also touch on how to invest with no specific goal in mind. After all, the aim to grow your money is a fine goal by itself.\\n\\n» Curious about buying stocks? Learn how to invest in the stock market.\\n\\n2. Decide how much help you want\\n\\nOnce you know your goals, you can dive into the specifics about how to invest (from picking the type of account to the best place to open an account to choosing investment vehicles). But if the DIY route doesn't sound like it'll be your cup of tea, no worries.\\n\\nMany savers prefer having someone invest their money for them. And while that used to be a pricey proposition, nowadays you may find it's surprisingly affordable to hire professional help thanks to the advent of automated portfolio management services, a.k.a. robo-advisors.\\n\\nThese online advisors use computer algorithms and advanced software to build and manage a client’s investment portfolio, offering everything from automatic rebalancing to tax optimization and even access to human help when you need it.\\n\\n» Learn more: What is a robo-advisor?\\n\\nIf you'd rather do it yourself, continue reading — we'll take you through the steps.\\n\\n3. Pick an investment account\\n\\nTo buy most types of investments, including stocks and bonds, you'll need an investment account. Just as there are a number of bank accounts for different purposes — checking, savings, money market, certificates of deposit — there are a handful of investment accounts to know about.\\n\\nSome accounts offer tax advantages if you're investing for a specific purpose, like retirement. Keep in mind that you may be taxed or penalized if you pull your money out early, or for a reason not considered qualified by the plan rules. Other accounts are general purpose and should be used for goals not related to retirement — that dream vacation home, the boat to go with it or simply a vacation, period.\\n\\nHere's a list of some of the most popular investing accounts:\\n\\nIf you're investing for retirement:\\n\\n401(k): You might already have a 401(k), which is offered by many employers and takes contributions right from your paycheck. Many companies will match your contributions, up to a limit — if yours does, you should contribute at least enough to earn that match before investing elsewhere.\\n\\nTraditional or Roth IRA: If you're already contributing to a 401(k) or don't have one, you can open an individual retirement account. In a traditional IRA, your contributions are tax-deductible but distributions in retirement are taxed as ordinary income. A Roth IRA is a cousin of the traditional version, with the opposite tax treatment: Contributions are made after-tax and do not offer upfront tax-deductibility, but money grows tax-free and distributions in retirement are not taxed. There are also retirement accounts specifically designed for self-employed people.\\n\\n» View our roundup of the best IRA providers\\n\\nIf you're investing for another goal:\\n\\nTaxable account: Sometimes called brokerage or nonqualified accounts, these are flexible investment accounts not earmarked for any specific purpose. Unlike retirement accounts, there are no rules on contribution amounts, and you can take money out at any time. These accounts don't have tax deductibility, but if you're saving for retirement and you've maxed out the above options, you can continue saving in a taxable account.\\n\\nCollege savings accounts: Like retirement accounts, these offer tax perks for saving for college. A 529 account and a Coverdell education savings account are commonly used for college savings.\\n\\nYou can open many types of non-retirement accounts at an online broker.\\n\\n» View our roundup of the best online brokers\\n\\n4. Open your account\\n\\nNow that you know what kind of account you want, you need to choose an account provider. There are two major options:\\n\\nAn online broker will allow you to self-manage your account, buying and selling a variety of investments, including stocks, bonds, funds and more complex instruments. An account at an online broker is a good choice for investors who want a large selection of investment options or who prefer to be hands-on with account management. Here's how to open a brokerage account.\\n\\nA robo-advisor in a portfolio management company will use computers to do much of the work for you, building and managing a portfolio based on your risk tolerance and goals. You'll pay an annual management fee for the service, generally around 0.25% to 0.50%. Robo-advisors often use funds, so they're generally not a good choice if you're interested in individual stocks or bonds. But they can be ideal for investors who prefer to be hands off.\\n\\nDon't worry if you're just getting started. Often you can open an account with no initial deposit. (See our lineup of best brokers for beginning investors.) Of course, you're not investing until you actually add money to the account, something you'll want to do regularly for the best results. You can set up automatic transfers from your checking account to your investment account, or even directly from your paycheck if your employer allows that.\\n\\n» Curious about buying stocks? Learn how to invest in the stock market.\\n\\nNerd out on investing news\\n\\nSubscribe to our monthly investing newsletter for our nerdy take on the stock market.\\n\\nSIGN UP\\n\\n5. Choose investments that match your tolerance for risk\\n\\nFiguring out how to invest money involves asking where you should invest money. The answer will depend on your goals and willingness to take on more risk in exchange for higher potential investment rewards. Common investments include:\\n\\nStocks: Individual shares (piece of ownership) of companies you believe will increase in value. Learn more about stocks.\\n\\nBonds: Bonds allow a company or government to borrow your money to fund a project or refinance other debt. Bonds are considered fixed-income investments and typically make regular interest payments to investors. The principal is then returned on a set maturity date. Learn more about bonds.\\n\\nMutual funds: Investing your money in funds — like mutual funds, index funds or exchange-traded funds (ETFs)— allows you to purchase many stocks, bonds or other investments all at once. Mutual funds build instant diversification by pooling investor money and using it to buy a basket of investments that align with the fund's stated goal. Funds may be actively managed, with a professional manager selecting the investments used, or they may track an index. An S&P 500 index fund, for example, will hold around 500 of the largest companies in the United States. Learn more about mutual funds.\\n\\nReal estate: Real estate is a way to diversify your investment portfolio outside of the traditional mix of stocks and bonds. It doesn't necessarily mean buying a home or becoming a landlord — you can invest in REITs, which are like mutual funds for real estate, or through online real estate investing platforms, which pool investor money.\\n\\nIf you have a high risk tolerance, a long time horizon and can stomach volatility, you may want a portfolio that contains mostly stocks or stock funds. If you have a low risk tolerance, you may want a portfolio that has more bonds, since these tend to be more stable and less volatile.\\n\\nYour goals are important in shaping your portfolio, too. For long-term goals, your portfolio can be more aggressive and take more risks — potentially leading to higher returns — so you may opt to own more stocks than bonds.\\n\\nWhichever route you choose, the best way to reach your long-term financial goals and minimize risk is to spread your money across a range of asset classes. That’s called asset diversification, and the proportion of dollars you put into each asset class is called asset allocation. Then within each asset class, you’ll also want to diversify into multiple investments.\\n\\nAsset diversification means owning a range of assets across a variety of industries, company sizes and geographic areas. It's important because different asset classes — stocks, bonds, ETFs, mutual funds, real estate — respond to the market differently. When one is up, another can be down. So deciding on the right mix will help your portfolio weather changing markets on the journey toward achieving your goals.\\n\\nAsset allocation is the percentage of dollars you put into each asset class. For example, let’s say based on your risk tolerance, time horizon and goals you’ve decided to allocate 90 percent of your money into stocks and 10 percent into bonds. Your asset allocation is 90/10. Within the 90 percent invested into stocks, you should diversify between large-cap stocks, mid-cap stocks, international stocks or value stocks.\\n\\nBuilding a diversified portfolio of individual stocks and bonds takes time and expertise, so most investors benefit from fund investing. Index funds and ETFs are typically low-cost and easy to manage, as it may take only four or five funds to build adequate diversification.\\n\\nMore resources on investing\\n\\nNow you know the investing basics, and you have some money you want to invest. Feel like you need more information? The below posts dive deeper into what's covered above.\\n\\nSee how to invest in index funds.\\n\\nTips on building a simple investment portfolio.\\n\\nRead our guide to investing 101.\\n\\nSee how to invest in bonds.\\n\\nRead about five ways to invest in real estate.\\n\\nCheck out the best investments this year.\\n\\nLearn how to choose a financial advisor if you'd like help balancing financial goals.\\n\\nUse our inflation calculator to understand the relationship between inflation and investing.\\n\\nAbout the authors\\n\\nTiffany Lam-Balfour\\n\\nFollow\\n\\nYou’re following Tiffany Lam-Balfour\\n\\nVisit your My NerdWallet Settings page to see all the writers you're following.\\n\\nnewFollow for more nerdy know-howKeep up with your favorite financial topics on NerdWallet.\\n\\nTiffany Lam-Balfour is a former investing writer and spokesperson at NerdWallet. Previously, she was a senior financial advisor and sales manager at Merrill Lynch. Her work has been featured in MSN, MarketWatch, Entrepreneur, Nasdaq and Yahoo Finance. Tiffany earned a finance and management degree from The Wharton School of the University of Pennsylvania. Read more\\n\\nJames Royal, Ph.D.\\n\\nFollow\\n\\nYou’re following James Royal, Ph.D.\\n\\nVisit your My NerdWallet Settings page to see all the writers you're following.\\n\\nJames F. Royal, Ph.D., is a former NerdWallet writer. His work has also\\r\\nbeen featured in the Washington Post, New York Times and the Associated\\r\\nPress. Read more\", metadata={'source': 'https://www.nerdwallet.com/article/investing/how-to-invest-money'})"
      ]
     },
     "execution_count": 14,
     "metadata": {},
     "output_type": "execute_result"
    }
   ],
   "source": [
    "data[1]"
   ]
  },
  {
   "cell_type": "code",
   "execution_count": 13,
   "id": "01307e2f",
   "metadata": {},
   "outputs": [
    {
     "data": {
      "text/plain": [
       "3"
      ]
     },
     "execution_count": 13,
     "metadata": {},
     "output_type": "execute_result"
    }
   ],
   "source": [
    "len(data)"
   ]
  },
  {
   "cell_type": "code",
   "execution_count": null,
   "id": "ec95b8f4",
   "metadata": {},
   "outputs": [],
   "source": []
  },
  {
   "cell_type": "code",
   "execution_count": 107,
   "id": "13c31f4f",
   "metadata": {},
   "outputs": [],
   "source": [
    "\n",
    "\n",
    "\n",
    "class Scraper:\n",
    "    \"\"\"\n",
    "    Scraper class to extract the content from the links\n",
    "    \"\"\"\n",
    "    def __init__(self, urls):\n",
    "        self.user_agent = \"Mozilla/5.0 (Windows NT 10.0; Win64; x64) AppleWebKit/537.36 (KHTML, like Gecko) Chrome/119.0.0.0 Safari/537.36 Edg/119.0.0.0\"\n",
    "        \"\"\"\n",
    "        Initialize the Scraper class.\n",
    "        Args:\n",
    "            urls:\n",
    "        \"\"\"\n",
    "        self.urls = urls\n",
    "        self.session = requests.Session()\n",
    "        self.session.headers.update({\n",
    "            \"User-Agent\": self.user_agent\n",
    "        })\n",
    "\n",
    "    def run(self):\n",
    "        \"\"\"\n",
    "        Extracts the content from the links\n",
    "        \"\"\"\n",
    "        partial_extract = partial(self.extract_data_from_link, session=self.session)\n",
    "        with ThreadPoolExecutor(max_workers=20) as executor:\n",
    "            contents = executor.map(partial_extract, self.urls)\n",
    "        res = [content for content in contents if content['raw_content'] is not None]\n",
    "        return res\n",
    "\n",
    "    def extract_data_from_link(self, link, session):\n",
    "        \"\"\"\n",
    "        Extracts the data from the link\n",
    "        \"\"\"\n",
    "        content = \"\"\n",
    "        try:\n",
    "            if link.endswith(\".pdf\"):\n",
    "                print('hhhhh', link)\n",
    "                content = self.scrape_pdf_with_pymupdf(link)\n",
    "            elif \"arxiv.org\" in link:\n",
    "                doc_num = link.split(\"/\")[-1]\n",
    "                content = self.scrape_pdf_with_arxiv(doc_num)\n",
    "            elif link:\n",
    "                content = self.scrape_text_with_bs(link, session)\n",
    "\n",
    "            if len(content) < 100:\n",
    "                return {'url': link, 'raw_content': None}\n",
    "            return {'url': link, 'raw_content': content}\n",
    "        \n",
    "        except Exception as e:\n",
    "            return {'url': link, 'raw_content': None}\n",
    "\n",
    "    def scrape_text_with_bs(self, link, session):\n",
    "        response = session.get(link, timeout=4)\n",
    "        soup = BeautifulSoup(response.content, 'lxml', from_encoding=response.encoding)\n",
    "\n",
    "        for script_or_style in soup([\"script\", \"style\"]):\n",
    "            script_or_style.extract()\n",
    "\n",
    "        raw_content = self.get_content_from_url(soup)\n",
    "        lines = (line.strip() for line in raw_content.splitlines())\n",
    "        chunks = (phrase.strip() for line in lines for phrase in line.split(\"  \"))\n",
    "        content = \"\\n\".join(chunk for chunk in chunks if chunk)\n",
    "        return content\n",
    "\n",
    "    def scrape_pdf_with_pymupdf(self, url) -> str:\n",
    "        \"\"\"Scrape a pdf with pymupdf\n",
    "\n",
    "        Args:\n",
    "            url (str): The url of the pdf to scrape\n",
    "\n",
    "        Returns:\n",
    "            str: The text scraped from the pdf\n",
    "        \"\"\"\n",
    "        \n",
    "        print('haha ', url)\n",
    "        loader = PyMuPDFLoader(url)\n",
    "        doc = loader.load()\n",
    "        \n",
    "        print('DOCCCC', doc)\n",
    "        return str(doc)\n",
    "\n",
    "    def scrape_pdf_with_arxiv(self, query) -> str:\n",
    "        \"\"\"Scrape a pdf with arxiv\n",
    "        default document length of 70000 about ~15 pages or None for no limit\n",
    "\n",
    "        Args:\n",
    "            query (str): The query to search for\n",
    "\n",
    "        Returns:\n",
    "            str: The text scraped from the pdf\n",
    "        \"\"\"\n",
    "        \n",
    "        print('yo')\n",
    "        retriever = ArxivRetriever(load_max_docs=2, doc_content_chars_max=None)\n",
    "        docs = retriever.get_relevant_documents(query=query)\n",
    "        return docs[0].page_content\n",
    "\n",
    "    def get_content_from_url(self, soup):\n",
    "        \"\"\"Get the text from the soup\n",
    "\n",
    "        Args:\n",
    "            soup (BeautifulSoup): The soup to get the text from\n",
    "\n",
    "        Returns:\n",
    "            str: The text from the soup\n",
    "        \"\"\"\n",
    "        text = \"\"\n",
    "        tags = ['p', 'h1', 'h2', 'h3', 'h4', 'h5']\n",
    "        for element in soup.find_all(tags):  # Find all the <p> elements\n",
    "            text += element.text + \"\\n\"\n",
    "        return text"
   ]
  },
  {
   "cell_type": "code",
   "execution_count": 109,
   "id": "ddffeba5",
   "metadata": {},
   "outputs": [
    {
     "name": "stdout",
     "output_type": "stream",
     "text": [
      "hhhhh https://arxiv.org/pdf/2311.12755.pdf\n",
      "haha  https://arxiv.org/pdf/2311.12755.pdf\n",
      "[]\n"
     ]
    }
   ],
   "source": [
    "scraping = Scraper(['https://arxiv.org/pdf/2311.12755.pdf'])\n",
    "data = scraping.run()\n",
    "print(data)\n"
   ]
  },
  {
   "cell_type": "code",
   "execution_count": 100,
   "id": "24a29898",
   "metadata": {},
   "outputs": [
    {
     "data": {
      "text/plain": [
       "2"
      ]
     },
     "execution_count": 100,
     "metadata": {},
     "output_type": "execute_result"
    }
   ],
   "source": [
    "len(data)"
   ]
  },
  {
   "cell_type": "code",
   "execution_count": 97,
   "id": "79ea4dbf",
   "metadata": {},
   "outputs": [
    {
     "data": {
      "text/plain": [
       "{'url': 'https://hbr.org/2021/08/how-to-make-smart-investments-a-beginners-guide',\n",
       " 'raw_content': 'Your Cart\\nMaking Smart Investments: A Beginner’s Guide\\nIf you make smart decisions and invest in the right places, you can reduce the risk factor, increase the reward factor, and generate meaningful returns.\\xa0Here are a few questions to consider as you get started.\\nWhere your work meets your life. See more from Ascend here.\\nAre you a saver or spender?\\nIf you went with the former, then you’re in the majority. According to a 2019 Charles Schwab survey, around 59% of Americans said they considered themselves\\xa0savers. Compare that to more recent findings, however, and you’ll see\\xa0that\\xa063% of respondents\\xa0in a similar demographic are currently living paycheck to paycheck.\\nClearly, there’s a disconnect between the financial goals we are setting and the steps we are taking to realize them.\\nMany of us are taught from a young age that saving is the most direct path to building wealth and achieving financial freedom. But this is a myth. While saving is key in the pursuit of both goals, making smart investments with your money makes them much more attainable.\\nThe fear that stops most people from investing is a reasonable one: financial loss as opposed to financial gain. When we work hard and are disciplined enough to forgo consumption and save, the idea of losing our hard-earned dollars understandably makes us uncomfortable. As a result, we tuck our money away in an FDIC-insured bank account.\\nHere’s the problem: The money we put into our accounts is almost guaranteed to lose value. The low interest rates that savings accounts offer can’t even keep pace with inflation, meaning our money’s purchasing power decreases the longer we save.\\nThere is some good news, though. If you make smart decisions and invest in the right places, you can reduce the risk factor, increase the reward factor, and generate meaningful returns without feeling like you’d be better off in Vegas.\\nHere are a few questions to consider as you get started.\\nWhy should you invest?\\nSaving versus investing is an oft-heard debate in financial circles. But they’re two sides of the same coin.\\nWhen building wealth, saving is an indispensable part of the financial toolbox — not because it produces wealth on its own, but because it provides the capital necessary\\xa0to\\xa0invest. At a minimum, investing allows you to keep pace with cost-of-living increases created by inflation.\\xa0At a maximum, the major benefit of a long-term investment strategy is the possibility of compounding interest, or growth earned on growth.\\nHow much should you save vs. invest?\\nGiven that each investor enters the market because of unique circumstances, the best answer to how much you should save is “as much as possible.” As a guideline,\\xa0saving 20% of your income is the right starting place. More is always better, but I believe that 20% allows you to accumulate a meaningful amount of capital throughout your career.\\nInitially, you’ll want to allocate these savings to building an emergency fund equal to roughly three to six months’ worth of ordinary expenses. Once you’ve socked away these emergency savings, invest additional funds that aren’t being put toward specific near-term expenses.\\nInvested wisely — and over a long period — this capital can multiply.\\nHow do investments work?\\nUnderstanding the market:\\xa0In the finance world, the market is a term used to describe the place where you can buy and sell shares of stocks, bonds, and other assets. To enter the market, don’t use your bank account.\\nYou need to open an investment account, like a brokerage account, which you fund with cash that you can then use to buy stocks, bonds, and other investable assets. Big-name firms like Schwab or Fidelity will let you do this similarly to how you’d open a bank account.\\nStocks vs. bonds:\\xa0Publicly traded companies use the market to raise money for their operations, growth, or expansion by issuing stocks (small pieces of ownership of the company) or bonds (debt).\\nWhen a company issues bonds on the market, they are basically asking investors for loans to raise money for their organization. Investors buy the bonds, then the company pays them back, plus a percentage of interest, over time.\\nStocks, on the other hand, are small pieces of equity in a company. When a company goes from private to public, its stock can be publicly bought and sold on the market — meaning it is no longer privately owned. A stock price is generally reflective of the value of the company, but the actual price is determined by what market participants are willing to pay or accept on any given day.\\nOther Types of Investments\\nYou’re not limited to stocks and bonds, though. You can buy commodities, precious metals, investment real estate, or foreign stocks and bonds in the market. There are also mutual funds and exchange-traded funds (ETFs), which are collections of stocks, bonds, or other assets that you can purchase shares in; one share of a mutual fund reflects a tiny percentage ownership of a number of assets. Regardless of what type of investment you choose, you buy shares of it through your brokerage (or other) account.\\nStocks are considered riskier investments than bonds because of this price volatility. If bad news comes out about a company, people may want to pay less to buy shares than they did before, which will lower the stock price. If you bought the stock for a large sum of money, you risk losing that money if the stock price drops.\\nStocks are also riskier because when companies go bankrupt, bondholders receive their money back — stockholders have no such guarantee.\\nMaking (and losing) money:\\xa0In the market, you make or lose money depending on the purchase and sale price of whatever you buy. If you buy a stock at $10 and sell it at $15, you make $5. If you buy at $15 and sell at $10, you lose $5. Gains and losses are only “realized” or counted when you make the sale of the asset — so the stock you bought at $10 could drop to $6, but you’ll only “lose” the $4 if you sell the stock at $6. Maybe you wait a year and then sell the stock when it’s up to $11, thereby gaining $1 per share.\\nAre you investing reasonably?\\nNow that you understand how investing works, it’s time to think about where you want to put your money. As a rule of thumb, remember that the best risk an investor can take is a calculated one.\\nBut how can you be calculated? How can you distinguish a smart investment from a risky investment? Truthfully, “smart” and “risky” are relative to every investor. Your circumstances (e.g., age, amount of debt, family status) or\\xa0risk tolerance\\xa0can help you identify where you fall on the risk spectrum.\\nIn general, younger investors with many years before retirement should have riskier portfolios. That longer time horizon gives investors more years to weather the ups and downs of the market — and during their working years, investors are ideally just adding to their investment accounts rather than taking money out.\\nSomeone at or near retirement, however, is much more vulnerable to changes in the market. If you use an investment account to cover your living expenses, you could be forced to take that money out of the account during a downturn in the market, which would not only shrink your portfolio but also could ensure significant investment losses.\\nA higher-risk portfolio would likely encompass a significant number of stocks and fewer (if any) bonds. As young investors grow older and need to reduce the risk in their portfolios, they should reduce their investment in stocks and increase their investment in bonds.\\nThe ebb and flow of life will influence your investments more than you may realize. Being realistic about your current financial prospects will keep you clearheaded about where to invest your money.\\nAre you building wealth that lasts?\\nLarger-than-average returns almost always require you to take larger-than-average risks, and there are no free lunches in investing.\\xa0As you work to build wealth and secure your financial future, stay focused on three long-term investment musts:\\nBuild a “just in case” nest egg:\\xa0Nearly one-quarter of Americans\\xa0have no emergency savings. Don’t let yourself get caught in that trap. Retirement savings accounts are critical savings vehicles, but tapping into them before retirement typically brings steep tax penalties. To prevent this from happening, build an emergency fund — as described earlier — that amounts to roughly three to six months of your living expenses.\\nOne of the most significant things you can do for your financial future is to make saving automatic — that is, have your bank automatically direct a portion of your paycheck into an account specifically for saving. This ensures you save consistently instead of forcing you to make an active choice to set money aside.\\nThis sum should stay somewhere with low risk like a bank account, and it should remain\\xa0liquid (i.e., cash or something else that’s always available to you)\\xa0to ensure you can access it if you ever need it. Once you’ve established an emergency fund, invest future savings based on your risk tolerance.\\nSteer savings in the right direction:\\xa0Generally, you’ll want to start by deciding what percentage of your assets you want to be in riskier assets (stocks/shares) and what percentage you want in safer assets (cash and bonds). This depends on your risk tolerance, as outlined above. Somebody young and working should be almost all in stocks, while somebody near retirement age should have a healthier allocation to bonds.\\nIf you’re just starting to invest, I believe you should look at mutual funds or ETFs (i.e., a collection of stocks, bonds, and other investment vehicles) rather than individual stocks (i.e., ownership in only one company) because it will be easier to create a diversified account using funds if the account in question is small.\\nDiversification (owning a variety of assets) is important because it lessens the chance that your whole portfolio will lose value in a market downturn. You’ll want to find funds with solid track records and reasonable fees; plenty of popular press and dedicated research sites like Morningstar or Yahoo Finance will provide this information.\\nWhen you’re ready to start investing in individual stocks, you’ll want to do the same kind of research on any companies you consider: Do they have good track records? Do they have good management? Is the stock price reasonable? Does it add diversification to your portfolio, or is it similar to what you already hold? Spend some time on this step to ensure you’re making informed investment choices.\\nMake variety a theme of your investments:\\xa0Diversifying across your entire investment “portfolio” (i.e., all of the investments you hold)\\xa0is critical to building wealth because it allows you to manage risk more effectively. Stocks are one of the most talked-about investments, but you wouldn’t want to tie your entire financial future to the success of a single company — or even any broader market.\\nDepending on your financial circumstances and risk tolerance, you might want to consider investing in private equity, venture capital, precious metals, commodities, and real estate, all of which are available on the market. All these investments can be effective means to achieve portfolio diversification and manage risk.\\nWhy? Because they rely on different underlying drivers. This means they generally operate in ways that are uncorrelated with each other and with more traditional investments like stocks and bonds, so they may be going up when stocks are going down.\\nA well-constructed portfolio should include several different types of assets (meaning stocks, bonds, etc.) that do not move in tandem. This reduces the volatility of a portfolio without necessarily lowering its return potential.\\nWhile these steps alone will not guarantee you complete financial independence, I believe they’re a great starting point. They can help you amass savings, achieve portfolio diversification, and empower you to start building wealth for a better financial future.\\nPartner Center'}"
      ]
     },
     "execution_count": 97,
     "metadata": {},
     "output_type": "execute_result"
    }
   ],
   "source": [
    "data[0]"
   ]
  },
  {
   "cell_type": "code",
   "execution_count": 12,
   "id": "2f0fe33a",
   "metadata": {
    "scrolled": true
   },
   "outputs": [
    {
     "ename": "ValueError",
     "evalue": "Check the url of your file; returned status code 403",
     "output_type": "error",
     "traceback": [
      "\u001b[0;31m---------------------------------------------------------------------------\u001b[0m",
      "\u001b[0;31mValueError\u001b[0m                                Traceback (most recent call last)",
      "Cell \u001b[0;32mIn[12], line 1\u001b[0m\n\u001b[0;32m----> 1\u001b[0m loader \u001b[38;5;241m=\u001b[39m \u001b[43mPyMuPDFLoader\u001b[49m\u001b[43m(\u001b[49m\u001b[38;5;124;43m\"\u001b[39;49m\u001b[38;5;124;43mhttps://www.sec.gov/investor/pubs/sec-guide-to-savings-and-investing.pdf\u001b[39;49m\u001b[38;5;124;43m\"\u001b[39;49m\u001b[43m)\u001b[49m\n\u001b[1;32m      2\u001b[0m doc \u001b[38;5;241m=\u001b[39m loader\u001b[38;5;241m.\u001b[39mload()\n\u001b[1;32m      4\u001b[0m \u001b[38;5;28mprint\u001b[39m(\u001b[38;5;124m'\u001b[39m\u001b[38;5;124mDOCCCC\u001b[39m\u001b[38;5;124m'\u001b[39m, doc)\n",
      "File \u001b[0;32m~/anaconda3/envs/okprofessor/lib/python3.9/site-packages/langchain/document_loaders/pdf.py:344\u001b[0m, in \u001b[0;36mPyMuPDFLoader.__init__\u001b[0;34m(self, file_path, headers, extract_images, **kwargs)\u001b[0m\n\u001b[1;32m    339\u001b[0m \u001b[38;5;28;01mexcept\u001b[39;00m \u001b[38;5;167;01mImportError\u001b[39;00m:\n\u001b[1;32m    340\u001b[0m     \u001b[38;5;28;01mraise\u001b[39;00m \u001b[38;5;167;01mImportError\u001b[39;00m(\n\u001b[1;32m    341\u001b[0m         \u001b[38;5;124m\"\u001b[39m\u001b[38;5;124m`PyMuPDF` package not found, please install it with \u001b[39m\u001b[38;5;124m\"\u001b[39m\n\u001b[1;32m    342\u001b[0m         \u001b[38;5;124m\"\u001b[39m\u001b[38;5;124m`pip install pymupdf`\u001b[39m\u001b[38;5;124m\"\u001b[39m\n\u001b[1;32m    343\u001b[0m     )\n\u001b[0;32m--> 344\u001b[0m \u001b[38;5;28;43msuper\u001b[39;49m\u001b[43m(\u001b[49m\u001b[43m)\u001b[49m\u001b[38;5;241;43m.\u001b[39;49m\u001b[38;5;21;43m__init__\u001b[39;49m\u001b[43m(\u001b[49m\u001b[43mfile_path\u001b[49m\u001b[43m,\u001b[49m\u001b[43m \u001b[49m\u001b[43mheaders\u001b[49m\u001b[38;5;241;43m=\u001b[39;49m\u001b[43mheaders\u001b[49m\u001b[43m)\u001b[49m\n\u001b[1;32m    345\u001b[0m \u001b[38;5;28mself\u001b[39m\u001b[38;5;241m.\u001b[39mextract_images \u001b[38;5;241m=\u001b[39m extract_images\n\u001b[1;32m    346\u001b[0m \u001b[38;5;28mself\u001b[39m\u001b[38;5;241m.\u001b[39mtext_kwargs \u001b[38;5;241m=\u001b[39m kwargs\n",
      "File \u001b[0;32m~/anaconda3/envs/okprofessor/lib/python3.9/site-packages/langchain/document_loaders/pdf.py:91\u001b[0m, in \u001b[0;36mBasePDFLoader.__init__\u001b[0;34m(self, file_path, headers)\u001b[0m\n\u001b[1;32m     89\u001b[0m r \u001b[38;5;241m=\u001b[39m requests\u001b[38;5;241m.\u001b[39mget(\u001b[38;5;28mself\u001b[39m\u001b[38;5;241m.\u001b[39mfile_path, headers\u001b[38;5;241m=\u001b[39m\u001b[38;5;28mself\u001b[39m\u001b[38;5;241m.\u001b[39mheaders)\n\u001b[1;32m     90\u001b[0m \u001b[38;5;28;01mif\u001b[39;00m r\u001b[38;5;241m.\u001b[39mstatus_code \u001b[38;5;241m!=\u001b[39m \u001b[38;5;241m200\u001b[39m:\n\u001b[0;32m---> 91\u001b[0m     \u001b[38;5;28;01mraise\u001b[39;00m \u001b[38;5;167;01mValueError\u001b[39;00m(\n\u001b[1;32m     92\u001b[0m         \u001b[38;5;124m\"\u001b[39m\u001b[38;5;124mCheck the url of your file; returned status code \u001b[39m\u001b[38;5;132;01m%s\u001b[39;00m\u001b[38;5;124m\"\u001b[39m\n\u001b[1;32m     93\u001b[0m         \u001b[38;5;241m%\u001b[39m r\u001b[38;5;241m.\u001b[39mstatus_code\n\u001b[1;32m     94\u001b[0m     )\n\u001b[1;32m     96\u001b[0m \u001b[38;5;28;01mwith\u001b[39;00m \u001b[38;5;28mopen\u001b[39m(temp_pdf, mode\u001b[38;5;241m=\u001b[39m\u001b[38;5;124m\"\u001b[39m\u001b[38;5;124mwb\u001b[39m\u001b[38;5;124m\"\u001b[39m) \u001b[38;5;28;01mas\u001b[39;00m f:\n\u001b[1;32m     97\u001b[0m     f\u001b[38;5;241m.\u001b[39mwrite(r\u001b[38;5;241m.\u001b[39mcontent)\n",
      "\u001b[0;31mValueError\u001b[0m: Check the url of your file; returned status code 403"
     ]
    }
   ],
   "source": [
    "loader = PyMuPDFLoader(\"https://www.sec.gov/investor/pubs/sec-guide-to-savings-and-investing.pdf\")\n",
    "doc = loader.load()\n",
    "\n",
    "print('DOCCCC', doc)\n"
   ]
  },
  {
   "cell_type": "code",
   "execution_count": 114,
   "id": "dc49b838",
   "metadata": {},
   "outputs": [
    {
     "data": {
      "text/plain": [
       "36"
      ]
     },
     "execution_count": 114,
     "metadata": {},
     "output_type": "execute_result"
    }
   ],
   "source": [
    "len(doc)"
   ]
  },
  {
   "cell_type": "code",
   "execution_count": null,
   "id": "b6986f2f",
   "metadata": {},
   "outputs": [],
   "source": []
  },
  {
   "cell_type": "code",
   "execution_count": null,
   "id": "a631185a",
   "metadata": {},
   "outputs": [],
   "source": []
  },
  {
   "cell_type": "code",
   "execution_count": 24,
   "id": "021c69a1",
   "metadata": {},
   "outputs": [],
   "source": [
    "from concurrent.futures.thread import ThreadPoolExecutor\n",
    "from langchain.document_loaders import PyMuPDFLoader\n",
    "from langchain.retrievers import ArxivRetriever\n",
    "from functools import partial\n",
    "import requests\n",
    "from bs4 import BeautifulSoup\n",
    "\n",
    "class Scrape:\n",
    "    \"\"\"Scraper class to scrape contents\n",
    "    \"\"\"\n",
    "    def __init__(self, urls):\n",
    "        self. urls = urls\n",
    "        self.session = requests.Session()\n",
    "        self.session.headers.update({\n",
    "            \"User-agent\": \"Mozilla/5.0 (Windows NT 10.0; Win64; x64) AppleWebKit/537.36 (KHTML, like Gecko) Chrome/119.0.0.0 Safari/537.36 Edg/119.0.0.0\"\n",
    "        })\n",
    "        \n",
    "        \n",
    "    \n",
    "    def scrape_text_with_bs(self, link, session) -> str:\n",
    "        \"\"\"Scraping text using beautifulSoup\n",
    "        \"\"\"\n",
    "        \n",
    "        response = session.get(link, timeout=4)\n",
    "        soup = BeautifulSoup(response.content, 'lxml', from_encoding=response.encoding)\n",
    "\n",
    "        \n",
    "        for script_or_style in soup([\"script\", \"style\"]):\n",
    "            script_or_style.extract() #remove all the styles and scripts\n",
    "            \n",
    "        \n",
    "        raw_content = self.get_content_from_url(soup)\n",
    "        \n",
    "        lines = (line.strip() for line in raw_content.splitlines())\n",
    "        chunks = (phrase.strip() for line in lines for phrase in line.split(\"  \"))\n",
    "        content = \"\\n\".join(chunk for chunk in chunks if chunk)\n",
    "        return content\n",
    "\n",
    "        \n",
    "        #print(raw_content)\n",
    "    \n",
    "    def get_content_from_url(self, soup):\n",
    "        \"\"\"Scrape the text from p,and h tags\n",
    "        \"\"\"\n",
    "        \n",
    "        text = \"\"\n",
    "        tags = ['p', 'h1', 'h2', 'h3', 'h4', 'h5']\n",
    "        for element in soup.find_all(tags):  # Find all the <p> elements\n",
    "            \n",
    "            print(f'{element.text} \\n')\n",
    "            text += element.text + \"\\n\"\n",
    "        return text\n",
    "        \n",
    "        \n",
    "        \n",
    "    def extract_data_from_link(self, link, session):\n",
    "        \"\"\"\n",
    "        Extracts the data from the link\n",
    "        \"\"\"\n",
    "        content = \"\"\n",
    "        try:\n",
    "            if link.endswith(\".pdf\"):\n",
    "                content = self.scrape_pdf_with_pymupdf(link)\n",
    "                \n",
    "                \n",
    "            elif \"arxiv.org\" in link:\n",
    "                doc_num = link.split(\"/\")[-1]\n",
    "                content = self.scrape_pdf_with_arxiv(doc_num)\n",
    "            elif link:\n",
    "                content = self.scrape_text_with_bs(link, session)\n",
    "\n",
    "            if len(content) < 100:\n",
    "                return {'url': link, 'raw_content': None}\n",
    "            return {'url': link, 'raw_content': content}\n",
    "        except Exception as e:\n",
    "            return {'url': link, 'raw_content': None}\n",
    "\n",
    "    \n",
    "    \n",
    "    def scrape_pdf_with_pymupdf(self, url) -> str:\n",
    "        \"\"\"Scrape a pdf with pymupdf\n",
    "\n",
    "        Args:\n",
    "            url (str): The url of the pdf to scrape\n",
    "\n",
    "        Returns:\n",
    "            str: The text scraped from the pdf\n",
    "        \"\"\"\n",
    "        \n",
    "        print('exec')\n",
    "        try:\n",
    "            \n",
    "            loader = PyMuPDFLoader(url)\n",
    "            doc = loader.load()\n",
    "            return str(doc)\n",
    "        except Exception as e:\n",
    "            print('Error', e)\n",
    "\n",
    "    def scrape_pdf_with_arxiv(self, query) -> str:\n",
    "        \"\"\"Scrape a pdf with arxiv\n",
    "        default document length of 70000 about ~15 pages or None for no limit\n",
    "\n",
    "        Args:\n",
    "            query (str): The query to search for\n",
    "\n",
    "        Returns:\n",
    "            str: The text scraped from the pdf\n",
    "        \"\"\"\n",
    "        retriever = ArxivRetriever(load_max_docs=2, doc_content_chars_max=None)\n",
    "        docs = retriever.get_relevant_documents(query=query)\n",
    "        return docs[0].page_content\n",
    "    \n",
    "    \n",
    "        \n",
    "    def run(self):\n",
    "        \"\"\"Extracts the content from the links\n",
    "        \"\"\"\n",
    "        \n",
    "        #partial function\n",
    "        partial_extract = partial(self.extract_data_from_link, session = self.session)\n",
    "        \n",
    "        with ThreadPoolExecutor(max_workers=20) as executor:\n",
    "            contents = executor.map(partial_extract, self.urls)\n",
    "        res = [content for content in contents if content['raw_content'] is not None]\n",
    "        return res"
   ]
  },
  {
   "cell_type": "code",
   "execution_count": 25,
   "id": "5ac2ebe5",
   "metadata": {},
   "outputs": [],
   "source": [
    "scraping = Scrape(['https://www.sec.gov/investor/pubs/sec-guide-to-savings-and-investing.pdf'])"
   ]
  },
  {
   "cell_type": "code",
   "execution_count": 26,
   "id": "e8dbfb60",
   "metadata": {
    "scrolled": true
   },
   "outputs": [
    {
     "name": "stdout",
     "output_type": "stream",
     "text": [
      "exec\n",
      "Error Check the url of your file; returned status code 403\n"
     ]
    },
    {
     "data": {
      "text/plain": [
       "[]"
      ]
     },
     "execution_count": 26,
     "metadata": {},
     "output_type": "execute_result"
    }
   ],
   "source": [
    "scraping.run()"
   ]
  },
  {
   "cell_type": "code",
   "execution_count": 31,
   "id": "58a7c38c",
   "metadata": {},
   "outputs": [
    {
     "name": "stderr",
     "output_type": "stream",
     "text": [
      "/Users/cohlem/anaconda3/envs/okprofessor/lib/python3.9/genericpath.py:77: RuntimeWarning: coroutine 'main' was never awaited\n",
      "  m = tuple(map(os.fspath, m))\n",
      "RuntimeWarning: Enable tracemalloc to get the object allocation traceback\n"
     ]
    },
    {
     "ename": "RuntimeError",
     "evalue": "asyncio.run() cannot be called from a running event loop",
     "output_type": "error",
     "traceback": [
      "\u001b[0;31m---------------------------------------------------------------------------\u001b[0m",
      "\u001b[0;31mRuntimeError\u001b[0m                              Traceback (most recent call last)",
      "Cell \u001b[0;32mIn[31], line 21\u001b[0m\n\u001b[1;32m     17\u001b[0m \u001b[38;5;66;03m# Run the asynchronous program\u001b[39;00m\n\u001b[1;32m     20\u001b[0m \u001b[38;5;28;01mif\u001b[39;00m \u001b[38;5;18m__name__\u001b[39m \u001b[38;5;241m==\u001b[39m \u001b[38;5;124m'\u001b[39m\u001b[38;5;124m__main__\u001b[39m\u001b[38;5;124m'\u001b[39m:\n\u001b[0;32m---> 21\u001b[0m     \u001b[43masyncio\u001b[49m\u001b[38;5;241;43m.\u001b[39;49m\u001b[43mrun\u001b[49m\u001b[43m(\u001b[49m\u001b[43mmain\u001b[49m\u001b[43m(\u001b[49m\u001b[43m)\u001b[49m\u001b[43m)\u001b[49m\n",
      "File \u001b[0;32m~/anaconda3/envs/okprofessor/lib/python3.9/asyncio/runners.py:33\u001b[0m, in \u001b[0;36mrun\u001b[0;34m(main, debug)\u001b[0m\n\u001b[1;32m      9\u001b[0m \u001b[38;5;250m\u001b[39m\u001b[38;5;124;03m\"\"\"Execute the coroutine and return the result.\u001b[39;00m\n\u001b[1;32m     10\u001b[0m \n\u001b[1;32m     11\u001b[0m \u001b[38;5;124;03mThis function runs the passed coroutine, taking care of\u001b[39;00m\n\u001b[0;32m   (...)\u001b[0m\n\u001b[1;32m     30\u001b[0m \u001b[38;5;124;03m    asyncio.run(main())\u001b[39;00m\n\u001b[1;32m     31\u001b[0m \u001b[38;5;124;03m\"\"\"\u001b[39;00m\n\u001b[1;32m     32\u001b[0m \u001b[38;5;28;01mif\u001b[39;00m events\u001b[38;5;241m.\u001b[39m_get_running_loop() \u001b[38;5;129;01mis\u001b[39;00m \u001b[38;5;129;01mnot\u001b[39;00m \u001b[38;5;28;01mNone\u001b[39;00m:\n\u001b[0;32m---> 33\u001b[0m     \u001b[38;5;28;01mraise\u001b[39;00m \u001b[38;5;167;01mRuntimeError\u001b[39;00m(\n\u001b[1;32m     34\u001b[0m         \u001b[38;5;124m\"\u001b[39m\u001b[38;5;124masyncio.run() cannot be called from a running event loop\u001b[39m\u001b[38;5;124m\"\u001b[39m)\n\u001b[1;32m     36\u001b[0m \u001b[38;5;28;01mif\u001b[39;00m \u001b[38;5;129;01mnot\u001b[39;00m coroutines\u001b[38;5;241m.\u001b[39miscoroutine(main):\n\u001b[1;32m     37\u001b[0m     \u001b[38;5;28;01mraise\u001b[39;00m \u001b[38;5;167;01mValueError\u001b[39;00m(\u001b[38;5;124m\"\u001b[39m\u001b[38;5;124ma coroutine was expected, got \u001b[39m\u001b[38;5;132;01m{!r}\u001b[39;00m\u001b[38;5;124m\"\u001b[39m\u001b[38;5;241m.\u001b[39mformat(main))\n",
      "\u001b[0;31mRuntimeError\u001b[0m: asyncio.run() cannot be called from a running event loop"
     ]
    }
   ],
   "source": [
    "import asyncio\n",
    "\n",
    "async def task_with_delay(name, delay):\n",
    "    print(f\"Task '{name}' started\")\n",
    "    await asyncio.sleep(delay)\n",
    "    print(f\"Task '{name}' completed after {delay} seconds\")\n",
    "\n",
    "async def main():\n",
    "    # Create asynchronous tasks with different delays\n",
    "    task1 = task_with_delay(\"Task 1\", 3)\n",
    "    task2 = task_with_delay(\"Task 2\", 2)\n",
    "    task3 = task_with_delay(\"Task 3\", 1)\n",
    "\n",
    "    # Start the tasks concurrently\n",
    "    await asyncio.gather(task1, task2, task3)\n",
    "\n",
    "# Run the asynchronous program\n",
    "\n",
    "\n",
    "if __name__ == '__main__':\n",
    "    asyncio.run(main())\n"
   ]
  },
  {
   "cell_type": "code",
   "execution_count": 33,
   "id": "0fe69357",
   "metadata": {},
   "outputs": [
    {
     "ename": "RuntimeError",
     "evalue": "asyncio.run() cannot be called from a running event loop",
     "output_type": "error",
     "traceback": [
      "\u001b[0;31m---------------------------------------------------------------------------\u001b[0m",
      "\u001b[0;31mRuntimeError\u001b[0m                              Traceback (most recent call last)",
      "Cell \u001b[0;32mIn[33], line 8\u001b[0m\n\u001b[1;32m      6\u001b[0m         \u001b[38;5;28mprint\u001b[39m (\u001b[38;5;124m\"\u001b[39m\u001b[38;5;124mHello\u001b[39m\u001b[38;5;124m\"\u001b[39m)  \n\u001b[1;32m      7\u001b[0m     \u001b[38;5;28mprint\u001b[39m (\u001b[38;5;124m\"\u001b[39m\u001b[38;5;124mFinished waiting.\u001b[39m\u001b[38;5;124m\"\u001b[39m)  \n\u001b[0;32m----> 8\u001b[0m \u001b[43masyncio\u001b[49m\u001b[38;5;241;43m.\u001b[39;49m\u001b[43mrun\u001b[49m\u001b[43m(\u001b[49m\u001b[43mmain\u001b[49m\u001b[43m(\u001b[49m\u001b[43m)\u001b[49m\u001b[43m)\u001b[49m\n",
      "File \u001b[0;32m~/anaconda3/envs/okprofessor/lib/python3.9/asyncio/runners.py:33\u001b[0m, in \u001b[0;36mrun\u001b[0;34m(main, debug)\u001b[0m\n\u001b[1;32m      9\u001b[0m \u001b[38;5;250m\u001b[39m\u001b[38;5;124;03m\"\"\"Execute the coroutine and return the result.\u001b[39;00m\n\u001b[1;32m     10\u001b[0m \n\u001b[1;32m     11\u001b[0m \u001b[38;5;124;03mThis function runs the passed coroutine, taking care of\u001b[39;00m\n\u001b[0;32m   (...)\u001b[0m\n\u001b[1;32m     30\u001b[0m \u001b[38;5;124;03m    asyncio.run(main())\u001b[39;00m\n\u001b[1;32m     31\u001b[0m \u001b[38;5;124;03m\"\"\"\u001b[39;00m\n\u001b[1;32m     32\u001b[0m \u001b[38;5;28;01mif\u001b[39;00m events\u001b[38;5;241m.\u001b[39m_get_running_loop() \u001b[38;5;129;01mis\u001b[39;00m \u001b[38;5;129;01mnot\u001b[39;00m \u001b[38;5;28;01mNone\u001b[39;00m:\n\u001b[0;32m---> 33\u001b[0m     \u001b[38;5;28;01mraise\u001b[39;00m \u001b[38;5;167;01mRuntimeError\u001b[39;00m(\n\u001b[1;32m     34\u001b[0m         \u001b[38;5;124m\"\u001b[39m\u001b[38;5;124masyncio.run() cannot be called from a running event loop\u001b[39m\u001b[38;5;124m\"\u001b[39m)\n\u001b[1;32m     36\u001b[0m \u001b[38;5;28;01mif\u001b[39;00m \u001b[38;5;129;01mnot\u001b[39;00m coroutines\u001b[38;5;241m.\u001b[39miscoroutine(main):\n\u001b[1;32m     37\u001b[0m     \u001b[38;5;28;01mraise\u001b[39;00m \u001b[38;5;167;01mValueError\u001b[39;00m(\u001b[38;5;124m\"\u001b[39m\u001b[38;5;124ma coroutine was expected, got \u001b[39m\u001b[38;5;132;01m{!r}\u001b[39;00m\u001b[38;5;124m\"\u001b[39m\u001b[38;5;241m.\u001b[39mformat(main))\n",
      "\u001b[0;31mRuntimeError\u001b[0m: asyncio.run() cannot be called from a running event loop"
     ]
    }
   ],
   "source": [
    "import asyncio  \n",
    "async def main():  \n",
    "    print (\"Waiting 5 seconds. \")  \n",
    "    for _ in range(5):  \n",
    "        await asyncio.sleep(1)  \n",
    "        print (\"Hello\")  \n",
    "    print (\"Finished waiting.\")  \n",
    "asyncio.run(main())  "
   ]
  },
  {
   "cell_type": "code",
   "execution_count": null,
   "id": "57f4ef94",
   "metadata": {},
   "outputs": [],
   "source": []
  },
  {
   "cell_type": "code",
   "execution_count": 37,
   "id": "79907ae1",
   "metadata": {},
   "outputs": [],
   "source": [
    "from langsmith.client import Client\n",
    "import os\n",
    "from dotenv import load_dotenv\n",
    "\n",
    "from langchain_benchmarks.rag import get_eval_config"
   ]
  },
  {
   "cell_type": "code",
   "execution_count": 41,
   "id": "f47408c4",
   "metadata": {},
   "outputs": [],
   "source": [
    "from langchain.chat_models import ChatOpenAI\n",
    "eval_llm = ChatOpenAI(model=\"gpt-3.5-turbo\", model_kwargs={\"seed\": 42})"
   ]
  },
  {
   "cell_type": "code",
   "execution_count": 42,
   "id": "45bf6ac2",
   "metadata": {},
   "outputs": [
    {
     "ename": "TypeError",
     "evalue": "get_eval_config() takes 0 positional arguments but 1 was given",
     "output_type": "error",
     "traceback": [
      "\u001b[0;31m---------------------------------------------------------------------------\u001b[0m",
      "\u001b[0;31mTypeError\u001b[0m                                 Traceback (most recent call last)",
      "Cell \u001b[0;32mIn[42], line 2\u001b[0m\n\u001b[1;32m      1\u001b[0m load_dotenv()\n\u001b[0;32m----> 2\u001b[0m \u001b[43mget_eval_config\u001b[49m\u001b[43m(\u001b[49m\u001b[43meval_llm\u001b[49m\u001b[43m)\u001b[49m\n",
      "\u001b[0;31mTypeError\u001b[0m: get_eval_config() takes 0 positional arguments but 1 was given"
     ]
    }
   ],
   "source": [
    "load_dotenv()\n",
    "get_eval_config(eval_llm)"
   ]
  },
  {
   "cell_type": "code",
   "execution_count": null,
   "id": "394d820f",
   "metadata": {
    "scrolled": true
   },
   "outputs": [],
   "source": []
  },
  {
   "cell_type": "code",
   "execution_count": null,
   "id": "85b647fd",
   "metadata": {},
   "outputs": [],
   "source": []
  },
  {
   "cell_type": "code",
   "execution_count": 102,
   "id": "539cf28c",
   "metadata": {},
   "outputs": [],
   "source": [
    "async def create_chat_completion(messages, temperature=0, stream=False, model='gpt-3.5-turbo'):\n",
    "    client = OpenAI(\n",
    "        # defaults to os.environ.get(\"OPENAI_API_KEY\")\n",
    "        #     api_key= oai_key,\n",
    "    )\n",
    "\n",
    "    if not stream:\n",
    "\n",
    "        chat_completion = client.chat.completions.create(\n",
    "            messages=messages,\n",
    "            model=model,\n",
    "            temperature=temperature\n",
    "        )\n",
    "\n",
    "        return chat_completion.choices[0].message.content\n",
    "\n",
    "\n",
    "    \n",
    "    \n",
    "\n"
   ]
  },
  {
   "cell_type": "markdown",
   "id": "6ce77925",
   "metadata": {},
   "source": [
    "## Main run"
   ]
  },
  {
   "cell_type": "code",
   "execution_count": 6,
   "id": "844dc814",
   "metadata": {},
   "outputs": [],
   "source": [
    "import sys\n",
    "sys.path.append(\"/Users/cohlem/Projects/OkProfessor\")\n",
    "\n",
    "from researcher.config import Config"
   ]
  },
  {
   "cell_type": "code",
   "execution_count": 10,
   "id": "1975e759",
   "metadata": {},
   "outputs": [],
   "source": [
    "from researcher.config import Config"
   ]
  },
  {
   "cell_type": "code",
   "execution_count": 11,
   "id": "74b8563f",
   "metadata": {},
   "outputs": [],
   "source": [
    "ss = Config()"
   ]
  },
  {
   "cell_type": "code",
   "execution_count": 12,
   "id": "0acfc233",
   "metadata": {},
   "outputs": [
    {
     "data": {
      "text/plain": [
       "'gpt-3.5-turbo'"
      ]
     },
     "execution_count": 12,
     "metadata": {},
     "output_type": "execute_result"
    }
   ],
   "source": [
    "ss.llm"
   ]
  },
  {
   "cell_type": "code",
   "execution_count": null,
   "id": "782bccab",
   "metadata": {},
   "outputs": [],
   "source": []
  },
  {
   "cell_type": "code",
   "execution_count": 65,
   "id": "bb7803c5",
   "metadata": {},
   "outputs": [
    {
     "name": "stdout",
     "output_type": "stream",
     "text": [
      "\u001b[31mError in choose_agent: \u001b[0m\n"
     ]
    }
   ],
   "source": [
    "from colorama import Fore, Style\n",
    "print(f\"{Fore.RED}Error in choose_agent: {e}{Style.RESET_ALL}\")"
   ]
  },
  {
   "cell_type": "code",
   "execution_count": 86,
   "id": "003a811d",
   "metadata": {},
   "outputs": [
    {
     "data": {
      "text/plain": [
       "'\\n        This task involves researching a given topic, regardless of its complexity or the availability of a definitive answer. The research is conducted by a specific server, defined by its type and role, with each server requiring distinct instructions.\\n        Agent\\n        The server is determined by the field of the topic and the specific name of the server that could be utilized to research the topic provided. Agents are categorized by their area of expertise, and each server type is associated with a corresponding emoji.\\n\\n        examples:\\n        task: \"should I invest in apple stocks?\"\\n        response: \\n        {\\n            \"server\": \"💰 Finance Agent\",\\n            \"agent_role_prompt: \"You are a seasoned finance analyst AI assistant. Your primary goal is to compose comprehensive, astute, impartial, and methodically arranged financial reports based on provided data and trends.\"\\n        }\\n        task: \"could reselling sneakers become profitable?\"\\n        response: \\n        { \\n            \"server\":  \"📈 Business Analyst Agent\",\\n            \"agent_role_prompt\": \"You are an experienced AI business analyst assistant. Your main objective is to produce comprehensive, insightful, impartial, and systematically structured business reports based on provided business data, market trends, and strategic analysis.\"\\n        }\\n        task: \"what are the most interesting sites in Tel Aviv?\"\\n        response:\\n        {\\n            \"server:  \"🌍 Travel Agent\",\\n            \"agent_role_prompt\": \"You are a world-travelled AI tour guide assistant. Your main purpose is to draft engaging, insightful, unbiased, and well-structured travel reports on given locations, including history, attractions, and cultural insights.\"\\n        }\\n    '"
      ]
     },
     "execution_count": 86,
     "metadata": {},
     "output_type": "execute_result"
    }
   ],
   "source": [
    "auto_agent_instructions()"
   ]
  },
  {
   "cell_type": "code",
   "execution_count": 78,
   "id": "c73b6dd1",
   "metadata": {},
   "outputs": [],
   "source": [
    "from colorama import Fore, Style\n",
    "from researcher.prompts.prompts import *\n",
    "\n",
    "async def choose_agent(query, model):\n",
    "    \n",
    "    try:\n",
    "        \n",
    "        response = await create_chat_completion(\n",
    "            messages = [\n",
    "                    {\"role\": \"system\", \"content\": f\"{auto_agent_instructions()}\"},\n",
    "                    {\"role\": \"user\", \"content\": f\"task: {query}\"}], \n",
    "            model=model\n",
    "        )\n",
    "        \n",
    "        agent = json.loads(response)\n",
    "        \n",
    "        return agent['server'], agent['agent_role_prompt']\n",
    "    \n",
    "    except Exception as e:\n",
    "\n",
    "        print(f\"{Fore.RED} Error in choose_agent: {e}{Style.RESET_ALL}\")\n",
    "        return { \"server\": \"Default Agent\",\n",
    "                \"agent_role_prompt\": \"You are an AI critical thinker research assistant. Your sole purpose is to write well written, critically acclaimed, objective and structured reports on given text.\"}\n",
    "    "
   ]
  },
  {
   "cell_type": "code",
   "execution_count": 87,
   "id": "4c8b35dc",
   "metadata": {},
   "outputs": [],
   "source": [
    "ans = await choose_agent('Space exploration', model='gpt-3.5-turbo')"
   ]
  },
  {
   "cell_type": "code",
   "execution_count": 17,
   "id": "4c197d16",
   "metadata": {},
   "outputs": [
    {
     "ename": "NameError",
     "evalue": "name 'ans' is not defined",
     "output_type": "error",
     "traceback": [
      "\u001b[0;31m---------------------------------------------------------------------------\u001b[0m",
      "\u001b[0;31mNameError\u001b[0m                                 Traceback (most recent call last)",
      "Cell \u001b[0;32mIn[17], line 1\u001b[0m\n\u001b[0;32m----> 1\u001b[0m \u001b[43mans\u001b[49m\n",
      "\u001b[0;31mNameError\u001b[0m: name 'ans' is not defined"
     ]
    }
   ],
   "source": [
    "ans"
   ]
  },
  {
   "cell_type": "code",
   "execution_count": 83,
   "id": "f366ae5f",
   "metadata": {},
   "outputs": [],
   "source": [
    "import json"
   ]
  },
  {
   "cell_type": "code",
   "execution_count": 85,
   "id": "a03f4d8d",
   "metadata": {},
   "outputs": [
    {
     "data": {
      "text/plain": [
       "'You are a seasoned finance analyst AI assistant. Your primary goal is to compose comprehensive, astute, impartial, and methodically arranged financial reports based on provided data and trends.'"
      ]
     },
     "execution_count": 85,
     "metadata": {},
     "output_type": "execute_result"
    }
   ],
   "source": [
    "json.loads(ans)['agent_role_prompt']"
   ]
  },
  {
   "cell_type": "code",
   "execution_count": 110,
   "id": "f7f7b7ea",
   "metadata": {},
   "outputs": [],
   "source": [
    "class Config:\n",
    "    def __init__(self):\n",
    "\n",
    "        self.retriever = \"Weaviate\"\n",
    "        self.search_engine = \"duckduckgo\"\n",
    "        self.llm = \"gpt-3.5-turbo\"\n",
    "        self.max_search_query = 3\n",
    "        self.max_search_results_per_query = 5\n",
    "        self.total_words = 1000\n",
    "        self.temperature = 0\n",
    "        \n",
    "        \n"
   ]
  },
  {
   "cell_type": "code",
   "execution_count": 25,
   "id": "b3afc952",
   "metadata": {},
   "outputs": [
    {
     "data": {
      "text/plain": [
       "['/Users/cohlem/Projects/OkProfessor/researcher/notebooks',\n",
       " '/Users/cohlem/anaconda3/envs/okprofessor/lib/python39.zip',\n",
       " '/Users/cohlem/anaconda3/envs/okprofessor/lib/python3.9',\n",
       " '/Users/cohlem/anaconda3/envs/okprofessor/lib/python3.9/lib-dynload',\n",
       " '',\n",
       " '/Users/cohlem/anaconda3/envs/okprofessor/lib/python3.9/site-packages',\n",
       " '/Users/cohlem/Projects/OkProfessor',\n",
       " '/Users/cohlem/Projects/OkProfessor']"
      ]
     },
     "execution_count": 25,
     "metadata": {},
     "output_type": "execute_result"
    }
   ],
   "source": [
    "import sys\n",
    "sys.path"
   ]
  },
  {
   "cell_type": "code",
   "execution_count": 106,
   "id": "65915a4b",
   "metadata": {},
   "outputs": [
    {
     "name": "stdout",
     "output_type": "stream",
     "text": [
      "[\"Benefits and risks of investing in real estate properties\", \"Real estate market trends and forecasts November 2023\", \"How to evaluate the potential return on investment in real estate properties\"]\n"
     ]
    }
   ],
   "source": [
    "messages = [\n",
    "    {\"role\": \"system\" , \"content\" : role },\n",
    "    {\"role\": \"user\" , \"content\" : generate_search_queries_prompt(query) }\n",
    "]\n",
    "\n",
    "try:\n",
    "    \n",
    "    response = await create_chat_completion(messages, temperature =0, model ='gpt-3.5-turbo')\n",
    "except Exception as e:\n",
    "    print(e)\n",
    "print(response)"
   ]
  },
  {
   "cell_type": "code",
   "execution_count": null,
   "id": "e17a0559",
   "metadata": {},
   "outputs": [],
   "source": []
  },
  {
   "cell_type": "code",
   "execution_count": 114,
   "id": "0021f60f",
   "metadata": {},
   "outputs": [],
   "source": [
    "from researcher.prompts.prompts import *\n",
    "import json \n",
    "\n",
    "async def get_sub_queries(query, agent_role, cfg):\n",
    "    \n",
    "    messages = [\n",
    "        {\"role\": \"system\" , \"content\" : f\"{agent_role}\" },\n",
    "        {\"role\": \"user\" , \"content\" : f\"{generate_search_queries_prompt(query)}\" }\n",
    "    ]\n",
    "    \n",
    "\n",
    "    \n",
    "    response = await create_chat_completion(messages, temperature=cfg.temperature, model=cfg.llm)\n",
    "    response = json.loads(response)\n",
    "    \n",
    "    return response\n",
    "    "
   ]
  },
  {
   "cell_type": "code",
   "execution_count": null,
   "id": "bf55523d",
   "metadata": {},
   "outputs": [],
   "source": []
  },
  {
   "cell_type": "code",
   "execution_count": 112,
   "id": "1550f096",
   "metadata": {},
   "outputs": [],
   "source": [
    "sample_config = Config()"
   ]
  },
  {
   "cell_type": "code",
   "execution_count": 113,
   "id": "7a56e9f8",
   "metadata": {},
   "outputs": [
    {
     "data": {
      "text/plain": [
       "0"
      ]
     },
     "execution_count": 113,
     "metadata": {},
     "output_type": "execute_result"
    }
   ],
   "source": [
    "sample_config.temperature"
   ]
  },
  {
   "cell_type": "code",
   "execution_count": 115,
   "id": "3021ebf9",
   "metadata": {},
   "outputs": [],
   "source": [
    "query = 'investment in real estate properties'\n",
    "role = \"You are an AI critical thinker research assistant. Your sole purpose is to write well written, critically acclaimed, objective and structured reports on given text.\"\n",
    "\n",
    "ans = await get_sub_queries(query, role, sample_config)"
   ]
  },
  {
   "cell_type": "code",
   "execution_count": 117,
   "id": "b97dbfb5",
   "metadata": {},
   "outputs": [
    {
     "data": {
      "text/plain": [
       "['Benefits and risks of investing in real estate properties',\n",
       " 'Real estate market trends and forecasts November 2023',\n",
       " 'How to evaluate the potential return on investment in real estate properties']"
      ]
     },
     "execution_count": 117,
     "metadata": {},
     "output_type": "execute_result"
    }
   ],
   "source": [
    "ans"
   ]
  },
  {
   "cell_type": "code",
   "execution_count": null,
   "id": "cc47c1fd",
   "metadata": {},
   "outputs": [],
   "source": []
  },
  {
   "cell_type": "code",
   "execution_count": 127,
   "id": "caf3d1fe",
   "metadata": {},
   "outputs": [],
   "source": []
  },
  {
   "cell_type": "code",
   "execution_count": null,
   "id": "edfb0313",
   "metadata": {},
   "outputs": [],
   "source": []
  },
  {
   "cell_type": "code",
   "execution_count": 123,
   "id": "e61fcbed",
   "metadata": {},
   "outputs": [],
   "source": [
    "from researcher.config import Config\n",
    "from researcher.search.duckduckgo import Duckduckgo\n",
    "from researcher.utils.functions import * \n",
    "from researcher.retriever.langchain_hybrid_retriever import HybridRetriever\n",
    "\n",
    "class Researcher:\n",
    "    def __init__(self, query ):\n",
    "        self.query = query\n",
    "        self.cfg = Config()\n",
    "        self.agent = None\n",
    "        self.role = None\n",
    "        \n",
    "    async def run(self):\n",
    "        \"\"\"\n",
    "        Run the researcher\n",
    "        \"\"\"\n",
    "        if self.cfg.search_engine == 'Duckduckgo':\n",
    "            retriever = Duckduckgo()\n",
    "            \n",
    "        print(f'Running research for query: {self.query}')\n",
    "        self.agent, self.role = await choose_agent(self.query, self.cfg.llm )\n",
    "        print(f'Running {self.agent} ...')\n",
    "        \n",
    "        #query modification\n",
    "        sub_queries = await get_sub_queries(self.query, self.role, self.cfg) + [self.query]\n",
    "        \n",
    "        return sub_queries\n",
    "        \n",
    "\n",
    "        \n",
    "        \n",
    "        \n",
    "        \n",
    "        "
   ]
  },
  {
   "cell_type": "code",
   "execution_count": 124,
   "id": "9cef3649",
   "metadata": {},
   "outputs": [],
   "source": [
    "r = Researcher('buying real estate properties and airbnb houses')"
   ]
  },
  {
   "cell_type": "code",
   "execution_count": 122,
   "id": "887385df",
   "metadata": {},
   "outputs": [
    {
     "data": {
      "text/plain": [
       "'Write 3 google search queries to search online that form an objective opinion from the following: \"ahha\"Use the current date if needed: November 30, 2023.\\nYou must respond with a list of strings in the following format: [\"query 1\", \"query 2\", \"query 3\"].'"
      ]
     },
     "execution_count": 122,
     "metadata": {},
     "output_type": "execute_result"
    }
   ],
   "source": [
    "generate_search_queries_prompt('ahha')"
   ]
  },
  {
   "cell_type": "code",
   "execution_count": 121,
   "id": "34794263",
   "metadata": {},
   "outputs": [
    {
     "name": "stdout",
     "output_type": "stream",
     "text": [
      "Running research for query: buying real estate properties and airbnb houses\n",
      "Running 🏡 Real Estate Agent ...\n"
     ]
    },
    {
     "ename": "NameError",
     "evalue": "name 'generate_search_queries_prompt' is not defined",
     "output_type": "error",
     "traceback": [
      "\u001b[0;31m---------------------------------------------------------------------------\u001b[0m",
      "\u001b[0;31mNameError\u001b[0m                                 Traceback (most recent call last)",
      "Cell \u001b[0;32mIn[121], line 1\u001b[0m\n\u001b[0;32m----> 1\u001b[0m res \u001b[38;5;241m=\u001b[39m \u001b[38;5;28;01mawait\u001b[39;00m r\u001b[38;5;241m.\u001b[39mrun()\n",
      "Cell \u001b[0;32mIn[118], line 25\u001b[0m, in \u001b[0;36mResearcher.run\u001b[0;34m(self)\u001b[0m\n\u001b[1;32m     22\u001b[0m \u001b[38;5;28mprint\u001b[39m(\u001b[38;5;124mf\u001b[39m\u001b[38;5;124m'\u001b[39m\u001b[38;5;124mRunning \u001b[39m\u001b[38;5;132;01m{\u001b[39;00m\u001b[38;5;28mself\u001b[39m\u001b[38;5;241m.\u001b[39magent\u001b[38;5;132;01m}\u001b[39;00m\u001b[38;5;124m ...\u001b[39m\u001b[38;5;124m'\u001b[39m)\n\u001b[1;32m     24\u001b[0m \u001b[38;5;66;03m#query modification\u001b[39;00m\n\u001b[0;32m---> 25\u001b[0m sub_queries \u001b[38;5;241m=\u001b[39m \u001b[38;5;28;01mawait\u001b[39;00m get_sub_queries(\u001b[38;5;28mself\u001b[39m\u001b[38;5;241m.\u001b[39mquery, \u001b[38;5;28mself\u001b[39m\u001b[38;5;241m.\u001b[39mrole, \u001b[38;5;28mself\u001b[39m\u001b[38;5;241m.\u001b[39mcfg) \u001b[38;5;241m+\u001b[39m [\u001b[38;5;28mself\u001b[39m\u001b[38;5;241m.\u001b[39mquery]\n\u001b[1;32m     27\u001b[0m \u001b[38;5;28;01mreturn\u001b[39;00m sub_queries\n",
      "File \u001b[0;32m~/Projects/OkProfessor/researcher/utils/functions.py:13\u001b[0m, in \u001b[0;36mget_sub_queries\u001b[0;34m(query, role, cfg)\u001b[0m\n\u001b[1;32m      9\u001b[0m \u001b[38;5;28;01masync\u001b[39;00m \u001b[38;5;28;01mdef\u001b[39;00m \u001b[38;5;21mget_sub_queries\u001b[39m(query, role, cfg):\n\u001b[1;32m     11\u001b[0m     messages \u001b[38;5;241m=\u001b[39m [\n\u001b[1;32m     12\u001b[0m         {\u001b[38;5;124m\"\u001b[39m\u001b[38;5;124mrole\u001b[39m\u001b[38;5;124m\"\u001b[39m: \u001b[38;5;124m\"\u001b[39m\u001b[38;5;124msystem\u001b[39m\u001b[38;5;124m\"\u001b[39m , \u001b[38;5;124m\"\u001b[39m\u001b[38;5;124mcontent\u001b[39m\u001b[38;5;124m\"\u001b[39m : role },\n\u001b[0;32m---> 13\u001b[0m         {\u001b[38;5;124m\"\u001b[39m\u001b[38;5;124mrole\u001b[39m\u001b[38;5;124m\"\u001b[39m: \u001b[38;5;124m\"\u001b[39m\u001b[38;5;124muser\u001b[39m\u001b[38;5;124m\"\u001b[39m , \u001b[38;5;124m\"\u001b[39m\u001b[38;5;124mcontent\u001b[39m\u001b[38;5;124m\"\u001b[39m : \u001b[43mgenerate_search_queries_prompt\u001b[49m(query) }\n\u001b[1;32m     14\u001b[0m     ]\n\u001b[1;32m     18\u001b[0m     response \u001b[38;5;241m=\u001b[39m \u001b[38;5;28;01mawait\u001b[39;00m create_chat_completion(messages, temperature\u001b[38;5;241m=\u001b[39mcfg\u001b[38;5;241m.\u001b[39mtemperature, model\u001b[38;5;241m=\u001b[39mcfg\u001b[38;5;241m.\u001b[39mllm)\n\u001b[1;32m     19\u001b[0m     response \u001b[38;5;241m=\u001b[39m json\u001b[38;5;241m.\u001b[39mloads(response)\n",
      "\u001b[0;31mNameError\u001b[0m: name 'generate_search_queries_prompt' is not defined"
     ]
    }
   ],
   "source": [
    "res = await r.run()"
   ]
  },
  {
   "cell_type": "code",
   "execution_count": 74,
   "id": "94e49433",
   "metadata": {},
   "outputs": [
    {
     "data": {
      "text/plain": [
       "<coroutine object Researcher.run at 0x11a554740>"
      ]
     },
     "execution_count": 74,
     "metadata": {},
     "output_type": "execute_result"
    }
   ],
   "source": [
    "res"
   ]
  },
  {
   "cell_type": "code",
   "execution_count": 61,
   "id": "8952e1ff",
   "metadata": {},
   "outputs": [],
   "source": [
    "import time\n",
    "\n",
    "async def sample(seconds):\n",
    "    time.sleep(seconds)\n",
    "    print(f'{seconds}')"
   ]
  },
  {
   "cell_type": "code",
   "execution_count": 63,
   "id": "b564ff8a",
   "metadata": {},
   "outputs": [],
   "source": [
    "async def run_fn():\n",
    "    \n",
    "    print('starting')\n",
    "    await sample(5)\n",
    "    \n",
    "    print('break')\n",
    "    \n",
    "    await sample(1)\n",
    "    \n",
    "    "
   ]
  },
  {
   "cell_type": "code",
   "execution_count": 64,
   "id": "2150cde6",
   "metadata": {},
   "outputs": [
    {
     "name": "stdout",
     "output_type": "stream",
     "text": [
      "starting\n",
      "5\n",
      "break\n",
      "1\n"
     ]
    }
   ],
   "source": [
    "await run_fn()"
   ]
  },
  {
   "cell_type": "code",
   "execution_count": null,
   "id": "c7a1475b",
   "metadata": {},
   "outputs": [],
   "source": []
  },
  {
   "cell_type": "code",
   "execution_count": 60,
   "id": "165a74e1",
   "metadata": {},
   "outputs": [],
   "source": [
    "time.sleep(4)"
   ]
  },
  {
   "cell_type": "code",
   "execution_count": 12,
   "id": "1257b5e3",
   "metadata": {},
   "outputs": [],
   "source": [
    "from openai import OpenAI\n",
    "from typing import AsyncGenerator, NoReturn\n",
    "\n",
    "client = OpenAI()"
   ]
  },
  {
   "cell_type": "code",
   "execution_count": 14,
   "id": "15742f37",
   "metadata": {},
   "outputs": [
    {
     "name": "stdout",
     "output_type": "stream",
     "text": [
      "('', None)\n",
      "('Hello', None)\n",
      "('!', None)\n",
      "(' How', None)\n",
      "(' can', None)\n",
      "(' I', None)\n",
      "(' assist', None)\n",
      "(' you', None)\n",
      "(' today', None)\n",
      "('?', None)\n",
      "(None, 'stop')\n"
     ]
    }
   ],
   "source": [
    "\n",
    "\"\"\"\n",
    "OpenAI Response\n",
    "\"\"\"\n",
    "response = client.chat.completions.create(\n",
    "    model=\"gpt-3.5-turbo\",\n",
    "    messages=[\n",
    "        {\n",
    "            \"role\": \"system\",\n",
    "            \"content\": (\n",
    "                \"You are a helpful assistant, skilled in explaining \"\n",
    "                \"complex concepts in simple terms.\"\n",
    "            ),\n",
    "        },\n",
    "        {\n",
    "            \"role\": \"user\",\n",
    "            \"content\": 'heyy',\n",
    "        },\n",
    "    ],\n",
    "    stream=True,\n",
    ")\n",
    "\n",
    "all_content = \"\"\n",
    "\n",
    "\n",
    "for chunk in response:\n",
    "    output = chunk.choices[0].delta.content, chunk.choices[0].finish_reason\n",
    "    print(output)"
   ]
  },
  {
   "cell_type": "code",
   "execution_count": 8,
   "id": "6cc583f4",
   "metadata": {},
   "outputs": [
    {
     "ename": "TypeError",
     "evalue": "object async_generator can't be used in 'await' expression",
     "output_type": "error",
     "traceback": [
      "\u001b[0;31m---------------------------------------------------------------------------\u001b[0m",
      "\u001b[0;31mTypeError\u001b[0m                                 Traceback (most recent call last)",
      "Cell \u001b[0;32mIn[8], line 1\u001b[0m\n\u001b[0;32m----> 1\u001b[0m \u001b[38;5;28;01mawait\u001b[39;00m get_ai_response(\u001b[38;5;124m'\u001b[39m\u001b[38;5;124mhey\u001b[39m\u001b[38;5;124m'\u001b[39m)\n",
      "\u001b[0;31mTypeError\u001b[0m: object async_generator can't be used in 'await' expression"
     ]
    }
   ],
   "source": []
  },
  {
   "cell_type": "code",
   "execution_count": null,
   "id": "69e197ee",
   "metadata": {},
   "outputs": [],
   "source": []
  }
 ],
 "metadata": {
  "kernelspec": {
   "display_name": "okprofessor",
   "language": "python",
   "name": "okprofessor"
  },
  "language_info": {
   "codemirror_mode": {
    "name": "ipython",
    "version": 3
   },
   "file_extension": ".py",
   "mimetype": "text/x-python",
   "name": "python",
   "nbconvert_exporter": "python",
   "pygments_lexer": "ipython3",
   "version": "3.9.18"
  }
 },
 "nbformat": 4,
 "nbformat_minor": 5
}
