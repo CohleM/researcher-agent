{
 "cells": [
  {
   "cell_type": "code",
   "execution_count": 1,
   "id": "5ba08af5",
   "metadata": {},
   "outputs": [
    {
     "name": "stderr",
     "output_type": "stream",
     "text": [
      "2023-11-25 12:21:15,956 [DEBUG] This is a debug message\n",
      "2023-11-25 12:21:15,956 [INFO] This is an info message\n",
      "2023-11-25 12:21:15,957 [WARNING] This is a warning message\n",
      "2023-11-25 12:21:15,957 [ERROR] This is an error message\n",
      "2023-11-25 12:21:15,958 [CRITICAL] This is a critical message\n"
     ]
    }
   ],
   "source": [
    "import logging\n",
    "\n",
    "# Configure logging\n",
    "logging.basicConfig(\n",
    "    level=logging.DEBUG,  # Set the global log level to DEBUG\n",
    "    format=\"%(asctime)s [%(levelname)s] %(message)s\",\n",
    "    handlers=[\n",
    "        logging.StreamHandler()  # Log to the console\n",
    "        # Add more handlers here if needed (e.g., logging to a file)\n",
    "    ]\n",
    ")\n",
    "\n",
    "# Create a logger\n",
    "logger = logging.getLogger(__name__)\n",
    "\n",
    "def main():\n",
    "    logger.debug(\"This is a debug message\")\n",
    "    logger.info(\"This is an info message\")\n",
    "    logger.warning(\"This is a warning message\")\n",
    "    logger.error(\"This is an error message\")\n",
    "    logger.critical(\"This is a critical message\")\n",
    "\n",
    "if __name__ == \"__main__\":\n",
    "    main()\n"
   ]
  },
  {
   "cell_type": "code",
   "execution_count": 7,
   "id": "bee3dc8a",
   "metadata": {},
   "outputs": [
    {
     "data": {
      "text/plain": [
       "True"
      ]
     },
     "execution_count": 7,
     "metadata": {},
     "output_type": "execute_result"
    }
   ],
   "source": [
    "import os\n",
    "from dotenv import load_dotenv\n",
    "\n",
    "# Load environment variables from the .env file\n",
    "load_dotenv()"
   ]
  },
  {
   "cell_type": "code",
   "execution_count": 4,
   "id": "c19173cf",
   "metadata": {},
   "outputs": [],
   "source": [
    "\n",
    "\n",
    "\n",
    "\n",
    "class EmbedAndIndex:\n",
    "    def __init__(self, embeddings, vectordb):\n",
    "        \n",
    "        #this should be \n",
    "        self.embeddings = embeddings\n",
    "        self.vectordb = vectordb\n",
    "        \n",
    "    \n",
    "    def run(self, context):\n",
    "        "
   ]
  },
  {
   "cell_type": "code",
   "execution_count": 3,
   "id": "afc1a314",
   "metadata": {},
   "outputs": [],
   "source": [
    "from langchain.embeddings import OpenAIEmbeddings"
   ]
  },
  {
   "cell_type": "code",
   "execution_count": 15,
   "id": "9f8cbf4c",
   "metadata": {},
   "outputs": [
    {
     "name": "stderr",
     "output_type": "stream",
     "text": [
      "2023-11-26 10:58:45,087 [DEBUG] Request options: {'method': 'post', 'url': '/embeddings', 'files': None, 'post_parser': <function Embeddings.create.<locals>.parser at 0x14689ae50>, 'json_data': {'input': [[1016, 6455, 374, 264, 1495], [576, 374, 2500, 1495]], 'model': 'text-embedding-ada-002', 'encoding_format': 'base64'}}\n",
      "2023-11-26 10:58:45,090 [DEBUG] close.started\n",
      "2023-11-26 10:58:45,092 [DEBUG] close.complete\n",
      "2023-11-26 10:58:45,093 [DEBUG] connect_tcp.started host='api.openai.com' port=443 local_address=None timeout=None socket_options=None\n",
      "2023-11-26 10:58:45,200 [DEBUG] connect_tcp.complete return_value=<httpcore._backends.sync.SyncStream object at 0x1225067c0>\n",
      "2023-11-26 10:58:45,202 [DEBUG] start_tls.started ssl_context=<ssl.SSLContext object at 0x14631c240> server_hostname='api.openai.com' timeout=None\n",
      "2023-11-26 10:58:45,220 [DEBUG] start_tls.complete return_value=<httpcore._backends.sync.SyncStream object at 0x1475ddca0>\n",
      "2023-11-26 10:58:45,222 [DEBUG] send_request_headers.started request=<Request [b'POST']>\n",
      "2023-11-26 10:58:45,223 [DEBUG] send_request_headers.complete\n",
      "2023-11-26 10:58:45,224 [DEBUG] send_request_body.started request=<Request [b'POST']>\n",
      "2023-11-26 10:58:45,225 [DEBUG] send_request_body.complete\n",
      "2023-11-26 10:58:45,226 [DEBUG] receive_response_headers.started request=<Request [b'POST']>\n",
      "2023-11-26 10:58:45,587 [DEBUG] receive_response_headers.complete return_value=(b'HTTP/1.1', 200, b'OK', [(b'Date', b'Sun, 26 Nov 2023 05:13:45 GMT'), (b'Content-Type', b'application/json'), (b'Transfer-Encoding', b'chunked'), (b'Connection', b'keep-alive'), (b'access-control-allow-origin', b'*'), (b'openai-organization', b'user-wjsaykvcayuk6oc0g2vnwita'), (b'openai-processing-ms', b'22'), (b'openai-version', b'2020-10-01'), (b'strict-transport-security', b'max-age=15724800; includeSubDomains'), (b'x-ratelimit-limit-requests', b'3000'), (b'x-ratelimit-limit-tokens', b'1000000'), (b'x-ratelimit-remaining-requests', b'2999'), (b'x-ratelimit-remaining-tokens', b'999990'), (b'x-ratelimit-reset-requests', b'20ms'), (b'x-ratelimit-reset-tokens', b'0s'), (b'x-request-id', b'ce96fb1e1f83935dd67094ac0f7d9eae'), (b'CF-Cache-Status', b'DYNAMIC'), (b'Server', b'cloudflare'), (b'CF-RAY', b'82bfa4d9a8b59e7a-KTM'), (b'Content-Encoding', b'gzip'), (b'alt-svc', b'h3=\":443\"; ma=86400')])\n",
      "2023-11-26 10:58:45,591 [INFO] HTTP Request: POST https://api.openai.com/v1/embeddings \"HTTP/1.1 200 OK\"\n",
      "2023-11-26 10:58:45,592 [DEBUG] receive_response_body.started request=<Request [b'POST']>\n",
      "2023-11-26 10:58:45,848 [DEBUG] receive_response_body.complete\n",
      "2023-11-26 10:58:45,849 [DEBUG] response_closed.started\n",
      "2023-11-26 10:58:45,850 [DEBUG] response_closed.complete\n",
      "2023-11-26 10:58:45,851 [DEBUG] HTTP Request: POST https://api.openai.com/v1/embeddings \"200 OK\"\n"
     ]
    }
   ],
   "source": [
    "text = [\"Thsi is a text\", \"this is another text\"]\n",
    "\n",
    "query_result = embeddings.embed_documents(text)"
   ]
  },
  {
   "cell_type": "code",
   "execution_count": null,
   "id": "d5b955a5",
   "metadata": {},
   "outputs": [],
   "source": []
  },
  {
   "cell_type": "code",
   "execution_count": null,
   "id": "a9e24832",
   "metadata": {},
   "outputs": [],
   "source": []
  },
  {
   "cell_type": "code",
   "execution_count": 8,
   "id": "d639b011",
   "metadata": {},
   "outputs": [
    {
     "name": "stderr",
     "output_type": "stream",
     "text": [
      "2023-11-26 10:52:07,404 [DEBUG] load_ssl_context verify=True cert=None trust_env=True http2=False\n",
      "2023-11-26 10:52:07,408 [DEBUG] load_verify_locations cafile='/Users/cohlem/anaconda3/envs/okprofessor/lib/python3.9/site-packages/certifi/cacert.pem'\n",
      "2023-11-26 10:52:07,424 [DEBUG] load_ssl_context verify=True cert=None trust_env=True http2=False\n",
      "2023-11-26 10:52:07,425 [DEBUG] load_verify_locations cafile='/Users/cohlem/anaconda3/envs/okprofessor/lib/python3.9/site-packages/certifi/cacert.pem'\n"
     ]
    }
   ],
   "source": [
    "embeddings = OpenAIEmbeddings()"
   ]
  },
  {
   "cell_type": "code",
   "execution_count": null,
   "id": "1c540a60",
   "metadata": {},
   "outputs": [],
   "source": []
  },
  {
   "cell_type": "code",
   "execution_count": null,
   "id": "8fda86e9",
   "metadata": {},
   "outputs": [],
   "source": []
  },
  {
   "cell_type": "code",
   "execution_count": null,
   "id": "9717c1d0",
   "metadata": {},
   "outputs": [],
   "source": []
  },
  {
   "cell_type": "code",
   "execution_count": null,
   "id": "86cfda3c",
   "metadata": {},
   "outputs": [],
   "source": [
    "import weaviate\n",
    "import json\n",
    "\n",
    "client = weaviate.Client(\n",
    "    url = \"https://some-endpoint.weaviate.network\",  # Replace with your endpoint\n",
    "    auth_client_secret=weaviate.AuthApiKey(api_key=\"YOUR-WEAVIATE-API-KEY\"),  # Replace w/ your Weaviate instance API key\n",
    "    additional_headers = {\n",
    "        \"X-OpenAI-Api-Key\": \"YOUR-OPENAI-API-KEY\"  # Replace with your inference API key\n",
    "    }\n",
    ")"
   ]
  },
  {
   "cell_type": "code",
   "execution_count": 36,
   "id": "581680be",
   "metadata": {},
   "outputs": [
    {
     "name": "stderr",
     "output_type": "stream",
     "text": [
      "2023-11-26 21:53:45,824 [DEBUG] Starting new HTTPS connection (1): gptresearcher-1nr7k0wr.weaviate.network:443\n",
      "2023-11-26 21:53:46,516 [DEBUG] https://gptresearcher-1nr7k0wr.weaviate.network:443 \"GET /v1/.well-known/ready HTTP/1.1\" 200 0\n",
      "2023-11-26 21:53:46,525 [DEBUG] Starting new HTTPS connection (1): gptresearcher-1nr7k0wr.weaviate.network:443\n",
      "2023-11-26 21:53:47,180 [DEBUG] https://gptresearcher-1nr7k0wr.weaviate.network:443 \"GET /v1/meta HTTP/1.1\" 200 1302\n",
      "2023-11-26 21:53:47,223 [DEBUG] Starting new HTTPS connection (1): pypi.org:443\n",
      "2023-11-26 21:53:47,506 [DEBUG] https://pypi.org:443 \"GET /pypi/weaviate-client/json HTTP/1.1\" 200 42800\n",
      "2023-11-26 21:53:48,035 [DEBUG] https://gptresearcher-1nr7k0wr.weaviate.network:443 \"POST /v1/schema HTTP/1.1\" 422 65\n"
     ]
    },
    {
     "ename": "UnexpectedStatusCodeException",
     "evalue": "Create class! Unexpected status code: 422, with response body: {'error': [{'message': 'class name \"Question\" already exists'}]}.",
     "output_type": "error",
     "traceback": [
      "\u001b[0;31m---------------------------------------------------------------------------\u001b[0m",
      "\u001b[0;31mUnexpectedStatusCodeException\u001b[0m             Traceback (most recent call last)",
      "Cell \u001b[0;32mIn[36], line 24\u001b[0m\n\u001b[1;32m     14\u001b[0m \u001b[38;5;66;03m# ===== define collection =====\u001b[39;00m\n\u001b[1;32m     15\u001b[0m class_obj \u001b[38;5;241m=\u001b[39m {\n\u001b[1;32m     16\u001b[0m     \u001b[38;5;124m\"\u001b[39m\u001b[38;5;124mclass\u001b[39m\u001b[38;5;124m\"\u001b[39m: \u001b[38;5;124m\"\u001b[39m\u001b[38;5;124mQuestion\u001b[39m\u001b[38;5;124m\"\u001b[39m,\n\u001b[1;32m     17\u001b[0m     \u001b[38;5;124m\"\u001b[39m\u001b[38;5;124mvectorizer\u001b[39m\u001b[38;5;124m\"\u001b[39m: \u001b[38;5;124m\"\u001b[39m\u001b[38;5;124mtext2vec-openai\u001b[39m\u001b[38;5;124m\"\u001b[39m,  \u001b[38;5;66;03m# If set to \"none\" you must always provide vectors yourself. Could be any other \"text2vec-*\" also.\u001b[39;00m\n\u001b[0;32m   (...)\u001b[0m\n\u001b[1;32m     21\u001b[0m     }\n\u001b[1;32m     22\u001b[0m }\n\u001b[0;32m---> 24\u001b[0m \u001b[43mclient\u001b[49m\u001b[38;5;241;43m.\u001b[39;49m\u001b[43mschema\u001b[49m\u001b[38;5;241;43m.\u001b[39;49m\u001b[43mcreate_class\u001b[49m\u001b[43m(\u001b[49m\u001b[43mclass_obj\u001b[49m\u001b[43m)\u001b[49m\n\u001b[1;32m     26\u001b[0m \u001b[38;5;66;03m# ===== import data =====\u001b[39;00m\n\u001b[1;32m     27\u001b[0m resp \u001b[38;5;241m=\u001b[39m requests\u001b[38;5;241m.\u001b[39mget(\u001b[38;5;124m'\u001b[39m\u001b[38;5;124mhttps://raw.githubusercontent.com/weaviate-tutorials/quickstart/main/data/jeopardy_tiny.json\u001b[39m\u001b[38;5;124m'\u001b[39m)\n",
      "File \u001b[0;32m~/anaconda3/envs/okprofessor/lib/python3.9/site-packages/weaviate/schema/crud_schema.py:252\u001b[0m, in \u001b[0;36mSchema.create_class\u001b[0;34m(self, schema_class)\u001b[0m\n\u001b[1;32m    204\u001b[0m \u001b[38;5;250m\u001b[39m\u001b[38;5;124;03m\"\"\"\u001b[39;00m\n\u001b[1;32m    205\u001b[0m \u001b[38;5;124;03mCreate a single class as part of the schema in Weaviate.\u001b[39;00m\n\u001b[1;32m    206\u001b[0m \n\u001b[0;32m   (...)\u001b[0m\n\u001b[1;32m    248\u001b[0m \u001b[38;5;124;03m    If the 'schema_class' could not be validated against the standard format.\u001b[39;00m\n\u001b[1;32m    249\u001b[0m \u001b[38;5;124;03m\"\"\"\u001b[39;00m\n\u001b[1;32m    251\u001b[0m loaded_schema_class \u001b[38;5;241m=\u001b[39m _get_dict_from_object(schema_class)\n\u001b[0;32m--> 252\u001b[0m \u001b[38;5;28;43mself\u001b[39;49m\u001b[38;5;241;43m.\u001b[39;49m\u001b[43m_create_class_with_primitives\u001b[49m\u001b[43m(\u001b[49m\u001b[43mloaded_schema_class\u001b[49m\u001b[43m)\u001b[49m\n\u001b[1;32m    253\u001b[0m \u001b[38;5;28mself\u001b[39m\u001b[38;5;241m.\u001b[39m_create_complex_properties_from_class(loaded_schema_class)\n",
      "File \u001b[0;32m~/anaconda3/envs/okprofessor/lib/python3.9/site-packages/weaviate/schema/crud_schema.py:816\u001b[0m, in \u001b[0;36mSchema._create_class_with_primitives\u001b[0;34m(self, weaviate_class)\u001b[0m\n\u001b[1;32m    814\u001b[0m     \u001b[38;5;28;01mraise\u001b[39;00m RequestsConnectionError(\u001b[38;5;124m\"\u001b[39m\u001b[38;5;124mClass may not have been created properly.\u001b[39m\u001b[38;5;124m\"\u001b[39m) \u001b[38;5;28;01mfrom\u001b[39;00m \u001b[38;5;21;01mconn_err\u001b[39;00m\n\u001b[1;32m    815\u001b[0m \u001b[38;5;28;01mif\u001b[39;00m response\u001b[38;5;241m.\u001b[39mstatus_code \u001b[38;5;241m!=\u001b[39m \u001b[38;5;241m200\u001b[39m:\n\u001b[0;32m--> 816\u001b[0m     \u001b[38;5;28;01mraise\u001b[39;00m UnexpectedStatusCodeException(\u001b[38;5;124m\"\u001b[39m\u001b[38;5;124mCreate class\u001b[39m\u001b[38;5;124m\"\u001b[39m, response)\n",
      "\u001b[0;31mUnexpectedStatusCodeException\u001b[0m: Create class! Unexpected status code: 422, with response body: {'error': [{'message': 'class name \"Question\" already exists'}]}."
     ]
    }
   ],
   "source": [
    "import weaviate\n",
    "import json\n",
    "import requests\n",
    "import json\n",
    "\n",
    "client = weaviate.Client(\n",
    "    url = \"https://gptresearcher-1nr7k0wr.weaviate.network\",  # Replace with your endpoint\n",
    "    auth_client_secret=weaviate.AuthApiKey(api_key=\"PPZv94P6eFen2tXGlMXUgYyoOnhfpL6wqJ5p\"),  # Replace w/ your Weaviate instance API key\n",
    "    additional_headers = {\n",
    "        \"X-OpenAI-Api-Key\": os.environ['OPENAI_API_KEY']  # Replace with your inference API key\n",
    "    }\n",
    ")\n",
    "\n",
    "# ===== define collection =====\n",
    "class_obj = {\n",
    "    \"class\": \"Question\",\n",
    "    \"vectorizer\": \"text2vec-openai\",  # If set to \"none\" you must always provide vectors yourself. Could be any other \"text2vec-*\" also.\n",
    "    \"moduleConfig\": {\n",
    "        \"text2vec-openai\": {},\n",
    "        \"generative-openai\": {}  # Ensure the `generative-openai` module is used for generative queries\n",
    "    }\n",
    "}\n",
    "\n",
    "client.schema.create_class(class_obj)\n",
    "\n",
    "# ===== import data =====\n",
    "resp = requests.get('https://raw.githubusercontent.com/weaviate-tutorials/quickstart/main/data/jeopardy_tiny.json')\n",
    "data = json.loads(resp.text)  # Load data\n"
   ]
  },
  {
   "cell_type": "code",
   "execution_count": 38,
   "id": "0d8d07da",
   "metadata": {},
   "outputs": [
    {
     "name": "stderr",
     "output_type": "stream",
     "text": [
      "2023-11-26 21:54:03,534 [DEBUG] Starting new HTTPS connection (1): raw.githubusercontent.com:443\n",
      "2023-11-26 21:54:04,361 [DEBUG] https://raw.githubusercontent.com:443 \"GET /weaviate-tutorials/quickstart/main/data/jeopardy_tiny.json HTTP/1.1\" 200 643\n"
     ]
    }
   ],
   "source": [
    "\n",
    "# ===== import data =====\n",
    "resp = requests.get('https://raw.githubusercontent.com/weaviate-tutorials/quickstart/main/data/jeopardy_tiny.json')\n",
    "data = json.loads(resp.text)  # Load data"
   ]
  },
  {
   "cell_type": "code",
   "execution_count": 39,
   "id": "080dcb99",
   "metadata": {},
   "outputs": [
    {
     "data": {
      "text/plain": [
       "[{'Category': 'SCIENCE',\n",
       "  'Question': 'This organ removes excess glucose from the blood & stores it as glycogen',\n",
       "  'Answer': 'Liver'},\n",
       " {'Category': 'ANIMALS',\n",
       "  'Question': \"It's the only living mammal in the order Proboseidea\",\n",
       "  'Answer': 'Elephant'},\n",
       " {'Category': 'ANIMALS',\n",
       "  'Question': 'The gavial looks very much like a crocodile except for this bodily feature',\n",
       "  'Answer': 'the nose or snout'},\n",
       " {'Category': 'ANIMALS',\n",
       "  'Question': 'Weighing around a ton, the eland is the largest species of this animal in Africa',\n",
       "  'Answer': 'Antelope'},\n",
       " {'Category': 'ANIMALS',\n",
       "  'Question': 'Heaviest of all poisonous snakes is this North American rattlesnake',\n",
       "  'Answer': 'the diamondback rattler'},\n",
       " {'Category': 'SCIENCE',\n",
       "  'Question': \"2000 news: the Gunnison sage grouse isn't just another northern sage grouse, but a new one of this classification\",\n",
       "  'Answer': 'species'},\n",
       " {'Category': 'SCIENCE',\n",
       "  'Question': 'A metal that is ductile can be pulled into this while cold & under pressure',\n",
       "  'Answer': 'wire'},\n",
       " {'Category': 'SCIENCE',\n",
       "  'Question': 'In 1953 Watson & Crick built a model of the molecular structure of this, the gene-carrying substance',\n",
       "  'Answer': 'DNA'},\n",
       " {'Category': 'SCIENCE',\n",
       "  'Question': 'Changes in the tropospheric layer of this are what gives us weather',\n",
       "  'Answer': 'the atmosphere'},\n",
       " {'Category': 'SCIENCE',\n",
       "  'Question': 'In 70-degree air, a plane traveling at about 1,130 feet per second breaks it',\n",
       "  'Answer': 'Sound barrier'}]"
      ]
     },
     "execution_count": 39,
     "metadata": {},
     "output_type": "execute_result"
    }
   ],
   "source": [
    "data"
   ]
  },
  {
   "cell_type": "code",
   "execution_count": 22,
   "id": "3f034fe4",
   "metadata": {},
   "outputs": [
    {
     "name": "stderr",
     "output_type": "stream",
     "text": [
      "2023-11-26 12:36:25,611 [DEBUG] Starting new HTTPS connection (2): gptresearcher-1nr7k0wr.weaviate.network:443\n"
     ]
    },
    {
     "name": "stdout",
     "output_type": "stream",
     "text": [
      "importing question: 1\n",
      "importing question: 2\n",
      "importing question: 3\n",
      "importing question: 4\n",
      "importing question: 5\n",
      "importing question: 6\n",
      "importing question: 7\n",
      "importing question: 8\n",
      "importing question: 9\n",
      "importing question: 10\n"
     ]
    },
    {
     "name": "stderr",
     "output_type": "stream",
     "text": [
      "2023-11-26 12:36:26,054 [DEBUG] https://gptresearcher-1nr7k0wr.weaviate.network:443 \"GET /v1/nodes HTTP/1.1\" 200 305\n",
      "2023-11-26 12:36:26,943 [DEBUG] https://gptresearcher-1nr7k0wr.weaviate.network:443 \"POST /v1/batch/objects HTTP/1.1\" 200 None\n"
     ]
    }
   ],
   "source": [
    "\n",
    "client.batch.configure(batch_size=100)  # Configure batch\n",
    "with client.batch as batch:  # Initialize a batch process\n",
    "    for i, d in enumerate(data):  # Batch import data\n",
    "        print(f\"importing question: {i+1}\")\n",
    "        properties = {\n",
    "            \"answer\": d[\"Answer\"],\n",
    "            \"question\": d[\"Question\"],\n",
    "            \"category\": d[\"Category\"],\n",
    "        }\n",
    "        batch.add_data_object(\n",
    "            data_object=properties,\n",
    "            class_name=\"Question\"\n",
    "        )"
   ]
  },
  {
   "cell_type": "code",
   "execution_count": 23,
   "id": "c98eb812",
   "metadata": {},
   "outputs": [
    {
     "name": "stderr",
     "output_type": "stream",
     "text": [
      "2023-11-26 12:38:19,824 [DEBUG] https://gptresearcher-1nr7k0wr.weaviate.network:443 \"POST /v1/graphql HTTP/1.1\" 200 353\n"
     ]
    },
    {
     "name": "stdout",
     "output_type": "stream",
     "text": [
      "{\n",
      "    \"data\": {\n",
      "        \"Get\": {\n",
      "            \"Question\": [\n",
      "                {\n",
      "                    \"answer\": \"DNA\",\n",
      "                    \"category\": \"SCIENCE\",\n",
      "                    \"question\": \"In 1953 Watson & Crick built a model of the molecular structure of this, the gene-carrying substance\"\n",
      "                },\n",
      "                {\n",
      "                    \"answer\": \"species\",\n",
      "                    \"category\": \"SCIENCE\",\n",
      "                    \"question\": \"2000 news: the Gunnison sage grouse isn't just another northern sage grouse, but a new one of this classification\"\n",
      "                }\n",
      "            ]\n",
      "        }\n",
      "    }\n",
      "}\n"
     ]
    }
   ],
   "source": [
    "response = (\n",
    "    client.query\n",
    "    .get(\"Question\", [\"question\", \"answer\", \"category\"])\n",
    "    .with_near_text({\"concepts\": [\"biology\"]})\n",
    "    .with_limit(2)\n",
    "    .do()\n",
    ")\n",
    "\n",
    "print(json.dumps(response, indent=4))"
   ]
  },
  {
   "cell_type": "code",
   "execution_count": 25,
   "id": "e61d2f35",
   "metadata": {},
   "outputs": [
    {
     "data": {
      "text/plain": [
       "<weaviate.schema.crud_schema.Schema at 0x160372730>"
      ]
     },
     "execution_count": 25,
     "metadata": {},
     "output_type": "execute_result"
    }
   ],
   "source": [
    "client.schema"
   ]
  },
  {
   "cell_type": "code",
   "execution_count": null,
   "id": "8598c72b",
   "metadata": {},
   "outputs": [],
   "source": []
  },
  {
   "cell_type": "code",
   "execution_count": null,
   "id": "42e2c830",
   "metadata": {},
   "outputs": [],
   "source": []
  },
  {
   "cell_type": "code",
   "execution_count": null,
   "id": "e3df2262",
   "metadata": {},
   "outputs": [],
   "source": []
  },
  {
   "cell_type": "code",
   "execution_count": null,
   "id": "6ecc46ea",
   "metadata": {},
   "outputs": [],
   "source": []
  },
  {
   "cell_type": "code",
   "execution_count": null,
   "id": "69ae73f4",
   "metadata": {},
   "outputs": [],
   "source": []
  },
  {
   "cell_type": "code",
   "execution_count": null,
   "id": "b5d0e312",
   "metadata": {},
   "outputs": [],
   "source": []
  },
  {
   "cell_type": "code",
   "execution_count": 19,
   "id": "39d727df",
   "metadata": {},
   "outputs": [
    {
     "data": {
      "text/plain": [
       "'https://api.smith.langchain.com'"
      ]
     },
     "execution_count": 19,
     "metadata": {},
     "output_type": "execute_result"
    }
   ],
   "source": []
  },
  {
   "cell_type": "markdown",
   "id": "4e791bde",
   "metadata": {},
   "source": [
    "## Combined operations / scrape/chunk/embedandindex"
   ]
  },
  {
   "cell_type": "code",
   "execution_count": 26,
   "id": "88baf8c0",
   "metadata": {},
   "outputs": [],
   "source": [
    "import sys\n",
    "sys.path.append('/Users/cohlem/Projects/OkProfessor')\n"
   ]
  },
  {
   "cell_type": "code",
   "execution_count": 27,
   "id": "d580f916",
   "metadata": {},
   "outputs": [
    {
     "data": {
      "text/plain": [
       "['/Users/cohlem/Projects/OkProfessor/researcher/notebooks',\n",
       " '/Users/cohlem/anaconda3/envs/okprofessor/lib/python39.zip',\n",
       " '/Users/cohlem/anaconda3/envs/okprofessor/lib/python3.9',\n",
       " '/Users/cohlem/anaconda3/envs/okprofessor/lib/python3.9/lib-dynload',\n",
       " '',\n",
       " '/Users/cohlem/anaconda3/envs/okprofessor/lib/python3.9/site-packages',\n",
       " '/Users/cohlem/Projects/OkProfessor']"
      ]
     },
     "execution_count": 27,
     "metadata": {},
     "output_type": "execute_result"
    }
   ],
   "source": []
  },
  {
   "cell_type": "code",
   "execution_count": 28,
   "id": "42f9f1ae",
   "metadata": {},
   "outputs": [],
   "source": [
    "# chunk.py\n",
    "from researcher.scraping.scrape import Scraper"
   ]
  },
  {
   "cell_type": "code",
   "execution_count": 29,
   "id": "ff2b72fd",
   "metadata": {},
   "outputs": [
    {
     "name": "stderr",
     "output_type": "stream",
     "text": [
      "2023-11-26 12:53:57,086 [DEBUG] Starting new HTTPS connection (1): www.nerdwallet.com:443\n",
      "2023-11-26 12:53:57,087 [DEBUG] Starting new HTTPS connection (2): www.nerdwallet.com:443\n",
      "2023-11-26 12:53:57,087 [DEBUG] Starting new HTTPS connection (1): hbr.org:443\n",
      "2023-11-26 12:53:57,110 [DEBUG] Starting new HTTPS connection (1): www.sec.gov:443\n",
      "2023-11-26 12:53:58,392 [DEBUG] https://www.sec.gov:443 \"GET /investor/pubs/sec-guide-to-savings-and-investing.pdf HTTP/1.1\" 403 919\n",
      "2023-11-26 12:53:58,422 [DEBUG] https://www.nerdwallet.com:443 \"GET /article/investing/how-to-invest-money HTTP/1.1\" 200 None\n",
      "2023-11-26 12:53:58,573 [DEBUG] https://www.nerdwallet.com:443 \"GET /article/investing/investment-strategies HTTP/1.1\" 200 None\n",
      "2023-11-26 12:53:59,121 [DEBUG] https://hbr.org:443 \"GET /2021/08/how-to-make-smart-investments-a-beginners-guide HTTP/1.1\" 200 None\n"
     ]
    }
   ],
   "source": [
    "scraping = Scraper(['https://hbr.org/2021/08/how-to-make-smart-investments-a-beginners-guide', \"https://www.nerdwallet.com/article/investing/how-to-invest-money\", \"https://www.nerdwallet.com/article/investing/investment-strategies\", \"https://www.sec.gov/investor/pubs/sec-guide-to-savings-and-investing.pdf\"])\n",
    "data = scraping.run()"
   ]
  },
  {
   "cell_type": "code",
   "execution_count": 32,
   "id": "c47c6d97",
   "metadata": {},
   "outputs": [
    {
     "data": {
      "text/plain": [
       "{'url': 'https://www.nerdwallet.com/article/investing/investment-strategies',\n",
       " 'raw_content': 'You’re our first priority.Every time.\\nNerdWallet, Inc. is an independent publisher and comparison service, not an investment advisor. Its articles, interactive tools and other content are provided to you for free, as self-help tools and for informational purposes only. They are not intended to provide investment advice. NerdWallet does not and cannot guarantee the accuracy or applicability of any information in regard to your individual circumstances. Examples are hypothetical, and we encourage you to seek personalized advice from qualified professionals regarding specific investment issues. Our estimates are based on past market performance, and past performance is not a guarantee of future performance.\\nWe believe everyone should be able to make financial decisions with confidence. And while our site doesn’t feature every company or financial product available on the market, we’re proud that the guidance we offer, the information we provide and the tools we create are objective, independent, straightforward — and free.\\nSo how do we make money? Our partners compensate us. This may influence which products we review and write about (and where those products appear on the site), but it in no way affects our recommendations or advice, which are grounded in thousands of hours of research. Our partners cannot pay us to guarantee favorable reviews of their products or services. Here is a list of our partners.\\n9 Investment Strategies for New Investors\\nMany or all of the products featured here are from our partners who compensate us. This influences which products we write about and where and how the product appears on a page. However, this does not influence our evaluations. Our opinions are our own. Here is a list of our partners and here\\'s how we make money.\\nThe investing information provided on this page is for educational purposes only. NerdWallet, Inc. does not offer advisory or brokerage services, nor does it recommend or advise investors to buy or sell particular stocks, securities or other investments.\\nThe best investment strategies increase the money investors make and decrease their exposure to risk.\\nThe strategy will vary depending on your end investment goal and its timeframe, your risk tolerance and how involved you want to be in choosing individual investments.\\nMany investors combine multiple strategies to find the best personalized strategy to fit their situation.\\nWhat\\'s an investment strategy?\\nAn investment strategy is a way of thinking that shapes how you select the investments in your portfolio. The best strategies should help you meet your financial goals and grow your wealth while maintaining a level of risk that lets you sleep at night. The strategy you choose may influence everything from what types of assets you have to how you approach buying and selling those assets.\\nIf you\\'re ready to start investing, a good rule of thumb is to ask yourself some basic questions: What are your goals? How much time until you retire? How comfortable are you with risk? Do you know how much you want to invest in stocks, bonds or an alternative?\\nThis is where investment strategies come into play.\\nCharles Schwab\\nInteractive Brokers IBKR Lite\\nWebull\\n4.9\\n5.0\\n4.7\\nFees\\n$0\\nper trade\\nFees\\n$0\\nper trade\\nFees\\n$0\\nper trade\\nAccount minimum\\n$0\\nAccount minimum\\n$0\\nAccount minimum\\n$0\\nPromotion\\nNone\\nno promotion available at this time\\nPromotion\\nNone\\nno promotion available at this time\\nPromotion\\nGet up to 12 free fractional shares (valued up to $3,000)\\nwhen you open and fund an account with Webull.\\n9 popular investment strategies\\nThere are numerous ways to approach investing, and here are some of the more popular investing strategies to consider.\\n1. Start with a new or existing retirement account\\nOne way to begin investing is through a retirement account. Open or access an individual retirement account, or IRA, through a brokerage account. Then choose investments that are aligned with your goals.\\nIf you already have a retirement account through your employer, it\\'s generally a good idea to contribute to that 401(k) first — and qualify for the company match — before you start funding your IRA. Employer match programs are free money you don\\'t want to leave on the table.\\nHowever, you should know that most 401(k)s offer relatively few investment choices, so the options for strategy within those vehicles are usually limited. Whereas IRAs give you access to a more expansive world of investments than your 401(k) may offer.\\nYou can also trade through a brokerage account for long-term goals other than retirement.\\n» Need more direction? Read How to Invest at Any Life Stage\\n2. Buy-and-hold investing\\nIt’s always nice when things have a clear label, and you can’t get much clearer than “buy and hold.” Buy-and-hold strategists seek investments they believe will perform well over many years. The idea is to not get rattled when the market dips or drops in the short term, but to hold onto your investments and stay the course. Buy-and-hold works only if investors believe in their investment’s long-term potential through those short-term declines.\\nThis strategy requires investors to carefully evaluate their investments — whether they are broad index funds or a rising young stock — for their long-term growth prospects upfront. But once this initial work is done, holding investments saves time you would have spent trading, and often beats the returns of more-active trading strategies.\\n» Want to know more? Dive into details on buy-and-hold investment strategy\\n3. Active investing\\nActive investors prefer trading more frequently and opportunistically to capitalize on market fluctuations. Stock traders may use technical analysis, the study of past market data such as trading volume or price trends, to help anticipate where market prices might go.\\nActive trading includes different strategies based upon pricing, such as swing or spread trading, and can also include momentum and event-driven strategies. Momentum investing seeks to identify and follow trends currently in favor to profit off of market sentiment. Event-driven investing strategies attempt to capture pricing differences during corporate changes and events, such as during mergers and acquisitions, or a distressed company filing for bankruptcy.\\n» To time or not to time? Learn more about market timing\\n4. Dollar-cost averaging\\nThe biggest challenge to timing the markets is getting it right on a consistent basis. For those investors wary of trying their luck on market timing but still wanting a good entry point into the market, the strategy of dollar-cost averaging may appeal.\\nInvestors who dollar-cost average their way into the market spread their stock or fund purchases out over time, buying the same amount at regular intervals. Doing so helps to \"smooth\" out the purchase price over time as you purchase more shares when the stock price is down and buy less shares when the stock price is up. Over time, you gain a better average entry price and reduce the impact of market volatility on your portfolio.\\n5. Index investing\\nWhile there are active and passive approaches to investing, there are also active and passive investments themselves when deciding between various types of funds. Investors frequently use mutual funds, index funds and exchange-traded funds (ETFs) to populate their investment portfolio because funds provide access to a collection of securities, generally stocks and bonds, through one vehicle. Funds allow investors to benefit from diversification, spreading investment risk across many securities to help balance volatility.\\n» Learn more: What are ETFs?\\nActive funds employ a portfolio or fund manager to handpick certain investments to populate the fund based upon proprietary research, analysis and forecasts. The manager\\'s goal is to outperform the fund\\'s corresponding index or benchmark. Passive funds, such as index funds and most ETFs, simply mimic an underlying index, providing the investor with similar performance to that particular index.\\nSome mutual funds have high expense ratios or high minimum investments (or both). But investors can often sidestep the highest of such costs by comparison shopping among mutual funds, or by favoring index funds and ETFs, which tend to offer lower expense ratios than actively managed funds. Given the lower cost of passive funds and the arduous task of beating the benchmark facing portfolio managers, index or passive investing often delivers better overall returns over time.\\n6. Growth investing\\nGrowth investing involves buying shares of emerging companies that appear poised to grow at an above-average pace in the future. Companies like this often offer a unique product or service that competitors can\\'t easily duplicate. While growth stocks are far from a sure thing, their allure is that they might grow in value much faster than established stocks if the underlying business takes off. Growth investors are willing to pay a premium price for these stocks in exchange for their robust future growth potential.\\nNew technologies often fall into this category. For example, if someone believes that home buyers are going to shift increasingly from banks to online mortgage lenders with a streamlined application process, they might invest in the lender they believe will become dominant in that market.\\nInvestors can also look toward burgeoning geographies or companies to find growth. As they industrialize, emerging markets or developing economies usually are more volatile but also grow at a faster pace compared to their more-developed peers. Companies are valued by market capitalization, or market cap, which is calculated by their total outstanding shares available times the market price of the shares. Small-cap stocks, shares of companies usually valued at $2 billion in market cap or less, provide investors with greater potential risk but also greater potential return due to their faster growth trajectory.\\n7. Value investing\\nMade famous by investors such as Warren Buffett, value investing is the bargain shopping of investment strategies. By purchasing what they believe to be undervalued stocks with strong long-term prospects, value investors aim to reap the rewards when the companies achieve their true potential in the years ahead. Value investing usually requires a pretty active hand, someone who is willing to watch the market and news for clues on which stocks are undervalued at any given time.\\nThink about it like this: A value investor might scoop up shares of a historically successful car company when its stock price drops following the release of an awful new model, so long as the investor feels the new model was a fluke and that the company will bounce back over time.\\n» Grow your investment. Compare and contrast growth and value investing\\nValue investing is considered a contrarian strategy because investors are going against the grain or investing in stocks or sectors currently out of favor. A subset of investors take value investing a step further by not just investing in cheaper stocks and sectors but purposely seeking out the cheapest ones out there to invest in so-called deep value.\\n8. Income investing\\nInvestment strategies can help investors achieve a particular aim; for instance, producing a steady income stream. Many investors use income investing to help cover their living expenses particularly when transitioning into retirement.\\nThere are different investments that can produce income, from dividend-paying stocks to bond and CD ladders to real estate.\\n» Learn more: What is a bond\\n9. Socially responsible investing\\nSocial issues such as climate change and racial justice impact lives on a day-to-day basis. Socially responsible investing (SRI) aims to create positive change in society while also generating positive returns. In addition to investment performance, SRI investors look into a company’s business practices and revenue sources to ensure they\\'re aligned with their personal values.\\nSome investors employ SRI by excluding stocks of companies that go against their moral compass; for instance, they might exclude investments in “sin” stocks or tobacco- and alcohol-related companies. Others intentionally direct their investment dollars toward issues they care about, such as into renewable energy companies.\\n» Want an ethical portfolio? Learn more about socially responsible investing\\nPrinciples of investment strategies\\nWhatever investment strategy you choose, it’s important to consider your investing goals. Where your investment style will fall in the following categories depends on many factors: Everything from your age to your finances and even your comfort level doing it yourself will help determine what your portfolio will look like.\\nLong-term goals vs. short-term goals\\nWhen investing for long-term goals — those five years or more in the future — it may make sense to choose higher-yielding (but more volatile) instruments like stocks and stock funds. But there are smart ways to pursue short-term savings goals, too. If you’re saving for a down payment on a house, you may want to place those savings in a more stable environment, like CDs or a high-yield savings account. Since you have a shorter time frame for your money to grow with a goal like this, there is less time to weather the volatility of the stock market.\\n» Saving for the short term? Read about the best short-term investment accounts\\nLong-term savings goals, such as retirement, can handle the fluctuations of the market. Since those investments will be in the market for longer — provided the investor can stay the course when there are major changes in the short term — there is less need to worry about those shorter-term dips. These long-term investments are better served by a mix of stocks and bonds or stock mutual funds.\\nCharles Schwab\\nInteractive Brokers IBKR Lite\\nWebull\\n4.9\\n5.0\\n4.7\\nFees\\n$0\\nper trade\\nFees\\n$0\\nper trade\\nFees\\n$0\\nper trade\\nAccount minimum\\n$0\\nAccount minimum\\n$0\\nAccount minimum\\n$0\\nPromotion\\nNone\\nno promotion available at this time\\nPromotion\\nNone\\nno promotion available at this time\\nPromotion\\nGet up to 12 free fractional shares (valued up to $3,000)\\nwhen you open and fund an account with Webull.\\nLow-risk vs. high-risk investing strategy\\nInvestment strategies always come with some amount of risk, and in almost every way risk and reward are linked. Investors who pursue higher rewards are usually taking bigger risks. For example, a bank CD is insured by the Federal Deposit Insurance Corp. and has virtually no risk. It also pays very little in return. A young tech startup’s stock, on the other hand, is likely higher-risk, but there is a chance it could explode in value.\\nThere are many shades of risk in between, but whatever path you choose, make sure you’re prepared to deal with them.\\nDo-it-yourself vs. hiring professional help\\nInvestors have many choices when it comes to managing their investment portfolio. How involved do you want to be in the investing process? How much do you already know about investing? Beginner investors may prefer to hand their savings off to a robo-advisor — an automated, low-cost investing service — rather than take on the challenge of making all the choices themselves.\\nMore advanced investors or avid DIYers might opt to take a more active role, whether that means trading every day or just keeping tabs on their portfolios. Active investing can be a lot of work and may not give you higher returns than passive investing strategies.\\nBest Brokerage Accounts for Stock Trading\\nRead more\\nBest Online Stock Brokers for Beginners\\nRead more\\nBest Robo-Advisors\\nRead more\\nDisclaimer: NerdWallet strives to keep its information accurate and up to date. This information may be different than what you see when you visit a financial institution, service provider or specific product’s site. All financial products, shopping products and services are presented without warranty. When evaluating offers, please review the financial institution’s Terms and Conditions. Pre-qualified offers are not binding. If you find discrepancies with your credit score or information from your credit report, please contact TransUnion® directly.\\nNerdUp by NerdWallet credit card: Bank services offered by Evolve Bank & Trust, Member FDIC. The NerdUp by NerdWallet Credit Card is issued by Evolve Bank & Trust pursuant to a license from Mastercard International, Inc.\\nNerdWallet Compare, Inc. NMLS ID# 1617539\\nNMLS Consumer Access|Licenses and Disclosures\\nCalifornia: California Finance Lender loans arranged pursuant to Department of Financial Protection and Innovation Finance Lenders License #60DBO-74812\\nProperty and Casualty insurance services offered through NerdWallet Insurance Services, Inc. (CA resident license no. OK92033) \\xa0Property & Casualty Licenses\\nNerdWallet™ | 55 Hawthorne St. - 10th Floor, San Francisco, CA 94105'}"
      ]
     },
     "execution_count": 32,
     "metadata": {},
     "output_type": "execute_result"
    }
   ],
   "source": [
    "data[2]"
   ]
  },
  {
   "cell_type": "code",
   "execution_count": 34,
   "id": "e9954fa3",
   "metadata": {},
   "outputs": [
    {
     "data": {
      "text/plain": [
       "3"
      ]
     },
     "execution_count": 34,
     "metadata": {},
     "output_type": "execute_result"
    }
   ],
   "source": [
    "len(data)"
   ]
  },
  {
   "cell_type": "code",
   "execution_count": null,
   "id": "0da74265",
   "metadata": {},
   "outputs": [],
   "source": [
    "import os\n",
    "import json\n",
    "import requests\n",
    "import weaviate\n",
    "from dotenv import load_dotenv\n",
    "\n",
    "# Load environment variables from .env file\n",
    "load_dotenv()\n",
    "\n",
    "class WeaviateClient:\n",
    "    def __init__(self, weaviate_url=None, weaviate_api_key=None, openai_api_key=None):\n",
    "        # Use environment variables if the values are not provided explicitly\n",
    "        self.weaviate_url = weaviate_url or os.getenv(\"WEAVIATE_URL\")\n",
    "        self.weaviate_api_key = weaviate_api_key or os.getenv(\"WEAVIATE_API_KEY\")\n",
    "        self.openai_api_key = openai_api_key or os.getenv(\"OPENAI_API_KEY\")\n",
    "        \n",
    "        # Initialize Weaviate client\n",
    "        self.client = weaviate.Client(\n",
    "            url=self.weaviate_url,\n",
    "            auth_client_secret=weaviate.AuthApiKey(api_key=self.weaviate_api_key),\n",
    "            additional_headers={\n",
    "                \"X-OpenAI-Api-Key\": self.openai_api_key\n",
    "            }\n",
    "        )\n",
    "\n",
    "    def create_collection(self, collection_name, embedding_model):\n",
    "        \n",
    "        if embedding_model == 'openai': #uses text-embedding-ada-002 by default\n",
    "            vectorizer = \"text2vec-openai\"\n",
    "            \n",
    "        class_obj = {\n",
    "            \"class\": collection_name,\n",
    "            \"vectorizer\":vectorizer ,\n",
    "            \"moduleConfig\": {\n",
    "                \n",
    "                vectorizer: {}, #class level module configs\n",
    "            }\n",
    "        }\n",
    "        self.client.schema.create_class(class_obj)\n",
    "\n",
    "        \n",
    "    \n",
    "    def embed(self, collection_name, data):\n",
    "        self.client.batch.configure(batch_size=100)  # Configure batch\n",
    "        with self.client.batch as batch:  # Initialize a batch process\n",
    "            for i, d in enumerate(data):  # Batch import data\n",
    "                print(f\"Importing question: {i + 1}\")\n",
    "                \n",
    "                properties = {\n",
    "                    \"text\": d.page_content,\n",
    "                    \"url\": d.metadata['url']\n",
    "                }\n",
    "                \n",
    "                batch.add_data_object(\n",
    "                    data_object=properties,\n",
    "                    class_name= collection_name\n",
    "                )\n",
    "                \n",
    "                \n",
    "                \n",
    "            \n",
    "\n",
    "# Example usage\n",
    "data_url = 'https://raw.githubusercontent.com/weaviate-tutorials/quickstart/main/data/jeopardy_tiny.json'\n",
    "\n",
    "weaviate_instance = WeaviateClient()\n",
    "weaviate_instance.create_question_class()\n",
    "weaviate_instance.import_data(data_url)\n"
   ]
  },
  {
   "cell_type": "code",
   "execution_count": null,
   "id": "d71d7744",
   "metadata": {},
   "outputs": [],
   "source": []
  },
  {
   "cell_type": "code",
   "execution_count": 40,
   "id": "aab4384e",
   "metadata": {},
   "outputs": [
    {
     "ename": "NameError",
     "evalue": "name 'weaviate_instance' is not defined",
     "output_type": "error",
     "traceback": [
      "\u001b[0;31m---------------------------------------------------------------------------\u001b[0m",
      "\u001b[0;31mNameError\u001b[0m                                 Traceback (most recent call last)",
      "Cell \u001b[0;32mIn[40], line 2\u001b[0m\n\u001b[1;32m      1\u001b[0m response \u001b[38;5;241m=\u001b[39m (\n\u001b[0;32m----> 2\u001b[0m     \u001b[43mweaviate_instance\u001b[49m\u001b[38;5;241m.\u001b[39mquery\n\u001b[1;32m      3\u001b[0m     \u001b[38;5;241m.\u001b[39mget(\u001b[38;5;124m\"\u001b[39m\u001b[38;5;124minvestment_strategies\u001b[39m\u001b[38;5;124m\"\u001b[39m, [\u001b[38;5;124m\"\u001b[39m\u001b[38;5;124mtext\u001b[39m\u001b[38;5;124m\"\u001b[39m, \u001b[38;5;124m\"\u001b[39m\u001b[38;5;124murl\u001b[39m\u001b[38;5;124m\"\u001b[39m])\n\u001b[1;32m      4\u001b[0m     \u001b[38;5;241m.\u001b[39mwith_near_text(\u001b[38;5;124m\"\u001b[39m\u001b[38;5;124mMUTUAL FUNDS AND ETFs WITHOUT ACTIVE MANAGEMENT\u001b[39m\u001b[38;5;124m\"\u001b[39m)\n\u001b[1;32m      5\u001b[0m     \u001b[38;5;241m.\u001b[39mwith_limit(\u001b[38;5;241m2\u001b[39m)\n\u001b[1;32m      6\u001b[0m     \u001b[38;5;241m.\u001b[39mdo()\n\u001b[1;32m      7\u001b[0m )\n\u001b[1;32m      9\u001b[0m \u001b[38;5;28mprint\u001b[39m(json\u001b[38;5;241m.\u001b[39mdumps(response, indent\u001b[38;5;241m=\u001b[39m\u001b[38;5;241m4\u001b[39m))\n",
      "\u001b[0;31mNameError\u001b[0m: name 'weaviate_instance' is not defined"
     ]
    }
   ],
   "source": [
    "response = (\n",
    "    weaviate_instance.query\n",
    "    .get(\"investment_strategies\", [\"text\", \"url\"])\n",
    "    .with_near_text(\"MUTUAL FUNDS AND ETFs WITHOUT ACTIVE MANAGEMENT\")\n",
    "    .with_limit(2)\n",
    "    .do()\n",
    ")\n",
    "\n",
    "print(json.dumps(response, indent=4))"
   ]
  },
  {
   "cell_type": "code",
   "execution_count": null,
   "id": "e58ef09e",
   "metadata": {},
   "outputs": [],
   "source": []
  },
  {
   "cell_type": "markdown",
   "id": "e6851fd0",
   "metadata": {},
   "source": [
    "## Class based "
   ]
  },
  {
   "cell_type": "code",
   "execution_count": 41,
   "id": "bb51f0ae",
   "metadata": {},
   "outputs": [
    {
     "name": "stderr",
     "output_type": "stream",
     "text": [
      "2023-11-27 11:52:39,693 [DEBUG] Starting new HTTPS connection (1): gptresearcher-1nr7k0wr.weaviate.network:443\n",
      "2023-11-27 11:52:40,899 [DEBUG] https://gptresearcher-1nr7k0wr.weaviate.network:443 \"GET /v1/.well-known/ready HTTP/1.1\" 200 0\n",
      "2023-11-27 11:52:40,910 [DEBUG] Starting new HTTPS connection (1): gptresearcher-1nr7k0wr.weaviate.network:443\n",
      "2023-11-27 11:52:41,844 [DEBUG] https://gptresearcher-1nr7k0wr.weaviate.network:443 \"GET /v1/meta HTTP/1.1\" 200 1302\n",
      "2023-11-27 11:52:41,894 [DEBUG] Starting new HTTPS connection (1): pypi.org:443\n"
     ]
    }
   ],
   "source": [
    "import os\n",
    "import json\n",
    "import requests\n",
    "import weaviate\n",
    "from dotenv import load_dotenv\n",
    "\n",
    "# Load environment variables from .env file\n",
    "load_dotenv()\n",
    "\n",
    "class WeaviateClient:\n",
    "    def __init__(self, weaviate_url=None, weaviate_api_key=None, openai_api_key=None):\n",
    "        # Use environment variables if the values are not provided explicitly\n",
    "        self.__weaviate_url = weaviate_url or os.getenv(\"WEAVIATE_URL\")\n",
    "        self.__weaviate_api_key = weaviate_api_key or os.getenv(\"WEAVIATE_API_KEY\")\n",
    "        self.__openai_api_key = openai_api_key or os.getenv(\"OPENAI_API_KEY\")\n",
    "        \n",
    "        # Initialize Weaviate client\n",
    "        self.client = weaviate.Client(\n",
    "            url=self.__weaviate_url,\n",
    "            auth_client_secret=weaviate.AuthApiKey(api_key=self.__weaviate_api_key),\n",
    "            additional_headers={\n",
    "                \"X-OpenAI-Api-Key\": self.__openai_api_key\n",
    "            }\n",
    "        )\n",
    "\n",
    "    def create_collection(self, collection_name, embedding_model):\n",
    "        \n",
    "        if embedding_model == 'openai': #uses text-embedding-ada-002 by default\n",
    "            vectorizer = \"text2vec-openai\"\n",
    "            \n",
    "        class_obj = {\n",
    "            \"class\": collection_name,\n",
    "            \"vectorizer\":vectorizer ,\n",
    "            \"moduleConfig\": {\n",
    "                \n",
    "                vectorizer: {}, #class level module configs\n",
    "            }\n",
    "        }\n",
    "        self.client.schema.create_class(class_obj)\n",
    "\n",
    "        \n",
    "    \n",
    "    def embed(self, collection_name, data):\n",
    "        self.client.batch.configure(batch_size=100)  # Configure batch\n",
    "        with self.client.batch as batch:  # Initialize a batch process\n",
    "            for i, d in enumerate(data):  # Batch import data\n",
    "                print(f\"Importing question: {i + 1}\")\n",
    "                \n",
    "                properties = {\n",
    "                    \"text\": d.page_content,\n",
    "                    \"url\": d.metadata['url']\n",
    "                }\n",
    "                \n",
    "                batch.add_data_object(\n",
    "                    data_object=properties,\n",
    "                    class_name= collection_name\n",
    "                )\n",
    "                \n",
    "                \n",
    "                \n",
    "    def semantic_search(self, collection_name, query_text, K=5):\n",
    "\n",
    "        response = (\n",
    "            self.client.query\n",
    "            .get(collection_name, [\"text\", \"url\"])\n",
    "            .with_near_text({\"concepts\": query_text })\n",
    "            .with_limit(K)\n",
    "            .do()\n",
    "        )\n",
    "\n",
    "        return response\n",
    "\n",
    "    def hybrid_search(self, collection_name, query_text, K=5):\n",
    "        \n",
    "        response = (\n",
    "            self.client.query\n",
    "            .get(collection_name, [\"text\", \"url\"])\n",
    "            .with_hybrid(\n",
    "                query= query_text\n",
    "            )\n",
    "            .with_limit(K)\n",
    "            .do()\n",
    "        )\n",
    "            \n",
    "        return response\n",
    "\n",
    "\n",
    "weaviate_instance = WeaviateClient()\n",
    "\n"
   ]
  },
  {
   "cell_type": "markdown",
   "id": "e783a1ee",
   "metadata": {},
   "source": [
    "## Query modification"
   ]
  },
  {
   "cell_type": "code",
   "execution_count": 42,
   "id": "3a10cc12",
   "metadata": {},
   "outputs": [],
   "source": [
    "def generate_search_queries_prompt(question, max_iterations=3):\n",
    "    \"\"\" Generates the search queries prompt for the given question.\n",
    "    Args: question (str): The question to generate the search queries prompt for\n",
    "    Returns: str: The search queries prompt for the given question\n",
    "    \"\"\"\n",
    "\n",
    "    return f'Write {max_iterations} google search queries to search online that form an objective opinion from the following: \"{question}\"' \\\n",
    "           f'Use the current date if needed: {datetime.now().strftime(\"%B %d, %Y\")}.\\n' \\\n",
    "           f'You must respond with a list of strings in the following format: [\"query 1\", \"query 2\", \"query 3\"].'\n",
    "\n"
   ]
  },
  {
   "cell_type": "code",
   "execution_count": null,
   "id": "948d2e47",
   "metadata": {},
   "outputs": [],
   "source": [
    "def create_chat_completion(messages, temperature, llm_provider=\"openai\", ):\n",
    "    pass"
   ]
  },
  {
   "cell_type": "code",
   "execution_count": 45,
   "id": "47e974d2",
   "metadata": {},
   "outputs": [
    {
     "name": "stderr",
     "output_type": "stream",
     "text": [
      "2023-11-27 16:40:54,682 [DEBUG] load_ssl_context verify=True cert=None trust_env=True http2=False\n",
      "2023-11-27 16:40:54,684 [DEBUG] load_verify_locations cafile='/Users/cohlem/anaconda3/envs/okprofessor/lib/python3.9/site-packages/certifi/cacert.pem'\n"
     ]
    }
   ],
   "source": [
    "from openai import OpenAI\n",
    "load_dotenv()\n",
    "\n",
    "client = OpenAI(\n",
    "    # defaults to os.environ.get(\"OPENAI_API_KEY\")\n",
    "#     api_key= oai_key,\n",
    ")\n"
   ]
  },
  {
   "cell_type": "code",
   "execution_count": null,
   "id": "eb458766",
   "metadata": {},
   "outputs": [],
   "source": []
  },
  {
   "cell_type": "code",
   "execution_count": 50,
   "id": "bd877f25",
   "metadata": {},
   "outputs": [
    {
     "name": "stderr",
     "output_type": "stream",
     "text": [
      "2023-11-28 13:05:44,284 [DEBUG] Request options: {'method': 'post', 'url': '/chat/completions', 'files': None, 'json_data': {'messages': [{'role': 'user', 'content': 'describe openai in a paragraph.'}], 'model': 'gpt-3.5-turbo', 'stream': True, 'temperature': 0}}\n",
      "2023-11-28 13:05:44,287 [DEBUG] close.started\n",
      "2023-11-28 13:05:44,295 [DEBUG] close.complete\n",
      "2023-11-28 13:05:44,296 [DEBUG] connect_tcp.started host='api.openai.com' port=443 local_address=None timeout=5.0 socket_options=None\n",
      "2023-11-28 13:05:44,402 [DEBUG] connect_tcp.complete return_value=<httpcore._backends.sync.SyncStream object at 0x15c196310>\n",
      "2023-11-28 13:05:44,403 [DEBUG] start_tls.started ssl_context=<ssl.SSLContext object at 0x15c19e440> server_hostname='api.openai.com' timeout=5.0\n",
      "2023-11-28 13:05:44,422 [DEBUG] start_tls.complete return_value=<httpcore._backends.sync.SyncStream object at 0x15c18aa00>\n",
      "2023-11-28 13:05:44,423 [DEBUG] send_request_headers.started request=<Request [b'POST']>\n",
      "2023-11-28 13:05:44,424 [DEBUG] send_request_headers.complete\n",
      "2023-11-28 13:05:44,424 [DEBUG] send_request_body.started request=<Request [b'POST']>\n",
      "2023-11-28 13:05:44,425 [DEBUG] send_request_body.complete\n",
      "2023-11-28 13:05:44,426 [DEBUG] receive_response_headers.started request=<Request [b'POST']>\n",
      "2023-11-28 13:05:45,696 [DEBUG] receive_response_headers.complete return_value=(b'HTTP/1.1', 200, b'OK', [(b'Date', b'Tue, 28 Nov 2023 07:20:45 GMT'), (b'Content-Type', b'text/event-stream'), (b'Transfer-Encoding', b'chunked'), (b'Connection', b'keep-alive'), (b'access-control-allow-origin', b'*'), (b'Cache-Control', b'no-cache, must-revalidate'), (b'openai-model', b'gpt-3.5-turbo-0613'), (b'openai-organization', b'user-wjsaykvcayuk6oc0g2vnwita'), (b'openai-processing-ms', b'560'), (b'openai-version', b'2020-10-01'), (b'strict-transport-security', b'max-age=15724800; includeSubDomains'), (b'x-ratelimit-limit-requests', b'3500'), (b'x-ratelimit-limit-tokens', b'90000'), (b'x-ratelimit-limit-tokens_usage_based', b'90000'), (b'x-ratelimit-remaining-requests', b'3499'), (b'x-ratelimit-remaining-tokens', b'89974'), (b'x-ratelimit-remaining-tokens_usage_based', b'89974'), (b'x-ratelimit-reset-requests', b'17ms'), (b'x-ratelimit-reset-tokens', b'16ms'), (b'x-ratelimit-reset-tokens_usage_based', b'16ms'), (b'x-request-id', b'e263744f9603a2a1aacb66e677d358aa'), (b'CF-Cache-Status', b'DYNAMIC'), (b'Set-Cookie', b'__cf_bm=c91UNIXp9JvfoBP35NE5d30PLR0mK9LhIdOhgVrs.ME-1701156045-0-AXi9hAJz/ovRFWMUrvAu0LOBpHA7XVWv+QIVWHnNxduNVxQeYMdIkxUZhwy0mVUoZn/wJXjuKlHoh7YomzmCPRI=; path=/; expires=Tue, 28-Nov-23 07:50:45 GMT; domain=.api.openai.com; HttpOnly; Secure; SameSite=None'), (b'Server', b'cloudflare'), (b'CF-RAY', b'82d0d99e0a579e80-KTM'), (b'alt-svc', b'h3=\":443\"; ma=86400')])\n",
      "2023-11-28 13:05:45,698 [INFO] HTTP Request: POST https://api.openai.com/v1/chat/completions \"HTTP/1.1 200 OK\"\n",
      "2023-11-28 13:05:45,699 [DEBUG] HTTP Request: POST https://api.openai.com/v1/chat/completions \"200 OK\"\n",
      "2023-11-28 13:05:45,701 [DEBUG] receive_response_body.started request=<Request [b'POST']>\n"
     ]
    },
    {
     "name": "stdout",
     "output_type": "stream",
     "text": [
      "OpenOpenAIOpenAI isOpenAI is anOpenAI is an artificialOpenAI is an artificial intelligenceOpenAI is an artificial intelligence researchOpenAI is an artificial intelligence research laboratoryOpenAI is an artificial intelligence research laboratory andOpenAI is an artificial intelligence research laboratory and companyOpenAI is an artificial intelligence research laboratory and company thatOpenAI is an artificial intelligence research laboratory and company that aimsOpenAI is an artificial intelligence research laboratory and company that aims toOpenAI is an artificial intelligence research laboratory and company that aims to ensureOpenAI is an artificial intelligence research laboratory and company that aims to ensure thatOpenAI is an artificial intelligence research laboratory and company that aims to ensure that artificialOpenAI is an artificial intelligence research laboratory and company that aims to ensure that artificial generalOpenAI is an artificial intelligence research laboratory and company that aims to ensure that artificial general intelligenceOpenAI is an artificial intelligence research laboratory and company that aims to ensure that artificial general intelligence (OpenAI is an artificial intelligence research laboratory and company that aims to ensure that artificial general intelligence (AGOpenAI is an artificial intelligence research laboratory and company that aims to ensure that artificial general intelligence (AGIOpenAI is an artificial intelligence research laboratory and company that aims to ensure that artificial general intelligence (AGI)OpenAI is an artificial intelligence research laboratory and company that aims to ensure that artificial general intelligence (AGI) benefitsOpenAI is an artificial intelligence research laboratory and company that aims to ensure that artificial general intelligence (AGI) benefits allOpenAI is an artificial intelligence research laboratory and company that aims to ensure that artificial general intelligence (AGI) benefits all ofOpenAI is an artificial intelligence research laboratory and company that aims to ensure that artificial general intelligence (AGI) benefits all of humanityOpenAI is an artificial intelligence research laboratory and company that aims to ensure that artificial general intelligence (AGI) benefits all of humanity.OpenAI is an artificial intelligence research laboratory and company that aims to ensure that artificial general intelligence (AGI) benefits all of humanity. FoundedOpenAI is an artificial intelligence research laboratory and company that aims to ensure that artificial general intelligence (AGI) benefits all of humanity. Founded inOpenAI is an artificial intelligence research laboratory and company that aims to ensure that artificial general intelligence (AGI) benefits all of humanity. Founded in OpenAI is an artificial intelligence research laboratory and company that aims to ensure that artificial general intelligence (AGI) benefits all of humanity. Founded in 201OpenAI is an artificial intelligence research laboratory and company that aims to ensure that artificial general intelligence (AGI) benefits all of humanity. Founded in 2015OpenAI is an artificial intelligence research laboratory and company that aims to ensure that artificial general intelligence (AGI) benefits all of humanity. Founded in 2015,OpenAI is an artificial intelligence research laboratory and company that aims to ensure that artificial general intelligence (AGI) benefits all of humanity. Founded in 2015, OpenOpenAI is an artificial intelligence research laboratory and company that aims to ensure that artificial general intelligence (AGI) benefits all of humanity. Founded in 2015, OpenAIOpenAI is an artificial intelligence research laboratory and company that aims to ensure that artificial general intelligence (AGI) benefits all of humanity. Founded in 2015, OpenAI conductsOpenAI is an artificial intelligence research laboratory and company that aims to ensure that artificial general intelligence (AGI) benefits all of humanity. Founded in 2015, OpenAI conducts cuttingOpenAI is an artificial intelligence research laboratory and company that aims to ensure that artificial general intelligence (AGI) benefits all of humanity. Founded in 2015, OpenAI conducts cutting-edgeOpenAI is an artificial intelligence research laboratory and company that aims to ensure that artificial general intelligence (AGI) benefits all of humanity. Founded in 2015, OpenAI conducts cutting-edge researchOpenAI is an artificial intelligence research laboratory and company that aims to ensure that artificial general intelligence (AGI) benefits all of humanity. Founded in 2015, OpenAI conducts cutting-edge research inOpenAI is an artificial intelligence research laboratory and company that aims to ensure that artificial general intelligence (AGI) benefits all of humanity. Founded in 2015, OpenAI conducts cutting-edge research in variousOpenAI is an artificial intelligence research laboratory and company that aims to ensure that artificial general intelligence (AGI) benefits all of humanity. Founded in 2015, OpenAI conducts cutting-edge research in various domainsOpenAI is an artificial intelligence research laboratory and company that aims to ensure that artificial general intelligence (AGI) benefits all of humanity. Founded in 2015, OpenAI conducts cutting-edge research in various domains ofOpenAI is an artificial intelligence research laboratory and company that aims to ensure that artificial general intelligence (AGI) benefits all of humanity. Founded in 2015, OpenAI conducts cutting-edge research in various domains of AIOpenAI is an artificial intelligence research laboratory and company that aims to ensure that artificial general intelligence (AGI) benefits all of humanity. Founded in 2015, OpenAI conducts cutting-edge research in various domains of AI andOpenAI is an artificial intelligence research laboratory and company that aims to ensure that artificial general intelligence (AGI) benefits all of humanity. Founded in 2015, OpenAI conducts cutting-edge research in various domains of AI and developsOpenAI is an artificial intelligence research laboratory and company that aims to ensure that artificial general intelligence (AGI) benefits all of humanity. Founded in 2015, OpenAI conducts cutting-edge research in various domains of AI and develops advancedOpenAI is an artificial intelligence research laboratory and company that aims to ensure that artificial general intelligence (AGI) benefits all of humanity. Founded in 2015, OpenAI conducts cutting-edge research in various domains of AI and develops advanced AIOpenAI is an artificial intelligence research laboratory and company that aims to ensure that artificial general intelligence (AGI) benefits all of humanity. Founded in 2015, OpenAI conducts cutting-edge research in various domains of AI and develops advanced AI modelsOpenAI is an artificial intelligence research laboratory and company that aims to ensure that artificial general intelligence (AGI) benefits all of humanity. Founded in 2015, OpenAI conducts cutting-edge research in various domains of AI and develops advanced AI models andOpenAI is an artificial intelligence research laboratory and company that aims to ensure that artificial general intelligence (AGI) benefits all of humanity. Founded in 2015, OpenAI conducts cutting-edge research in various domains of AI and develops advanced AI models and technologiesOpenAI is an artificial intelligence research laboratory and company that aims to ensure that artificial general intelligence (AGI) benefits all of humanity. Founded in 2015, OpenAI conducts cutting-edge research in various domains of AI and develops advanced AI models and technologies.OpenAI is an artificial intelligence research laboratory and company that aims to ensure that artificial general intelligence (AGI) benefits all of humanity. Founded in 2015, OpenAI conducts cutting-edge research in various domains of AI and develops advanced AI models and technologies. TheOpenAI is an artificial intelligence research laboratory and company that aims to ensure that artificial general intelligence (AGI) benefits all of humanity. Founded in 2015, OpenAI conducts cutting-edge research in various domains of AI and develops advanced AI models and technologies. The organization"
     ]
    },
    {
     "name": "stdout",
     "output_type": "stream",
     "text": [
      "OpenAI is an artificial intelligence research laboratory and company that aims to ensure that artificial general intelligence (AGI) benefits all of humanity. Founded in 2015, OpenAI conducts cutting-edge research in various domains of AI and develops advanced AI models and technologies. The organization isOpenAI is an artificial intelligence research laboratory and company that aims to ensure that artificial general intelligence (AGI) benefits all of humanity. Founded in 2015, OpenAI conducts cutting-edge research in various domains of AI and develops advanced AI models and technologies. The organization is committedOpenAI is an artificial intelligence research laboratory and company that aims to ensure that artificial general intelligence (AGI) benefits all of humanity. Founded in 2015, OpenAI conducts cutting-edge research in various domains of AI and develops advanced AI models and technologies. The organization is committed toOpenAI is an artificial intelligence research laboratory and company that aims to ensure that artificial general intelligence (AGI) benefits all of humanity. Founded in 2015, OpenAI conducts cutting-edge research in various domains of AI and develops advanced AI models and technologies. The organization is committed to makingOpenAI is an artificial intelligence research laboratory and company that aims to ensure that artificial general intelligence (AGI) benefits all of humanity. Founded in 2015, OpenAI conducts cutting-edge research in various domains of AI and develops advanced AI models and technologies. The organization is committed to making AGOpenAI is an artificial intelligence research laboratory and company that aims to ensure that artificial general intelligence (AGI) benefits all of humanity. Founded in 2015, OpenAI conducts cutting-edge research in various domains of AI and develops advanced AI models and technologies. The organization is committed to making AGIOpenAI is an artificial intelligence research laboratory and company that aims to ensure that artificial general intelligence (AGI) benefits all of humanity. Founded in 2015, OpenAI conducts cutting-edge research in various domains of AI and develops advanced AI models and technologies. The organization is committed to making AGI safeOpenAI is an artificial intelligence research laboratory and company that aims to ensure that artificial general intelligence (AGI) benefits all of humanity. Founded in 2015, OpenAI conducts cutting-edge research in various domains of AI and develops advanced AI models and technologies. The organization is committed to making AGI safe andOpenAI is an artificial intelligence research laboratory and company that aims to ensure that artificial general intelligence (AGI) benefits all of humanity. Founded in 2015, OpenAI conducts cutting-edge research in various domains of AI and develops advanced AI models and technologies. The organization is committed to making AGI safe and drivingOpenAI is an artificial intelligence research laboratory and company that aims to ensure that artificial general intelligence (AGI) benefits all of humanity. Founded in 2015, OpenAI conducts cutting-edge research in various domains of AI and develops advanced AI models and technologies. The organization is committed to making AGI safe and driving itsOpenAI is an artificial intelligence research laboratory and company that aims to ensure that artificial general intelligence (AGI) benefits all of humanity. Founded in 2015, OpenAI conducts cutting-edge research in various domains of AI and develops advanced AI models and technologies. The organization is committed to making AGI safe and driving its broadOpenAI is an artificial intelligence research laboratory and company that aims to ensure that artificial general intelligence (AGI) benefits all of humanity. Founded in 2015, OpenAI conducts cutting-edge research in various domains of AI and develops advanced AI models and technologies. The organization is committed to making AGI safe and driving its broad adoptionOpenAI is an artificial intelligence research laboratory and company that aims to ensure that artificial general intelligence (AGI) benefits all of humanity. Founded in 2015, OpenAI conducts cutting-edge research in various domains of AI and develops advanced AI models and technologies. The organization is committed to making AGI safe and driving its broad adoption forOpenAI is an artificial intelligence research laboratory and company that aims to ensure that artificial general intelligence (AGI) benefits all of humanity. Founded in 2015, OpenAI conducts cutting-edge research in various domains of AI and develops advanced AI models and technologies. The organization is committed to making AGI safe and driving its broad adoption for theOpenAI is an artificial intelligence research laboratory and company that aims to ensure that artificial general intelligence (AGI) benefits all of humanity. Founded in 2015, OpenAI conducts cutting-edge research in various domains of AI and develops advanced AI models and technologies. The organization is committed to making AGI safe and driving its broad adoption for the betterOpenAI is an artificial intelligence research laboratory and company that aims to ensure that artificial general intelligence (AGI) benefits all of humanity. Founded in 2015, OpenAI conducts cutting-edge research in various domains of AI and develops advanced AI models and technologies. The organization is committed to making AGI safe and driving its broad adoption for the bettermentOpenAI is an artificial intelligence research laboratory and company that aims to ensure that artificial general intelligence (AGI) benefits all of humanity. Founded in 2015, OpenAI conducts cutting-edge research in various domains of AI and develops advanced AI models and technologies. The organization is committed to making AGI safe and driving its broad adoption for the betterment ofOpenAI is an artificial intelligence research laboratory and company that aims to ensure that artificial general intelligence (AGI) benefits all of humanity. Founded in 2015, OpenAI conducts cutting-edge research in various domains of AI and develops advanced AI models and technologies. The organization is committed to making AGI safe and driving its broad adoption for the betterment of societyOpenAI is an artificial intelligence research laboratory and company that aims to ensure that artificial general intelligence (AGI) benefits all of humanity. Founded in 2015, OpenAI conducts cutting-edge research in various domains of AI and develops advanced AI models and technologies. The organization is committed to making AGI safe and driving its broad adoption for the betterment of society.OpenAI is an artificial intelligence research laboratory and company that aims to ensure that artificial general intelligence (AGI) benefits all of humanity. Founded in 2015, OpenAI conducts cutting-edge research in various domains of AI and develops advanced AI models and technologies. The organization is committed to making AGI safe and driving its broad adoption for the betterment of society. OpenOpenAI is an artificial intelligence research laboratory and company that aims to ensure that artificial general intelligence (AGI) benefits all of humanity. Founded in 2015, OpenAI conducts cutting-edge research in various domains of AI and develops advanced AI models and technologies. The organization is committed to making AGI safe and driving its broad adoption for the betterment of society. OpenAIOpenAI is an artificial intelligence research laboratory and company that aims to ensure that artificial general intelligence (AGI) benefits all of humanity. Founded in 2015, OpenAI conducts cutting-edge research in various domains of AI and develops advanced AI models and technologies. The organization is committed to making AGI safe and driving its broad adoption for the betterment of society. OpenAI alsoOpenAI is an artificial intelligence research laboratory and company that aims to ensure that artificial general intelligence (AGI) benefits all of humanity. Founded in 2015, OpenAI conducts cutting-edge research in various domains of AI and develops advanced AI models and technologies. The organization is committed to making AGI safe and driving its broad adoption for the betterment of society. OpenAI also emphasizes"
     ]
    },
    {
     "name": "stdout",
     "output_type": "stream",
     "text": [
      "OpenAI is an artificial intelligence research laboratory and company that aims to ensure that artificial general intelligence (AGI) benefits all of humanity. Founded in 2015, OpenAI conducts cutting-edge research in various domains of AI and develops advanced AI models and technologies. The organization is committed to making AGI safe and driving its broad adoption for the betterment of society. OpenAI also emphasizes theOpenAI is an artificial intelligence research laboratory and company that aims to ensure that artificial general intelligence (AGI) benefits all of humanity. Founded in 2015, OpenAI conducts cutting-edge research in various domains of AI and develops advanced AI models and technologies. The organization is committed to making AGI safe and driving its broad adoption for the betterment of society. OpenAI also emphasizes the importanceOpenAI is an artificial intelligence research laboratory and company that aims to ensure that artificial general intelligence (AGI) benefits all of humanity. Founded in 2015, OpenAI conducts cutting-edge research in various domains of AI and develops advanced AI models and technologies. The organization is committed to making AGI safe and driving its broad adoption for the betterment of society. OpenAI also emphasizes the importance ofOpenAI is an artificial intelligence research laboratory and company that aims to ensure that artificial general intelligence (AGI) benefits all of humanity. Founded in 2015, OpenAI conducts cutting-edge research in various domains of AI and develops advanced AI models and technologies. The organization is committed to making AGI safe and driving its broad adoption for the betterment of society. OpenAI also emphasizes the importance of cooperationOpenAI is an artificial intelligence research laboratory and company that aims to ensure that artificial general intelligence (AGI) benefits all of humanity. Founded in 2015, OpenAI conducts cutting-edge research in various domains of AI and develops advanced AI models and technologies. The organization is committed to making AGI safe and driving its broad adoption for the betterment of society. OpenAI also emphasizes the importance of cooperation andOpenAI is an artificial intelligence research laboratory and company that aims to ensure that artificial general intelligence (AGI) benefits all of humanity. Founded in 2015, OpenAI conducts cutting-edge research in various domains of AI and develops advanced AI models and technologies. The organization is committed to making AGI safe and driving its broad adoption for the betterment of society. OpenAI also emphasizes the importance of cooperation and collaborationOpenAI is an artificial intelligence research laboratory and company that aims to ensure that artificial general intelligence (AGI) benefits all of humanity. Founded in 2015, OpenAI conducts cutting-edge research in various domains of AI and develops advanced AI models and technologies. The organization is committed to making AGI safe and driving its broad adoption for the betterment of society. OpenAI also emphasizes the importance of cooperation and collaboration,OpenAI is an artificial intelligence research laboratory and company that aims to ensure that artificial general intelligence (AGI) benefits all of humanity. Founded in 2015, OpenAI conducts cutting-edge research in various domains of AI and develops advanced AI models and technologies. The organization is committed to making AGI safe and driving its broad adoption for the betterment of society. OpenAI also emphasizes the importance of cooperation and collaboration, activelyOpenAI is an artificial intelligence research laboratory and company that aims to ensure that artificial general intelligence (AGI) benefits all of humanity. Founded in 2015, OpenAI conducts cutting-edge research in various domains of AI and develops advanced AI models and technologies. The organization is committed to making AGI safe and driving its broad adoption for the betterment of society. OpenAI also emphasizes the importance of cooperation and collaboration, actively publishingOpenAI is an artificial intelligence research laboratory and company that aims to ensure that artificial general intelligence (AGI) benefits all of humanity. Founded in 2015, OpenAI conducts cutting-edge research in various domains of AI and develops advanced AI models and technologies. The organization is committed to making AGI safe and driving its broad adoption for the betterment of society. OpenAI also emphasizes the importance of cooperation and collaboration, actively publishing mostOpenAI is an artificial intelligence research laboratory and company that aims to ensure that artificial general intelligence (AGI) benefits all of humanity. Founded in 2015, OpenAI conducts cutting-edge research in various domains of AI and develops advanced AI models and technologies. The organization is committed to making AGI safe and driving its broad adoption for the betterment of society. OpenAI also emphasizes the importance of cooperation and collaboration, actively publishing most ofOpenAI is an artificial intelligence research laboratory and company that aims to ensure that artificial general intelligence (AGI) benefits all of humanity. Founded in 2015, OpenAI conducts cutting-edge research in various domains of AI and develops advanced AI models and technologies. The organization is committed to making AGI safe and driving its broad adoption for the betterment of society. OpenAI also emphasizes the importance of cooperation and collaboration, actively publishing most of itsOpenAI is an artificial intelligence research laboratory and company that aims to ensure that artificial general intelligence (AGI) benefits all of humanity. Founded in 2015, OpenAI conducts cutting-edge research in various domains of AI and develops advanced AI models and technologies. The organization is committed to making AGI safe and driving its broad adoption for the betterment of society. OpenAI also emphasizes the importance of cooperation and collaboration, actively publishing most of its AIOpenAI is an artificial intelligence research laboratory and company that aims to ensure that artificial general intelligence (AGI) benefits all of humanity. Founded in 2015, OpenAI conducts cutting-edge research in various domains of AI and develops advanced AI models and technologies. The organization is committed to making AGI safe and driving its broad adoption for the betterment of society. OpenAI also emphasizes the importance of cooperation and collaboration, actively publishing most of its AI researchOpenAI is an artificial intelligence research laboratory and company that aims to ensure that artificial general intelligence (AGI) benefits all of humanity. Founded in 2015, OpenAI conducts cutting-edge research in various domains of AI and develops advanced AI models and technologies. The organization is committed to making AGI safe and driving its broad adoption for the betterment of society. OpenAI also emphasizes the importance of cooperation and collaboration, actively publishing most of its AI research toOpenAI is an artificial intelligence research laboratory and company that aims to ensure that artificial general intelligence (AGI) benefits all of humanity. Founded in 2015, OpenAI conducts cutting-edge research in various domains of AI and develops advanced AI models and technologies. The organization is committed to making AGI safe and driving its broad adoption for the betterment of society. OpenAI also emphasizes the importance of cooperation and collaboration, actively publishing most of its AI research to fosterOpenAI is an artificial intelligence research laboratory and company that aims to ensure that artificial general intelligence (AGI) benefits all of humanity. Founded in 2015, OpenAI conducts cutting-edge research in various domains of AI and develops advanced AI models and technologies. The organization is committed to making AGI safe and driving its broad adoption for the betterment of society. OpenAI also emphasizes the importance of cooperation and collaboration, actively publishing most of its AI research to foster knowledge"
     ]
    },
    {
     "name": "stdout",
     "output_type": "stream",
     "text": [
      "OpenAI is an artificial intelligence research laboratory and company that aims to ensure that artificial general intelligence (AGI) benefits all of humanity. Founded in 2015, OpenAI conducts cutting-edge research in various domains of AI and develops advanced AI models and technologies. The organization is committed to making AGI safe and driving its broad adoption for the betterment of society. OpenAI also emphasizes the importance of cooperation and collaboration, actively publishing most of its AI research to foster knowledge sharingOpenAI is an artificial intelligence research laboratory and company that aims to ensure that artificial general intelligence (AGI) benefits all of humanity. Founded in 2015, OpenAI conducts cutting-edge research in various domains of AI and develops advanced AI models and technologies. The organization is committed to making AGI safe and driving its broad adoption for the betterment of society. OpenAI also emphasizes the importance of cooperation and collaboration, actively publishing most of its AI research to foster knowledge sharing andOpenAI is an artificial intelligence research laboratory and company that aims to ensure that artificial general intelligence (AGI) benefits all of humanity. Founded in 2015, OpenAI conducts cutting-edge research in various domains of AI and develops advanced AI models and technologies. The organization is committed to making AGI safe and driving its broad adoption for the betterment of society. OpenAI also emphasizes the importance of cooperation and collaboration, actively publishing most of its AI research to foster knowledge sharing and contributeOpenAI is an artificial intelligence research laboratory and company that aims to ensure that artificial general intelligence (AGI) benefits all of humanity. Founded in 2015, OpenAI conducts cutting-edge research in various domains of AI and develops advanced AI models and technologies. The organization is committed to making AGI safe and driving its broad adoption for the betterment of society. OpenAI also emphasizes the importance of cooperation and collaboration, actively publishing most of its AI research to foster knowledge sharing and contribute toOpenAI is an artificial intelligence research laboratory and company that aims to ensure that artificial general intelligence (AGI) benefits all of humanity. Founded in 2015, OpenAI conducts cutting-edge research in various domains of AI and develops advanced AI models and technologies. The organization is committed to making AGI safe and driving its broad adoption for the betterment of society. OpenAI also emphasizes the importance of cooperation and collaboration, actively publishing most of its AI research to foster knowledge sharing and contribute to theOpenAI is an artificial intelligence research laboratory and company that aims to ensure that artificial general intelligence (AGI) benefits all of humanity. Founded in 2015, OpenAI conducts cutting-edge research in various domains of AI and develops advanced AI models and technologies. The organization is committed to making AGI safe and driving its broad adoption for the betterment of society. OpenAI also emphasizes the importance of cooperation and collaboration, actively publishing most of its AI research to foster knowledge sharing and contribute to the globalOpenAI is an artificial intelligence research laboratory and company that aims to ensure that artificial general intelligence (AGI) benefits all of humanity. Founded in 2015, OpenAI conducts cutting-edge research in various domains of AI and develops advanced AI models and technologies. The organization is committed to making AGI safe and driving its broad adoption for the betterment of society. OpenAI also emphasizes the importance of cooperation and collaboration, actively publishing most of its AI research to foster knowledge sharing and contribute to the global AIOpenAI is an artificial intelligence research laboratory and company that aims to ensure that artificial general intelligence (AGI) benefits all of humanity. Founded in 2015, OpenAI conducts cutting-edge research in various domains of AI and develops advanced AI models and technologies. The organization is committed to making AGI safe and driving its broad adoption for the betterment of society. OpenAI also emphasizes the importance of cooperation and collaboration, actively publishing most of its AI research to foster knowledge sharing and contribute to the global AI communityOpenAI is an artificial intelligence research laboratory and company that aims to ensure that artificial general intelligence (AGI) benefits all of humanity. Founded in 2015, OpenAI conducts cutting-edge research in various domains of AI and develops advanced AI models and technologies. The organization is committed to making AGI safe and driving its broad adoption for the betterment of society. OpenAI also emphasizes the importance of cooperation and collaboration, actively publishing most of its AI research to foster knowledge sharing and contribute to the global AI community.OpenAI is an artificial intelligence research laboratory and company that aims to ensure that artificial general intelligence (AGI) benefits all of humanity. Founded in 2015, OpenAI conducts cutting-edge research in various domains of AI and develops advanced AI models and technologies. The organization is committed to making AGI safe and driving its broad adoption for the betterment of society. OpenAI also emphasizes the importance of cooperation and collaboration, actively publishing most of its AI research to foster knowledge sharing and contribute to the global AI community. WithOpenAI is an artificial intelligence research laboratory and company that aims to ensure that artificial general intelligence (AGI) benefits all of humanity. Founded in 2015, OpenAI conducts cutting-edge research in various domains of AI and develops advanced AI models and technologies. The organization is committed to making AGI safe and driving its broad adoption for the betterment of society. OpenAI also emphasizes the importance of cooperation and collaboration, actively publishing most of its AI research to foster knowledge sharing and contribute to the global AI community. With aOpenAI is an artificial intelligence research laboratory and company that aims to ensure that artificial general intelligence (AGI) benefits all of humanity. Founded in 2015, OpenAI conducts cutting-edge research in various domains of AI and develops advanced AI models and technologies. The organization is committed to making AGI safe and driving its broad adoption for the betterment of society. OpenAI also emphasizes the importance of cooperation and collaboration, actively publishing most of its AI research to foster knowledge sharing and contribute to the global AI community. With a strongOpenAI is an artificial intelligence research laboratory and company that aims to ensure that artificial general intelligence (AGI) benefits all of humanity. Founded in 2015, OpenAI conducts cutting-edge research in various domains of AI and develops advanced AI models and technologies. The organization is committed to making AGI safe and driving its broad adoption for the betterment of society. OpenAI also emphasizes the importance of cooperation and collaboration, actively publishing most of its AI research to foster knowledge sharing and contribute to the global AI community. With a strong focusOpenAI is an artificial intelligence research laboratory and company that aims to ensure that artificial general intelligence (AGI) benefits all of humanity. Founded in 2015, OpenAI conducts cutting-edge research in various domains of AI and develops advanced AI models and technologies. The organization is committed to making AGI safe and driving its broad adoption for the betterment of society. OpenAI also emphasizes the importance of cooperation and collaboration, actively publishing most of its AI research to foster knowledge sharing and contribute to the global AI community. With a strong focus onOpenAI is an artificial intelligence research laboratory and company that aims to ensure that artificial general intelligence (AGI) benefits all of humanity. Founded in 2015, OpenAI conducts cutting-edge research in various domains of AI and develops advanced AI models and technologies. The organization is committed to making AGI safe and driving its broad adoption for the betterment of society. OpenAI also emphasizes the importance of cooperation and collaboration, actively publishing most of its AI research to foster knowledge sharing and contribute to the global AI community. With a strong focus on ethical"
     ]
    },
    {
     "name": "stdout",
     "output_type": "stream",
     "text": [
      "OpenAI is an artificial intelligence research laboratory and company that aims to ensure that artificial general intelligence (AGI) benefits all of humanity. Founded in 2015, OpenAI conducts cutting-edge research in various domains of AI and develops advanced AI models and technologies. The organization is committed to making AGI safe and driving its broad adoption for the betterment of society. OpenAI also emphasizes the importance of cooperation and collaboration, actively publishing most of its AI research to foster knowledge sharing and contribute to the global AI community. With a strong focus on ethical considerationsOpenAI is an artificial intelligence research laboratory and company that aims to ensure that artificial general intelligence (AGI) benefits all of humanity. Founded in 2015, OpenAI conducts cutting-edge research in various domains of AI and develops advanced AI models and technologies. The organization is committed to making AGI safe and driving its broad adoption for the betterment of society. OpenAI also emphasizes the importance of cooperation and collaboration, actively publishing most of its AI research to foster knowledge sharing and contribute to the global AI community. With a strong focus on ethical considerations,OpenAI is an artificial intelligence research laboratory and company that aims to ensure that artificial general intelligence (AGI) benefits all of humanity. Founded in 2015, OpenAI conducts cutting-edge research in various domains of AI and develops advanced AI models and technologies. The organization is committed to making AGI safe and driving its broad adoption for the betterment of society. OpenAI also emphasizes the importance of cooperation and collaboration, actively publishing most of its AI research to foster knowledge sharing and contribute to the global AI community. With a strong focus on ethical considerations, OpenOpenAI is an artificial intelligence research laboratory and company that aims to ensure that artificial general intelligence (AGI) benefits all of humanity. Founded in 2015, OpenAI conducts cutting-edge research in various domains of AI and develops advanced AI models and technologies. The organization is committed to making AGI safe and driving its broad adoption for the betterment of society. OpenAI also emphasizes the importance of cooperation and collaboration, actively publishing most of its AI research to foster knowledge sharing and contribute to the global AI community. With a strong focus on ethical considerations, OpenAIOpenAI is an artificial intelligence research laboratory and company that aims to ensure that artificial general intelligence (AGI) benefits all of humanity. Founded in 2015, OpenAI conducts cutting-edge research in various domains of AI and develops advanced AI models and technologies. The organization is committed to making AGI safe and driving its broad adoption for the betterment of society. OpenAI also emphasizes the importance of cooperation and collaboration, actively publishing most of its AI research to foster knowledge sharing and contribute to the global AI community. With a strong focus on ethical considerations, OpenAI strivesOpenAI is an artificial intelligence research laboratory and company that aims to ensure that artificial general intelligence (AGI) benefits all of humanity. Founded in 2015, OpenAI conducts cutting-edge research in various domains of AI and develops advanced AI models and technologies. The organization is committed to making AGI safe and driving its broad adoption for the betterment of society. OpenAI also emphasizes the importance of cooperation and collaboration, actively publishing most of its AI research to foster knowledge sharing and contribute to the global AI community. With a strong focus on ethical considerations, OpenAI strives toOpenAI is an artificial intelligence research laboratory and company that aims to ensure that artificial general intelligence (AGI) benefits all of humanity. Founded in 2015, OpenAI conducts cutting-edge research in various domains of AI and develops advanced AI models and technologies. The organization is committed to making AGI safe and driving its broad adoption for the betterment of society. OpenAI also emphasizes the importance of cooperation and collaboration, actively publishing most of its AI research to foster knowledge sharing and contribute to the global AI community. With a strong focus on ethical considerations, OpenAI strives to addressOpenAI is an artificial intelligence research laboratory and company that aims to ensure that artificial general intelligence (AGI) benefits all of humanity. Founded in 2015, OpenAI conducts cutting-edge research in various domains of AI and develops advanced AI models and technologies. The organization is committed to making AGI safe and driving its broad adoption for the betterment of society. OpenAI also emphasizes the importance of cooperation and collaboration, actively publishing most of its AI research to foster knowledge sharing and contribute to the global AI community. With a strong focus on ethical considerations, OpenAI strives to address theOpenAI is an artificial intelligence research laboratory and company that aims to ensure that artificial general intelligence (AGI) benefits all of humanity. Founded in 2015, OpenAI conducts cutting-edge research in various domains of AI and develops advanced AI models and technologies. The organization is committed to making AGI safe and driving its broad adoption for the betterment of society. OpenAI also emphasizes the importance of cooperation and collaboration, actively publishing most of its AI research to foster knowledge sharing and contribute to the global AI community. With a strong focus on ethical considerations, OpenAI strives to address the potentialOpenAI is an artificial intelligence research laboratory and company that aims to ensure that artificial general intelligence (AGI) benefits all of humanity. Founded in 2015, OpenAI conducts cutting-edge research in various domains of AI and develops advanced AI models and technologies. The organization is committed to making AGI safe and driving its broad adoption for the betterment of society. OpenAI also emphasizes the importance of cooperation and collaboration, actively publishing most of its AI research to foster knowledge sharing and contribute to the global AI community. With a strong focus on ethical considerations, OpenAI strives to address the potential risksOpenAI is an artificial intelligence research laboratory and company that aims to ensure that artificial general intelligence (AGI) benefits all of humanity. Founded in 2015, OpenAI conducts cutting-edge research in various domains of AI and develops advanced AI models and technologies. The organization is committed to making AGI safe and driving its broad adoption for the betterment of society. OpenAI also emphasizes the importance of cooperation and collaboration, actively publishing most of its AI research to foster knowledge sharing and contribute to the global AI community. With a strong focus on ethical considerations, OpenAI strives to address the potential risks associatedOpenAI is an artificial intelligence research laboratory and company that aims to ensure that artificial general intelligence (AGI) benefits all of humanity. Founded in 2015, OpenAI conducts cutting-edge research in various domains of AI and develops advanced AI models and technologies. The organization is committed to making AGI safe and driving its broad adoption for the betterment of society. OpenAI also emphasizes the importance of cooperation and collaboration, actively publishing most of its AI research to foster knowledge sharing and contribute to the global AI community. With a strong focus on ethical considerations, OpenAI strives to address the potential risks associated withOpenAI is an artificial intelligence research laboratory and company that aims to ensure that artificial general intelligence (AGI) benefits all of humanity. Founded in 2015, OpenAI conducts cutting-edge research in various domains of AI and develops advanced AI models and technologies. The organization is committed to making AGI safe and driving its broad adoption for the betterment of society. OpenAI also emphasizes the importance of cooperation and collaboration, actively publishing most of its AI research to foster knowledge sharing and contribute to the global AI community. With a strong focus on ethical considerations, OpenAI strives to address the potential risks associated with AG"
     ]
    },
    {
     "name": "stdout",
     "output_type": "stream",
     "text": [
      "OpenAI is an artificial intelligence research laboratory and company that aims to ensure that artificial general intelligence (AGI) benefits all of humanity. Founded in 2015, OpenAI conducts cutting-edge research in various domains of AI and develops advanced AI models and technologies. The organization is committed to making AGI safe and driving its broad adoption for the betterment of society. OpenAI also emphasizes the importance of cooperation and collaboration, actively publishing most of its AI research to foster knowledge sharing and contribute to the global AI community. With a strong focus on ethical considerations, OpenAI strives to address the potential risks associated with AGIOpenAI is an artificial intelligence research laboratory and company that aims to ensure that artificial general intelligence (AGI) benefits all of humanity. Founded in 2015, OpenAI conducts cutting-edge research in various domains of AI and develops advanced AI models and technologies. The organization is committed to making AGI safe and driving its broad adoption for the betterment of society. OpenAI also emphasizes the importance of cooperation and collaboration, actively publishing most of its AI research to foster knowledge sharing and contribute to the global AI community. With a strong focus on ethical considerations, OpenAI strives to address the potential risks associated with AGI andOpenAI is an artificial intelligence research laboratory and company that aims to ensure that artificial general intelligence (AGI) benefits all of humanity. Founded in 2015, OpenAI conducts cutting-edge research in various domains of AI and develops advanced AI models and technologies. The organization is committed to making AGI safe and driving its broad adoption for the betterment of society. OpenAI also emphasizes the importance of cooperation and collaboration, actively publishing most of its AI research to foster knowledge sharing and contribute to the global AI community. With a strong focus on ethical considerations, OpenAI strives to address the potential risks associated with AGI and activelyOpenAI is an artificial intelligence research laboratory and company that aims to ensure that artificial general intelligence (AGI) benefits all of humanity. Founded in 2015, OpenAI conducts cutting-edge research in various domains of AI and develops advanced AI models and technologies. The organization is committed to making AGI safe and driving its broad adoption for the betterment of society. OpenAI also emphasizes the importance of cooperation and collaboration, actively publishing most of its AI research to foster knowledge sharing and contribute to the global AI community. With a strong focus on ethical considerations, OpenAI strives to address the potential risks associated with AGI and actively advocatesOpenAI is an artificial intelligence research laboratory and company that aims to ensure that artificial general intelligence (AGI) benefits all of humanity. Founded in 2015, OpenAI conducts cutting-edge research in various domains of AI and develops advanced AI models and technologies. The organization is committed to making AGI safe and driving its broad adoption for the betterment of society. OpenAI also emphasizes the importance of cooperation and collaboration, actively publishing most of its AI research to foster knowledge sharing and contribute to the global AI community. With a strong focus on ethical considerations, OpenAI strives to address the potential risks associated with AGI and actively advocates forOpenAI is an artificial intelligence research laboratory and company that aims to ensure that artificial general intelligence (AGI) benefits all of humanity. Founded in 2015, OpenAI conducts cutting-edge research in various domains of AI and develops advanced AI models and technologies. The organization is committed to making AGI safe and driving its broad adoption for the betterment of society. OpenAI also emphasizes the importance of cooperation and collaboration, actively publishing most of its AI research to foster knowledge sharing and contribute to the global AI community. With a strong focus on ethical considerations, OpenAI strives to address the potential risks associated with AGI and actively advocates for theOpenAI is an artificial intelligence research laboratory and company that aims to ensure that artificial general intelligence (AGI) benefits all of humanity. Founded in 2015, OpenAI conducts cutting-edge research in various domains of AI and develops advanced AI models and technologies. The organization is committed to making AGI safe and driving its broad adoption for the betterment of society. OpenAI also emphasizes the importance of cooperation and collaboration, actively publishing most of its AI research to foster knowledge sharing and contribute to the global AI community. With a strong focus on ethical considerations, OpenAI strives to address the potential risks associated with AGI and actively advocates for the responsibleOpenAI is an artificial intelligence research laboratory and company that aims to ensure that artificial general intelligence (AGI) benefits all of humanity. Founded in 2015, OpenAI conducts cutting-edge research in various domains of AI and develops advanced AI models and technologies. The organization is committed to making AGI safe and driving its broad adoption for the betterment of society. OpenAI also emphasizes the importance of cooperation and collaboration, actively publishing most of its AI research to foster knowledge sharing and contribute to the global AI community. With a strong focus on ethical considerations, OpenAI strives to address the potential risks associated with AGI and actively advocates for the responsible developmentOpenAI is an artificial intelligence research laboratory and company that aims to ensure that artificial general intelligence (AGI) benefits all of humanity. Founded in 2015, OpenAI conducts cutting-edge research in various domains of AI and develops advanced AI models and technologies. The organization is committed to making AGI safe and driving its broad adoption for the betterment of society. OpenAI also emphasizes the importance of cooperation and collaboration, actively publishing most of its AI research to foster knowledge sharing and contribute to the global AI community. With a strong focus on ethical considerations, OpenAI strives to address the potential risks associated with AGI and actively advocates for the responsible development andOpenAI is an artificial intelligence research laboratory and company that aims to ensure that artificial general intelligence (AGI) benefits all of humanity. Founded in 2015, OpenAI conducts cutting-edge research in various domains of AI and develops advanced AI models and technologies. The organization is committed to making AGI safe and driving its broad adoption for the betterment of society. OpenAI also emphasizes the importance of cooperation and collaboration, actively publishing most of its AI research to foster knowledge sharing and contribute to the global AI community. With a strong focus on ethical considerations, OpenAI strives to address the potential risks associated with AGI and actively advocates for the responsible development and deploymentOpenAI is an artificial intelligence research laboratory and company that aims to ensure that artificial general intelligence (AGI) benefits all of humanity. Founded in 2015, OpenAI conducts cutting-edge research in various domains of AI and develops advanced AI models and technologies. The organization is committed to making AGI safe and driving its broad adoption for the betterment of society. OpenAI also emphasizes the importance of cooperation and collaboration, actively publishing most of its AI research to foster knowledge sharing and contribute to the global AI community. With a strong focus on ethical considerations, OpenAI strives to address the potential risks associated with AGI and actively advocates for the responsible development and deployment ofOpenAI is an artificial intelligence research laboratory and company that aims to ensure that artificial general intelligence (AGI) benefits all of humanity. Founded in 2015, OpenAI conducts cutting-edge research in various domains of AI and develops advanced AI models and technologies. The organization is committed to making AGI safe and driving its broad adoption for the betterment of society. OpenAI also emphasizes the importance of cooperation and collaboration, actively publishing most of its AI research to foster knowledge sharing and contribute to the global AI community. With a strong focus on ethical considerations, OpenAI strives to address the potential risks associated with AGI and actively advocates for the responsible development and deployment of AI"
     ]
    },
    {
     "name": "stdout",
     "output_type": "stream",
     "text": [
      "OpenAI is an artificial intelligence research laboratory and company that aims to ensure that artificial general intelligence (AGI) benefits all of humanity. Founded in 2015, OpenAI conducts cutting-edge research in various domains of AI and develops advanced AI models and technologies. The organization is committed to making AGI safe and driving its broad adoption for the betterment of society. OpenAI also emphasizes the importance of cooperation and collaboration, actively publishing most of its AI research to foster knowledge sharing and contribute to the global AI community. With a strong focus on ethical considerations, OpenAI strives to address the potential risks associated with AGI and actively advocates for the responsible development and deployment of AI technologiesOpenAI is an artificial intelligence research laboratory and company that aims to ensure that artificial general intelligence (AGI) benefits all of humanity. Founded in 2015, OpenAI conducts cutting-edge research in various domains of AI and develops advanced AI models and technologies. The organization is committed to making AGI safe and driving its broad adoption for the betterment of society. OpenAI also emphasizes the importance of cooperation and collaboration, actively publishing most of its AI research to foster knowledge sharing and contribute to the global AI community. With a strong focus on ethical considerations, OpenAI strives to address the potential risks associated with AGI and actively advocates for the responsible development and deployment of AI technologies."
     ]
    },
    {
     "ename": "TypeError",
     "evalue": "can only concatenate str (not \"NoneType\") to str",
     "output_type": "error",
     "traceback": [
      "\u001b[0;31m---------------------------------------------------------------------------\u001b[0m",
      "\u001b[0;31mTypeError\u001b[0m                                 Traceback (most recent call last)",
      "Cell \u001b[0;32mIn[50], line 14\u001b[0m\n\u001b[1;32m     12\u001b[0m \u001b[38;5;28;01mfor\u001b[39;00m chunk \u001b[38;5;129;01min\u001b[39;00m response:\n\u001b[1;32m     13\u001b[0m     res \u001b[38;5;241m=\u001b[39m chunk\u001b[38;5;241m.\u001b[39mchoices[\u001b[38;5;241m0\u001b[39m]\u001b[38;5;241m.\u001b[39mdelta\u001b[38;5;241m.\u001b[39mcontent\n\u001b[0;32m---> 14\u001b[0m     content \u001b[38;5;241m+\u001b[39m\u001b[38;5;241m=\u001b[39m res\n\u001b[1;32m     15\u001b[0m     \u001b[38;5;28mprint\u001b[39m(content, end\u001b[38;5;241m=\u001b[39m\u001b[38;5;124m'\u001b[39m\u001b[38;5;124m'\u001b[39m, flush\u001b[38;5;241m=\u001b[39m\u001b[38;5;28;01mTrue\u001b[39;00m)\n",
      "\u001b[0;31mTypeError\u001b[0m: can only concatenate str (not \"NoneType\") to str"
     ]
    }
   ],
   "source": [
    "response = client.chat.completions.create(\n",
    "    model='gpt-3.5-turbo',\n",
    "    messages=[\n",
    "        {'role': 'user', 'content': \"describe openai in a paragraph.\"}\n",
    "    ],\n",
    "    temperature=0,\n",
    "    stream=True  # this time, we set stream=True\n",
    ")\n",
    "\n",
    "content = ''\n",
    "\n",
    "for chunk in response:\n",
    "    res = chunk.choices[0].delta.content\n",
    "    content += res\n",
    "    print(content, end='', flush=True) \n",
    "    "
   ]
  },
  {
   "cell_type": "code",
   "execution_count": 48,
   "id": "27a8d81e",
   "metadata": {},
   "outputs": [],
   "source": [
    "for chunk in response:\n",
    "    print(chunk)"
   ]
  },
  {
   "cell_type": "code",
   "execution_count": null,
   "id": "8eb9caa5",
   "metadata": {},
   "outputs": [],
   "source": []
  }
 ],
 "metadata": {
  "kernelspec": {
   "display_name": "okprofessor",
   "language": "python",
   "name": "okprofessor"
  },
  "language_info": {
   "codemirror_mode": {
    "name": "ipython",
    "version": 3
   },
   "file_extension": ".py",
   "mimetype": "text/x-python",
   "name": "python",
   "nbconvert_exporter": "python",
   "pygments_lexer": "ipython3",
   "version": "3.9.18"
  }
 },
 "nbformat": 4,
 "nbformat_minor": 5
}
